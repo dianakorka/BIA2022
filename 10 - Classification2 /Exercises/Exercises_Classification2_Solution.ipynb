{
  "nbformat": 4,
  "nbformat_minor": 0,
  "metadata": {
    "colab": {
      "name": "Exercises_Classification_2_Correction.ipynb",
      "provenance": [],
      "include_colab_link": true
    },
    "kernelspec": {
      "display_name": "Python 3",
      "language": "python",
      "name": "python3"
    },
    "language_info": {
      "codemirror_mode": {
        "name": "ipython",
        "version": 3
      },
      "file_extension": ".py",
      "mimetype": "text/x-python",
      "name": "python",
      "nbconvert_exporter": "python",
      "pygments_lexer": "ipython3",
      "version": "3.7.7"
    }
  },
  "cells": [
    {
      "cell_type": "markdown",
      "metadata": {
        "id": "view-in-github",
        "colab_type": "text"
      },
      "source": [
        "<a href=\"https://colab.research.google.com/github/michalis0/Business-Intelligence-and-Analytics/blob/master/10%20-%20Classification2%20/Exercises/Exercises_Classification2_Solution.ipynb\" target=\"_parent\"><img src=\"https://colab.research.google.com/assets/colab-badge.svg\" alt=\"Open In Colab\"/></a>"
      ]
    },
    {
      "cell_type": "markdown",
      "metadata": {
        "id": "R1BSf8GX2sQd"
      },
      "source": [
        "# Classification 2: Solution to exercise\n",
        "\n",
        "## KNN and Decision Trees\n",
        "\n",
        "In this lab we will K Nearest Neighbor and Decision Trees for classification."
      ]
    },
    {
      "cell_type": "code",
      "metadata": {
        "id": "2D9mQhcj2sQe"
      },
      "source": [
        "%matplotlib inline\n",
        "import numpy as np\n",
        "import matplotlib.pyplot as plt\n",
        "from matplotlib import collections  as mc\n",
        "%load_ext autoreload\n",
        "%autoreload 2\n",
        "import pandas as pd \n",
        "import seaborn as sns\n",
        "from sklearn.preprocessing import LabelEncoder, OneHotEncoder\n",
        "sns.set_style(\"white\")"
      ],
      "execution_count": null,
      "outputs": []
    },
    {
      "cell_type": "code",
      "metadata": {
        "id": "Q1CKWYwc2sQh"
      },
      "source": [
        "np.random.seed = 72"
      ],
      "execution_count": null,
      "outputs": []
    },
    {
      "cell_type": "markdown",
      "metadata": {
        "id": "bTVsCvCv2sQl"
      },
      "source": [
        "### Load data\n",
        "\n",
        "We will start with the `heart disease` dataset from last week. Here's a description of the attributes in the data-set:\n",
        "\n",
        "> 1. age\n",
        "> 2. sex\n",
        "> 3. chest pain type (4 values)\n",
        "> 4. resting blood pressure\n",
        "> 5. serum cholestoral in mg/dl\n",
        "> 6. fasting blood sugar > 120 mg/dl\n",
        "> 7. resting electrocardiographic results (values 0,1,2)\n",
        "> 8. maximum heart rate achieved\n",
        "> 9. exercise induced angina\n",
        "> 10. target: 1: presence 0: absence of a heart disease"
      ]
    },
    {
      "cell_type": "code",
      "metadata": {
        "id": "5trH0DXt2sQl",
        "colab": {
          "base_uri": "https://localhost:8080/",
          "height": 228
        },
        "outputId": "47f2d537-651d-49e7-d319-aecfce3590b6"
      },
      "source": [
        "# data-set: heart.csv\n",
        "df = pd.read_csv(\"https://media.githubusercontent.com/media/michalis0/Business-Intelligence-and-Analytics/master/data/heart.csv\")\n",
        "df.head()"
      ],
      "execution_count": null,
      "outputs": [
        {
          "output_type": "execute_result",
          "data": {
            "text/plain": [
              "   age sex cp  trestbps  chol  fbs restecg  thalach exang  target\n",
              "0   63   M  D       145   233  yes       A      150    no       1\n",
              "1   37   M  C       130   250   no       B      187    no       1\n",
              "2   41   F  B       130   204   no       A      172    no       1\n",
              "3   56   M  B       120   236   no       B      178    no       1\n",
              "4   57   F  A       120   354   no       B      163   yes       1"
            ],
            "text/html": [
              "\n",
              "  <div id=\"df-5bfcafd6-08f5-4178-a241-a7dc660377c7\">\n",
              "    <div class=\"colab-df-container\">\n",
              "      <div>\n",
              "<style scoped>\n",
              "    .dataframe tbody tr th:only-of-type {\n",
              "        vertical-align: middle;\n",
              "    }\n",
              "\n",
              "    .dataframe tbody tr th {\n",
              "        vertical-align: top;\n",
              "    }\n",
              "\n",
              "    .dataframe thead th {\n",
              "        text-align: right;\n",
              "    }\n",
              "</style>\n",
              "<table border=\"1\" class=\"dataframe\">\n",
              "  <thead>\n",
              "    <tr style=\"text-align: right;\">\n",
              "      <th></th>\n",
              "      <th>age</th>\n",
              "      <th>sex</th>\n",
              "      <th>cp</th>\n",
              "      <th>trestbps</th>\n",
              "      <th>chol</th>\n",
              "      <th>fbs</th>\n",
              "      <th>restecg</th>\n",
              "      <th>thalach</th>\n",
              "      <th>exang</th>\n",
              "      <th>target</th>\n",
              "    </tr>\n",
              "  </thead>\n",
              "  <tbody>\n",
              "    <tr>\n",
              "      <th>0</th>\n",
              "      <td>63</td>\n",
              "      <td>M</td>\n",
              "      <td>D</td>\n",
              "      <td>145</td>\n",
              "      <td>233</td>\n",
              "      <td>yes</td>\n",
              "      <td>A</td>\n",
              "      <td>150</td>\n",
              "      <td>no</td>\n",
              "      <td>1</td>\n",
              "    </tr>\n",
              "    <tr>\n",
              "      <th>1</th>\n",
              "      <td>37</td>\n",
              "      <td>M</td>\n",
              "      <td>C</td>\n",
              "      <td>130</td>\n",
              "      <td>250</td>\n",
              "      <td>no</td>\n",
              "      <td>B</td>\n",
              "      <td>187</td>\n",
              "      <td>no</td>\n",
              "      <td>1</td>\n",
              "    </tr>\n",
              "    <tr>\n",
              "      <th>2</th>\n",
              "      <td>41</td>\n",
              "      <td>F</td>\n",
              "      <td>B</td>\n",
              "      <td>130</td>\n",
              "      <td>204</td>\n",
              "      <td>no</td>\n",
              "      <td>A</td>\n",
              "      <td>172</td>\n",
              "      <td>no</td>\n",
              "      <td>1</td>\n",
              "    </tr>\n",
              "    <tr>\n",
              "      <th>3</th>\n",
              "      <td>56</td>\n",
              "      <td>M</td>\n",
              "      <td>B</td>\n",
              "      <td>120</td>\n",
              "      <td>236</td>\n",
              "      <td>no</td>\n",
              "      <td>B</td>\n",
              "      <td>178</td>\n",
              "      <td>no</td>\n",
              "      <td>1</td>\n",
              "    </tr>\n",
              "    <tr>\n",
              "      <th>4</th>\n",
              "      <td>57</td>\n",
              "      <td>F</td>\n",
              "      <td>A</td>\n",
              "      <td>120</td>\n",
              "      <td>354</td>\n",
              "      <td>no</td>\n",
              "      <td>B</td>\n",
              "      <td>163</td>\n",
              "      <td>yes</td>\n",
              "      <td>1</td>\n",
              "    </tr>\n",
              "  </tbody>\n",
              "</table>\n",
              "</div>\n",
              "      <button class=\"colab-df-convert\" onclick=\"convertToInteractive('df-5bfcafd6-08f5-4178-a241-a7dc660377c7')\"\n",
              "              title=\"Convert this dataframe to an interactive table.\"\n",
              "              style=\"display:none;\">\n",
              "        \n",
              "  <svg xmlns=\"http://www.w3.org/2000/svg\" height=\"24px\"viewBox=\"0 0 24 24\"\n",
              "       width=\"24px\">\n",
              "    <path d=\"M0 0h24v24H0V0z\" fill=\"none\"/>\n",
              "    <path d=\"M18.56 5.44l.94 2.06.94-2.06 2.06-.94-2.06-.94-.94-2.06-.94 2.06-2.06.94zm-11 1L8.5 8.5l.94-2.06 2.06-.94-2.06-.94L8.5 2.5l-.94 2.06-2.06.94zm10 10l.94 2.06.94-2.06 2.06-.94-2.06-.94-.94-2.06-.94 2.06-2.06.94z\"/><path d=\"M17.41 7.96l-1.37-1.37c-.4-.4-.92-.59-1.43-.59-.52 0-1.04.2-1.43.59L10.3 9.45l-7.72 7.72c-.78.78-.78 2.05 0 2.83L4 21.41c.39.39.9.59 1.41.59.51 0 1.02-.2 1.41-.59l7.78-7.78 2.81-2.81c.8-.78.8-2.07 0-2.86zM5.41 20L4 18.59l7.72-7.72 1.47 1.35L5.41 20z\"/>\n",
              "  </svg>\n",
              "      </button>\n",
              "      \n",
              "  <style>\n",
              "    .colab-df-container {\n",
              "      display:flex;\n",
              "      flex-wrap:wrap;\n",
              "      gap: 12px;\n",
              "    }\n",
              "\n",
              "    .colab-df-convert {\n",
              "      background-color: #E8F0FE;\n",
              "      border: none;\n",
              "      border-radius: 50%;\n",
              "      cursor: pointer;\n",
              "      display: none;\n",
              "      fill: #1967D2;\n",
              "      height: 32px;\n",
              "      padding: 0 0 0 0;\n",
              "      width: 32px;\n",
              "    }\n",
              "\n",
              "    .colab-df-convert:hover {\n",
              "      background-color: #E2EBFA;\n",
              "      box-shadow: 0px 1px 2px rgba(60, 64, 67, 0.3), 0px 1px 3px 1px rgba(60, 64, 67, 0.15);\n",
              "      fill: #174EA6;\n",
              "    }\n",
              "\n",
              "    [theme=dark] .colab-df-convert {\n",
              "      background-color: #3B4455;\n",
              "      fill: #D2E3FC;\n",
              "    }\n",
              "\n",
              "    [theme=dark] .colab-df-convert:hover {\n",
              "      background-color: #434B5C;\n",
              "      box-shadow: 0px 1px 3px 1px rgba(0, 0, 0, 0.15);\n",
              "      filter: drop-shadow(0px 1px 2px rgba(0, 0, 0, 0.3));\n",
              "      fill: #FFFFFF;\n",
              "    }\n",
              "  </style>\n",
              "\n",
              "      <script>\n",
              "        const buttonEl =\n",
              "          document.querySelector('#df-5bfcafd6-08f5-4178-a241-a7dc660377c7 button.colab-df-convert');\n",
              "        buttonEl.style.display =\n",
              "          google.colab.kernel.accessAllowed ? 'block' : 'none';\n",
              "\n",
              "        async function convertToInteractive(key) {\n",
              "          const element = document.querySelector('#df-5bfcafd6-08f5-4178-a241-a7dc660377c7');\n",
              "          const dataTable =\n",
              "            await google.colab.kernel.invokeFunction('convertToInteractive',\n",
              "                                                     [key], {});\n",
              "          if (!dataTable) return;\n",
              "\n",
              "          const docLinkHtml = 'Like what you see? Visit the ' +\n",
              "            '<a target=\"_blank\" href=https://colab.research.google.com/notebooks/data_table.ipynb>data table notebook</a>'\n",
              "            + ' to learn more about interactive tables.';\n",
              "          element.innerHTML = '';\n",
              "          dataTable['output_type'] = 'display_data';\n",
              "          await google.colab.output.renderOutput(dataTable, element);\n",
              "          const docLink = document.createElement('div');\n",
              "          docLink.innerHTML = docLinkHtml;\n",
              "          element.appendChild(docLink);\n",
              "        }\n",
              "      </script>\n",
              "    </div>\n",
              "  </div>\n",
              "  "
            ]
          },
          "metadata": {},
          "execution_count": 3
        }
      ]
    },
    {
      "cell_type": "code",
      "metadata": {
        "id": "yFUEig7y2sQp"
      },
      "source": [
        "from sklearn.neighbors import KNeighborsClassifier\n",
        "from sklearn.preprocessing import StandardScaler\n",
        "from sklearn import datasets"
      ],
      "execution_count": null,
      "outputs": []
    },
    {
      "cell_type": "markdown",
      "metadata": {
        "id": "7BLOy4W32sQt"
      },
      "source": [
        "### K-neirest neighbor classification\n",
        "\n",
        "Let's start with only 2 features: age and maximum heart rate achieved (thalach). Define your features and target variable. "
      ]
    },
    {
      "cell_type": "code",
      "metadata": {
        "id": "ki6QRs6t2sQu"
      },
      "source": [
        "X = np.array(df[[\"age\", \"thalach\"]])\n",
        "y = np.array(df[\"target\"])"
      ],
      "execution_count": null,
      "outputs": []
    },
    {
      "cell_type": "markdown",
      "metadata": {
        "id": "IjPq4TjY4I-C"
      },
      "source": [
        "Split your data set into train and test subsets. "
      ]
    },
    {
      "cell_type": "code",
      "metadata": {
        "id": "iNvVsTIp2sQx"
      },
      "source": [
        "from sklearn.model_selection import train_test_split\n",
        "X_train, X_test, y_train, y_test = train_test_split(X, y, test_size=0.2, random_state=72)"
      ],
      "execution_count": null,
      "outputs": []
    },
    {
      "cell_type": "markdown",
      "metadata": {
        "id": "Vw5rbTEV3hnH"
      },
      "source": [
        "Define your model. Try to use a logistic regression with cross validation (cv = 5). "
      ]
    },
    {
      "cell_type": "code",
      "metadata": {
        "id": "DQM7lDu1uMUy"
      },
      "source": [
        "#Create model\n",
        "model = KNeighborsClassifier(3)"
      ],
      "execution_count": null,
      "outputs": []
    },
    {
      "cell_type": "markdown",
      "metadata": {
        "id": "MyxTAXGs3nez"
      },
      "source": [
        "Fit your model now using the train set. "
      ]
    },
    {
      "cell_type": "code",
      "metadata": {
        "id": "F9WckoiSD8kv",
        "colab": {
          "base_uri": "https://localhost:8080/"
        },
        "outputId": "ecd5ba0f-eb2f-4bde-e58c-31b53be20b51"
      },
      "source": [
        "model.fit(X_train,y_train)"
      ],
      "execution_count": null,
      "outputs": [
        {
          "output_type": "execute_result",
          "data": {
            "text/plain": [
              "KNeighborsClassifier(n_neighbors=3)"
            ]
          },
          "metadata": {},
          "execution_count": 8
        }
      ]
    },
    {
      "cell_type": "markdown",
      "metadata": {
        "id": "WCu8nkWe3sXG"
      },
      "source": [
        "Compare your train and test accuracy for your model."
      ]
    },
    {
      "cell_type": "code",
      "metadata": {
        "id": "-YK9xRp6CIyP",
        "colab": {
          "base_uri": "https://localhost:8080/"
        },
        "outputId": "32bc874d-bb97-4513-b386-df11077ccee1"
      },
      "source": [
        "# train accuracy with CV\n",
        "model.score(X_train,y_train)"
      ],
      "execution_count": null,
      "outputs": [
        {
          "output_type": "execute_result",
          "data": {
            "text/plain": [
              "0.7892561983471075"
            ]
          },
          "metadata": {},
          "execution_count": 9
        }
      ]
    },
    {
      "cell_type": "code",
      "metadata": {
        "id": "4V2KZ7XTCNNK",
        "colab": {
          "base_uri": "https://localhost:8080/"
        },
        "outputId": "1f9d3369-06c1-4742-cf9b-a910b523169a"
      },
      "source": [
        "# test accuracy with CV\n",
        "model.score(X_test, y_test)"
      ],
      "execution_count": null,
      "outputs": [
        {
          "output_type": "execute_result",
          "data": {
            "text/plain": [
              "0.6721311475409836"
            ]
          },
          "metadata": {},
          "execution_count": 10
        }
      ]
    },
    {
      "cell_type": "markdown",
      "metadata": {
        "id": "WYS-bFxJrZNw"
      },
      "source": [
        "Calculate the base rate"
      ]
    },
    {
      "cell_type": "code",
      "metadata": {
        "id": "EFsMa1m2r7pj",
        "colab": {
          "base_uri": "https://localhost:8080/"
        },
        "outputId": "e03afcbc-dd78-4283-acfa-64bac2f9c7fe"
      },
      "source": [
        "#Compute the base rate\n",
        "#Base rate = (most frequent class)/(total observations)\n",
        "\n",
        "nbr_heart_disease = df.loc[df[\"target\"] == 1].shape[0]\n",
        "print(\"#Heart disease = \", nbr_heart_disease)\n",
        "\n",
        "nbr_no_heart_disease = df.loc[df[\"target\"] == 0].shape[0]\n",
        "print(\"#No heart disease = \", nbr_no_heart_disease)\n",
        "\n",
        "print(\"Baserate = \", max(nbr_heart_disease, nbr_no_heart_disease)/(nbr_heart_disease+ nbr_no_heart_disease))"
      ],
      "execution_count": null,
      "outputs": [
        {
          "output_type": "stream",
          "name": "stdout",
          "text": [
            "#Heart disease =  165\n",
            "#No heart disease =  138\n",
            "Baserate =  0.5445544554455446\n"
          ]
        }
      ]
    },
    {
      "cell_type": "markdown",
      "metadata": {
        "id": "cjgp2sfVrb8B"
      },
      "source": [
        "Show the confusion matrix"
      ]
    },
    {
      "cell_type": "code",
      "metadata": {
        "id": "2DsK5wpLrfSt",
        "colab": {
          "base_uri": "https://localhost:8080/"
        },
        "outputId": "2593d2a6-544f-45f3-a0d1-ea56cd4f21e6"
      },
      "source": [
        "#Confusion matrix\n",
        "from sklearn.metrics import confusion_matrix\n",
        "confusion_matrix(y_train, model.predict(X_train))\n"
      ],
      "execution_count": null,
      "outputs": [
        {
          "output_type": "execute_result",
          "data": {
            "text/plain": [
              "array([[95, 20],\n",
              "       [31, 96]])"
            ]
          },
          "metadata": {},
          "execution_count": 12
        }
      ]
    },
    {
      "cell_type": "markdown",
      "metadata": {
        "id": "BapRfVTr8N5Z"
      },
      "source": [
        "For which K (number of neighbors), p-value and weight do we obtain the best accurary?"
      ]
    },
    {
      "cell_type": "code",
      "metadata": {
        "id": "OAzuyS0E8W_E",
        "colab": {
          "base_uri": "https://localhost:8080/"
        },
        "outputId": "ae8c06ee-fa2c-48fc-ff07-8312a8df3eb2"
      },
      "source": [
        "n_neighbors = [2,3,4,5,6,7]\n",
        "p_values = [1,2,3]\n",
        "weights = ['uniform', 'distance']\n",
        "for n in n_neighbors:\n",
        "    for p in p_values:\n",
        "        for w in weights:\n",
        "            model = KNeighborsClassifier(n_neighbors=n, p=p, weights=w)\n",
        "            model.fit(X_train, y_train)\n",
        "            print(\"accuracy for k = \" + str(n) + \", p = \" + str(p) + \", weight = \" + w + \" : \" + str(model.score(X_test, y_test)))"
      ],
      "execution_count": null,
      "outputs": [
        {
          "output_type": "stream",
          "name": "stdout",
          "text": [
            "accuracy for k = 2, p = 1, weight = uniform : 0.5901639344262295\n",
            "accuracy for k = 2, p = 1, weight = distance : 0.6557377049180327\n",
            "accuracy for k = 2, p = 2, weight = uniform : 0.5901639344262295\n",
            "accuracy for k = 2, p = 2, weight = distance : 0.6885245901639344\n",
            "accuracy for k = 2, p = 3, weight = uniform : 0.5901639344262295\n",
            "accuracy for k = 2, p = 3, weight = distance : 0.6885245901639344\n",
            "accuracy for k = 3, p = 1, weight = uniform : 0.6229508196721312\n",
            "accuracy for k = 3, p = 1, weight = distance : 0.6557377049180327\n",
            "accuracy for k = 3, p = 2, weight = uniform : 0.6721311475409836\n",
            "accuracy for k = 3, p = 2, weight = distance : 0.6885245901639344\n",
            "accuracy for k = 3, p = 3, weight = uniform : 0.6557377049180327\n",
            "accuracy for k = 3, p = 3, weight = distance : 0.6721311475409836\n",
            "accuracy for k = 4, p = 1, weight = uniform : 0.5573770491803278\n",
            "accuracy for k = 4, p = 1, weight = distance : 0.6885245901639344\n",
            "accuracy for k = 4, p = 2, weight = uniform : 0.5737704918032787\n",
            "accuracy for k = 4, p = 2, weight = distance : 0.7213114754098361\n",
            "accuracy for k = 4, p = 3, weight = uniform : 0.5901639344262295\n",
            "accuracy for k = 4, p = 3, weight = distance : 0.7213114754098361\n",
            "accuracy for k = 5, p = 1, weight = uniform : 0.6557377049180327\n",
            "accuracy for k = 5, p = 1, weight = distance : 0.6885245901639344\n",
            "accuracy for k = 5, p = 2, weight = uniform : 0.639344262295082\n",
            "accuracy for k = 5, p = 2, weight = distance : 0.7213114754098361\n",
            "accuracy for k = 5, p = 3, weight = uniform : 0.639344262295082\n",
            "accuracy for k = 5, p = 3, weight = distance : 0.6885245901639344\n",
            "accuracy for k = 6, p = 1, weight = uniform : 0.6229508196721312\n",
            "accuracy for k = 6, p = 1, weight = distance : 0.7377049180327869\n",
            "accuracy for k = 6, p = 2, weight = uniform : 0.639344262295082\n",
            "accuracy for k = 6, p = 2, weight = distance : 0.7377049180327869\n",
            "accuracy for k = 6, p = 3, weight = uniform : 0.6065573770491803\n",
            "accuracy for k = 6, p = 3, weight = distance : 0.7049180327868853\n",
            "accuracy for k = 7, p = 1, weight = uniform : 0.6721311475409836\n",
            "accuracy for k = 7, p = 1, weight = distance : 0.7213114754098361\n",
            "accuracy for k = 7, p = 2, weight = uniform : 0.7213114754098361\n",
            "accuracy for k = 7, p = 2, weight = distance : 0.7377049180327869\n",
            "accuracy for k = 7, p = 3, weight = uniform : 0.6885245901639344\n",
            "accuracy for k = 7, p = 3, weight = distance : 0.7377049180327869\n"
          ]
        }
      ]
    },
    {
      "cell_type": "markdown",
      "metadata": {
        "id": "iwF1RHqA75K6"
      },
      "source": [
        "Now, let's try to predict the class and probability of correct classification for Age = 50, Thalach = 130 and Age = 70, Thalach = 160"
      ]
    },
    {
      "cell_type": "code",
      "metadata": {
        "id": "jxYtT2fU75K7",
        "colab": {
          "base_uri": "https://localhost:8080/"
        },
        "outputId": "1915947b-a802-4cfd-bea5-7562f2c53763"
      },
      "source": [
        "print(model.predict([[50,130],[70,160]]))\n",
        "print(model.predict_proba([[50,130],[70,160]]))"
      ],
      "execution_count": null,
      "outputs": [
        {
          "output_type": "stream",
          "name": "stdout",
          "text": [
            "[0 1]\n",
            "[[0.88872074 0.11127926]\n",
            " [0.44389399 0.55610601]]\n"
          ]
        }
      ]
    },
    {
      "cell_type": "markdown",
      "metadata": {
        "id": "QRpOrur22sRV"
      },
      "source": [
        "Now let's try more numerical features and see if the accuracy improuves.\n",
        "We will use now \"age\", \"thalach\", \"trestbps\" and \"chol\". \n",
        "Define your features and your target variable. "
      ]
    },
    {
      "cell_type": "code",
      "metadata": {
        "id": "uDnaUYF92sRV"
      },
      "source": [
        "X = df[[\"age\", \"thalach\", \"trestbps\", \"chol\"]]\n",
        "y = df[\"target\"]"
      ],
      "execution_count": null,
      "outputs": []
    },
    {
      "cell_type": "markdown",
      "metadata": {
        "id": "0q09jUP34hme"
      },
      "source": [
        "Split your data set into train and test subsets."
      ]
    },
    {
      "cell_type": "code",
      "metadata": {
        "id": "1g55iCbL2sRY"
      },
      "source": [
        "X_train, X_test, y_train, y_test = train_test_split(X, y, test_size=0.2, random_state=72)"
      ],
      "execution_count": null,
      "outputs": []
    },
    {
      "cell_type": "markdown",
      "metadata": {
        "id": "CsuD0tPc4ugm"
      },
      "source": [
        "Standardize your data. "
      ]
    },
    {
      "cell_type": "code",
      "metadata": {
        "id": "R9ScYZRs2sRd",
        "colab": {
          "base_uri": "https://localhost:8080/"
        },
        "outputId": "49876941-9f22-4627-a87e-58fd49fa6a2f"
      },
      "source": [
        "standardize = StandardScaler()\n",
        "standardize.fit(X_train, y_train)"
      ],
      "execution_count": null,
      "outputs": [
        {
          "output_type": "execute_result",
          "data": {
            "text/plain": [
              "StandardScaler()"
            ]
          },
          "metadata": {},
          "execution_count": 17
        }
      ]
    },
    {
      "cell_type": "code",
      "metadata": {
        "id": "I9Y0TMkp2sRg"
      },
      "source": [
        "X_train = standardize.transform(X_train)\n",
        "X_test = standardize.transform(X_test)"
      ],
      "execution_count": null,
      "outputs": []
    },
    {
      "cell_type": "markdown",
      "metadata": {
        "id": "QQOpg_A04zNw"
      },
      "source": [
        "Fit your model using the train data. Let's use the logistic regression with cross validation here. "
      ]
    },
    {
      "cell_type": "code",
      "metadata": {
        "id": "8MMBMLJZ2sRk",
        "colab": {
          "base_uri": "https://localhost:8080/"
        },
        "outputId": "8446eed9-1280-460c-b986-7c9793010e1f"
      },
      "source": [
        "model.fit(X_train, y_train)"
      ],
      "execution_count": null,
      "outputs": [
        {
          "output_type": "execute_result",
          "data": {
            "text/plain": [
              "KNeighborsClassifier(n_neighbors=7, p=3, weights='distance')"
            ]
          },
          "metadata": {},
          "execution_count": 19
        }
      ]
    },
    {
      "cell_type": "markdown",
      "metadata": {
        "id": "pEOw7KN8421R"
      },
      "source": [
        "Compare your train and test accurary. "
      ]
    },
    {
      "cell_type": "code",
      "metadata": {
        "id": "nwPGNVyx2sRp",
        "colab": {
          "base_uri": "https://localhost:8080/"
        },
        "outputId": "667b3de5-edd9-454f-93ca-6aa87975ab1c"
      },
      "source": [
        "# train accuracy\n",
        "model.score(X_train,y_train)"
      ],
      "execution_count": null,
      "outputs": [
        {
          "output_type": "execute_result",
          "data": {
            "text/plain": [
              "1.0"
            ]
          },
          "metadata": {},
          "execution_count": 20
        }
      ]
    },
    {
      "cell_type": "code",
      "metadata": {
        "id": "w2cIMQD-2sRs",
        "colab": {
          "base_uri": "https://localhost:8080/"
        },
        "outputId": "0b144435-c974-403e-9314-12baf421df10"
      },
      "source": [
        "# test accuracy\n",
        "model.score(X_test, y_test)"
      ],
      "execution_count": null,
      "outputs": [
        {
          "output_type": "execute_result",
          "data": {
            "text/plain": [
              "0.639344262295082"
            ]
          },
          "metadata": {},
          "execution_count": 21
        }
      ]
    },
    {
      "cell_type": "code",
      "metadata": {
        "id": "wn-EZaVmD0of",
        "colab": {
          "base_uri": "https://localhost:8080/"
        },
        "outputId": "4e1f85f0-838d-45b7-9c17-84ef42387a90"
      },
      "source": [
        "#Confusion matrix\n",
        "from sklearn.metrics import confusion_matrix\n",
        "confusion_matrix(y_train, model.predict(X_train))"
      ],
      "execution_count": null,
      "outputs": [
        {
          "output_type": "execute_result",
          "data": {
            "text/plain": [
              "array([[115,   0],\n",
              "       [  0, 127]])"
            ]
          },
          "metadata": {},
          "execution_count": 22
        }
      ]
    },
    {
      "cell_type": "markdown",
      "metadata": {
        "id": "8LyUkgxEejXV"
      },
      "source": [
        "### Decision tree classification\n",
        "\n",
        "We will now use the decision tree algorithm for classification.\n",
        "\n",
        "Import the necessary libraries for decision tree classification, define the model and train your model. The test it. What is the accuracy of your model (using the test set)?"
      ]
    },
    {
      "cell_type": "code",
      "metadata": {
        "id": "TLeAUxpCev2f",
        "colab": {
          "base_uri": "https://localhost:8080/"
        },
        "outputId": "bcb6b306-eba5-40ca-94fe-b62fe321fcc5"
      },
      "source": [
        "from sklearn import tree\n",
        "from sklearn.tree import DecisionTreeClassifier\n",
        "model = DecisionTreeClassifier(max_depth = 1)\n",
        "model.fit(X_train, y_train)\n",
        "print(model.score(X_test, y_test))"
      ],
      "execution_count": null,
      "outputs": [
        {
          "output_type": "stream",
          "name": "stdout",
          "text": [
            "0.7704918032786885\n"
          ]
        }
      ]
    },
    {
      "cell_type": "markdown",
      "metadata": {
        "id": "foQ2ukBEkxmo"
      },
      "source": [
        "How can you improve your model? Find the lowest depth with for an accuracy of 1. "
      ]
    },
    {
      "cell_type": "code",
      "metadata": {
        "id": "qfJ0pPZHexKG",
        "colab": {
          "base_uri": "https://localhost:8080/"
        },
        "outputId": "a63afe7c-1dbd-445b-88ea-95b566e769f5"
      },
      "source": [
        "#fonction to find lowest depth (less complicated model) keeping an accuracy of 1\n",
        "depth = 5\n",
        "model = DecisionTreeClassifier(max_depth = depth)\n",
        "model.fit(X_train, y_train)\n",
        "accuracy = model.score(X_test, y_test)\n",
        "while accuracy == 1:\n",
        "    depth -= 1\n",
        "    model = DecisionTreeClassifier(max_depth = depth)\n",
        "    model.fit(X_train, y_train)\n",
        "    accuracy = model.score(X_test, y_test)\n",
        "print(depth+1)"
      ],
      "execution_count": null,
      "outputs": [
        {
          "output_type": "stream",
          "name": "stdout",
          "text": [
            "6\n"
          ]
        }
      ]
    },
    {
      "cell_type": "markdown",
      "metadata": {
        "id": "kB_U_LF4k9o5"
      },
      "source": [
        "Plot the decision tree and the decision boundaries for a model using 'age' and 'thalach' as features. How do you interpret these visualisations?"
      ]
    },
    {
      "cell_type": "code",
      "metadata": {
        "id": "TvkP2BgRe052",
        "colab": {
          "base_uri": "https://localhost:8080/",
          "height": 887
        },
        "outputId": "c391802f-eb9d-4cf5-eb38-f28c4cc2c73d"
      },
      "source": [
        "import numpy as np\n",
        "import matplotlib.pyplot as plt\n",
        "\n",
        "from sklearn.tree import DecisionTreeClassifier, plot_tree\n",
        "\n",
        "plot_colors = \"rb\"\n",
        "plot_step = 0.02\n",
        "\n",
        "\n",
        "X = X[['age', 'thalach']].values\n",
        "\n",
        "clf = DecisionTreeClassifier().fit(X, y)\n",
        "\n",
        "x_min, x_max = X[:, 0].min() - 1, X[:, 0].max() + 1\n",
        "y_min, y_max = X[:, 1].min() - 1, X[:, 1].max() + 1\n",
        "xx, yy = np.meshgrid(np.arange(x_min, x_max, plot_step), np.arange(y_min, y_max, plot_step))\n",
        "plt.tight_layout(h_pad=0.5, w_pad=0.5, pad=2.5)\n",
        "\n",
        "Z = clf.predict(np.c_[xx.ravel(), yy.ravel()])\n",
        "Z = Z.reshape(xx.shape)\n",
        "cs = plt.contourf(xx, yy, Z, cmap=plt.cm.RdYlBu)\n",
        "\n",
        "plt.xlabel('Age')\n",
        "plt.ylabel('Thalach')\n",
        "\n",
        "# Plot the training points\n",
        "for i, color in zip(range(2), plot_colors):\n",
        "    idx = np.where(y == i)\n",
        "    plt.scatter(X[idx, 0], X[idx, 1], c=color,\n",
        "                cmap=plt.cm.RdYlBu, edgecolor='black', s=15)\n",
        "\n",
        "plt.suptitle(\"Decision surface of a decision tree using paired features\")\n",
        "plt.axis(\"tight\")\n",
        "\n",
        "plt.figure(figsize=(15,10))\n",
        "clf = DecisionTreeClassifier().fit(X, y)\n",
        "plot_tree(clf, filled=True)\n",
        "plt.show()"
      ],
      "execution_count": null,
      "outputs": [
        {
          "output_type": "display_data",
          "data": {
            "text/plain": [
              "<Figure size 432x288 with 1 Axes>"
            ],
            "image/png": "[encoded data removed]"
          },
          "metadata": {
            "needs_background": "light"
          }
        },
        {
          "output_type": "display_data",
          "data": {
            "text/plain": [
              "<Figure size 1080x720 with 1 Axes>"
            ],
            "image/png": "[encoded data removed]"
          },
          "metadata": {
            "needs_background": "light"
          }
        }
      ]
    }
  ]
}