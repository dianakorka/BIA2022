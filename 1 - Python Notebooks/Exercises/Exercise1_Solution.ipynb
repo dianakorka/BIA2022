{
  "nbformat": 4,
  "nbformat_minor": 0,
  "metadata": {
    "kernelspec": {
      "display_name": "Python 3",
      "language": "python",
      "name": "python3"
    },
    "language_info": {
      "codemirror_mode": {
        "name": "ipython",
        "version": 3
      },
      "file_extension": ".py",
      "mimetype": "text/x-python",
      "name": "python",
      "nbconvert_exporter": "python",
      "pygments_lexer": "ipython3",
      "version": "3.7.3"
    },
    "colab": {
      "name": "Exercise1_Solution.ipynb",
      "provenance": [],
      "include_colab_link": true
    }
  },
  "cells": [
    {
      "cell_type": "markdown",
      "metadata": {
        "id": "view-in-github",
        "colab_type": "text"
      },
      "source": [
        "<a href=\"https://colab.research.google.com/github/michalis0/Business-Intelligence-and-Analytics/blob/master/1%20-%20Python%20Notebooks/Exercises/Exercise1_Solution.ipynb\" target=\"_parent\"><img src=\"https://colab.research.google.com/assets/colab-badge.svg\" alt=\"Open In Colab\"/></a>"
      ]
    },
    {
      "cell_type": "markdown",
      "metadata": {
        "id": "7UyfwxcEaydh"
      },
      "source": [
        "# Exercise: Some simple Statistics tasks\n",
        "\n",
        "**Table of Contents**\n",
        "\n",
        "1. Arithmetic Mean\n",
        "2. Mean Squared Error\n",
        "\n",
        "    A. Bias of an estimator <br>\n",
        "    B. Variance of an estimator"
      ]
    },
    {
      "cell_type": "markdown",
      "metadata": {
        "id": "WmCOX_YHaydj"
      },
      "source": [
        "## 1. The Arithmetic Mean"
      ]
    },
    {
      "cell_type": "markdown",
      "metadata": {
        "id": "kVBpkruxaydl"
      },
      "source": [
        "$$ Mean(x) = \\frac{1}{n} * \\sum_{i=1}^{n} x_i$$"
      ]
    },
    {
      "cell_type": "markdown",
      "metadata": {
        "id": "VzQNTfZIaydn"
      },
      "source": [
        "Embedded a formatted code block:\n",
        "    \n",
        "```python\n",
        "x=[1,3,9,4]\n",
        "x_bar=1/4*sum(x)\n",
        "```"
      ]
    },
    {
      "cell_type": "code",
      "metadata": {
        "id": "xp0ACeJzaydp",
        "colab": {
          "base_uri": "https://localhost:8080/",
          "height": 32
        },
        "outputId": "1a21eec1-27be-46bb-c714-205f22a310e5"
      },
      "source": [
        "# actual python calculation\n",
        "x=[1,3,9,4]\n",
        "x_bar=1/len(x)*sum(x)\n",
        "x_bar"
      ],
      "execution_count": null,
      "outputs": [
        {
          "output_type": "execute_result",
          "data": {
            "text/plain": [
              "4.25"
            ]
          },
          "metadata": {
            "tags": []
          },
          "execution_count": 2
        }
      ]
    },
    {
      "cell_type": "markdown",
      "metadata": {
        "id": "w0sY4AKIaydu"
      },
      "source": [
        "## 2. Mean Squared Error\n",
        "\n",
        "$$ MSE(x) = bias^2(x) + var^2(x) $$\n",
        "\n",
        "For further information see [http://www.statisticshowto.com/mean-squared-error](http://www.statisticshowto.com/mean-squared-error)"
      ]
    }
  ]
}
