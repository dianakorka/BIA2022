{
  "nbformat": 4,
  "nbformat_minor": 0,
  "metadata": {
    "colab": {
      "name": "Exercise_2_Solution.ipynb",
      "provenance": [],
      "include_colab_link": true
    },
    "kernelspec": {
      "name": "python3",
      "display_name": "Python 3"
    }
  },
  "cells": [
    {
      "cell_type": "markdown",
      "metadata": {
        "id": "view-in-github",
        "colab_type": "text"
      },
      "source": [
        "<a href=\"https://colab.research.google.com/github/michalis0/Business-Intelligence-and-Analytics/blob/master/1%20-%20Python%20Notebooks/Exercises/Exercise_2_Solution.ipynb\" target=\"_parent\"><img src=\"https://colab.research.google.com/assets/colab-badge.svg\" alt=\"Open In Colab\"/></a>"
      ]
    },
    {
      "cell_type": "code",
      "metadata": {
        "colab": {
          "base_uri": "https://localhost:8080/",
          "height": 172
        },
        "cellView": "form",
        "id": "H64cU5knUjhg",
        "outputId": "e480bf0f-e1ad-4687-acd5-7d03cee81e21"
      },
      "source": [
        "#@title Walkthrough - Lab 1\n",
        "\n",
        "%%html\n",
        "\n",
        "<div>\n",
        "<td> \n",
        "<img src=\"https://upload.wikimedia.org/wikipedia/commons/7/77/Logo_HEC_Lausanne.png\" style=\"padding-right:10px;width:240px;float:left\"/></td>\n",
        "<h2 style=\"white-space: nowrap\">Business Intelligence and Analytics</h2></td>\n",
        "<hr style=\"clear:both\">\n",
        "<p style=\"font-size:0.85em; margin:2px; text-align:justify\">\n",
        "\n",
        "</div>"
      ],
      "execution_count": 1,
      "outputs": [
        {
          "output_type": "display_data",
          "data": {
            "text/html": [
              "\n",
              "<div>\n",
              "<td> \n",
              "<img src=\"https://upload.wikimedia.org/wikipedia/commons/7/77/Logo_HEC_Lausanne.png\" style=\"padding-right:10px;width:240px;float:left\"/></td>\n",
              "<h2 style=\"white-space: nowrap\">Business Intelligence and Analytics</h2></td>\n",
              "<hr style=\"clear:both\">\n",
              "<p style=\"font-size:0.85em; margin:2px; text-align:justify\">\n",
              "\n",
              "</div>"
            ],
            "text/plain": [
              "<IPython.core.display.HTML object>"
            ]
          },
          "metadata": {}
        }
      ]
    },
    {
      "cell_type": "markdown",
      "metadata": {
        "id": "N_loKnBGUzEY"
      },
      "source": [
        "\n",
        "![Amazon Logo](https://upload.wikimedia.org/wikipedia/commons/a/a9/Amazon_logo.svg) \n",
        "\n",
        "# Description : \n",
        "> **Amazon.com**, Inc is an American multinational technology company based in Seattle, Washington, which focuses on e-commerce, cloud computing, digital streaming, and artificial intelligence.\n",
        "\n",
        "> It is one of the Big Five companies in the U.S. information technology industry, along with Google, Apple, Microsoft, and Facebook. The company has been referred to as \"one of the most influential economic and cultural forces in the world\", as well as the world's most valuable brand.\n",
        "\n",
        "> **Amazon** was founded by `Jeff Bezos` in __Bellevue, Washington__, on *July 5, 1994*. It started as an online marketplace for books but expanded to sell electronics, software, video games, apparel, furniture, food, toys, and jewelry. \n",
        "\n",
        "\n",
        "*   In 2015, Amazon surpassed Walmart as the most valuable retailer in the United States by market capitalization.\n",
        "*   In 2017, Amazon acquired Whole Foods Market for US$13.4 billion, which substantially increased its footprint as a physical retailer.\n",
        "*   In 2018, its two-day delivery service, Amazon Prime, surpassed 100 million subscribers worldwide.\n",
        "\n",
        "Amazon distributes downloads and streaming of video, music, and audiobooks through its [Prime Video](https://en.wikipedia.org/wiki/Prime_Video), [Twitch](https://en.wikipedia.org/wiki/Twitch_(service)), and others.  Amazon also has a  cloud computing subsidiary, [Amazon Web Services](https://en.wikipedia.org/wiki/Amazon_Web_Services)"
      ]
    },
    {
      "cell_type": "markdown",
      "metadata": {
        "id": "vFUlQmOkXsso"
      },
      "source": [
        "## News\n",
        "\n",
        "- Amazon: The unstoppable rise of the internet giant\n",
        " (read [article](https://www.bbc.com/news/business-55927979))\n",
        "\n",
        "- Jeff Bezos: Read Amazon founder’s letter to employees (read [article](https://www.independent.co.uk/news/world/americas/jeff-bezos-letter-amazon-b1796716.html))"
      ]
    },
    {
      "cell_type": "markdown",
      "metadata": {
        "id": "TSYZrItYffdf"
      },
      "source": [
        "## Key Executives\n",
        "\n",
        "\n",
        "Name |\tTitle\t| Total compensation\n",
        "---- | ----- | ---- | \n",
        "Mr. Jeffrey P. Bezos\t| Chief Executive Officer, Director | \t1,681 M| \n",
        "Mr. Andrew R. Jassy\t| Chief Executive Officer of Amazon Web Services\t|  35,61M|\n",
        "Mr. Jeffrey Blackburn\t|  Senior Vice-President of Business Development. Entertainment | 22.19M |  \n",
        "Mr. Jeffrey A. Wilke\t|  Sr. Advisor\t|  210,725k\t| \n",
        "\n"
      ]
    },
    {
      "cell_type": "code",
      "metadata": {
        "colab": {
          "base_uri": "https://localhost:8080/",
          "height": 336
        },
        "id": "QqOY2OGMqTMs",
        "outputId": "f9ab8180-475e-4d1b-c61d-303a0dbed1ac"
      },
      "source": [
        "\n",
        "## Videos Before you can find a video from a *recent event*.\n",
        "%%HTML\n",
        "<iframe width=\"560\" height=\"315\" src=\"https://www.youtube.com/embed/a9__D53WsUs\" frameborder=\"0\" allow=\"accelerometer; autoplay; clipboard-write; encrypted-media; gyroscope; picture-in-picture\" allowfullscreen></iframe>"
      ],
      "execution_count": null,
      "outputs": [
        {
          "output_type": "display_data",
          "data": {
            "text/html": [
              "<iframe width=\"560\" height=\"315\" src=\"https://www.youtube.com/embed/a9__D53WsUs\" frameborder=\"0\" allow=\"accelerometer; autoplay; clipboard-write; encrypted-media; gyroscope; picture-in-picture\" allowfullscreen></iframe>"
            ],
            "text/plain": [
              "<IPython.core.display.HTML object>"
            ]
          },
          "metadata": {
            "tags": []
          }
        }
      ]
    }
  ]
}