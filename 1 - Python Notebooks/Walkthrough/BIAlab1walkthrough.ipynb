{
  "nbformat": 4,
  "nbformat_minor": 0,
  "metadata": {
    "colab": {
      "name": "BIAlab1walkthrough.ipynb",
      "provenance": [],
      "collapsed_sections": [],
      "include_colab_link": true
    },
    "kernelspec": {
      "name": "python3",
      "display_name": "Python 3"
    }
  },
  "cells": [
    {
      "cell_type": "markdown",
      "metadata": {
        "id": "view-in-github",
        "colab_type": "text"
      },
      "source": [
        "<a href=\"https://colab.research.google.com/github/michalis0/Business-Intelligence-and-Analytics/blob/master/1%20-%20Python%20Notebooks/Walkthrough/BIAlab1walkthrough.ipynb\" target=\"_parent\"><img src=\"https://colab.research.google.com/assets/colab-badge.svg\" alt=\"Open In Colab\"/></a>"
      ]
    },
    {
      "cell_type": "code",
      "metadata": {
        "colab": {
          "base_uri": "https://localhost:8080/",
          "height": 133
        },
        "id": "-Et-C3loyXPx",
        "cellView": "form",
        "outputId": "5c7b17a2-ffc0-4973-9145-1a07a2c9f921"
      },
      "source": [
        "#@title Walkthrough - Lab 1\n",
        "\n",
        "%%html\n",
        "\n",
        "<div>\n",
        "<td> \n",
        "<img src=\"https://upload.wikimedia.org/wikipedia/commons/thumb/2/2b/Logo_Universit%C3%A9_de_Lausanne.svg/2000px-Logo_Universit%C3%A9_de_Lausanne.svg.png\" style=\"padding-right:10px;width:240px;float:left\"/></td>\n",
        "<h2 style=\"white-space: nowrap\">Business Intelligence and Analytics</h2></td>\n",
        "<hr style=\"clear:both\">\n",
        "<p style=\"font-size:0.85em; margin:2px; text-align:justify\">\n",
        "\n",
        "</div>"
      ],
      "execution_count": null,
      "outputs": [
        {
          "output_type": "display_data",
          "data": {
            "text/html": [
              "\n",
              "<div>\n",
              "<td> \n",
              "<img src=\"https://upload.wikimedia.org/wikipedia/commons/thumb/2/2b/Logo_Universit%C3%A9_de_Lausanne.svg/2000px-Logo_Universit%C3%A9_de_Lausanne.svg.png\" style=\"padding-right:10px;width:240px;float:left\"/></td>\n",
              "<h2 style=\"white-space: nowrap\">Business Intelligence and Analytics</h2></td>\n",
              "<hr style=\"clear:both\">\n",
              "<p style=\"font-size:0.85em; margin:2px; text-align:justify\">\n",
              "\n",
              "</div>"
            ],
            "text/plain": [
              "<IPython.core.display.HTML object>"
            ]
          },
          "metadata": {
            "tags": []
          }
        }
      ]
    },
    {
      "cell_type": "markdown",
      "metadata": {
        "id": "V2ytee3GxKCe"
      },
      "source": [
        "\n",
        "\n",
        "The goal of this Walkthrough is to allow you to familiarize yourself with Colab, Markdown, and the usage of Python. In order to achieve that, we partly recreated the Moodle-page of this course. As you will see, you can familiarize yourself with the concepts laid down below. At the end of the laboratory, we propose two small excercises to apply the concepts and use this knowledge in concrete examples ! \n",
        "\n",
        "\n",
        "### Index and usefull links\n",
        "\n",
        "This laboratory is a short introduction to the functionalities of colab for text, code blocks and video embeddings. Please, for the following labs, do not hesitate to refer to the links below for further explanations.\n",
        "\n",
        "<div class=\"alert alert-info\">\n",
        "    \n",
        "**Note 1 :** To avoid redundancy, some of the links are not clickable as they are being part of the content given in a upper part link.\n",
        "\n",
        "**Note 2 :** Click on the top left hand side `summary` toggle to access the full index of this notebook\n",
        "\n",
        "</div>\n",
        "\n",
        "1. [Collab](https://colab.research.google.com/notebooks/intro.ipynb)\n",
        "    1. [Open a notebook from GitHub](https://colab.research.google.com/github/googlecolab/colabtools/blob/master/notebooks/colab-github-demo.ipynb)\n",
        "    2. [Work on a notebook](https://colab.research.google.com/drive/1YKHHLSlG-B9Ez2-zf-YFxXTVgfC_Aqtt#scrollTo=Ga5KS3DBmvop)\n",
        "    3. [Save a notebook in Drive](https://colab.research.google.com/drive/1YKHHLSlG-B9Ez2-zf-YFxXTVgfC_Aqtt#scrollTo=Ga5KS3DBmvop)\n",
        "    4. [Download a notebook](https://colab.research.google.com/drive/1YKHHLSlG-B9Ez2-zf-YFxXTVgfC_Aqtt#scrollTo=Ga5KS3DBmvop)\n",
        "2. [Markdown](https://colab.research.google.com/notebooks/markdown_guide.ipynb)\n",
        "    1. [Headers](https://github.com/adam-p/markdown-here/wiki/Markdown-Cheatsheet#headers)\n",
        "    2. [Emphasis (bold, italics, strikethrough)](https://github.com/adam-p/markdown-here/wiki/Markdown-Cheatsheet#emphasis)\n",
        "    3. [Blockquotes](https://github.com/adam-p/markdown-here/wiki/Markdown-Cheatsheet#blockquotes) \n",
        "    4. [Lists](https://github.com/adam-p/markdown-here/wiki/Markdown-Cheatsheet#lists) \n",
        "    5. [Links](https://github.com/adam-p/markdown-here/wiki/Markdown-Cheatsheet#links)    \n",
        "    6. [Horizontal lines](https://github.com/adam-p/markdown-here/wiki/Markdown-Cheatsheet#horizontal-rule)\n",
        "    7. [Tables](https://github.com/adam-p/markdown-here/wiki/Markdown-Cheatsheet#tables)\n",
        "    8. [Images](https://github.com/adam-p/markdown-here/wiki/Markdown-Cheatsheet#images)\n",
        "    9. [Videos](https://github.com/adam-p/markdown-here/wiki/Markdown-Cheatsheet#youtube-videos)\n",
        "    10. [Mathematical formulas](#2.10.mathematical-formulas)\n",
        "\n",
        "3. [Python](https://colab.research.google.com/github/jakevdp/PythonDataScienceHandbook/blob/master/notebooks/Index.ipynb)\n",
        "\n",
        "4. [Exercises](#4.exercises)\n",
        "  1. [Mean squared error exercise](#4.1.mean-squared-error-exercise)\n",
        "  2. [Amazon exercise](#4.2.amazon)"
      ]
    },
    {
      "cell_type": "markdown",
      "metadata": {
        "id": "jyij8neZz4yD"
      },
      "source": [
        "# <a class=\"anchor\"></a> 1. Collab\n",
        "\n",
        "\n",
        "\n"
      ]
    },
    {
      "cell_type": "markdown",
      "metadata": {
        "id": "ebWNTbP6kJ8E"
      },
      "source": [
        "#### <a class=\"anchor\"></a> 1.A. Open a notebook from GitHub\n",
        "\n",
        "To open a notebook in Google Colab, simply click the \"open in colab\" button you can find on the GitHub notebook. You can also open a collab window, and in the \"folder\" toggle at the top right, click on \"import notebook\" and then select Github as your import choice. For the rest, select the repositorty and notebook of interest and import ! \n"
      ]
    },
    {
      "cell_type": "markdown",
      "metadata": {
        "id": "5JOOTcMWirVR"
      },
      "source": [
        "#### <a class=\"anchor\"></a> 1.2. Work on a notebook\n",
        " In order to work on the notebook, right after opening it, you should click \"Copy to drive\" (right above the cells). This will open another window in which you can then freely work on the notebook. You can then create, modify, and delete files as you wish."
      ]
    },
    {
      "cell_type": "markdown",
      "metadata": {
        "id": "qqR3SRghirv3"
      },
      "source": [
        "#### <a class=\"anchor\"></a> 1.3. Save a Notebook in Drive\n",
        " Saving your notebooks on Google Drive is the easiest option. To do so, simply go to \"File\" > \"Save\". You will then be able to reopen it with \"File\" > \"Open notebook\" > \"Google Drive\"."
      ]
    },
    {
      "cell_type": "markdown",
      "metadata": {
        "id": "F6cXeIxnir33"
      },
      "source": [
        "#### <a class=\"anchor\"></a> 1.4. Download a Notebook \n",
        " This is an alternative to saving your notebooks on Google Drive. Use \"File\" > \"Download .ipynb\" to do so. You can then reopen your notebook with \"File\" > \"Open notebook\" > \"Upload\"."
      ]
    },
    {
      "cell_type": "markdown",
      "metadata": {
        "id": "5SFM7d2Qz6Oc"
      },
      "source": [
        "# <a class=\"anchor\"></a> 2. Markdown\n",
        "Double-click on the cell below to find out how to write in Markdown (left part of the cell) so that it gets rendered as we want it to be (right part of the cell). As you can see, we partly recreated the BIA moodle-page so that you can see how Markdown works."
      ]
    },
    {
      "cell_type": "markdown",
      "metadata": {
        "id": "x7QfzpdBtdCJ"
      },
      "source": [
        "#### <a class=\"anchor\"></a> 2.1. Headers\n",
        "\n",
        "As you can see, using a special formatting of the text, we can manage to make section title, subtitles and so on. Below, we show a toy example to create a structure similar to what you would find on our moodle page."
      ]
    },
    {
      "cell_type": "markdown",
      "metadata": {
        "id": "K4RUQhX-vblW"
      },
      "source": [
        "### Business Intelligence and Analytics\n",
        "**Instructeurs:** Prof. Vlachos, Dr. Orso\n",
        "\n",
        "**TAs:**\n",
        "- Rayan\n",
        "- Liam\n",
        "- Emilien\n",
        "- Diana\n",
        "\n",
        "___\n"
      ]
    },
    {
      "cell_type": "markdown",
      "source": [
        "**this is my bold text** this is no longer bold"
      ],
      "metadata": {
        "id": "LSHi378BOgML"
      }
    },
    {
      "cell_type": "markdown",
      "metadata": {
        "id": "iAFHwcz9tdMn"
      },
      "source": [
        "#### <a class=\"anchor\"></a> 2.2. Emphasis (bold, italics, strikethrough)"
      ]
    },
    {
      "cell_type": "markdown",
      "metadata": {
        "id": "sBfy5kaMIGxt"
      },
      "source": [
        "\n",
        "Fortune 500 - Top 5 | Preview\n",
        "--- | ---\n",
        "`**Walmart**` | **Walmart text**\n",
        "`*Amzaon*` and `_Exxon Mobile_` | *Amazon* and _Exxon Mobile_\n",
        "`` `Apple` `` | `Apple`\n",
        "`~~CVS Health~~` | ~~CVS Health~~"
      ]
    },
    {
      "cell_type": "markdown",
      "metadata": {
        "id": "lQGGvCDftdWT"
      },
      "source": [
        "#### <a class=\"anchor\"></a> 2.3. Blockquotes\n",
        "\n",
        "Below, you see the point of using blockquote and the type of output to expect\n",
        "\n",
        ">Les entreprises collectent de grandes quantités de données sur leurs clients: historique des achats, réponses aux événements de marketing, journalisation des recherches sur le Web, etc. Dans l'économie actuelle, les données peuvent aider les entreprises à mieux comprendre leurs clients et à prendre des décisions commerciales plus éclairées.\n",
        ">\n",
        ">L'objectif de ce cours est d'introduire des concepts en Business Intelligence et en analyse de données (Data Analytics).Durant ce cours, nous passerons en revue plusieurs méthodes pour extraire et manipuler des données (SQL), visualiser des données et prendre des décisions prédictives à partir de données. Nous soulignerons également les pièges potentiels liés à ces méthodes. Les étudiants expérimenteront ces sujets de manière pratique avec du code Python.\n"
      ]
    },
    {
      "cell_type": "markdown",
      "metadata": {
        "id": "5zVs4aMItdgJ"
      },
      "source": [
        "#### <a class=\"anchor\"></a> 2.4-5. Lists and Links\n"
      ]
    },
    {
      "cell_type": "markdown",
      "metadata": {
        "id": "Pjj-xSgP_1a2"
      },
      "source": [
        "\n",
        "### Books\n",
        "Here are some good books \n",
        "\n",
        "1. [Business Analytics](https://www.amazon.com/gp/product/B075XLZY23/ref=ppx_yo_dt_b_d_asin_title_o02?ie=UTF8&psc=1)\n",
        "2. [Business Intelligence, Analytics, and Data Science](https://www.amazon.com/gp/product/B01N5RQVHE/ref=ppx_yo_dt_b_d_asin_title_o00?ie=UTF8&psc=1)\n",
        "3. [Data Science for Business](https://www.amazon.com/Data-Science-Business-Data-Analytic-Thinking/dp/1449361323/ref=sr_1_1?crid=351XYNR4NUUSB&keywords=data+science+for+business+by+foster+provost+and+tom+fawcett&qid=1580462788&sprefix=provost+business+%2Caps%2C264&sr=8-1)"
      ]
    },
    {
      "cell_type": "markdown",
      "metadata": {
        "id": "unCwlIjstdxm"
      },
      "source": [
        "## <a class=\"anchor\"></a> 2.6. Horizontal lines\n",
        "\n"
      ]
    },
    {
      "cell_type": "markdown",
      "metadata": {
        "id": "IEb-wE-OKijL"
      },
      "source": [
        "For practical reasons, we put you here the table from [markdown tutorial](https://github.com/adam-p/markdown-here/wiki/Markdown-Cheatsheet#hr)"
      ]
    },
    {
      "cell_type": "markdown",
      "metadata": {
        "id": "NY_tOTpKKRns"
      },
      "source": [
        "**Three or more... of these symbols give you the same horizontal rule:**\n",
        "\n",
        "---\n",
        "\n",
        "Hyphens `---`\n",
        "\n",
        "***\n",
        "\n",
        "Asterisks  `***`\n",
        "\n",
        "___\n",
        "\n",
        "Underscores `___`"
      ]
    },
    {
      "cell_type": "markdown",
      "metadata": {
        "id": "c7BSLkXEtdpJ"
      },
      "source": [
        "## <a class=\"anchor\"></a> 2.7. Tables\n"
      ]
    },
    {
      "cell_type": "markdown",
      "metadata": {
        "id": "sooJScBKAHKj"
      },
      "source": [
        "###Quizzes/Examens\n",
        "Below, a small table we created to show you the synthax to adopt for such purpose. Please, investigate the code to get familiar with the concept.\n",
        "\n",
        "| Examen | Contenu |\n",
        "| :---: | :---: |\n",
        "| **Mid-term** | semaine 1-6 |\n",
        "| **Final**| semaine 1-12|\n"
      ]
    },
    {
      "cell_type": "markdown",
      "metadata": {
        "id": "VREbd8xPteLn"
      },
      "source": [
        "## <a class=\"anchor\"></a> 2.8. Images\n"
      ]
    },
    {
      "cell_type": "markdown",
      "metadata": {
        "id": "eQnAegWC7N8w"
      },
      "source": [
        "\n",
        "### ___Business Intelligence Image___\n",
        "\n",
        "Here is a quick example to allow you to embed images in the notebook. \n",
        "\n",
        "![error](https://www.datapine.com/de/images/business-intelligence-datapine.png)"
      ]
    },
    {
      "cell_type": "markdown",
      "metadata": {
        "id": "fzk002A7teTL"
      },
      "source": [
        "## <a class=\"anchor\"></a> 2.9. Videos\n"
      ]
    },
    {
      "cell_type": "markdown",
      "metadata": {
        "id": "-5DmHkue8hMX"
      },
      "source": [
        "###***UNIL Video***\n",
        "\n",
        "You can either do this:\n",
        "\n",
        "[![error](https://coursera-university-assets.s3.amazonaws.com/cb/63426036f974ead503ecc0e0e25bbc/Carre_B_300x300.png)](https://www.youtube.com/watch?v=0M2EbryHZr0)\n",
        "\n",
        "Or Alternatively that (possibility to change the size and border):\n",
        "\n",
        "<a href=\"http://www.youtube.com/watch?feature=player_embedded&v=0M2EbryHZr0\n",
        "\" target=\"_blank\"><img src=\"https://coursera-university-assets.s3.amazonaws.com/cb/63426036f974ead503ecc0e0e25bbc/Carre_B_300x300.png\" \n",
        "alt=\"Error\" width=\"500\" height=\"500\" border=\"5\" /></a>\n"
      ]
    },
    {
      "cell_type": "code",
      "source": [
        "# or, alternatively use a code cell as below, and apply the %%html magic\n",
        "# TO OBTAIN THE LINK: right click on youtube video copy EMBED code\n",
        "%%html\n",
        "<iframe width=\"504\" height=\"279\" src=\"https://www.youtube.com/embed/0M2EbryHZr0\" title=\"YouTube video player\" frameborder=\"0\" allow=\"accelerometer; autoplay; clipboard-write; encrypted-media; gyroscope; picture-in-picture\" allowfullscreen></iframe>"
      ],
      "metadata": {
        "id": "gy22oZfVpOV9",
        "outputId": "47abe0df-2cc6-4200-fe01-cc0276d357a0",
        "colab": {
          "base_uri": "https://localhost:8080/",
          "height": 300
        }
      },
      "execution_count": null,
      "outputs": [
        {
          "output_type": "display_data",
          "data": {
            "text/html": [
              "<iframe width=\"504\" height=\"279\" src=\"https://www.youtube.com/embed/0M2EbryHZr0\" title=\"YouTube video player\" frameborder=\"0\" allow=\"accelerometer; autoplay; clipboard-write; encrypted-media; gyroscope; picture-in-picture\" allowfullscreen></iframe>"
            ],
            "text/plain": [
              "<IPython.core.display.HTML object>"
            ]
          },
          "metadata": {}
        }
      ]
    },
    {
      "cell_type": "markdown",
      "metadata": {
        "id": "aaXGMtWEucCu"
      },
      "source": [
        "\n",
        "<a name=\"2.10.mathematical-formulas\"></a>\n",
        "## 2.10. Mathematical Formulas\n",
        "To display mathematical formulas in Markdown, you can use LaTeX syntax. Note that you need to have a dollar sign, `$` at the beginning and the end of the formula you wish to write. If you are not familiar with LaTeX, do not worry, there are a lot of ressources online.\n",
        "\n",
        "For example: `$x = \\frac{-b \\pm \\sqrt{b^2-4ac}}{2a}$`\n",
        "\n",
        "Will render as: $x = \\frac{-b \\pm \\sqrt{b^2-4ac}}{2a}$\n",
        "\n",
        "You can check here more [documentation on LATEX equations](https://latex-tutorial.com/tutorials/amsmath/) if you'd like to know more on this topic."
      ]
    },
    {
      "cell_type": "markdown",
      "metadata": {
        "id": "-_9ru-HCAsm9"
      },
      "source": [
        "### Evaluation\n",
        "\n",
        "Following our example, here the formula used to calculate your final grade for the course. \n",
        "\n",
        "$Note = [0.3 * \\max(midterm, final)] + [0.7 * final] + Assignment$"
      ]
    },
    {
      "cell_type": "markdown",
      "metadata": {
        "id": "YW5zLjLd0p-j"
      },
      "source": [
        "# <a class=\"anchor\"></a> 3. Python\n",
        "#### We have the formula to compute your final grade for this class. However, wouldn't it be convenient to let Python do the computations for us?\n",
        "#### In order to run the few code-cells that follow, you have two options. Either press press the \"play-button\" that appears if you hover your mouse over the cell, or select the cell by clicking on it and then press ctrl+shift on your keyboard."
      ]
    },
    {
      "cell_type": "code",
      "metadata": {
        "id": "Q3SrQXP0-Mg5"
      },
      "source": [
        "def Grade(midterm, final, assignment):\n",
        "  if midterm <= final:\n",
        "    grade = final + assignment\n",
        "  else:\n",
        "    grade = 0.3*midterm + 0.7*final + assignment\n",
        "  grade_in_range = min(grade, 6)\n",
        "  grade_rounded = round(grade_in_range, 2)\n",
        "  print('Your final grade for this class is :', grade_rounded)"
      ],
      "execution_count": null,
      "outputs": []
    },
    {
      "cell_type": "markdown",
      "metadata": {
        "id": "FNQSrHRVi9oj"
      },
      "source": [
        "Or alternatively, as a two-liner:"
      ]
    },
    {
      "cell_type": "code",
      "metadata": {
        "id": "3SnQ-lzyi-gD"
      },
      "source": [
        "def Grade(midterm, final, assignment):\n",
        "  print('Your final grade for this class is:', round(min(0.3*max(midterm, final) + 0.7*final + assignment, 6), 2))"
      ],
      "execution_count": null,
      "outputs": []
    },
    {
      "cell_type": "code",
      "metadata": {
        "id": "rmtanKcV-_NH",
        "colab": {
          "base_uri": "https://localhost:8080/"
        },
        "outputId": "9540f9c1-13fa-489a-d076-bdb0a2c39f58"
      },
      "source": [
        "Grade(4.5, 5, 0.25)"
      ],
      "execution_count": null,
      "outputs": [
        {
          "output_type": "stream",
          "text": [
            "Your final grade for this class is: 5.25\n"
          ],
          "name": "stdout"
        }
      ]
    },
    {
      "cell_type": "code",
      "metadata": {
        "id": "JXLqNrBWwoQq",
        "colab": {
          "base_uri": "https://localhost:8080/"
        },
        "outputId": "61b1b119-1ced-4843-8f72-67d1eacace4c"
      },
      "source": [
        "Grade(6, 3.5, 0.5)"
      ],
      "execution_count": null,
      "outputs": [
        {
          "output_type": "stream",
          "text": [
            "Your final grade for this class is: 4.75\n"
          ],
          "name": "stdout"
        }
      ]
    },
    {
      "cell_type": "code",
      "metadata": {
        "id": "csLhZZbpwxPe",
        "colab": {
          "base_uri": "https://localhost:8080/"
        },
        "outputId": "2d28d3ae-a166-4b96-e2c2-c3d8923b2176"
      },
      "source": [
        "Grade(1, 5.5, 0)"
      ],
      "execution_count": null,
      "outputs": [
        {
          "output_type": "stream",
          "text": [
            "Your final grade for this class is: 5.5\n"
          ],
          "name": "stdout"
        }
      ]
    },
    {
      "cell_type": "code",
      "metadata": {
        "id": "XGR1KVq7w4y-",
        "colab": {
          "base_uri": "https://localhost:8080/"
        },
        "outputId": "03638852-1a83-4c92-d273-f66b7499a461"
      },
      "source": [
        "Grade(5.5, 6, 0.5)"
      ],
      "execution_count": null,
      "outputs": [
        {
          "output_type": "stream",
          "text": [
            "Your final grade for this class is: 6\n"
          ],
          "name": "stdout"
        }
      ]
    },
    {
      "cell_type": "markdown",
      "metadata": {
        "id": "xbR2f2snQlVe"
      },
      "source": [
        "<a name=\"4.exercises\"></a>\n",
        "# 4. Exercises"
      ]
    },
    {
      "cell_type": "markdown",
      "metadata": {
        "id": "R1Sl8arPQ3-e"
      },
      "source": [
        "<a name=\"4.1.mean-squared-error-exercise\"></a>\n",
        "#### 4.1. Mean squared error exercise"
      ]
    },
    {
      "cell_type": "markdown",
      "metadata": {
        "id": "NOsLElINRDcg"
      },
      "source": [
        "In this part of the lab, we want you to make practical use of the markdown tool we just presented you with. To that end, recreate the following section. \n",
        "\n",
        "This may require some knowledge of Latex for recreating the equations, so if you are not very familiar with this just try this [link](http://www.statisticshowto.com/mean-squared-error). If you are still having a hard time, just ask your TAs. \n",
        "\n",
        "[PNG of Colab notebook to recreate](https://github.com/michalis0/Business-Intelligence-and-Analytics/blob/a28ed05721acafc14e75047d0e6250944ba7e3b7/1%20-%20Python%20Notebooks/Exercises/Exercise1.png).\n",
        "\n",
        "Link used:\n",
        "- http://www.statisticshowto.com/mean-squared-error"
      ]
    },
    {
      "cell_type": "markdown",
      "metadata": {
        "id": "86estbPCzS8T"
      },
      "source": [
        "<a name=\"4.2.amazon\"></a>\n",
        "### 4.2. Amazon\n",
        "\n"
      ]
    },
    {
      "cell_type": "markdown",
      "metadata": {
        "id": "cE-V6DyrzmvK"
      },
      "source": [
        "Exercise 2: Recreate [this PNG in a Colab notebook](https://github.com/michalis0/Business-Intelligence-and-Analytics/blob/a28ed05721acafc14e75047d0e6250944ba7e3b7/1%20-%20Python%20Notebooks/Exercises/Exercice2.png).   \n",
        "Links used:\n",
        "\n",
        "-   https://upload.wikimedia.org/wikipedia/commons/a/a9/Amazon_logo.svg\n",
        "-   https://en.wikipedia.org/wiki/Prime_Video\n",
        "-   https://en.wikipedia.org/wiki/Twitch_(service)\n",
        "-   https://en.wikipedia.org/wiki/Amazon_Web_Services\n",
        "-   https://www.bbc.com/news/business-55927979\n",
        "-   https://www.independent.co.uk/news/world/americas/jeff-bezos-letter-amazon-b1796716.html\n",
        "-   https://www.youtube.com/embed/a9__D53WsUs\n",
        "\n"
      ]
    }
  ]
}