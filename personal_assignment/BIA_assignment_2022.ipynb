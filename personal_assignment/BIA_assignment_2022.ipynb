{
  "nbformat": 4,
  "nbformat_minor": 0,
  "metadata": {
    "colab": {
      "name": "BIA_assignment_2022.ipynb",
      "provenance": [],
      "include_colab_link": true
    },
    "kernelspec": {
      "name": "python3",
      "display_name": "Python 3"
    },
    "language_info": {
      "name": "python"
    }
  },
  "cells": [
    {
      "cell_type": "markdown",
      "metadata": {
        "id": "view-in-github",
        "colab_type": "text"
      },
      "source": [
        "<a href=\"https://colab.research.google.com/github/michalis0/Business-Intelligence-and-Analytics/blob/master/personal_assignment/BIA_assignment_2022.ipynb\" target=\"_parent\"><img src=\"https://colab.research.google.com/assets/colab-badge.svg\" alt=\"Open In Colab\"/></a>"
      ]
    },
    {
      "cell_type": "markdown",
      "source": [
        "# Business Intelligence and Analytics - Assignment 2022\n",
        "\n",
        "\n",
        "Welcome to the Assignment! \n",
        "\n",
        "You have to complete this notebook to find the answers to the 10 questions below. We already provide some initial code to read in the data from the data subfolder.\n",
        "\n",
        "In order to receive a grade and properly submit the assignment, you will have to do **both** steps mentioned below. Both of these must be done on the Moodle page, right under the forums.\n",
        "\n",
        "* Answer the [questions on the quiz](https://moodle.unil.ch/mod/quiz/view.php?id=1234974).\n",
        "* Submit your [notebook](https://moodle.unil.ch/mod/assign/view.php?id=1282597).\n",
        "\n",
        "**The bonus for this assignment is binary. You get the full bonus or nothing. To reveive the full bonus you need to answer correctly 7 questions out of the 10 (i.e. more than 65% of the quiz points).**\n",
        "\n",
        "Make sure to follow all instructions carefully.\n",
        "\n",
        "Good luck! 🍀\n",
        "\n",
        "**Note**: Have your notebook with the asnwers ready for answering the quiz. \n",
        "\n",
        "**Questions**: You can post your [questions in Moodle in the dedicated forum here](https://moodle.unil.ch/mod/forum/view.php?id=1207935). No questions will be answered by email.\n"
      ],
      "metadata": {
        "id": "fqhjIaf-moHf"
      }
    },
    {
      "cell_type": "markdown",
      "source": [
        "## Part 1. Data Cleaning\n",
        "\n",
        "First a few preliminary steps to set you up. You can execute the cells below to get you started."
      ],
      "metadata": {
        "id": "s9syfj48o8JA"
      }
    },
    {
      "cell_type": "code",
      "execution_count": null,
      "metadata": {
        "id": "KbBjnc2xmnDW"
      },
      "outputs": [],
      "source": [
        "# Import required packages\n",
        "\n",
        "import pandas as pd\n",
        "import numpy as np\n",
        "import matplotlib.pyplot as plt\n",
        "import seaborn as sns\n",
        "%matplotlib inline"
      ]
    },
    {
      "cell_type": "code",
      "source": [
        "# Load the data\n",
        "df=pd.read_csv('https://media.githubusercontent.com/media/michalis0/Business-Intelligence-and-Analytics/master/data/sales.csv')\n",
        "\n",
        "# Visualise first 3 rows\n",
        "df.head(3)"
      ],
      "metadata": {
        "colab": {
          "base_uri": "https://localhost:8080/",
          "height": 437
        },
        "id": "NrlTbxuWpLn8",
        "outputId": "82b54fc5-27b3-4977-daea-653c7d40f505"
      },
      "execution_count": null,
      "outputs": [
        {
          "output_type": "execute_result",
          "data": {
            "text/plain": [
              "   Row ID        Order ID  Order Date   Ship Date     Ship Mode Customer ID  \\\n",
              "0       1  CA-2017-152156  08/11/2017  11/11/2017  Second Class    CG-12520   \n",
              "1       2  CA-2017-152156  08/11/2017  11/11/2017  Second Class    CG-12520   \n",
              "2       3  CA-2017-138688  12/06/2017  16/06/2017  Second Class    DV-13045   \n",
              "\n",
              "     Customer Name    Segment        Country         City       State  \\\n",
              "0      Claire Gute   Consumer  United States    Henderson    Kentucky   \n",
              "1      Claire Gute   Consumer  United States    Henderson    Kentucky   \n",
              "2  Darrin Van Huff  Corporate  United States  Los Angeles  California   \n",
              "\n",
              "   Postal Code Region       Product ID         Category Sub-Category  \\\n",
              "0      42420.0  South  FUR-BO-10001798        Furniture    Bookcases   \n",
              "1      42420.0  South  FUR-CH-10000454        Furniture       Chairs   \n",
              "2      90036.0   West  OFF-LA-10000240  Office Supplies       Labels   \n",
              "\n",
              "                                        Product Name   Sales  \n",
              "0                  Bush Somerset Collection Bookcase  261.96  \n",
              "1  Hon Deluxe Fabric Upholstered Stacking Chairs,...  731.94  \n",
              "2  Self-Adhesive Address Labels for Typewriters b...   14.62  "
            ],
            "text/html": [
              "\n",
              "  <div id=\"df-fa8e550d-bb74-4f15-8ca4-8fb7d46fe5fa\">\n",
              "    <div class=\"colab-df-container\">\n",
              "      <div>\n",
              "<style scoped>\n",
              "    .dataframe tbody tr th:only-of-type {\n",
              "        vertical-align: middle;\n",
              "    }\n",
              "\n",
              "    .dataframe tbody tr th {\n",
              "        vertical-align: top;\n",
              "    }\n",
              "\n",
              "    .dataframe thead th {\n",
              "        text-align: right;\n",
              "    }\n",
              "</style>\n",
              "<table border=\"1\" class=\"dataframe\">\n",
              "  <thead>\n",
              "    <tr style=\"text-align: right;\">\n",
              "      <th></th>\n",
              "      <th>Row ID</th>\n",
              "      <th>Order ID</th>\n",
              "      <th>Order Date</th>\n",
              "      <th>Ship Date</th>\n",
              "      <th>Ship Mode</th>\n",
              "      <th>Customer ID</th>\n",
              "      <th>Customer Name</th>\n",
              "      <th>Segment</th>\n",
              "      <th>Country</th>\n",
              "      <th>City</th>\n",
              "      <th>State</th>\n",
              "      <th>Postal Code</th>\n",
              "      <th>Region</th>\n",
              "      <th>Product ID</th>\n",
              "      <th>Category</th>\n",
              "      <th>Sub-Category</th>\n",
              "      <th>Product Name</th>\n",
              "      <th>Sales</th>\n",
              "    </tr>\n",
              "  </thead>\n",
              "  <tbody>\n",
              "    <tr>\n",
              "      <th>0</th>\n",
              "      <td>1</td>\n",
              "      <td>CA-2017-152156</td>\n",
              "      <td>08/11/2017</td>\n",
              "      <td>11/11/2017</td>\n",
              "      <td>Second Class</td>\n",
              "      <td>CG-12520</td>\n",
              "      <td>Claire Gute</td>\n",
              "      <td>Consumer</td>\n",
              "      <td>United States</td>\n",
              "      <td>Henderson</td>\n",
              "      <td>Kentucky</td>\n",
              "      <td>42420.0</td>\n",
              "      <td>South</td>\n",
              "      <td>FUR-BO-10001798</td>\n",
              "      <td>Furniture</td>\n",
              "      <td>Bookcases</td>\n",
              "      <td>Bush Somerset Collection Bookcase</td>\n",
              "      <td>261.96</td>\n",
              "    </tr>\n",
              "    <tr>\n",
              "      <th>1</th>\n",
              "      <td>2</td>\n",
              "      <td>CA-2017-152156</td>\n",
              "      <td>08/11/2017</td>\n",
              "      <td>11/11/2017</td>\n",
              "      <td>Second Class</td>\n",
              "      <td>CG-12520</td>\n",
              "      <td>Claire Gute</td>\n",
              "      <td>Consumer</td>\n",
              "      <td>United States</td>\n",
              "      <td>Henderson</td>\n",
              "      <td>Kentucky</td>\n",
              "      <td>42420.0</td>\n",
              "      <td>South</td>\n",
              "      <td>FUR-CH-10000454</td>\n",
              "      <td>Furniture</td>\n",
              "      <td>Chairs</td>\n",
              "      <td>Hon Deluxe Fabric Upholstered Stacking Chairs,...</td>\n",
              "      <td>731.94</td>\n",
              "    </tr>\n",
              "    <tr>\n",
              "      <th>2</th>\n",
              "      <td>3</td>\n",
              "      <td>CA-2017-138688</td>\n",
              "      <td>12/06/2017</td>\n",
              "      <td>16/06/2017</td>\n",
              "      <td>Second Class</td>\n",
              "      <td>DV-13045</td>\n",
              "      <td>Darrin Van Huff</td>\n",
              "      <td>Corporate</td>\n",
              "      <td>United States</td>\n",
              "      <td>Los Angeles</td>\n",
              "      <td>California</td>\n",
              "      <td>90036.0</td>\n",
              "      <td>West</td>\n",
              "      <td>OFF-LA-10000240</td>\n",
              "      <td>Office Supplies</td>\n",
              "      <td>Labels</td>\n",
              "      <td>Self-Adhesive Address Labels for Typewriters b...</td>\n",
              "      <td>14.62</td>\n",
              "    </tr>\n",
              "  </tbody>\n",
              "</table>\n",
              "</div>\n",
              "      <button class=\"colab-df-convert\" onclick=\"convertToInteractive('df-fa8e550d-bb74-4f15-8ca4-8fb7d46fe5fa')\"\n",
              "              title=\"Convert this dataframe to an interactive table.\"\n",
              "              style=\"display:none;\">\n",
              "        \n",
              "  <svg xmlns=\"http://www.w3.org/2000/svg\" height=\"24px\"viewBox=\"0 0 24 24\"\n",
              "       width=\"24px\">\n",
              "    <path d=\"M0 0h24v24H0V0z\" fill=\"none\"/>\n",
              "    <path d=\"M18.56 5.44l.94 2.06.94-2.06 2.06-.94-2.06-.94-.94-2.06-.94 2.06-2.06.94zm-11 1L8.5 8.5l.94-2.06 2.06-.94-2.06-.94L8.5 2.5l-.94 2.06-2.06.94zm10 10l.94 2.06.94-2.06 2.06-.94-2.06-.94-.94-2.06-.94 2.06-2.06.94z\"/><path d=\"M17.41 7.96l-1.37-1.37c-.4-.4-.92-.59-1.43-.59-.52 0-1.04.2-1.43.59L10.3 9.45l-7.72 7.72c-.78.78-.78 2.05 0 2.83L4 21.41c.39.39.9.59 1.41.59.51 0 1.02-.2 1.41-.59l7.78-7.78 2.81-2.81c.8-.78.8-2.07 0-2.86zM5.41 20L4 18.59l7.72-7.72 1.47 1.35L5.41 20z\"/>\n",
              "  </svg>\n",
              "      </button>\n",
              "      \n",
              "  <style>\n",
              "    .colab-df-container {\n",
              "      display:flex;\n",
              "      flex-wrap:wrap;\n",
              "      gap: 12px;\n",
              "    }\n",
              "\n",
              "    .colab-df-convert {\n",
              "      background-color: #E8F0FE;\n",
              "      border: none;\n",
              "      border-radius: 50%;\n",
              "      cursor: pointer;\n",
              "      display: none;\n",
              "      fill: #1967D2;\n",
              "      height: 32px;\n",
              "      padding: 0 0 0 0;\n",
              "      width: 32px;\n",
              "    }\n",
              "\n",
              "    .colab-df-convert:hover {\n",
              "      background-color: #E2EBFA;\n",
              "      box-shadow: 0px 1px 2px rgba(60, 64, 67, 0.3), 0px 1px 3px 1px rgba(60, 64, 67, 0.15);\n",
              "      fill: #174EA6;\n",
              "    }\n",
              "\n",
              "    [theme=dark] .colab-df-convert {\n",
              "      background-color: #3B4455;\n",
              "      fill: #D2E3FC;\n",
              "    }\n",
              "\n",
              "    [theme=dark] .colab-df-convert:hover {\n",
              "      background-color: #434B5C;\n",
              "      box-shadow: 0px 1px 3px 1px rgba(0, 0, 0, 0.15);\n",
              "      filter: drop-shadow(0px 1px 2px rgba(0, 0, 0, 0.3));\n",
              "      fill: #FFFFFF;\n",
              "    }\n",
              "  </style>\n",
              "\n",
              "      <script>\n",
              "        const buttonEl =\n",
              "          document.querySelector('#df-fa8e550d-bb74-4f15-8ca4-8fb7d46fe5fa button.colab-df-convert');\n",
              "        buttonEl.style.display =\n",
              "          google.colab.kernel.accessAllowed ? 'block' : 'none';\n",
              "\n",
              "        async function convertToInteractive(key) {\n",
              "          const element = document.querySelector('#df-fa8e550d-bb74-4f15-8ca4-8fb7d46fe5fa');\n",
              "          const dataTable =\n",
              "            await google.colab.kernel.invokeFunction('convertToInteractive',\n",
              "                                                     [key], {});\n",
              "          if (!dataTable) return;\n",
              "\n",
              "          const docLinkHtml = 'Like what you see? Visit the ' +\n",
              "            '<a target=\"_blank\" href=https://colab.research.google.com/notebooks/data_table.ipynb>data table notebook</a>'\n",
              "            + ' to learn more about interactive tables.';\n",
              "          element.innerHTML = '';\n",
              "          dataTable['output_type'] = 'display_data';\n",
              "          await google.colab.output.renderOutput(dataTable, element);\n",
              "          const docLink = document.createElement('div');\n",
              "          docLink.innerHTML = docLinkHtml;\n",
              "          element.appendChild(docLink);\n",
              "        }\n",
              "      </script>\n",
              "    </div>\n",
              "  </div>\n",
              "  "
            ]
          },
          "metadata": {},
          "execution_count": 2
        }
      ]
    },
    {
      "cell_type": "markdown",
      "source": [
        "For the first part we use data on the retail sales of a store over several years. The dataset includes information on items purchased from this store, including for each item or article:\n",
        "\n",
        "* order ID: a unique identifyier of the order through which this item was purchased\n",
        "* order date: date of the order\n",
        "* ship date: date the shipment was made\n",
        "* ship mode: mode of shipment used (first class, second class, etc.)\n",
        "* customer ID: unique identifyier of the client\n",
        "* customer name\n",
        "* client segment: consumer, corporate, etc.\n",
        "* country, city, state, postal code, region of the client\n",
        "* product ID, product category, sub-category, and product name\n",
        "* sales: the value of sales for a given purchased item in USD.\n",
        "\n"
      ],
      "metadata": {
        "id": "JUy85CCApovj"
      }
    },
    {
      "cell_type": "markdown",
      "source": [
        "### Question 1. 🔢 How many observations (rows) and columns does the dataset contain? "
      ],
      "metadata": {
        "id": "Af0rd8CPrg_r"
      }
    },
    {
      "cell_type": "code",
      "source": [
        "# YOUR CODE HERE"
      ],
      "metadata": {
        "id": "7HOzM_sJrgRM"
      },
      "execution_count": null,
      "outputs": []
    },
    {
      "cell_type": "markdown",
      "source": [
        "Now please check what are the data types of the different attributes (columns)."
      ],
      "metadata": {
        "id": "bUoTjOmOs5Ew"
      }
    },
    {
      "cell_type": "code",
      "source": [
        "# YOUR CODE HERE"
      ],
      "metadata": {
        "id": "y5mbuGOitC-5"
      },
      "execution_count": null,
      "outputs": []
    },
    {
      "cell_type": "markdown",
      "source": [
        "Change the data type for the following columns: Order Date and Ship Date: from string to datetime.\n",
        "\n",
        "**Hint**: make sure that days, month, year are encoded correctly. For this you can check what the date looks like before and after the encoding. "
      ],
      "metadata": {
        "id": "zGb2GIUWtX8p"
      }
    },
    {
      "cell_type": "code",
      "source": [
        "# YOUR CODE HERE"
      ],
      "metadata": {
        "id": "PpxVbbuQttyn"
      },
      "execution_count": null,
      "outputs": []
    },
    {
      "cell_type": "markdown",
      "source": [
        "Drop missing values for Postal code and change the data type from numeric (float) to categorical."
      ],
      "metadata": {
        "id": "VXeeSD_gzYe-"
      }
    },
    {
      "cell_type": "code",
      "source": [
        "# YOUR CODE HERE"
      ],
      "metadata": {
        "id": "vAj2P8iqzuxB"
      },
      "execution_count": null,
      "outputs": []
    },
    {
      "cell_type": "markdown",
      "source": [
        "### Question 2. 🕓 For which order period have these data samples been collected? (i.e, what is the oldest and the most recent `order date` in the dataset) "
      ],
      "metadata": {
        "id": "O-tRXMTWvVBi"
      }
    },
    {
      "cell_type": "code",
      "source": [
        "# YOUR CODE HERE"
      ],
      "metadata": {
        "id": "ikVQNUBzveL5"
      },
      "execution_count": null,
      "outputs": []
    },
    {
      "cell_type": "markdown",
      "source": [
        "### Question 3. 🧍 How many unique customers did the shop have over the entire period? \n",
        "**Hint**: look at `customer id` and count the unique values."
      ],
      "metadata": {
        "id": "s5icPwziwAym"
      }
    },
    {
      "cell_type": "code",
      "source": [
        "# YOUR CODE HERE"
      ],
      "metadata": {
        "id": "7IRv8Vwpwvzt"
      },
      "execution_count": null,
      "outputs": []
    },
    {
      "cell_type": "markdown",
      "source": [
        "### Question 4. ⭐ What are the 5 most frequently bought product sub-categories ? \n",
        "**Hint**: look at `sub-category` and count the times different categories appear in the dataset."
      ],
      "metadata": {
        "id": "w6-mD_F1xKzN"
      }
    },
    {
      "cell_type": "code",
      "source": [
        "# YOUR CODE HERE"
      ],
      "metadata": {
        "id": "KXYXlbG_xwY9"
      },
      "execution_count": null,
      "outputs": []
    },
    {
      "cell_type": "markdown",
      "source": [
        "### Question 5. 🚚 Create a new column storing the time difference between `Ship Date` and `Order Date`, call it `Delivery Time`. What was the longest and the shortest delivery time in days? "
      ],
      "metadata": {
        "id": "dugn_inryN-z"
      }
    },
    {
      "cell_type": "code",
      "source": [
        "# YOUR CODE HERE"
      ],
      "metadata": {
        "id": "lFmlIqrZzCsW"
      },
      "execution_count": null,
      "outputs": []
    },
    {
      "cell_type": "markdown",
      "source": [
        "## Part 2. Classification\n",
        "For the second part, we will use an employee retention dataset.   \n",
        "The dataset contains information on a company's employees such as:\n",
        "\n",
        "* satisfaction level, ranges from 0 to 1\n",
        "* score of the last evaluation they received, ranges from 0 to 1\n",
        "* number of projects in which the employee is involved \n",
        "* average number of hours worked per month\n",
        "* years spent with the company\n",
        "* whether they experienced a work accident (1 if yes, 0 if no)\n",
        "* whether they left thier job (1) or stayed with the company (0)\n",
        "* whether they received a promotion in the last 5 years (1 if yes, 0 if no)\n",
        "* the department in which they work\n",
        "* whether their salary was low, medium or high.\n",
        "\n",
        "\n",
        "### Load the data\n",
        "\n",
        "In a first step, load the dataset (`HR_comma_sep.csv`) and display the first few rows. You can find the corresponding url and code below. \n"
      ],
      "metadata": {
        "id": "y6Q9dfLR2MgP"
      }
    },
    {
      "cell_type": "code",
      "source": [
        "# YOUR CODE HERE"
      ],
      "metadata": {
        "id": "APVSXSaKCeZ_"
      },
      "execution_count": null,
      "outputs": []
    },
    {
      "cell_type": "code",
      "source": [
        "# Load data\n",
        "df=pd.read_csv('https://media.githubusercontent.com/media/michalis0/Business-Intelligence-and-Analytics/master/data/HR_comma_sep.csv')\n",
        "df.head(3)"
      ],
      "metadata": {
        "colab": {
          "base_uri": "https://localhost:8080/",
          "height": 208
        },
        "id": "ZTEtMJpvDR5j",
        "outputId": "296f711d-5259-43be-cf68-76658300d44b"
      },
      "execution_count": null,
      "outputs": [
        {
          "output_type": "execute_result",
          "data": {
            "text/plain": [
              "   satisfaction_level  last_evaluation  number_project  average_monthly_hours  \\\n",
              "0                0.38             0.53               2                    157   \n",
              "1                0.80             0.86               5                    262   \n",
              "2                0.11             0.88               7                    272   \n",
              "\n",
              "   time_spent_company  work_accident  left  promotion_last_5years department  \\\n",
              "0                   3              0     1                      0      sales   \n",
              "1                   6              0     1                      0      sales   \n",
              "2                   4              0     1                      0      sales   \n",
              "\n",
              "   salary  \n",
              "0     low  \n",
              "1  medium  \n",
              "2  medium  "
            ],
            "text/html": [
              "\n",
              "  <div id=\"df-2bcbb7ac-e58c-43fa-8743-f95f7fed53e9\">\n",
              "    <div class=\"colab-df-container\">\n",
              "      <div>\n",
              "<style scoped>\n",
              "    .dataframe tbody tr th:only-of-type {\n",
              "        vertical-align: middle;\n",
              "    }\n",
              "\n",
              "    .dataframe tbody tr th {\n",
              "        vertical-align: top;\n",
              "    }\n",
              "\n",
              "    .dataframe thead th {\n",
              "        text-align: right;\n",
              "    }\n",
              "</style>\n",
              "<table border=\"1\" class=\"dataframe\">\n",
              "  <thead>\n",
              "    <tr style=\"text-align: right;\">\n",
              "      <th></th>\n",
              "      <th>satisfaction_level</th>\n",
              "      <th>last_evaluation</th>\n",
              "      <th>number_project</th>\n",
              "      <th>average_monthly_hours</th>\n",
              "      <th>time_spent_company</th>\n",
              "      <th>work_accident</th>\n",
              "      <th>left</th>\n",
              "      <th>promotion_last_5years</th>\n",
              "      <th>department</th>\n",
              "      <th>salary</th>\n",
              "    </tr>\n",
              "  </thead>\n",
              "  <tbody>\n",
              "    <tr>\n",
              "      <th>0</th>\n",
              "      <td>0.38</td>\n",
              "      <td>0.53</td>\n",
              "      <td>2</td>\n",
              "      <td>157</td>\n",
              "      <td>3</td>\n",
              "      <td>0</td>\n",
              "      <td>1</td>\n",
              "      <td>0</td>\n",
              "      <td>sales</td>\n",
              "      <td>low</td>\n",
              "    </tr>\n",
              "    <tr>\n",
              "      <th>1</th>\n",
              "      <td>0.80</td>\n",
              "      <td>0.86</td>\n",
              "      <td>5</td>\n",
              "      <td>262</td>\n",
              "      <td>6</td>\n",
              "      <td>0</td>\n",
              "      <td>1</td>\n",
              "      <td>0</td>\n",
              "      <td>sales</td>\n",
              "      <td>medium</td>\n",
              "    </tr>\n",
              "    <tr>\n",
              "      <th>2</th>\n",
              "      <td>0.11</td>\n",
              "      <td>0.88</td>\n",
              "      <td>7</td>\n",
              "      <td>272</td>\n",
              "      <td>4</td>\n",
              "      <td>0</td>\n",
              "      <td>1</td>\n",
              "      <td>0</td>\n",
              "      <td>sales</td>\n",
              "      <td>medium</td>\n",
              "    </tr>\n",
              "  </tbody>\n",
              "</table>\n",
              "</div>\n",
              "      <button class=\"colab-df-convert\" onclick=\"convertToInteractive('df-2bcbb7ac-e58c-43fa-8743-f95f7fed53e9')\"\n",
              "              title=\"Convert this dataframe to an interactive table.\"\n",
              "              style=\"display:none;\">\n",
              "        \n",
              "  <svg xmlns=\"http://www.w3.org/2000/svg\" height=\"24px\"viewBox=\"0 0 24 24\"\n",
              "       width=\"24px\">\n",
              "    <path d=\"M0 0h24v24H0V0z\" fill=\"none\"/>\n",
              "    <path d=\"M18.56 5.44l.94 2.06.94-2.06 2.06-.94-2.06-.94-.94-2.06-.94 2.06-2.06.94zm-11 1L8.5 8.5l.94-2.06 2.06-.94-2.06-.94L8.5 2.5l-.94 2.06-2.06.94zm10 10l.94 2.06.94-2.06 2.06-.94-2.06-.94-.94-2.06-.94 2.06-2.06.94z\"/><path d=\"M17.41 7.96l-1.37-1.37c-.4-.4-.92-.59-1.43-.59-.52 0-1.04.2-1.43.59L10.3 9.45l-7.72 7.72c-.78.78-.78 2.05 0 2.83L4 21.41c.39.39.9.59 1.41.59.51 0 1.02-.2 1.41-.59l7.78-7.78 2.81-2.81c.8-.78.8-2.07 0-2.86zM5.41 20L4 18.59l7.72-7.72 1.47 1.35L5.41 20z\"/>\n",
              "  </svg>\n",
              "      </button>\n",
              "      \n",
              "  <style>\n",
              "    .colab-df-container {\n",
              "      display:flex;\n",
              "      flex-wrap:wrap;\n",
              "      gap: 12px;\n",
              "    }\n",
              "\n",
              "    .colab-df-convert {\n",
              "      background-color: #E8F0FE;\n",
              "      border: none;\n",
              "      border-radius: 50%;\n",
              "      cursor: pointer;\n",
              "      display: none;\n",
              "      fill: #1967D2;\n",
              "      height: 32px;\n",
              "      padding: 0 0 0 0;\n",
              "      width: 32px;\n",
              "    }\n",
              "\n",
              "    .colab-df-convert:hover {\n",
              "      background-color: #E2EBFA;\n",
              "      box-shadow: 0px 1px 2px rgba(60, 64, 67, 0.3), 0px 1px 3px 1px rgba(60, 64, 67, 0.15);\n",
              "      fill: #174EA6;\n",
              "    }\n",
              "\n",
              "    [theme=dark] .colab-df-convert {\n",
              "      background-color: #3B4455;\n",
              "      fill: #D2E3FC;\n",
              "    }\n",
              "\n",
              "    [theme=dark] .colab-df-convert:hover {\n",
              "      background-color: #434B5C;\n",
              "      box-shadow: 0px 1px 3px 1px rgba(0, 0, 0, 0.15);\n",
              "      filter: drop-shadow(0px 1px 2px rgba(0, 0, 0, 0.3));\n",
              "      fill: #FFFFFF;\n",
              "    }\n",
              "  </style>\n",
              "\n",
              "      <script>\n",
              "        const buttonEl =\n",
              "          document.querySelector('#df-2bcbb7ac-e58c-43fa-8743-f95f7fed53e9 button.colab-df-convert');\n",
              "        buttonEl.style.display =\n",
              "          google.colab.kernel.accessAllowed ? 'block' : 'none';\n",
              "\n",
              "        async function convertToInteractive(key) {\n",
              "          const element = document.querySelector('#df-2bcbb7ac-e58c-43fa-8743-f95f7fed53e9');\n",
              "          const dataTable =\n",
              "            await google.colab.kernel.invokeFunction('convertToInteractive',\n",
              "                                                     [key], {});\n",
              "          if (!dataTable) return;\n",
              "\n",
              "          const docLinkHtml = 'Like what you see? Visit the ' +\n",
              "            '<a target=\"_blank\" href=https://colab.research.google.com/notebooks/data_table.ipynb>data table notebook</a>'\n",
              "            + ' to learn more about interactive tables.';\n",
              "          element.innerHTML = '';\n",
              "          dataTable['output_type'] = 'display_data';\n",
              "          await google.colab.output.renderOutput(dataTable, element);\n",
              "          const docLink = document.createElement('div');\n",
              "          docLink.innerHTML = docLinkHtml;\n",
              "          element.appendChild(docLink);\n",
              "        }\n",
              "      </script>\n",
              "    </div>\n",
              "  </div>\n",
              "  "
            ]
          },
          "metadata": {},
          "execution_count": 3
        }
      ]
    },
    {
      "cell_type": "markdown",
      "source": [
        "Your task is to build a model that predicts whether an employee stays (0) or leaves the company (1), using column `left` and the following 8 columns for your prediction: `satisfaction_level`, `last_evaluation`, `number_project`, `average_monthly_hours`, `time_spent_company`, `work_accident`, `promotion_last_5years`, and the label-encoded salary, which you obtain following the guiding steps below.\n",
        "\n",
        "As a first step you may want to import any additional packages if not already done."
      ],
      "metadata": {
        "id": "aHjDZJ0vD-V0"
      }
    },
    {
      "cell_type": "code",
      "source": [
        "# YOUR CODE HERE"
      ],
      "metadata": {
        "id": "ishE8R0AF4yL"
      },
      "execution_count": null,
      "outputs": []
    },
    {
      "cell_type": "code",
      "source": [
        "# import some additional packages\n",
        "from sklearn.preprocessing import LabelEncoder\n",
        "from sklearn.linear_model import LogisticRegression, LogisticRegressionCV\n",
        "from sklearn.model_selection import train_test_split\n",
        "from sklearn.metrics import confusion_matrix, accuracy_score, precision_score, recall_score, f1_score\n",
        "from sklearn. preprocessing import StandardScaler\n",
        "from sklearn.tree import DecisionTreeClassifier, plot_tree\n",
        "from sklearn.neighbors import KNeighborsClassifier\n",
        "\n",
        "# set the random seed\n",
        "np.random.seed = 42"
      ],
      "metadata": {
        "id": "fEkhZkY4FIVJ"
      },
      "execution_count": null,
      "outputs": []
    },
    {
      "cell_type": "markdown",
      "source": [
        "✅ Please note for all following questions we ask you to set the random seed to 42. So please make sure you run the code in the cell above `np.random.seed=42`."
      ],
      "metadata": {
        "id": "A4o2xSulpi3y"
      }
    },
    {
      "cell_type": "markdown",
      "source": [
        "### Question 6. 💼 What is the proportion of employees who stayed on their job (in the entire dataset)?  \n",
        "**Hint**: you should use the `left` column and just divide the number of employees who stayed on their job (left=0) by the total number of observations. Round to *two decimals*. e.g.: 0.6194 should be rounded to 0.62."
      ],
      "metadata": {
        "id": "4Bj83bsEJ9R8"
      }
    },
    {
      "cell_type": "code",
      "source": [
        "# YOUR CODE HERE"
      ],
      "metadata": {
        "id": "5PIn8R0TKRvs"
      },
      "execution_count": null,
      "outputs": []
    },
    {
      "cell_type": "markdown",
      "source": [
        "The next step is to encode categorical variables. First encode `salary` with a simple LabelEncoder (just choose the automatic labelling given by the sklearn label encoder)."
      ],
      "metadata": {
        "id": "OZEKatpqEBup"
      }
    },
    {
      "cell_type": "code",
      "source": [
        "# YOUR CODE HER"
      ],
      "metadata": {
        "id": "rJNr1uAfFb0w"
      },
      "execution_count": null,
      "outputs": []
    },
    {
      "cell_type": "markdown",
      "source": [
        "Now replace the encoded `salary` in the initial dataframe and drop the department column. You can use the `pd.concat` function to add a column and `pd.drop` function to remove the old columns `salary` and `department`. \n",
        "> Hint: You should have a total of 9 features in the revised dataset."
      ],
      "metadata": {
        "id": "SkwcbRU0Grqs"
      }
    },
    {
      "cell_type": "code",
      "source": [
        "# YOUR CODE HERE"
      ],
      "metadata": {
        "id": "AkPkNVf2HqCM"
      },
      "execution_count": null,
      "outputs": []
    },
    {
      "cell_type": "markdown",
      "source": [
        "Set the y and X variables for your model, using `left` as the dependent variable and the following 8 independent variables: `satisfaction_level`, `last_evaluation`, `number_project`, `average_monthly_hours`, `time_spent_company`, `work_accident`, `promotion_last_5years`, and the label-encoded salary."
      ],
      "metadata": {
        "id": "YVSZTfsPMWrV"
      }
    },
    {
      "cell_type": "code",
      "source": [
        "# YOUR CODE HERE"
      ],
      "metadata": {
        "id": "apBJUD7iMri5"
      },
      "execution_count": null,
      "outputs": []
    },
    {
      "cell_type": "markdown",
      "source": [
        "Train/test splitting: Now split the data into 80% training and 20% test set. Remember to set the `random_state` to 42."
      ],
      "metadata": {
        "id": "7ejl1e_eNjA_"
      }
    },
    {
      "cell_type": "code",
      "source": [
        "# YOUR CODE HERE"
      ],
      "metadata": {
        "id": "Jjycdjz9Nlfs"
      },
      "execution_count": null,
      "outputs": []
    },
    {
      "cell_type": "markdown",
      "source": [
        "Train a Logistic Regression model with cross validation. Use the following parameters for Logistic Regression.  \n",
        "`LogisticRegressionCV(solver='lbfgs', cv=5, max_iter=1000, random_state=42)`"
      ],
      "metadata": {
        "id": "EDJNFzuOQAQU"
      }
    },
    {
      "cell_type": "code",
      "source": [
        "# YOUR CODE HERE"
      ],
      "metadata": {
        "id": "zxVfjKyWQMS8"
      },
      "execution_count": null,
      "outputs": []
    },
    {
      "cell_type": "markdown",
      "source": [
        "### Question 7. 🔮 What is the test accuracy score for the logistic regression model with CV trained above? Round to *two decimals*. e.g.: 0.6194 should be rounded to 0.62."
      ],
      "metadata": {
        "id": "nlJRNdH_QbEw"
      }
    },
    {
      "cell_type": "code",
      "source": [
        "# YOUR CODE HERE"
      ],
      "metadata": {
        "id": "ddZoappqRoVD"
      },
      "execution_count": null,
      "outputs": []
    },
    {
      "cell_type": "markdown",
      "source": [
        "Plot the confusion matrix for the logistic regression model."
      ],
      "metadata": {
        "id": "Sqnfzek_Rfrk"
      }
    },
    {
      "cell_type": "code",
      "source": [
        "# YOUR CODE HERE"
      ],
      "metadata": {
        "id": "lE5Xw9h5Rnbf"
      },
      "execution_count": null,
      "outputs": []
    },
    {
      "cell_type": "markdown",
      "source": [
        "### Question 8. 🛫 Looking at the confusion matrix for the model trained above, how many employees are predicted to leave by the model **in the test set**?  \n",
        "**Hint**: looking at the confusion matrix add up the number of employees predicted to leave and who actually left and the number of employees predicted to leave and who actually stayed."
      ],
      "metadata": {
        "id": "nxAwFtQ4R2I8"
      }
    },
    {
      "cell_type": "code",
      "source": [
        "# YOUR CODE HERE"
      ],
      "metadata": {
        "id": "Bd6YeuMYS33c"
      },
      "execution_count": null,
      "outputs": []
    },
    {
      "cell_type": "markdown",
      "source": [
        "Train a model using a K-Nearest Neighbours (KNN) algorithm, setting `knn = KNeighborsClassifier(n_neighbors=3)`. Use the same features as in the previous model and the same train-test-split as before."
      ],
      "metadata": {
        "id": "kHInB30-nvP3"
      }
    },
    {
      "cell_type": "code",
      "source": [
        "# YOUR CODE HERE"
      ],
      "metadata": {
        "id": "kNEp8cBTnyU9"
      },
      "execution_count": null,
      "outputs": []
    },
    {
      "cell_type": "markdown",
      "source": [
        "### Question 9. 🔮 What is the test accuracy score for the KNN  model? Round to *two decimals*. e.g.: 0.6194 should be rounded to 0.62."
      ],
      "metadata": {
        "id": "MNgOwUb3oYQ2"
      }
    },
    {
      "cell_type": "code",
      "source": [
        "# YOUR CODE HERE"
      ],
      "metadata": {
        "id": "h5o2vFypogG5"
      },
      "execution_count": null,
      "outputs": []
    },
    {
      "cell_type": "markdown",
      "source": [
        "Plot the confusion matrix for the KNN model."
      ],
      "metadata": {
        "id": "M4S-TgRoo2uo"
      }
    },
    {
      "cell_type": "markdown",
      "source": [
        "### Question 10. 🥇 Try to improve the predictive model and obtain a better accuracy score on the same test set. What is the best **test accuracy** score you obtain? Round to *two decimals*. e.g.: 0.6194 should be rounded to 0.62. Very briefly explain what you did to improve the model.\n",
        "\n",
        "**Hint**: example of possible ideas that might work on their own or in combination: apply standardisation, encode the department variable for example with a one-hot encoder and add it to your model, encode salary as an ordinal variable (with the 0 label for the lowest income), use a decision tree classifier."
      ],
      "metadata": {
        "id": "pKDEkguUsG3V"
      }
    },
    {
      "cell_type": "code",
      "source": [
        "# YOUR CODE HERE"
      ],
      "metadata": {
        "id": "0MuyDtLXuBUb"
      },
      "execution_count": null,
      "outputs": []
    }
  ]
}