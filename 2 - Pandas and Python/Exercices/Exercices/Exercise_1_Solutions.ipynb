{
  "nbformat": 4,
  "nbformat_minor": 0,
  "metadata": {
    "kernelspec": {
      "display_name": "Python 3",
      "language": "python",
      "name": "python3"
    },
    "language_info": {
      "codemirror_mode": {
        "name": "ipython",
        "version": 3
      },
      "file_extension": ".py",
      "mimetype": "text/x-python",
      "name": "python",
      "nbconvert_exporter": "python",
      "pygments_lexer": "ipython3",
      "version": "3.7.6"
    },
    "colab": {
      "name": "Exercise 1 Solutions.ipynb",
      "provenance": [],
      "collapsed_sections": [],
      "include_colab_link": true
    }
  },
  "cells": [
    {
      "cell_type": "markdown",
      "metadata": {
        "id": "view-in-github",
        "colab_type": "text"
      },
      "source": [
        "<a href=\"https://colab.research.google.com/github/michalis0/Business-Intelligence-and-Analytics/blob/master/2%20-%20Pandas%20and%20Python/Exercices/Exercices/Exercise_1_Solutions.ipynb\" target=\"_parent\"><img src=\"https://colab.research.google.com/assets/colab-badge.svg\" alt=\"Open In Colab\"/></a>"
      ]
    },
    {
      "cell_type": "markdown",
      "metadata": {
        "id": "ILyU0L16vFm6"
      },
      "source": [
        "# Part 1\n",
        "\n",
        "\n"
      ]
    },
    {
      "cell_type": "code",
      "metadata": {
        "id": "8C3A0jwrvFm_"
      },
      "source": [
        "import pandas as pd"
      ],
      "execution_count": 1,
      "outputs": []
    },
    {
      "cell_type": "markdown",
      "metadata": {
        "id": "lhPJiZDYvFnK"
      },
      "source": [
        "##Question 1\n",
        "We will work on one dataset.\n",
        "With the function `pd.read_csv()`, load the file: `google-play-store-apps/googleplaystore_user_reviews.csv`.\n",
        "\n",
        "The URL you need is: https://media.githubusercontent.com/media/michalis0/Business-Intelligence-and-Analytics/master/data/google-play-store-apps/googleplaystore_user_reviews.csv\n",
        "\n",
        "Normally CSV files are separated by commas, but this one is separated by \";\". Use the argument `sep=\";\"` to let Pandas know that the values are separated by \";\". "
      ]
    },
    {
      "cell_type": "code",
      "metadata": {
        "id": "9-ArMjlRvFnM"
      },
      "source": [
        "#Load the googleplaystore_user_reviews.csv file\n",
        "googleplaystore_user_reviews = pd.read_csv('https://media.githubusercontent.com/media/michalis0/Business-Intelligence-and-Analytics/master/data/google-play-store-apps/googleplaystore_user_reviews.csv', sep=';')"
      ],
      "execution_count": 4,
      "outputs": []
    },
    {
      "cell_type": "markdown",
      "metadata": {
        "id": "nt17aKbovFnS"
      },
      "source": [
        "##Question 2\n",
        "Chek the data (googleplaystore_user_reviews) by using the following functions:\n",
        "* `.head()`(beginning of the list)\n",
        "* `.tail()` (end of the list)\n",
        "* `.columns` (column names)\n",
        "* `.index` (raw identifier)\n",
        "* `.dtypes` (column types)"
      ]
    },
    {
      "cell_type": "code",
      "metadata": {
        "scrolled": true,
        "id": "PueLvW0PvFnU",
        "colab": {
          "base_uri": "https://localhost:8080/",
          "height": 224
        },
        "collapsed": true,
        "outputId": "0faa014f-9caa-4d4e-a8a8-ff3385b141ac"
      },
      "source": [
        "#Beginning of the list\n",
        "print('Beginning of the list:')\n",
        "googleplaystore_user_reviews.head()"
      ],
      "execution_count": 5,
      "outputs": [
        {
          "output_type": "stream",
          "name": "stdout",
          "text": [
            "Beginning of the list:\n"
          ]
        },
        {
          "output_type": "execute_result",
          "data": {
            "text/html": [
              "\n",
              "  <div id=\"df-9fb072ee-2bf5-46b3-81b1-1c30dff74a2c\">\n",
              "    <div class=\"colab-df-container\">\n",
              "      <div>\n",
              "<style scoped>\n",
              "    .dataframe tbody tr th:only-of-type {\n",
              "        vertical-align: middle;\n",
              "    }\n",
              "\n",
              "    .dataframe tbody tr th {\n",
              "        vertical-align: top;\n",
              "    }\n",
              "\n",
              "    .dataframe thead th {\n",
              "        text-align: right;\n",
              "    }\n",
              "</style>\n",
              "<table border=\"1\" class=\"dataframe\">\n",
              "  <thead>\n",
              "    <tr style=\"text-align: right;\">\n",
              "      <th></th>\n",
              "      <th>App</th>\n",
              "      <th>Translated_Review</th>\n",
              "      <th>Sentiment</th>\n",
              "      <th>Sentiment_Polarity</th>\n",
              "      <th>Sentiment_Subjectivity</th>\n",
              "    </tr>\n",
              "  </thead>\n",
              "  <tbody>\n",
              "    <tr>\n",
              "      <th>0</th>\n",
              "      <td>10 Best Foods for You</td>\n",
              "      <td>I like eat delicious food. That's I'm cooking ...</td>\n",
              "      <td>Positive</td>\n",
              "      <td>1.0</td>\n",
              "      <td>0.5333333333333333</td>\n",
              "    </tr>\n",
              "    <tr>\n",
              "      <th>1</th>\n",
              "      <td>10 Best Foods for You</td>\n",
              "      <td>This help eating healthy exercise regular basis</td>\n",
              "      <td>Positive</td>\n",
              "      <td>0.25</td>\n",
              "      <td>0.28846153846153844</td>\n",
              "    </tr>\n",
              "    <tr>\n",
              "      <th>2</th>\n",
              "      <td>10 Best Foods for You</td>\n",
              "      <td>NaN</td>\n",
              "      <td>NaN</td>\n",
              "      <td>NaN</td>\n",
              "      <td>NaN</td>\n",
              "    </tr>\n",
              "    <tr>\n",
              "      <th>3</th>\n",
              "      <td>10 Best Foods for You</td>\n",
              "      <td>Works great especially going grocery store</td>\n",
              "      <td>Positive</td>\n",
              "      <td>0.4</td>\n",
              "      <td>875</td>\n",
              "    </tr>\n",
              "    <tr>\n",
              "      <th>4</th>\n",
              "      <td>10 Best Foods for You</td>\n",
              "      <td>Best idea us</td>\n",
              "      <td>Positive</td>\n",
              "      <td>1.0</td>\n",
              "      <td>0.3</td>\n",
              "    </tr>\n",
              "  </tbody>\n",
              "</table>\n",
              "</div>\n",
              "      <button class=\"colab-df-convert\" onclick=\"convertToInteractive('df-9fb072ee-2bf5-46b3-81b1-1c30dff74a2c')\"\n",
              "              title=\"Convert this dataframe to an interactive table.\"\n",
              "              style=\"display:none;\">\n",
              "        \n",
              "  <svg xmlns=\"http://www.w3.org/2000/svg\" height=\"24px\"viewBox=\"0 0 24 24\"\n",
              "       width=\"24px\">\n",
              "    <path d=\"M0 0h24v24H0V0z\" fill=\"none\"/>\n",
              "    <path d=\"M18.56 5.44l.94 2.06.94-2.06 2.06-.94-2.06-.94-.94-2.06-.94 2.06-2.06.94zm-11 1L8.5 8.5l.94-2.06 2.06-.94-2.06-.94L8.5 2.5l-.94 2.06-2.06.94zm10 10l.94 2.06.94-2.06 2.06-.94-2.06-.94-.94-2.06-.94 2.06-2.06.94z\"/><path d=\"M17.41 7.96l-1.37-1.37c-.4-.4-.92-.59-1.43-.59-.52 0-1.04.2-1.43.59L10.3 9.45l-7.72 7.72c-.78.78-.78 2.05 0 2.83L4 21.41c.39.39.9.59 1.41.59.51 0 1.02-.2 1.41-.59l7.78-7.78 2.81-2.81c.8-.78.8-2.07 0-2.86zM5.41 20L4 18.59l7.72-7.72 1.47 1.35L5.41 20z\"/>\n",
              "  </svg>\n",
              "      </button>\n",
              "      \n",
              "  <style>\n",
              "    .colab-df-container {\n",
              "      display:flex;\n",
              "      flex-wrap:wrap;\n",
              "      gap: 12px;\n",
              "    }\n",
              "\n",
              "    .colab-df-convert {\n",
              "      background-color: #E8F0FE;\n",
              "      border: none;\n",
              "      border-radius: 50%;\n",
              "      cursor: pointer;\n",
              "      display: none;\n",
              "      fill: #1967D2;\n",
              "      height: 32px;\n",
              "      padding: 0 0 0 0;\n",
              "      width: 32px;\n",
              "    }\n",
              "\n",
              "    .colab-df-convert:hover {\n",
              "      background-color: #E2EBFA;\n",
              "      box-shadow: 0px 1px 2px rgba(60, 64, 67, 0.3), 0px 1px 3px 1px rgba(60, 64, 67, 0.15);\n",
              "      fill: #174EA6;\n",
              "    }\n",
              "\n",
              "    [theme=dark] .colab-df-convert {\n",
              "      background-color: #3B4455;\n",
              "      fill: #D2E3FC;\n",
              "    }\n",
              "\n",
              "    [theme=dark] .colab-df-convert:hover {\n",
              "      background-color: #434B5C;\n",
              "      box-shadow: 0px 1px 3px 1px rgba(0, 0, 0, 0.15);\n",
              "      filter: drop-shadow(0px 1px 2px rgba(0, 0, 0, 0.3));\n",
              "      fill: #FFFFFF;\n",
              "    }\n",
              "  </style>\n",
              "\n",
              "      <script>\n",
              "        const buttonEl =\n",
              "          document.querySelector('#df-9fb072ee-2bf5-46b3-81b1-1c30dff74a2c button.colab-df-convert');\n",
              "        buttonEl.style.display =\n",
              "          google.colab.kernel.accessAllowed ? 'block' : 'none';\n",
              "\n",
              "        async function convertToInteractive(key) {\n",
              "          const element = document.querySelector('#df-9fb072ee-2bf5-46b3-81b1-1c30dff74a2c');\n",
              "          const dataTable =\n",
              "            await google.colab.kernel.invokeFunction('convertToInteractive',\n",
              "                                                     [key], {});\n",
              "          if (!dataTable) return;\n",
              "\n",
              "          const docLinkHtml = 'Like what you see? Visit the ' +\n",
              "            '<a target=\"_blank\" href=https://colab.research.google.com/notebooks/data_table.ipynb>data table notebook</a>'\n",
              "            + ' to learn more about interactive tables.';\n",
              "          element.innerHTML = '';\n",
              "          dataTable['output_type'] = 'display_data';\n",
              "          await google.colab.output.renderOutput(dataTable, element);\n",
              "          const docLink = document.createElement('div');\n",
              "          docLink.innerHTML = docLinkHtml;\n",
              "          element.appendChild(docLink);\n",
              "        }\n",
              "      </script>\n",
              "    </div>\n",
              "  </div>\n",
              "  "
            ],
            "text/plain": [
              "                     App                                  Translated_Review  \\\n",
              "0  10 Best Foods for You  I like eat delicious food. That's I'm cooking ...   \n",
              "1  10 Best Foods for You    This help eating healthy exercise regular basis   \n",
              "2  10 Best Foods for You                                                NaN   \n",
              "3  10 Best Foods for You         Works great especially going grocery store   \n",
              "4  10 Best Foods for You                                       Best idea us   \n",
              "\n",
              "  Sentiment Sentiment_Polarity Sentiment_Subjectivity  \n",
              "0  Positive                1.0     0.5333333333333333  \n",
              "1  Positive               0.25    0.28846153846153844  \n",
              "2       NaN                NaN                    NaN  \n",
              "3  Positive                0.4                    875  \n",
              "4  Positive                1.0                    0.3  "
            ]
          },
          "metadata": {},
          "execution_count": 5
        }
      ]
    },
    {
      "cell_type": "code",
      "metadata": {
        "id": "lnnqISWG88he",
        "colab": {
          "base_uri": "https://localhost:8080/",
          "height": 225
        },
        "outputId": "7c89e153-64e0-41df-89ad-810a82f18cf1"
      },
      "source": [
        "#End of the list\n",
        "print('End of the list:')\n",
        "googleplaystore_user_reviews.tail()"
      ],
      "execution_count": null,
      "outputs": [
        {
          "output_type": "stream",
          "text": [
            "End of the list:\n"
          ],
          "name": "stdout"
        },
        {
          "output_type": "execute_result",
          "data": {
            "text/html": [
              "<div>\n",
              "<style scoped>\n",
              "    .dataframe tbody tr th:only-of-type {\n",
              "        vertical-align: middle;\n",
              "    }\n",
              "\n",
              "    .dataframe tbody tr th {\n",
              "        vertical-align: top;\n",
              "    }\n",
              "\n",
              "    .dataframe thead th {\n",
              "        text-align: right;\n",
              "    }\n",
              "</style>\n",
              "<table border=\"1\" class=\"dataframe\">\n",
              "  <thead>\n",
              "    <tr style=\"text-align: right;\">\n",
              "      <th></th>\n",
              "      <th>App</th>\n",
              "      <th>Translated_Review</th>\n",
              "      <th>Sentiment</th>\n",
              "      <th>Sentiment_Polarity</th>\n",
              "      <th>Sentiment_Subjectivity</th>\n",
              "    </tr>\n",
              "  </thead>\n",
              "  <tbody>\n",
              "    <tr>\n",
              "      <th>64290</th>\n",
              "      <td>Houzz Interior Design Ideas</td>\n",
              "      <td>NaN</td>\n",
              "      <td>NaN</td>\n",
              "      <td>NaN</td>\n",
              "      <td>NaN</td>\n",
              "    </tr>\n",
              "    <tr>\n",
              "      <th>64291</th>\n",
              "      <td>Houzz Interior Design Ideas</td>\n",
              "      <td>NaN</td>\n",
              "      <td>NaN</td>\n",
              "      <td>NaN</td>\n",
              "      <td>NaN</td>\n",
              "    </tr>\n",
              "    <tr>\n",
              "      <th>64292</th>\n",
              "      <td>Houzz Interior Design Ideas</td>\n",
              "      <td>NaN</td>\n",
              "      <td>NaN</td>\n",
              "      <td>NaN</td>\n",
              "      <td>NaN</td>\n",
              "    </tr>\n",
              "    <tr>\n",
              "      <th>64293</th>\n",
              "      <td>Houzz Interior Design Ideas</td>\n",
              "      <td>NaN</td>\n",
              "      <td>NaN</td>\n",
              "      <td>NaN</td>\n",
              "      <td>NaN</td>\n",
              "    </tr>\n",
              "    <tr>\n",
              "      <th>64294</th>\n",
              "      <td>Houzz Interior Design Ideas</td>\n",
              "      <td>NaN</td>\n",
              "      <td>NaN</td>\n",
              "      <td>NaN</td>\n",
              "      <td>NaN</td>\n",
              "    </tr>\n",
              "  </tbody>\n",
              "</table>\n",
              "</div>"
            ],
            "text/plain": [
              "                               App  ... Sentiment_Subjectivity\n",
              "64290  Houzz Interior Design Ideas  ...                    NaN\n",
              "64291  Houzz Interior Design Ideas  ...                    NaN\n",
              "64292  Houzz Interior Design Ideas  ...                    NaN\n",
              "64293  Houzz Interior Design Ideas  ...                    NaN\n",
              "64294  Houzz Interior Design Ideas  ...                    NaN\n",
              "\n",
              "[5 rows x 5 columns]"
            ]
          },
          "metadata": {
            "tags": []
          },
          "execution_count": 56
        }
      ]
    },
    {
      "cell_type": "code",
      "metadata": {
        "id": "g8GQJzHP88YP",
        "colab": {
          "base_uri": "https://localhost:8080/"
        },
        "outputId": "ebe9277d-680f-4eb3-92f7-08ca141ba824"
      },
      "source": [
        "#Column names\n",
        "print('Column names:')\n",
        "googleplaystore_user_reviews.columns"
      ],
      "execution_count": null,
      "outputs": [
        {
          "output_type": "stream",
          "text": [
            "Column names:\n"
          ],
          "name": "stdout"
        },
        {
          "output_type": "execute_result",
          "data": {
            "text/plain": [
              "Index(['App', 'Translated_Review', 'Sentiment', 'Sentiment_Polarity',\n",
              "       'Sentiment_Subjectivity'],\n",
              "      dtype='object')"
            ]
          },
          "metadata": {
            "tags": []
          },
          "execution_count": 57
        }
      ]
    },
    {
      "cell_type": "code",
      "metadata": {
        "id": "PMK_xp1b88Ng",
        "colab": {
          "base_uri": "https://localhost:8080/"
        },
        "outputId": "2736cce7-1760-4c96-bdab-a1f2c0810622"
      },
      "source": [
        "#Raw identifier\n",
        "print('Raw identifier:')\n",
        "googleplaystore_user_reviews.index"
      ],
      "execution_count": null,
      "outputs": [
        {
          "output_type": "stream",
          "text": [
            "Raw identifier:\n"
          ],
          "name": "stdout"
        },
        {
          "output_type": "execute_result",
          "data": {
            "text/plain": [
              "RangeIndex(start=0, stop=64295, step=1)"
            ]
          },
          "metadata": {
            "tags": []
          },
          "execution_count": 58
        }
      ]
    },
    {
      "cell_type": "code",
      "metadata": {
        "id": "3l4E7KP187sG",
        "colab": {
          "base_uri": "https://localhost:8080/"
        },
        "outputId": "e374f512-13a2-43e4-b687-67a983db8ad2"
      },
      "source": [
        "#Column types\n",
        "print('Column types:')\n",
        "googleplaystore_user_reviews.dtypes"
      ],
      "execution_count": null,
      "outputs": [
        {
          "output_type": "stream",
          "text": [
            "Column types:\n"
          ],
          "name": "stdout"
        },
        {
          "output_type": "execute_result",
          "data": {
            "text/plain": [
              "App                       object\n",
              "Translated_Review         object\n",
              "Sentiment                 object\n",
              "Sentiment_Polarity        object\n",
              "Sentiment_Subjectivity    object\n",
              "dtype: object"
            ]
          },
          "metadata": {
            "tags": []
          },
          "execution_count": 59
        }
      ]
    },
    {
      "cell_type": "markdown",
      "metadata": {
        "id": "cQIDsx8VDNps"
      },
      "source": [
        "##Question 3\n",
        "\n",
        "Remember that each column/attribute of our data may have different attribute types. Have a look at the following table to recall the different DataTypes in Pandas and Python (it is the same as in the walkthrough).\n",
        "\n",
        "| Pandas dtype  | Python type  | NumPy type|Usage\n",
        "| :--- | :--- | :--- | :--- |\n",
        "| object| str or mixed | string_, unicode_, mixed types| Text or mixed numeric and non_numeric values |\n",
        "| int 64| int| int_, int8, int16, int32, int64, uint8, uint18, uint32, uint64 | Integer numbers i.e. [1,2,3,...] |\n",
        "| float64| float| float_, float15, float32, float64 | Floating point numbers (They contain decimal points) |\n",
        "| bool| bool|bool_| True/False values|\n",
        "| datetime64 | NA | datetime64[ns]     | Date and time values  |\n",
        "| timedelta[ns] | NA  | NA| Differences between two datetime|\n",
        "| category | NA| NA| Finite list of text values|\n",
        "\n",
        "Use the following cells to convert each column to the required dtype:"
      ]
    },
    {
      "cell_type": "code",
      "metadata": {
        "id": "BmNiC4MpGbK7"
      },
      "source": [
        "#Convert Sentiment to categorical\n",
        "googleplaystore_user_reviews['Sentiment'] = googleplaystore_user_reviews['Sentiment'].astype('category')"
      ],
      "execution_count": null,
      "outputs": []
    },
    {
      "cell_type": "code",
      "metadata": {
        "id": "Y1RZksytGrrL"
      },
      "source": [
        "#Sentiment_Polarity to numeric\n",
        "googleplaystore_user_reviews['Sentiment_Polarity'] = pd.to_numeric(googleplaystore_user_reviews['Sentiment_Polarity'], errors='coerce')"
      ],
      "execution_count": null,
      "outputs": []
    },
    {
      "cell_type": "code",
      "metadata": {
        "id": "GS362Z5VG50T"
      },
      "source": [
        "#Sentiment_Subjectivity to numeric\n",
        "googleplaystore_user_reviews['Sentiment_Subjectivity'] = pd.to_numeric(googleplaystore_user_reviews['Sentiment_Subjectivity'], errors='coerce')"
      ],
      "execution_count": null,
      "outputs": []
    },
    {
      "cell_type": "markdown",
      "metadata": {
        "id": "IsJwcCBpHcUk"
      },
      "source": [
        "Now lets have a look at the dtypes:"
      ]
    },
    {
      "cell_type": "code",
      "metadata": {
        "id": "jeUm-hIsHb7g",
        "colab": {
          "base_uri": "https://localhost:8080/"
        },
        "outputId": "853068a4-e38c-4587-aeee-198bfe7a2dec"
      },
      "source": [
        "#Column types\n",
        "print('Column types:')\n",
        "googleplaystore_user_reviews.dtypes"
      ],
      "execution_count": null,
      "outputs": [
        {
          "output_type": "stream",
          "text": [
            "Column types:\n"
          ],
          "name": "stdout"
        },
        {
          "output_type": "execute_result",
          "data": {
            "text/plain": [
              "App                         object\n",
              "Translated_Review           object\n",
              "Sentiment                 category\n",
              "Sentiment_Polarity         float64\n",
              "Sentiment_Subjectivity     float64\n",
              "dtype: object"
            ]
          },
          "metadata": {
            "tags": []
          },
          "execution_count": 63
        }
      ]
    },
    {
      "cell_type": "markdown",
      "metadata": {
        "id": "2W0A_7b69dV-"
      },
      "source": [
        "# Part 2\n"
      ]
    },
    {
      "cell_type": "markdown",
      "metadata": {
        "id": "T0d2fZe2vFnx"
      },
      "source": [
        "##Question 4\n",
        "Note that there exist some null values. For each dataframe, count the number of null values by using: `.isnull()` and `.sum()`. Drop the null values if there exist. Print the shape of your dataframes before and after the cleaning process: `.shape`. How many data was deleted ?\n",
        "\n",
        "**Solution:**"
      ]
    },
    {
      "cell_type": "code",
      "metadata": {
        "id": "Yh4BS1SYvFny",
        "colab": {
          "base_uri": "https://localhost:8080/"
        },
        "outputId": "249edcd0-939b-4be7-fa70-32b4e3002477"
      },
      "source": [
        "#First, we want to see the DataFrame's size (use .size)\n",
        "googleplaystore_user_reviews.size"
      ],
      "execution_count": null,
      "outputs": [
        {
          "output_type": "execute_result",
          "data": {
            "text/plain": [
              "321475"
            ]
          },
          "metadata": {
            "tags": []
          },
          "execution_count": 64
        }
      ]
    },
    {
      "cell_type": "code",
      "metadata": {
        "id": "k-cGLkTS_8go",
        "colab": {
          "base_uri": "https://localhost:8080/"
        },
        "outputId": "dca4639a-115c-4965-be10-3907edcf49ac"
      },
      "source": [
        "#Let's count the number of null values per column (use .isnull() and .sum())\n",
        "googleplaystore_user_reviews.isnull().sum()"
      ],
      "execution_count": null,
      "outputs": [
        {
          "output_type": "execute_result",
          "data": {
            "text/plain": [
              "App                           0\n",
              "Translated_Review         26868\n",
              "Sentiment                 26863\n",
              "Sentiment_Polarity        26929\n",
              "Sentiment_Subjectivity    26873\n",
              "dtype: int64"
            ]
          },
          "metadata": {
            "tags": []
          },
          "execution_count": 65
        }
      ]
    },
    {
      "cell_type": "code",
      "metadata": {
        "id": "tvRVINDk_6wn"
      },
      "source": [
        "#Now we store the number of rows of the original Dataframe\n",
        "nb_rows = len(googleplaystore_user_reviews)"
      ],
      "execution_count": null,
      "outputs": []
    },
    {
      "cell_type": "code",
      "metadata": {
        "id": "T6LRC2XV_6qK"
      },
      "source": [
        "#We can drop the rows that have a null value in them with .dropna()\n",
        "googleplaystore_user_reviews = googleplaystore_user_reviews.dropna()"
      ],
      "execution_count": null,
      "outputs": []
    },
    {
      "cell_type": "code",
      "metadata": {
        "id": "6vtiw4fm_6jY",
        "colab": {
          "base_uri": "https://localhost:8080/",
          "height": 206
        },
        "outputId": "28feec6f-2bf5-4302-b235-c98e556eeab2"
      },
      "source": [
        "#Take a look at the new DataFrame, without any null values with .head()\n",
        "googleplaystore_user_reviews.head()"
      ],
      "execution_count": null,
      "outputs": [
        {
          "output_type": "execute_result",
          "data": {
            "text/html": [
              "<div>\n",
              "<style scoped>\n",
              "    .dataframe tbody tr th:only-of-type {\n",
              "        vertical-align: middle;\n",
              "    }\n",
              "\n",
              "    .dataframe tbody tr th {\n",
              "        vertical-align: top;\n",
              "    }\n",
              "\n",
              "    .dataframe thead th {\n",
              "        text-align: right;\n",
              "    }\n",
              "</style>\n",
              "<table border=\"1\" class=\"dataframe\">\n",
              "  <thead>\n",
              "    <tr style=\"text-align: right;\">\n",
              "      <th></th>\n",
              "      <th>App</th>\n",
              "      <th>Translated_Review</th>\n",
              "      <th>Sentiment</th>\n",
              "      <th>Sentiment_Polarity</th>\n",
              "      <th>Sentiment_Subjectivity</th>\n",
              "    </tr>\n",
              "  </thead>\n",
              "  <tbody>\n",
              "    <tr>\n",
              "      <th>0</th>\n",
              "      <td>10 Best Foods for You</td>\n",
              "      <td>I like eat delicious food. That's I'm cooking ...</td>\n",
              "      <td>Positive</td>\n",
              "      <td>1.00</td>\n",
              "      <td>0.533333</td>\n",
              "    </tr>\n",
              "    <tr>\n",
              "      <th>1</th>\n",
              "      <td>10 Best Foods for You</td>\n",
              "      <td>This help eating healthy exercise regular basis</td>\n",
              "      <td>Positive</td>\n",
              "      <td>0.25</td>\n",
              "      <td>0.288462</td>\n",
              "    </tr>\n",
              "    <tr>\n",
              "      <th>3</th>\n",
              "      <td>10 Best Foods for You</td>\n",
              "      <td>Works great especially going grocery store</td>\n",
              "      <td>Positive</td>\n",
              "      <td>0.40</td>\n",
              "      <td>875.000000</td>\n",
              "    </tr>\n",
              "    <tr>\n",
              "      <th>4</th>\n",
              "      <td>10 Best Foods for You</td>\n",
              "      <td>Best idea us</td>\n",
              "      <td>Positive</td>\n",
              "      <td>1.00</td>\n",
              "      <td>0.300000</td>\n",
              "    </tr>\n",
              "    <tr>\n",
              "      <th>5</th>\n",
              "      <td>10 Best Foods for You</td>\n",
              "      <td>Best way</td>\n",
              "      <td>Positive</td>\n",
              "      <td>1.00</td>\n",
              "      <td>0.300000</td>\n",
              "    </tr>\n",
              "  </tbody>\n",
              "</table>\n",
              "</div>"
            ],
            "text/plain": [
              "                     App  ... Sentiment_Subjectivity\n",
              "0  10 Best Foods for You  ...               0.533333\n",
              "1  10 Best Foods for You  ...               0.288462\n",
              "3  10 Best Foods for You  ...             875.000000\n",
              "4  10 Best Foods for You  ...               0.300000\n",
              "5  10 Best Foods for You  ...               0.300000\n",
              "\n",
              "[5 rows x 5 columns]"
            ]
          },
          "metadata": {
            "tags": []
          },
          "execution_count": 68
        }
      ]
    },
    {
      "cell_type": "code",
      "metadata": {
        "id": "R9r0Z9f6_6Uk",
        "colab": {
          "base_uri": "https://localhost:8080/"
        },
        "outputId": "1ff643d8-2695-4f8b-ddbc-6c77f2ab3334"
      },
      "source": [
        "#Check the size again, did it change?\n",
        "googleplaystore_user_reviews.size"
      ],
      "execution_count": null,
      "outputs": [
        {
          "output_type": "execute_result",
          "data": {
            "text/plain": [
              "186795"
            ]
          },
          "metadata": {
            "tags": []
          },
          "execution_count": 69
        }
      ]
    },
    {
      "cell_type": "code",
      "metadata": {
        "id": "cgS-GSEKAC9z",
        "colab": {
          "base_uri": "https://localhost:8080/"
        },
        "outputId": "58943076-c347-4718-fafb-544fc60164a4"
      },
      "source": [
        "#How many rows did we delete? (remember what you stored before dropping the null values)\n",
        "print('We deleted', nb_rows - len(googleplaystore_user_reviews), 'rows!')"
      ],
      "execution_count": null,
      "outputs": [
        {
          "output_type": "stream",
          "text": [
            "We deleted 26936 rows!\n"
          ],
          "name": "stdout"
        }
      ]
    },
    {
      "cell_type": "markdown",
      "metadata": {
        "id": "9QNGjUe_vFoB"
      },
      "source": [
        "##Question 5\n",
        "We will now apply some selections/filters on the `google_playstore_user_reviews.csv` DataFrame: \n",
        "\n",
        "* filter  the data reviews where the Sentiment_Subjectivity mean  > 0.5 , use: `grouby()`, `mean()` and `where()`  \n",
        "* select the 10 best reviewed apps, use `.sort_values()`  \n",
        "* select the genres that have the highest rating  mean: use `groupby()`, `mean()`and `sort_values()`\n",
        "    \n",
        "**Solution:**"
      ]
    },
    {
      "cell_type": "code",
      "metadata": {
        "id": "PCPiPyHE7Zu0",
        "colab": {
          "base_uri": "https://localhost:8080/"
        },
        "outputId": "ac9d2ac8-10f9-4351-f301-0c82e8dd95a7"
      },
      "source": [
        "#Take the mean of each App's Sentiment_Subjectivity\n",
        "grouped_mean = googleplaystore_user_reviews.groupby('App')['Sentiment_Subjectivity'].mean()\n",
        "grouped_mean"
      ],
      "execution_count": null,
      "outputs": [
        {
          "output_type": "execute_result",
          "data": {
            "text/plain": [
              "App\n",
              "10 Best Foods for You                                 50.187980\n",
              "104 找工作 - 找工作 找打工 找兼職 履歷健檢 履歷診療室                       0.545516\n",
              "11st                                                  10.061110\n",
              "1800 Contacts - Lens Store                            36.804848\n",
              "1LINE – One Line with One Touch                       41.306000\n",
              "                                                        ...    \n",
              "Hotels.com: Book Hotel Rooms & Find Vacation Deals     0.545444\n",
              "Hotspot Shield Free VPN Proxy & Wi-Fi Security         0.393284\n",
              "Hotstar                                               33.273652\n",
              "Hotwire Hotel & Car Rental App                        45.566081\n",
              "Housing-Real Estate & Property                        53.896389\n",
              "Name: Sentiment_Subjectivity, Length: 865, dtype: float64"
            ]
          },
          "metadata": {
            "tags": []
          },
          "execution_count": 75
        }
      ]
    },
    {
      "cell_type": "code",
      "metadata": {
        "id": "DKUEv32DAmD6"
      },
      "source": [
        "#Only keep the Apps with a mean higher than 0.5\n",
        "grouped_mean_higher = grouped_mean.where(grouped_mean > 0.5)\n",
        "#There are some rows with null values, drop them\n",
        "good_apps = grouped_mean_higher.dropna()"
      ],
      "execution_count": null,
      "outputs": []
    },
    {
      "cell_type": "code",
      "metadata": {
        "id": "2je81tmIAlu0",
        "colab": {
          "base_uri": "https://localhost:8080/"
        },
        "outputId": "635d94a3-de9c-4170-aa8b-f5b60eb41c16"
      },
      "source": [
        "#Let's look at what we have (use .head())\n",
        "good_apps.head()"
      ],
      "execution_count": null,
      "outputs": [
        {
          "output_type": "execute_result",
          "data": {
            "text/plain": [
              "App\n",
              "10 Best Foods for You               50.187980\n",
              "104 找工作 - 找工作 找打工 找兼職 履歷健檢 履歷診療室     0.545516\n",
              "11st                                10.061110\n",
              "1800 Contacts - Lens Store          36.804848\n",
              "1LINE – One Line with One Touch     41.306000\n",
              "Name: Sentiment_Subjectivity, dtype: float64"
            ]
          },
          "metadata": {
            "tags": []
          },
          "execution_count": 77
        }
      ]
    },
    {
      "cell_type": "code",
      "metadata": {
        "id": "ynzzwQJ5-dNj",
        "colab": {
          "base_uri": "https://localhost:8080/"
        },
        "outputId": "2eac4649-91a9-4c9a-ece3-26615fc3083b"
      },
      "source": [
        "#All that is left to do is to select the 10 Apps with the highest SentimentSubjectivity\n",
        "good_apps.sort_values(ascending=False)[:10]"
      ],
      "execution_count": null,
      "outputs": [
        {
          "output_type": "execute_result",
          "data": {
            "text/plain": [
              "App\n",
              "CM Browser - Ad Blocker , Fast Download , Privacy     312.875000\n",
              "Brightest Flashlight Free ®                           252.270452\n",
              "Call Control - Call Blocker                           208.416667\n",
              "Anger of stick 5 : zombie                             175.327778\n",
              "Baby Panda’s Juice Shop                               175.316667\n",
              "Buscapé - Ofertas e descontos                         165.320979\n",
              "DIY On A Budget                                       141.325810\n",
              "Dictionary - Merriam-Webster                          137.824821\n",
              "Free TV Shows App:News, TV Series, Episode, Movies    130.325725\n",
              "Calls & Text by Mo+                                   129.583333\n",
              "Name: Sentiment_Subjectivity, dtype: float64"
            ]
          },
          "metadata": {
            "tags": []
          },
          "execution_count": 78
        }
      ]
    }
  ]
}