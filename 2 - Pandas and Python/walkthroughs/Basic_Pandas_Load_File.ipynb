{
  "nbformat": 4,
  "nbformat_minor": 0,
  "metadata": {
    "colab": {
      "name": "Basic_Pandas_Load_File.ipynb",
      "provenance": [],
      "collapsed_sections": [
        "RJYHORgqMc-x"
      ],
      "include_colab_link": true
    },
    "kernel_info": {
      "name": "python3"
    },
    "kernelspec": {
      "display_name": "Python 3",
      "language": "python",
      "name": "python3"
    },
    "language_info": {
      "codemirror_mode": {
        "name": "ipython",
        "version": 3
      },
      "file_extension": ".py",
      "mimetype": "text/x-python",
      "name": "python",
      "nbconvert_exporter": "python",
      "pygments_lexer": "ipython3",
      "version": "3.7.6"
    },
    "nteract": {
      "version": "0.15.0"
    }
  },
  "cells": [
    {
      "cell_type": "markdown",
      "metadata": {
        "id": "view-in-github",
        "colab_type": "text"
      },
      "source": [
        "<a href=\"https://colab.research.google.com/github/michalis0/Business-Intelligence-and-Analytics/blob/master/2%20-%20Pandas%20and%20Python/walkthroughs/Basic_Pandas_Load_File.ipynb\" target=\"_parent\"><img src=\"https://colab.research.google.com/assets/colab-badge.svg\" alt=\"Open In Colab\"/></a>"
      ]
    },
    {
      "cell_type": "markdown",
      "metadata": {
        "id": "HT7WDJuNMc-F"
      },
      "source": [
        "# Basic Pandas operations\n",
        "\n",
        "**Goal**: Our goal here is to learn how to load a dataset into a Pandas DataFrame. The dataset can come either in CSV or in JSON format. We will see also how to perform basic data manipulations and very basic data visualizations so that you understand the nature of your data.\n",
        "\n",
        "## 1. Loading a dataset in CSV format\n",
        "\n",
        "First you have to import the `pandas` package."
      ]
    },
    {
      "cell_type": "code",
      "metadata": {
        "id": "1Z3Tez5xNcE2"
      },
      "source": [
        "import pandas as pd # press shift+enter to execute it"
      ],
      "execution_count": null,
      "outputs": []
    },
    {
      "cell_type": "markdown",
      "metadata": {
        "id": "V3kh8_9rNfLZ"
      },
      "source": [
        "Now you can see that you autocomplete your code with functions that are included in `pandas`. Eg type `pd.read` and see that it recommends some functions:\n"
      ]
    },
    {
      "cell_type": "code",
      "metadata": {
        "id": "DGMVTp1fNq6S"
      },
      "source": [
        ""
      ],
      "execution_count": null,
      "outputs": []
    },
    {
      "cell_type": "code",
      "metadata": {
        "colab": {
          "base_uri": "https://localhost:8080/",
          "height": 206
        },
        "id": "e9Up10t7Mc-H",
        "scrolled": true,
        "outputId": "0ef1dc09-84bb-486a-9f35-653921cf0b90"
      },
      "source": [
        "# let's load a file\n",
        "\n",
        "url = \"https://media.githubusercontent.com/media/michalis0/Business-Intelligence-and-Analytics/master/data/pandas_tutorial_read.csv\"\n",
        "data = pd.read_csv(url) \n",
        "data.head()"
      ],
      "execution_count": null,
      "outputs": [
        {
          "output_type": "execute_result",
          "data": {
            "text/html": [
              "<div>\n",
              "<style scoped>\n",
              "    .dataframe tbody tr th:only-of-type {\n",
              "        vertical-align: middle;\n",
              "    }\n",
              "\n",
              "    .dataframe tbody tr th {\n",
              "        vertical-align: top;\n",
              "    }\n",
              "\n",
              "    .dataframe thead th {\n",
              "        text-align: right;\n",
              "    }\n",
              "</style>\n",
              "<table border=\"1\" class=\"dataframe\">\n",
              "  <thead>\n",
              "    <tr style=\"text-align: right;\">\n",
              "      <th></th>\n",
              "      <th>01.01.2018 00:01;read;country_7;2458151261;SEO;North America</th>\n",
              "    </tr>\n",
              "  </thead>\n",
              "  <tbody>\n",
              "    <tr>\n",
              "      <th>0</th>\n",
              "      <td>01.01.2018 00:03;read;country_7;2458151262;SEO...</td>\n",
              "    </tr>\n",
              "    <tr>\n",
              "      <th>1</th>\n",
              "      <td>01.01.2018 00:04;read;country_7;2458151263;AdW...</td>\n",
              "    </tr>\n",
              "    <tr>\n",
              "      <th>2</th>\n",
              "      <td>01.01.2018 00:04;read;country_7;2458151264;AdW...</td>\n",
              "    </tr>\n",
              "    <tr>\n",
              "      <th>3</th>\n",
              "      <td>01.01.2018 00:05;read;country_8;2458151265;Red...</td>\n",
              "    </tr>\n",
              "    <tr>\n",
              "      <th>4</th>\n",
              "      <td>01.01.2018 00:05;read;country_6;2458151266;Red...</td>\n",
              "    </tr>\n",
              "  </tbody>\n",
              "</table>\n",
              "</div>"
            ],
            "text/plain": [
              "  01.01.2018 00:01;read;country_7;2458151261;SEO;North America\n",
              "0  01.01.2018 00:03;read;country_7;2458151262;SEO...          \n",
              "1  01.01.2018 00:04;read;country_7;2458151263;AdW...          \n",
              "2  01.01.2018 00:04;read;country_7;2458151264;AdW...          \n",
              "3  01.01.2018 00:05;read;country_8;2458151265;Red...          \n",
              "4  01.01.2018 00:05;read;country_6;2458151266;Red...          "
            ]
          },
          "metadata": {
            "tags": []
          },
          "execution_count": 5
        }
      ]
    },
    {
      "cell_type": "markdown",
      "metadata": {
        "id": "opHgAjE6Mc-O"
      },
      "source": [
        "Is the above correct? Most likely not. \r\n",
        "\r\n",
        "CSV stands for \"Comma Separated Values\", which is not the case here. We see there are ';' and the data seem to be in one column. The default delimiter is ',' so we need to change it."
      ]
    },
    {
      "cell_type": "code",
      "metadata": {
        "colab": {
          "base_uri": "https://localhost:8080/",
          "height": 206
        },
        "id": "Yv5UVka1Mc-Q",
        "outputId": "c6d9fdf2-ac40-4afb-d551-6dc34de45dc8"
      },
      "source": [
        "data = pd.read_csv(url, delimiter=';') \n",
        "data.head()"
      ],
      "execution_count": null,
      "outputs": [
        {
          "output_type": "execute_result",
          "data": {
            "text/html": [
              "<div>\n",
              "<style scoped>\n",
              "    .dataframe tbody tr th:only-of-type {\n",
              "        vertical-align: middle;\n",
              "    }\n",
              "\n",
              "    .dataframe tbody tr th {\n",
              "        vertical-align: top;\n",
              "    }\n",
              "\n",
              "    .dataframe thead th {\n",
              "        text-align: right;\n",
              "    }\n",
              "</style>\n",
              "<table border=\"1\" class=\"dataframe\">\n",
              "  <thead>\n",
              "    <tr style=\"text-align: right;\">\n",
              "      <th></th>\n",
              "      <th>01.01.2018 00:01</th>\n",
              "      <th>read</th>\n",
              "      <th>country_7</th>\n",
              "      <th>2458151261</th>\n",
              "      <th>SEO</th>\n",
              "      <th>North America</th>\n",
              "    </tr>\n",
              "  </thead>\n",
              "  <tbody>\n",
              "    <tr>\n",
              "      <th>0</th>\n",
              "      <td>01.01.2018 00:03</td>\n",
              "      <td>read</td>\n",
              "      <td>country_7</td>\n",
              "      <td>2458151262</td>\n",
              "      <td>SEO</td>\n",
              "      <td>South America</td>\n",
              "    </tr>\n",
              "    <tr>\n",
              "      <th>1</th>\n",
              "      <td>01.01.2018 00:04</td>\n",
              "      <td>read</td>\n",
              "      <td>country_7</td>\n",
              "      <td>2458151263</td>\n",
              "      <td>AdWords</td>\n",
              "      <td>Africa</td>\n",
              "    </tr>\n",
              "    <tr>\n",
              "      <th>2</th>\n",
              "      <td>01.01.2018 00:04</td>\n",
              "      <td>read</td>\n",
              "      <td>country_7</td>\n",
              "      <td>2458151264</td>\n",
              "      <td>AdWords</td>\n",
              "      <td>Europe</td>\n",
              "    </tr>\n",
              "    <tr>\n",
              "      <th>3</th>\n",
              "      <td>01.01.2018 00:05</td>\n",
              "      <td>read</td>\n",
              "      <td>country_8</td>\n",
              "      <td>2458151265</td>\n",
              "      <td>Reddit</td>\n",
              "      <td>North America</td>\n",
              "    </tr>\n",
              "    <tr>\n",
              "      <th>4</th>\n",
              "      <td>01.01.2018 00:05</td>\n",
              "      <td>read</td>\n",
              "      <td>country_6</td>\n",
              "      <td>2458151266</td>\n",
              "      <td>Reddit</td>\n",
              "      <td>North America</td>\n",
              "    </tr>\n",
              "  </tbody>\n",
              "</table>\n",
              "</div>"
            ],
            "text/plain": [
              "   01.01.2018 00:01  read  country_7  2458151261      SEO  North America\n",
              "0  01.01.2018 00:03  read  country_7  2458151262      SEO  South America\n",
              "1  01.01.2018 00:04  read  country_7  2458151263  AdWords         Africa\n",
              "2  01.01.2018 00:04  read  country_7  2458151264  AdWords         Europe\n",
              "3  01.01.2018 00:05  read  country_8  2458151265   Reddit  North America\n",
              "4  01.01.2018 00:05  read  country_6  2458151266   Reddit  North America"
            ]
          },
          "metadata": {
            "tags": []
          },
          "execution_count": 6
        }
      ]
    },
    {
      "cell_type": "markdown",
      "metadata": {
        "id": "q2PcFLDEMc-U"
      },
      "source": [
        "This looks better. But something else does not look good now. Our DataFrame is missing a header, let's assign one:"
      ]
    },
    {
      "cell_type": "code",
      "metadata": {
        "colab": {
          "base_uri": "https://localhost:8080/",
          "height": 206
        },
        "id": "0p8R3uQFMc-V",
        "outputId": "6e8cc742-05f6-4fe7-d837-ee53cd86b2c5"
      },
      "source": [
        "data = pd.read_csv(url, \n",
        "                   delimiter=';', \n",
        "                   names = ['my_datetime', 'event', 'country', 'user_id', 'source', 'topic']) \n",
        "data.head()\n"
      ],
      "execution_count": null,
      "outputs": [
        {
          "output_type": "execute_result",
          "data": {
            "text/html": [
              "<div>\n",
              "<style scoped>\n",
              "    .dataframe tbody tr th:only-of-type {\n",
              "        vertical-align: middle;\n",
              "    }\n",
              "\n",
              "    .dataframe tbody tr th {\n",
              "        vertical-align: top;\n",
              "    }\n",
              "\n",
              "    .dataframe thead th {\n",
              "        text-align: right;\n",
              "    }\n",
              "</style>\n",
              "<table border=\"1\" class=\"dataframe\">\n",
              "  <thead>\n",
              "    <tr style=\"text-align: right;\">\n",
              "      <th></th>\n",
              "      <th>my_datetime</th>\n",
              "      <th>event</th>\n",
              "      <th>country</th>\n",
              "      <th>user_id</th>\n",
              "      <th>source</th>\n",
              "      <th>topic</th>\n",
              "    </tr>\n",
              "  </thead>\n",
              "  <tbody>\n",
              "    <tr>\n",
              "      <th>0</th>\n",
              "      <td>01.01.2018 00:01</td>\n",
              "      <td>read</td>\n",
              "      <td>country_7</td>\n",
              "      <td>2458151261</td>\n",
              "      <td>SEO</td>\n",
              "      <td>North America</td>\n",
              "    </tr>\n",
              "    <tr>\n",
              "      <th>1</th>\n",
              "      <td>01.01.2018 00:03</td>\n",
              "      <td>read</td>\n",
              "      <td>country_7</td>\n",
              "      <td>2458151262</td>\n",
              "      <td>SEO</td>\n",
              "      <td>South America</td>\n",
              "    </tr>\n",
              "    <tr>\n",
              "      <th>2</th>\n",
              "      <td>01.01.2018 00:04</td>\n",
              "      <td>read</td>\n",
              "      <td>country_7</td>\n",
              "      <td>2458151263</td>\n",
              "      <td>AdWords</td>\n",
              "      <td>Africa</td>\n",
              "    </tr>\n",
              "    <tr>\n",
              "      <th>3</th>\n",
              "      <td>01.01.2018 00:04</td>\n",
              "      <td>read</td>\n",
              "      <td>country_7</td>\n",
              "      <td>2458151264</td>\n",
              "      <td>AdWords</td>\n",
              "      <td>Europe</td>\n",
              "    </tr>\n",
              "    <tr>\n",
              "      <th>4</th>\n",
              "      <td>01.01.2018 00:05</td>\n",
              "      <td>read</td>\n",
              "      <td>country_8</td>\n",
              "      <td>2458151265</td>\n",
              "      <td>Reddit</td>\n",
              "      <td>North America</td>\n",
              "    </tr>\n",
              "  </tbody>\n",
              "</table>\n",
              "</div>"
            ],
            "text/plain": [
              "        my_datetime event    country     user_id   source          topic\n",
              "0  01.01.2018 00:01  read  country_7  2458151261      SEO  North America\n",
              "1  01.01.2018 00:03  read  country_7  2458151262      SEO  South America\n",
              "2  01.01.2018 00:04  read  country_7  2458151263  AdWords         Africa\n",
              "3  01.01.2018 00:04  read  country_7  2458151264  AdWords         Europe\n",
              "4  01.01.2018 00:05  read  country_8  2458151265   Reddit  North America"
            ]
          },
          "metadata": {
            "tags": []
          },
          "execution_count": 7
        }
      ]
    },
    {
      "cell_type": "markdown",
      "metadata": {
        "id": "qwwVIxHfMc-c"
      },
      "source": [
        "With the `head` function you see the first few lines. The .shape function shows the shape of the dataframe (rows, columns). You can also see the:\n",
        "\n",
        "- whole dataset: just type ```data```\n",
        "- the beginning as before ```data.head()``` \n",
        "- the last 5 entries ```data.tail()``` or \n",
        "- a sample such as ```data.sample(5)```\n",
        "- some descriptive statistics ```data.describe()```\n",
        "Try it out below:"
      ]
    },
    {
      "cell_type": "code",
      "metadata": {
        "colab": {
          "base_uri": "https://localhost:8080/"
        },
        "id": "RorAv2x0Mc-d",
        "outputId": "30eaee1e-a240-469d-95be-a96bb643461d"
      },
      "source": [
        "data.shape"
      ],
      "execution_count": null,
      "outputs": [
        {
          "output_type": "execute_result",
          "data": {
            "text/plain": [
              "(1795, 6)"
            ]
          },
          "metadata": {
            "tags": []
          },
          "execution_count": 8
        }
      ]
    },
    {
      "cell_type": "code",
      "metadata": {
        "id": "IUv7cCsl_g7T"
      },
      "source": [
        "#Use this cell to write your own code"
      ],
      "execution_count": null,
      "outputs": []
    },
    {
      "cell_type": "markdown",
      "metadata": {
        "id": "Z6qhq8t3Mc-f"
      },
      "source": [
        "## DataFrame components\n",
        "There are three components of the DataFrame: the index, columns and data (values). We can extract each of these components into their own variables. Let's do that and then inspect them:"
      ]
    },
    {
      "cell_type": "code",
      "metadata": {
        "id": "SssBXmqWMc-f"
      },
      "source": [
        "index = data.index\n",
        "columns = data.columns\n",
        "values = data.values"
      ],
      "execution_count": null,
      "outputs": []
    },
    {
      "cell_type": "code",
      "metadata": {
        "colab": {
          "base_uri": "https://localhost:8080/"
        },
        "id": "jcFpF9yoMc-i",
        "outputId": "b20a0072-64f4-41df-ead4-a7f415913569"
      },
      "source": [
        "index"
      ],
      "execution_count": null,
      "outputs": [
        {
          "output_type": "execute_result",
          "data": {
            "text/plain": [
              "RangeIndex(start=0, stop=1795, step=1)"
            ]
          },
          "metadata": {
            "tags": []
          },
          "execution_count": 8
        }
      ]
    },
    {
      "cell_type": "code",
      "metadata": {
        "colab": {
          "base_uri": "https://localhost:8080/"
        },
        "id": "a2PH_uMMMc-j",
        "outputId": "c462da45-405c-4306-cd6e-d19a3efa8269"
      },
      "source": [
        "columns"
      ],
      "execution_count": null,
      "outputs": [
        {
          "output_type": "execute_result",
          "data": {
            "text/plain": [
              "Index(['my_datetime', 'event', 'country', 'user_id', 'source', 'topic'], dtype='object')"
            ]
          },
          "metadata": {
            "tags": []
          },
          "execution_count": 9
        }
      ]
    },
    {
      "cell_type": "code",
      "metadata": {
        "colab": {
          "base_uri": "https://localhost:8080/"
        },
        "id": "sV6mB-WBMc-l",
        "outputId": "b3adf7f9-8951-41e2-877a-1970017b14ee"
      },
      "source": [
        "values"
      ],
      "execution_count": null,
      "outputs": [
        {
          "output_type": "execute_result",
          "data": {
            "text/plain": [
              "array([['01.01.2018 00:01', 'read', 'country_7', '2458151261', 'SEO',\n",
              "        'North America'],\n",
              "       ['01.01.2018 00:03', 'read', 'country_7', '2458151262', 'SEO',\n",
              "        'South America'],\n",
              "       ['01.01.2018 00:04', 'read', 'country_7', '2458151263', 'AdWords',\n",
              "        'Africa'],\n",
              "       ...,\n",
              "       ['01.01.2018 23:59', 'read', 'country_6', '2458153053', 'Reddit',\n",
              "        'Asia'],\n",
              "       ['01.01.2018 23:59', 'read', 'country_7', '2458153054', 'AdWords',\n",
              "        'Europe'],\n",
              "       ['01.01.2018 23:59', 'read', 'country_5', '2458153055', 'Reddit',\n",
              "        'Asia']], dtype=object)"
            ]
          },
          "metadata": {
            "tags": []
          },
          "execution_count": 10
        }
      ]
    },
    {
      "cell_type": "markdown",
      "metadata": {
        "id": "pF-4EXbOMc-n"
      },
      "source": [
        "## Data types of the components"
      ]
    },
    {
      "cell_type": "code",
      "metadata": {
        "colab": {
          "base_uri": "https://localhost:8080/"
        },
        "id": "kcUBNR9AMc-n",
        "outputId": "bb5e729e-d37a-471e-83d4-71abb133373d"
      },
      "source": [
        "type(index)"
      ],
      "execution_count": null,
      "outputs": [
        {
          "output_type": "execute_result",
          "data": {
            "text/plain": [
              "pandas.core.indexes.range.RangeIndex"
            ]
          },
          "metadata": {
            "tags": []
          },
          "execution_count": 11
        }
      ]
    },
    {
      "cell_type": "code",
      "metadata": {
        "colab": {
          "base_uri": "https://localhost:8080/"
        },
        "id": "iccy4ZE8Mc-p",
        "outputId": "6baf61ea-372c-44a2-c498-bf676dea0376"
      },
      "source": [
        "type(columns)"
      ],
      "execution_count": null,
      "outputs": [
        {
          "output_type": "execute_result",
          "data": {
            "text/plain": [
              "pandas.core.indexes.base.Index"
            ]
          },
          "metadata": {
            "tags": []
          },
          "execution_count": 12
        }
      ]
    },
    {
      "cell_type": "code",
      "metadata": {
        "colab": {
          "base_uri": "https://localhost:8080/"
        },
        "id": "wDBYWUCrMc-q",
        "outputId": "a6d94531-ccbb-4aca-b9be-2f9131dbb1b0"
      },
      "source": [
        "type(values)"
      ],
      "execution_count": null,
      "outputs": [
        {
          "output_type": "execute_result",
          "data": {
            "text/plain": [
              "numpy.ndarray"
            ]
          },
          "metadata": {
            "tags": []
          },
          "execution_count": 13
        }
      ]
    },
    {
      "cell_type": "markdown",
      "metadata": {
        "id": "ihQFsP5DMc-s"
      },
      "source": [
        "\n",
        "The index and the columns are the same type: a pandas **`Index`** object (**`RangeIndex`** is of type **`Index`**), which is a sequence of labels for either the rows or the columns.\n",
        "\n",
        "The values are a NumPy **`ndarray`**, which stands for n-dimensional array, and is the primary container of data in the NumPy library. Pandas is built directly on top of NumPy."
      ]
    },
    {
      "cell_type": "markdown",
      "metadata": {
        "id": "NPZ-0mD_Mc-s"
      },
      "source": [
        "### Selecting columns\n",
        "\n",
        "If you want to select two particular columns you can do it like that:\n",
        "\n",
        "```data[['country', 'user_id']]``` \n",
        "\n",
        "or you can take the columns in a different order: \n",
        "\n",
        "```data[['user_id', 'country']]```.\n",
        "\n",
        "The way to remember the syntax is that outer brackets signify that you want to select columns, and the inner brackets are for the list itself.\n",
        "\n",
        "Try it out."
      ]
    },
    {
      "cell_type": "code",
      "metadata": {
        "id": "aUEQ-RAlMc-t"
      },
      "source": [
        ""
      ],
      "execution_count": null,
      "outputs": []
    },
    {
      "cell_type": "markdown",
      "metadata": {
        "id": "V6VtRZPtMc-u"
      },
      "source": [
        "The above returns a pandas.DataFrame. If you want to return a pandas.Series instead then you can use this syntax:\n",
        "\n",
        "```data.user_id ```\n",
        "\n",
        "or \n",
        "\n",
        "``` data['user_id'] ```"
      ]
    },
    {
      "cell_type": "code",
      "metadata": {
        "id": "waGTpqepMc-u"
      },
      "source": [
        ""
      ],
      "execution_count": null,
      "outputs": []
    },
    {
      "cell_type": "markdown",
      "metadata": {
        "id": "Nw3hClEJMc-w"
      },
      "source": [
        "If you want to filter one those users that came from SEO then you can write:\n",
        "\n",
        "``` data[data.source == 'SEO'] ```\n",
        "\n",
        "where the inner statement will create a boolean mask."
      ]
    },
    {
      "cell_type": "code",
      "metadata": {
        "id": "gzpqqRYtMc-w"
      },
      "source": [
        ""
      ],
      "execution_count": null,
      "outputs": []
    },
    {
      "cell_type": "markdown",
      "metadata": {
        "id": "RJYHORgqMc-x"
      },
      "source": [
        "### Chaining\n",
        "\n",
        "You can combine multiple selection methods as follows:\n",
        "\n",
        "``` data.head()[['country', 'user_id']] ```\n",
        "\n",
        "**CAUTION**: A thing to keep in mind is that when you use chaining you work on *copies* of the original DataFrame. So if you use chaining to change data, you may observe that the original DataFrame was not changed."
      ]
    },
    {
      "cell_type": "markdown",
      "metadata": {
        "id": "vYETQYsOMc-y"
      },
      "source": [
        "#### Exercice 1:\n",
        "Now it's your turn to solve an exercise and deepen your knowledge.\n",
        "\n",
        "Select the user_id, the country and the topic columns for the users who are from country_2 and show only the first 10 results"
      ]
    },
    {
      "cell_type": "code",
      "metadata": {
        "id": "lg4wCaGiMc-z"
      },
      "source": [
        "# enter your solution here."
      ],
      "execution_count": null,
      "outputs": []
    },
    {
      "cell_type": "code",
      "metadata": {
        "id": "8SdqrbaoMc-0",
        "tags": [
          "hide_input"
        ]
      },
      "source": [
        "# possible solution (uncomment the code)\n",
        "# data[['user_id', 'topic', 'country']][data['country'] == 'country_2'].head(10)"
      ],
      "execution_count": null,
      "outputs": []
    },
    {
      "cell_type": "markdown",
      "metadata": {
        "id": "ON8xtuzBdCoc"
      },
      "source": [
        "### Column Types\r\n",
        "\r\n",
        "Remember that each column/attribute of our data may have different attribute types. Have a look at the following table to understand the different DataTypes in Pandas and Python.\r\n",
        "\r\n",
        "| Pandas dtype  | Python type  | NumPy type|Usage\r\n",
        "| :--- | :--- | :--- | :--- |\r\n",
        "| object| str or mixed | string_, unicode_, mixed types| Text or mixed numeric and non_numeric values |\r\n",
        "| int 64| int| int_, int8, int16, int32, int64, uint8, uint18, uint32, uint64 | Integer numbers i.e. [1,2,3,...] |\r\n",
        "| float64| float| float_, float15, float32, float64 | Floating point numbers (They contain decimal points) |\r\n",
        "| bool| bool|bool_| True/False values|\r\n",
        "| datetime64 | NA | datetime64[ns]     | Date and time values  |\r\n",
        "| timedelta[ns] | NA  | NA| Differences between two datetime|\r\n",
        "| category | NA| NA| Finite list of text values|\r\n",
        "\r\n",
        "Although Pandas will correctly infer the type of data most of the times, it is important to check our columns and convert them if needed. Otherwise our results might get messed up.\r\n",
        "\r\n",
        "The function `.dtypes` allows us to see the type of each column. Run the following cell to see how it works:"
      ]
    },
    {
      "cell_type": "code",
      "metadata": {
        "colab": {
          "base_uri": "https://localhost:8080/"
        },
        "id": "N9reNjiHfRSj",
        "outputId": "ecd7e47a-c1b0-4e53-f008-3fc8228d2f2c"
      },
      "source": [
        "data.dtypes"
      ],
      "execution_count": null,
      "outputs": [
        {
          "output_type": "execute_result",
          "data": {
            "text/plain": [
              "my_datetime    object\n",
              "event          object\n",
              "country        object\n",
              "user_id        object\n",
              "source         object\n",
              "topic          object\n",
              "dtype: object"
            ]
          },
          "metadata": {
            "tags": []
          },
          "execution_count": 16
        }
      ]
    },
    {
      "cell_type": "markdown",
      "metadata": {
        "id": "-L2tFm-Kfzt6"
      },
      "source": [
        "We can see that altough most columns seem to have the correct type, we can still improve our DataFrame. Let's convert the [\"my_datetime\"] column to the \"datetime64\" type, so that Pandas knows this column contains Date and Time values.\r\n",
        "\r\n",
        "For this, the [.to_datetime()](https://https://pandas.pydata.org/pandas-docs/stable/reference/api/pandas.to_datetime.html) function might come in handy.\r\n"
      ]
    },
    {
      "cell_type": "code",
      "metadata": {
        "colab": {
          "base_uri": "https://localhost:8080/"
        },
        "id": "YGXheJTNh2gp",
        "outputId": "056c3b44-72d7-4c54-a5c8-5684828d774f"
      },
      "source": [
        "# First, let's convert the column type\r\n",
        "data[\"my_datetime\"] = pd.to_datetime(data[\"my_datetime\"]) \r\n",
        "\r\n",
        "#Now let's have a look at the dtypes once again\r\n",
        "data.dtypes"
      ],
      "execution_count": null,
      "outputs": [
        {
          "output_type": "execute_result",
          "data": {
            "text/plain": [
              "my_datetime    datetime64[ns]\n",
              "event                  object\n",
              "country                object\n",
              "user_id                object\n",
              "source                 object\n",
              "topic                  object\n",
              "dtype: object"
            ]
          },
          "metadata": {
            "tags": []
          },
          "execution_count": 17
        }
      ]
    },
    {
      "cell_type": "markdown",
      "metadata": {
        "id": "E2agT1bFijyS"
      },
      "source": [
        "The user_id column seems to contain integers. Pandas did not correctly infer it since some of the rows in this column are corrupted (they contain other values than integers). \r\n",
        "\r\n",
        "However, we can still use the `pd.to_numeric` function to convert the column to the correct type. We can use the `errors = 'coerce' argument to handle these errors. This will set all cells in the [\"user_id\"] column containing corrupted entries to NaN (Not a Number). \r\n",
        "\r\n",
        "Other possible values for \"errors=\" are:\r\n",
        " * `errors = raise` This will raise an error if it encounters an invalid entry\r\n",
        " * `errors = ignore` This will return the original data (the data we passed as an argument) if it encounters an error. No conversion will take place."
      ]
    },
    {
      "cell_type": "code",
      "metadata": {
        "colab": {
          "base_uri": "https://localhost:8080/"
        },
        "id": "RvklRN2uk8tg",
        "outputId": "3c92d008-f8a9-4014-d2ae-e6149b142192"
      },
      "source": [
        "#Let's convert the column type \r\n",
        "data[\"user_id\"] = pd.to_numeric(data[\"user_id\"], errors='coerce')\r\n",
        "\r\n",
        "#Now let's have a look at the dtypes once again\r\n",
        "data.dtypes\r\n"
      ],
      "execution_count": null,
      "outputs": [
        {
          "output_type": "execute_result",
          "data": {
            "text/plain": [
              "my_datetime    datetime64[ns]\n",
              "event                  object\n",
              "country                object\n",
              "user_id               float64\n",
              "source                 object\n",
              "topic                  object\n",
              "dtype: object"
            ]
          },
          "metadata": {
            "tags": []
          },
          "execution_count": 18
        }
      ]
    },
    {
      "cell_type": "markdown",
      "metadata": {
        "id": "LPH8sxAu8xdT"
      },
      "source": [
        "Since the number of possible countries is limited, we can convert that column to the categorical type with the `.astype()`function: "
      ]
    },
    {
      "cell_type": "code",
      "metadata": {
        "colab": {
          "base_uri": "https://localhost:8080/"
        },
        "id": "ns2RWHFp9Asl",
        "outputId": "561a86d2-1b87-40e6-8d74-e59331359d0f"
      },
      "source": [
        "#Change dtype\r\n",
        "data['country'] = data['country'].astype('category')\r\n",
        "\r\n",
        "#Now let's have a look at the dtypes once again\r\n",
        "data.dtypes\r\n",
        "\r\n"
      ],
      "execution_count": null,
      "outputs": [
        {
          "output_type": "execute_result",
          "data": {
            "text/plain": [
              "my_datetime    datetime64[ns]\n",
              "event                  object\n",
              "country              category\n",
              "user_id               float64\n",
              "source                 object\n",
              "topic                  object\n",
              "dtype: object"
            ]
          },
          "metadata": {
            "tags": []
          },
          "execution_count": 19
        }
      ]
    },
    {
      "cell_type": "markdown",
      "metadata": {
        "id": "orVO6jOCyVPd"
      },
      "source": [
        "### Dropping missing values\r\n",
        "\r\n",
        "Since our column contained some corrupted data, those cells were set to NaN. \r\n",
        "The function `.isnull()` will return a DataFrame with values:\r\n",
        " * False for cells where the data is not null\r\n",
        " * True for cells where the data is null\r\n",
        "\r\n",
        "We can then use `.sum()` to sum all values where the latter is True."
      ]
    },
    {
      "cell_type": "code",
      "metadata": {
        "colab": {
          "base_uri": "https://localhost:8080/"
        },
        "id": "_gred764ziGW",
        "outputId": "40a61102-6ecf-4bc7-d43d-8a94ff07d810"
      },
      "source": [
        "#Let's see how many column values are missing\r\n",
        "data.isnull().sum()"
      ],
      "execution_count": null,
      "outputs": [
        {
          "output_type": "execute_result",
          "data": {
            "text/plain": [
              "my_datetime    0\n",
              "event          0\n",
              "country        0\n",
              "user_id        4\n",
              "source         0\n",
              "topic          0\n",
              "dtype: int64"
            ]
          },
          "metadata": {
            "tags": []
          },
          "execution_count": 20
        }
      ]
    },
    {
      "cell_type": "markdown",
      "metadata": {
        "id": "qOJDUQuC1Gu2"
      },
      "source": [
        "We can now remove the missing values with the `.dropna()` function.\r\n",
        "If no argument is passed, this function will drop all rows where at least one of the values is missing."
      ]
    },
    {
      "cell_type": "code",
      "metadata": {
        "colab": {
          "base_uri": "https://localhost:8080/"
        },
        "id": "-ENKXDKG1Rv0",
        "outputId": "f56d12a5-ddcb-43f5-c79f-920e6887fd2a"
      },
      "source": [
        "#We first drop all the rows\r\n",
        "data = data.dropna()\r\n",
        "\r\n",
        "#Let's have another look\r\n",
        "data.isnull().sum()\r\n"
      ],
      "execution_count": null,
      "outputs": [
        {
          "output_type": "execute_result",
          "data": {
            "text/plain": [
              "my_datetime    0\n",
              "event          0\n",
              "country        0\n",
              "user_id        0\n",
              "source         0\n",
              "topic          0\n",
              "dtype: int64"
            ]
          },
          "metadata": {
            "tags": []
          },
          "execution_count": 21
        }
      ]
    },
    {
      "cell_type": "markdown",
      "metadata": {
        "id": "-XtrLvjFMc-3"
      },
      "source": [
        "---\n",
        "## 2. Loading JSON files\n",
        "\n",
        "Many of the data in the Internet exists in JSON format which is a structured text format, and is very similar to a Python dictionary.\n",
        "\n",
        "We will see how to load a JSON dataset in a Pandas DataFrame.\n",
        "\n",
        "We will use the Citibike API that provides a real-time view of the Citibike stations in New York.\n",
        "The API call at http://www.citibikenyc.com/stations/json."
      ]
    },
    {
      "cell_type": "code",
      "metadata": {
        "id": "foHCbrcbMc-4"
      },
      "source": [
        "import requests\n",
        "url = 'http://www.citibikenyc.com/stations/json'\n",
        "data = requests.get(url).json()\n",
        "data"
      ],
      "execution_count": null,
      "outputs": []
    },
    {
      "cell_type": "markdown",
      "metadata": {
        "id": "brBSqUruMc-6"
      },
      "source": [
        "Above you see how the JSON file looks. The JSON results contain two keys: The `executionTime` and `stationBeanList`. The `stationBeanList` is a list of dictionaries, with each dictionary corresponding to a Citibike station."
      ]
    },
    {
      "cell_type": "code",
      "metadata": {
        "colab": {
          "base_uri": "https://localhost:8080/"
        },
        "id": "z2kylbj1Mc-6",
        "outputId": "f2629cd1-6bd4-4ebd-8d28-eb74863a61a4"
      },
      "source": [
        "data.keys()"
      ],
      "execution_count": null,
      "outputs": [
        {
          "output_type": "execute_result",
          "data": {
            "text/plain": [
              "dict_keys(['executionTime', 'stationBeanList'])"
            ]
          },
          "metadata": {
            "tags": []
          },
          "execution_count": 12
        }
      ]
    },
    {
      "cell_type": "markdown",
      "metadata": {
        "id": "qn1UJ7ByMc-8"
      },
      "source": [
        "With Pandas we can easily convert a list of dictionaries into a DataFrame"
      ]
    },
    {
      "cell_type": "code",
      "metadata": {
        "colab": {
          "base_uri": "https://localhost:8080/",
          "height": 258
        },
        "id": "cGTXWwA3Mc-8",
        "outputId": "cc8598e1-e1da-44bb-cea3-4aec25ab0e0a"
      },
      "source": [
        "import pandas\n",
        "df = pandas.DataFrame(data[\"stationBeanList\"])\n",
        "df.head(5)"
      ],
      "execution_count": null,
      "outputs": [
        {
          "output_type": "execute_result",
          "data": {
            "text/html": [
              "<div>\n",
              "<style scoped>\n",
              "    .dataframe tbody tr th:only-of-type {\n",
              "        vertical-align: middle;\n",
              "    }\n",
              "\n",
              "    .dataframe tbody tr th {\n",
              "        vertical-align: top;\n",
              "    }\n",
              "\n",
              "    .dataframe thead th {\n",
              "        text-align: right;\n",
              "    }\n",
              "</style>\n",
              "<table border=\"1\" class=\"dataframe\">\n",
              "  <thead>\n",
              "    <tr style=\"text-align: right;\">\n",
              "      <th></th>\n",
              "      <th>id</th>\n",
              "      <th>stationName</th>\n",
              "      <th>availableDocks</th>\n",
              "      <th>totalDocks</th>\n",
              "      <th>latitude</th>\n",
              "      <th>longitude</th>\n",
              "      <th>statusValue</th>\n",
              "      <th>statusKey</th>\n",
              "      <th>availableBikes</th>\n",
              "      <th>stAddress1</th>\n",
              "      <th>stAddress2</th>\n",
              "      <th>city</th>\n",
              "      <th>postalCode</th>\n",
              "      <th>location</th>\n",
              "      <th>altitude</th>\n",
              "      <th>testStation</th>\n",
              "      <th>lastCommunicationTime</th>\n",
              "      <th>landMark</th>\n",
              "    </tr>\n",
              "  </thead>\n",
              "  <tbody>\n",
              "    <tr>\n",
              "      <th>0</th>\n",
              "      <td>72</td>\n",
              "      <td>W 52 St &amp; 11 Ave</td>\n",
              "      <td>32</td>\n",
              "      <td>39</td>\n",
              "      <td>40.767272</td>\n",
              "      <td>-73.993929</td>\n",
              "      <td>In Service</td>\n",
              "      <td>1</td>\n",
              "      <td>7</td>\n",
              "      <td>W 52 St &amp; 11 Ave</td>\n",
              "      <td></td>\n",
              "      <td></td>\n",
              "      <td></td>\n",
              "      <td></td>\n",
              "      <td></td>\n",
              "      <td>False</td>\n",
              "      <td>2016-01-22 04:30:15 PM</td>\n",
              "      <td></td>\n",
              "    </tr>\n",
              "    <tr>\n",
              "      <th>1</th>\n",
              "      <td>79</td>\n",
              "      <td>Franklin St &amp; W Broadway</td>\n",
              "      <td>0</td>\n",
              "      <td>33</td>\n",
              "      <td>40.719116</td>\n",
              "      <td>-74.006667</td>\n",
              "      <td>In Service</td>\n",
              "      <td>1</td>\n",
              "      <td>33</td>\n",
              "      <td>Franklin St &amp; W Broadway</td>\n",
              "      <td></td>\n",
              "      <td></td>\n",
              "      <td></td>\n",
              "      <td></td>\n",
              "      <td></td>\n",
              "      <td>False</td>\n",
              "      <td>2016-01-22 04:32:41 PM</td>\n",
              "      <td></td>\n",
              "    </tr>\n",
              "    <tr>\n",
              "      <th>2</th>\n",
              "      <td>82</td>\n",
              "      <td>St James Pl &amp; Pearl St</td>\n",
              "      <td>27</td>\n",
              "      <td>27</td>\n",
              "      <td>40.711174</td>\n",
              "      <td>-74.000165</td>\n",
              "      <td>In Service</td>\n",
              "      <td>1</td>\n",
              "      <td>0</td>\n",
              "      <td>St James Pl &amp; Pearl St</td>\n",
              "      <td></td>\n",
              "      <td></td>\n",
              "      <td></td>\n",
              "      <td></td>\n",
              "      <td></td>\n",
              "      <td>False</td>\n",
              "      <td>2016-01-22 04:29:41 PM</td>\n",
              "      <td></td>\n",
              "    </tr>\n",
              "    <tr>\n",
              "      <th>3</th>\n",
              "      <td>83</td>\n",
              "      <td>Atlantic Ave &amp; Fort Greene Pl</td>\n",
              "      <td>21</td>\n",
              "      <td>62</td>\n",
              "      <td>40.683826</td>\n",
              "      <td>-73.976323</td>\n",
              "      <td>In Service</td>\n",
              "      <td>1</td>\n",
              "      <td>40</td>\n",
              "      <td>Atlantic Ave &amp; Fort Greene Pl</td>\n",
              "      <td></td>\n",
              "      <td></td>\n",
              "      <td></td>\n",
              "      <td></td>\n",
              "      <td></td>\n",
              "      <td>False</td>\n",
              "      <td>2016-01-22 04:32:33 PM</td>\n",
              "      <td></td>\n",
              "    </tr>\n",
              "    <tr>\n",
              "      <th>4</th>\n",
              "      <td>116</td>\n",
              "      <td>W 17 St &amp; 8 Ave</td>\n",
              "      <td>19</td>\n",
              "      <td>39</td>\n",
              "      <td>40.741776</td>\n",
              "      <td>-74.001497</td>\n",
              "      <td>In Service</td>\n",
              "      <td>1</td>\n",
              "      <td>19</td>\n",
              "      <td>W 17 St &amp; 8 Ave</td>\n",
              "      <td></td>\n",
              "      <td></td>\n",
              "      <td></td>\n",
              "      <td></td>\n",
              "      <td></td>\n",
              "      <td>False</td>\n",
              "      <td>2016-01-22 04:32:32 PM</td>\n",
              "      <td></td>\n",
              "    </tr>\n",
              "  </tbody>\n",
              "</table>\n",
              "</div>"
            ],
            "text/plain": [
              "    id                    stationName  ...   lastCommunicationTime  landMark\n",
              "0   72               W 52 St & 11 Ave  ...  2016-01-22 04:30:15 PM          \n",
              "1   79       Franklin St & W Broadway  ...  2016-01-22 04:32:41 PM          \n",
              "2   82         St James Pl & Pearl St  ...  2016-01-22 04:29:41 PM          \n",
              "3   83  Atlantic Ave & Fort Greene Pl  ...  2016-01-22 04:32:33 PM          \n",
              "4  116                W 17 St & 8 Ave  ...  2016-01-22 04:32:32 PM          \n",
              "\n",
              "[5 rows x 18 columns]"
            ]
          },
          "metadata": {
            "tags": []
          },
          "execution_count": 13
        }
      ]
    },
    {
      "cell_type": "markdown",
      "metadata": {
        "id": "aj3pLebIMc--"
      },
      "source": [
        "Let's try to understand the columns:\n",
        "\n",
        "We notice that:\n",
        "\n",
        "- **totalDocks** = **availableBikes** (bikes ready to rent) + **availableDocks** (how many docks are free)\n",
        "\n",
        "To see if the data has been imported correctly, we can verify the datatypes of the columns."
      ]
    },
    {
      "cell_type": "code",
      "metadata": {
        "colab": {
          "base_uri": "https://localhost:8080/"
        },
        "id": "bfoc9F3cMc-_",
        "outputId": "8df628f5-143d-4f12-ffc3-345de6fc2182"
      },
      "source": [
        "df.dtypes"
      ],
      "execution_count": null,
      "outputs": [
        {
          "output_type": "execute_result",
          "data": {
            "text/plain": [
              "id                         int64\n",
              "stationName               object\n",
              "availableDocks             int64\n",
              "totalDocks                 int64\n",
              "latitude                 float64\n",
              "longitude                float64\n",
              "statusValue               object\n",
              "statusKey                  int64\n",
              "availableBikes             int64\n",
              "stAddress1                object\n",
              "stAddress2                object\n",
              "city                      object\n",
              "postalCode                object\n",
              "location                  object\n",
              "altitude                  object\n",
              "testStation                 bool\n",
              "lastCommunicationTime     object\n",
              "landMark                  object\n",
              "dtype: object"
            ]
          },
          "metadata": {
            "tags": []
          },
          "execution_count": 14
        }
      ]
    },
    {
      "cell_type": "markdown",
      "metadata": {
        "id": "4X686nV7Mc_A"
      },
      "source": [
        "One column that looks not parsed correctly is the **lastCommunicationTime** which is an `object` (i.e., `string`), so you may want to convert it to the `datetime` type."
      ]
    },
    {
      "cell_type": "markdown",
      "metadata": {
        "id": "AIa0SmY3Mc_B"
      },
      "source": [
        "<div class=\"alert alert-block alert-success\">\n",
        "    <h2>Exercise 2:</h2>\n",
        "\n",
        "\n",
        "    \n",
        ">Convert the **lastCommunicationTime** into a `datetime` datatype. <br>\n",
        "**Hint**: Use the [pandas.to_datetime](https://pandas.pydata.org/pandas-docs/stable/reference/api/pandas.to_datetime.html) function.\n",
        "</div>"
      ]
    },
    {
      "cell_type": "code",
      "metadata": {
        "id": "4vcySZxgMc_B"
      },
      "source": [
        "# Your solution here"
      ],
      "execution_count": null,
      "outputs": []
    },
    {
      "cell_type": "code",
      "metadata": {
        "id": "tew2O8FAMc_C"
      },
      "source": [
        "# df[\"lastCommunicationTime\"] = pd.to_datetime(df[\"lastCommunicationTime\"])\n",
        "# df.head()"
      ],
      "execution_count": null,
      "outputs": []
    },
    {
      "cell_type": "markdown",
      "metadata": {
        "id": "ecNvUVUpMc_E"
      },
      "source": [
        "Let's confirm that the **lastCommunicationTime** column is of type `datetime`."
      ]
    },
    {
      "cell_type": "markdown",
      "metadata": {
        "id": "TXSiopcaMc_E"
      },
      "source": [
        "### Adding a column\n",
        "\n",
        "We can add a column `perc_full` that shows how full is each station."
      ]
    },
    {
      "cell_type": "code",
      "metadata": {
        "colab": {
          "base_uri": "https://localhost:8080/",
          "height": 330
        },
        "id": "VSR1IzhEMc_E",
        "outputId": "4f50a9e9-1004-4a96-fe3f-6becdd13eaa7"
      },
      "source": [
        "df[\"perc_full\"] = df['availableBikes']/df['totalDocks']\n",
        "df.head()"
      ],
      "execution_count": null,
      "outputs": [
        {
          "output_type": "execute_result",
          "data": {
            "text/html": [
              "<div>\n",
              "<style scoped>\n",
              "    .dataframe tbody tr th:only-of-type {\n",
              "        vertical-align: middle;\n",
              "    }\n",
              "\n",
              "    .dataframe tbody tr th {\n",
              "        vertical-align: top;\n",
              "    }\n",
              "\n",
              "    .dataframe thead th {\n",
              "        text-align: right;\n",
              "    }\n",
              "</style>\n",
              "<table border=\"1\" class=\"dataframe\">\n",
              "  <thead>\n",
              "    <tr style=\"text-align: right;\">\n",
              "      <th></th>\n",
              "      <th>id</th>\n",
              "      <th>stationName</th>\n",
              "      <th>availableDocks</th>\n",
              "      <th>totalDocks</th>\n",
              "      <th>latitude</th>\n",
              "      <th>longitude</th>\n",
              "      <th>statusValue</th>\n",
              "      <th>statusKey</th>\n",
              "      <th>availableBikes</th>\n",
              "      <th>stAddress1</th>\n",
              "      <th>stAddress2</th>\n",
              "      <th>city</th>\n",
              "      <th>postalCode</th>\n",
              "      <th>location</th>\n",
              "      <th>altitude</th>\n",
              "      <th>testStation</th>\n",
              "      <th>lastCommunicationTime</th>\n",
              "      <th>landMark</th>\n",
              "      <th>perc_full</th>\n",
              "    </tr>\n",
              "  </thead>\n",
              "  <tbody>\n",
              "    <tr>\n",
              "      <th>0</th>\n",
              "      <td>72</td>\n",
              "      <td>W 52 St &amp; 11 Ave</td>\n",
              "      <td>32</td>\n",
              "      <td>39</td>\n",
              "      <td>40.767272</td>\n",
              "      <td>-73.993929</td>\n",
              "      <td>In Service</td>\n",
              "      <td>1</td>\n",
              "      <td>7</td>\n",
              "      <td>W 52 St &amp; 11 Ave</td>\n",
              "      <td></td>\n",
              "      <td></td>\n",
              "      <td></td>\n",
              "      <td></td>\n",
              "      <td></td>\n",
              "      <td>False</td>\n",
              "      <td>2016-01-22 04:30:15 PM</td>\n",
              "      <td></td>\n",
              "      <td>0.179487</td>\n",
              "    </tr>\n",
              "    <tr>\n",
              "      <th>1</th>\n",
              "      <td>79</td>\n",
              "      <td>Franklin St &amp; W Broadway</td>\n",
              "      <td>0</td>\n",
              "      <td>33</td>\n",
              "      <td>40.719116</td>\n",
              "      <td>-74.006667</td>\n",
              "      <td>In Service</td>\n",
              "      <td>1</td>\n",
              "      <td>33</td>\n",
              "      <td>Franklin St &amp; W Broadway</td>\n",
              "      <td></td>\n",
              "      <td></td>\n",
              "      <td></td>\n",
              "      <td></td>\n",
              "      <td></td>\n",
              "      <td>False</td>\n",
              "      <td>2016-01-22 04:32:41 PM</td>\n",
              "      <td></td>\n",
              "      <td>1.000000</td>\n",
              "    </tr>\n",
              "    <tr>\n",
              "      <th>2</th>\n",
              "      <td>82</td>\n",
              "      <td>St James Pl &amp; Pearl St</td>\n",
              "      <td>27</td>\n",
              "      <td>27</td>\n",
              "      <td>40.711174</td>\n",
              "      <td>-74.000165</td>\n",
              "      <td>In Service</td>\n",
              "      <td>1</td>\n",
              "      <td>0</td>\n",
              "      <td>St James Pl &amp; Pearl St</td>\n",
              "      <td></td>\n",
              "      <td></td>\n",
              "      <td></td>\n",
              "      <td></td>\n",
              "      <td></td>\n",
              "      <td>False</td>\n",
              "      <td>2016-01-22 04:29:41 PM</td>\n",
              "      <td></td>\n",
              "      <td>0.000000</td>\n",
              "    </tr>\n",
              "    <tr>\n",
              "      <th>3</th>\n",
              "      <td>83</td>\n",
              "      <td>Atlantic Ave &amp; Fort Greene Pl</td>\n",
              "      <td>21</td>\n",
              "      <td>62</td>\n",
              "      <td>40.683826</td>\n",
              "      <td>-73.976323</td>\n",
              "      <td>In Service</td>\n",
              "      <td>1</td>\n",
              "      <td>40</td>\n",
              "      <td>Atlantic Ave &amp; Fort Greene Pl</td>\n",
              "      <td></td>\n",
              "      <td></td>\n",
              "      <td></td>\n",
              "      <td></td>\n",
              "      <td></td>\n",
              "      <td>False</td>\n",
              "      <td>2016-01-22 04:32:33 PM</td>\n",
              "      <td></td>\n",
              "      <td>0.645161</td>\n",
              "    </tr>\n",
              "    <tr>\n",
              "      <th>4</th>\n",
              "      <td>116</td>\n",
              "      <td>W 17 St &amp; 8 Ave</td>\n",
              "      <td>19</td>\n",
              "      <td>39</td>\n",
              "      <td>40.741776</td>\n",
              "      <td>-74.001497</td>\n",
              "      <td>In Service</td>\n",
              "      <td>1</td>\n",
              "      <td>19</td>\n",
              "      <td>W 17 St &amp; 8 Ave</td>\n",
              "      <td></td>\n",
              "      <td></td>\n",
              "      <td></td>\n",
              "      <td></td>\n",
              "      <td></td>\n",
              "      <td>False</td>\n",
              "      <td>2016-01-22 04:32:32 PM</td>\n",
              "      <td></td>\n",
              "      <td>0.487179</td>\n",
              "    </tr>\n",
              "  </tbody>\n",
              "</table>\n",
              "</div>"
            ],
            "text/plain": [
              "    id                    stationName  ...  landMark  perc_full\n",
              "0   72               W 52 St & 11 Ave  ...             0.179487\n",
              "1   79       Franklin St & W Broadway  ...             1.000000\n",
              "2   82         St James Pl & Pearl St  ...             0.000000\n",
              "3   83  Atlantic Ave & Fort Greene Pl  ...             0.645161\n",
              "4  116                W 17 St & 8 Ave  ...             0.487179\n",
              "\n",
              "[5 rows x 19 columns]"
            ]
          },
          "metadata": {
            "tags": []
          },
          "execution_count": 16
        }
      ]
    },
    {
      "cell_type": "markdown",
      "metadata": {
        "id": "9Pfgz_WdiSzb"
      },
      "source": [
        "### `describe()`, `mean()`, `groupby()`, `where()`, and `sort_values()`\r\n",
        "It is often interesting to find simple statistics about a column like the mean, or the highest values. the functions named above are very helpful to do that."
      ]
    },
    {
      "cell_type": "code",
      "metadata": {
        "id": "pYFdLY-zl4MM",
        "colab": {
          "base_uri": "https://localhost:8080/",
          "height": 300
        },
        "outputId": "cccdedd3-bb73-4780-d9b2-783dcd926064"
      },
      "source": [
        "#The describe() function gives you some descriptive statistics about your DF\r\n",
        "df.describe()"
      ],
      "execution_count": null,
      "outputs": [
        {
          "output_type": "execute_result",
          "data": {
            "text/html": [
              "<div>\n",
              "<style scoped>\n",
              "    .dataframe tbody tr th:only-of-type {\n",
              "        vertical-align: middle;\n",
              "    }\n",
              "\n",
              "    .dataframe tbody tr th {\n",
              "        vertical-align: top;\n",
              "    }\n",
              "\n",
              "    .dataframe thead th {\n",
              "        text-align: right;\n",
              "    }\n",
              "</style>\n",
              "<table border=\"1\" class=\"dataframe\">\n",
              "  <thead>\n",
              "    <tr style=\"text-align: right;\">\n",
              "      <th></th>\n",
              "      <th>id</th>\n",
              "      <th>availableDocks</th>\n",
              "      <th>totalDocks</th>\n",
              "      <th>latitude</th>\n",
              "      <th>longitude</th>\n",
              "      <th>statusKey</th>\n",
              "      <th>availableBikes</th>\n",
              "      <th>perc_full</th>\n",
              "    </tr>\n",
              "  </thead>\n",
              "  <tbody>\n",
              "    <tr>\n",
              "      <th>count</th>\n",
              "      <td>509.000000</td>\n",
              "      <td>509.000000</td>\n",
              "      <td>509.000000</td>\n",
              "      <td>509.000000</td>\n",
              "      <td>509.000000</td>\n",
              "      <td>509.000000</td>\n",
              "      <td>509.000000</td>\n",
              "      <td>506.000000</td>\n",
              "    </tr>\n",
              "    <tr>\n",
              "      <th>mean</th>\n",
              "      <td>1438.563851</td>\n",
              "      <td>21.502947</td>\n",
              "      <td>32.779961</td>\n",
              "      <td>40.728369</td>\n",
              "      <td>-73.983516</td>\n",
              "      <td>1.015717</td>\n",
              "      <td>10.534381</td>\n",
              "      <td>0.319718</td>\n",
              "    </tr>\n",
              "    <tr>\n",
              "      <th>std</th>\n",
              "      <td>1334.345344</td>\n",
              "      <td>12.749035</td>\n",
              "      <td>11.397900</td>\n",
              "      <td>0.026755</td>\n",
              "      <td>0.028253</td>\n",
              "      <td>0.176773</td>\n",
              "      <td>10.171236</td>\n",
              "      <td>0.277337</td>\n",
              "    </tr>\n",
              "    <tr>\n",
              "      <th>min</th>\n",
              "      <td>72.000000</td>\n",
              "      <td>0.000000</td>\n",
              "      <td>0.000000</td>\n",
              "      <td>40.678907</td>\n",
              "      <td>-74.096937</td>\n",
              "      <td>1.000000</td>\n",
              "      <td>0.000000</td>\n",
              "      <td>0.000000</td>\n",
              "    </tr>\n",
              "    <tr>\n",
              "      <th>25%</th>\n",
              "      <td>346.000000</td>\n",
              "      <td>12.000000</td>\n",
              "      <td>24.000000</td>\n",
              "      <td>40.708771</td>\n",
              "      <td>-73.997044</td>\n",
              "      <td>1.000000</td>\n",
              "      <td>2.000000</td>\n",
              "      <td>0.080270</td>\n",
              "    </tr>\n",
              "    <tr>\n",
              "      <th>50%</th>\n",
              "      <td>488.000000</td>\n",
              "      <td>20.000000</td>\n",
              "      <td>31.000000</td>\n",
              "      <td>40.725603</td>\n",
              "      <td>-73.982614</td>\n",
              "      <td>1.000000</td>\n",
              "      <td>7.000000</td>\n",
              "      <td>0.255656</td>\n",
              "    </tr>\n",
              "    <tr>\n",
              "      <th>75%</th>\n",
              "      <td>3102.000000</td>\n",
              "      <td>28.000000</td>\n",
              "      <td>39.000000</td>\n",
              "      <td>40.749156</td>\n",
              "      <td>-73.962644</td>\n",
              "      <td>1.000000</td>\n",
              "      <td>16.000000</td>\n",
              "      <td>0.510993</td>\n",
              "    </tr>\n",
              "    <tr>\n",
              "      <th>max</th>\n",
              "      <td>3244.000000</td>\n",
              "      <td>62.000000</td>\n",
              "      <td>67.000000</td>\n",
              "      <td>40.787209</td>\n",
              "      <td>-73.929891</td>\n",
              "      <td>3.000000</td>\n",
              "      <td>46.000000</td>\n",
              "      <td>1.000000</td>\n",
              "    </tr>\n",
              "  </tbody>\n",
              "</table>\n",
              "</div>"
            ],
            "text/plain": [
              "                id  availableDocks  ...  availableBikes   perc_full\n",
              "count   509.000000      509.000000  ...      509.000000  506.000000\n",
              "mean   1438.563851       21.502947  ...       10.534381    0.319718\n",
              "std    1334.345344       12.749035  ...       10.171236    0.277337\n",
              "min      72.000000        0.000000  ...        0.000000    0.000000\n",
              "25%     346.000000       12.000000  ...        2.000000    0.080270\n",
              "50%     488.000000       20.000000  ...        7.000000    0.255656\n",
              "75%    3102.000000       28.000000  ...       16.000000    0.510993\n",
              "max    3244.000000       62.000000  ...       46.000000    1.000000\n",
              "\n",
              "[8 rows x 8 columns]"
            ]
          },
          "metadata": {
            "tags": []
          },
          "execution_count": 17
        }
      ]
    },
    {
      "cell_type": "markdown",
      "metadata": {
        "id": "LgyMBLoliSL5"
      },
      "source": [
        "First, let's suppose we want to find out how full the stations are on average (take the average of `perc_full`)."
      ]
    },
    {
      "cell_type": "code",
      "metadata": {
        "colab": {
          "base_uri": "https://localhost:8080/"
        },
        "id": "ELR-ph-ujqMP",
        "outputId": "6cf3e945-1559-4010-ff44-402e6f78e1bf"
      },
      "source": [
        "df['perc_full'].mean()"
      ],
      "execution_count": null,
      "outputs": [
        {
          "output_type": "execute_result",
          "data": {
            "text/plain": [
              "0.3197181112661129"
            ]
          },
          "metadata": {
            "tags": []
          },
          "execution_count": 29
        }
      ]
    },
    {
      "cell_type": "markdown",
      "metadata": {
        "id": "XMJPhCvoj1rv"
      },
      "source": [
        "There are two types of stations, the ones that are in service and the ones that are not. We can use a `.groupby()` argument to find out how full the stations are on average, depending on their 'statusValue'."
      ]
    },
    {
      "cell_type": "code",
      "metadata": {
        "colab": {
          "base_uri": "https://localhost:8080/"
        },
        "id": "yFWQgCEskAs0",
        "outputId": "2b282eb4-4486-444b-b85c-acc9f6f9c345"
      },
      "source": [
        "df.groupby('statusValue')['perc_full'].mean()"
      ],
      "execution_count": null,
      "outputs": [
        {
          "output_type": "execute_result",
          "data": {
            "text/plain": [
              "statusValue\n",
              "In Service        0.320987\n",
              "Not In Service    0.000000\n",
              "Name: perc_full, dtype: float64"
            ]
          },
          "metadata": {
            "tags": []
          },
          "execution_count": 30
        }
      ]
    },
    {
      "cell_type": "markdown",
      "metadata": {
        "id": "tHXLRKVak0ak"
      },
      "source": [
        "Let's say we are interested in knowing how full the stations with more that 50 docks are on average."
      ]
    },
    {
      "cell_type": "code",
      "metadata": {
        "colab": {
          "base_uri": "https://localhost:8080/"
        },
        "id": "xB-Hjbhaj1MZ",
        "outputId": "22363d24-a6a8-428b-c275-1fa9b436d510"
      },
      "source": [
        "df.where(df.totalDocks > 50)['perc_full'].mean()"
      ],
      "execution_count": null,
      "outputs": [
        {
          "output_type": "execute_result",
          "data": {
            "text/plain": [
              "0.21945010834302064"
            ]
          },
          "metadata": {
            "tags": []
          },
          "execution_count": 31
        }
      ]
    },
    {
      "cell_type": "markdown",
      "metadata": {
        "id": "Haa3eXePl1x5"
      },
      "source": [
        "Sometimes it is also useful to simply sort the values. When using the `sort_values()` function, it is crucial to indicated by which column the values should be sorted using the argument `by='column'`. Additionally, you need to specify if the values should be sorted highest first, or lowest first.\r\n",
        "\r\n",
        "- `sort_values(by='column', ascending=False)`: Will sort from highest to lowest.\r\n",
        "- `sort_values(by='column', ascending=True)`: Will sort from lowest to highest.\r\n",
        "\r\n",
        "For example, we can get the 3 stations that are the fullest."
      ]
    },
    {
      "cell_type": "code",
      "metadata": {
        "colab": {
          "base_uri": "https://localhost:8080/",
          "height": 193
        },
        "id": "yQhKtDxKmESF",
        "outputId": "ab39b3c5-0a5c-4790-ff18-73a243052e10"
      },
      "source": [
        "df.sort_values(by='perc_full', ascending=False).head(3)"
      ],
      "execution_count": null,
      "outputs": [
        {
          "output_type": "execute_result",
          "data": {
            "text/html": [
              "<div>\n",
              "<style scoped>\n",
              "    .dataframe tbody tr th:only-of-type {\n",
              "        vertical-align: middle;\n",
              "    }\n",
              "\n",
              "    .dataframe tbody tr th {\n",
              "        vertical-align: top;\n",
              "    }\n",
              "\n",
              "    .dataframe thead th {\n",
              "        text-align: right;\n",
              "    }\n",
              "</style>\n",
              "<table border=\"1\" class=\"dataframe\">\n",
              "  <thead>\n",
              "    <tr style=\"text-align: right;\">\n",
              "      <th></th>\n",
              "      <th>id</th>\n",
              "      <th>stationName</th>\n",
              "      <th>availableDocks</th>\n",
              "      <th>totalDocks</th>\n",
              "      <th>latitude</th>\n",
              "      <th>longitude</th>\n",
              "      <th>statusValue</th>\n",
              "      <th>statusKey</th>\n",
              "      <th>availableBikes</th>\n",
              "      <th>stAddress1</th>\n",
              "      <th>stAddress2</th>\n",
              "      <th>city</th>\n",
              "      <th>postalCode</th>\n",
              "      <th>location</th>\n",
              "      <th>altitude</th>\n",
              "      <th>testStation</th>\n",
              "      <th>lastCommunicationTime</th>\n",
              "      <th>landMark</th>\n",
              "      <th>perc_full</th>\n",
              "    </tr>\n",
              "  </thead>\n",
              "  <tbody>\n",
              "    <tr>\n",
              "      <th>405</th>\n",
              "      <td>3126</td>\n",
              "      <td>44 Dr &amp; Jackson Ave</td>\n",
              "      <td>0</td>\n",
              "      <td>34</td>\n",
              "      <td>40.747182</td>\n",
              "      <td>-73.943264</td>\n",
              "      <td>In Service</td>\n",
              "      <td>1</td>\n",
              "      <td>34</td>\n",
              "      <td>44 Dr &amp; Jackson Ave</td>\n",
              "      <td></td>\n",
              "      <td></td>\n",
              "      <td></td>\n",
              "      <td></td>\n",
              "      <td></td>\n",
              "      <td>False</td>\n",
              "      <td>2016-01-22 04:29:33 PM</td>\n",
              "      <td></td>\n",
              "      <td>1.0</td>\n",
              "    </tr>\n",
              "    <tr>\n",
              "      <th>124</th>\n",
              "      <td>343</td>\n",
              "      <td>Clinton Ave &amp; Flushing Ave</td>\n",
              "      <td>0</td>\n",
              "      <td>23</td>\n",
              "      <td>40.697940</td>\n",
              "      <td>-73.969868</td>\n",
              "      <td>In Service</td>\n",
              "      <td>1</td>\n",
              "      <td>23</td>\n",
              "      <td>Clinton Ave &amp; Flushing Ave</td>\n",
              "      <td></td>\n",
              "      <td></td>\n",
              "      <td></td>\n",
              "      <td></td>\n",
              "      <td></td>\n",
              "      <td>False</td>\n",
              "      <td>2016-01-22 04:29:40 PM</td>\n",
              "      <td></td>\n",
              "      <td>1.0</td>\n",
              "    </tr>\n",
              "    <tr>\n",
              "      <th>369</th>\n",
              "      <td>3090</td>\n",
              "      <td>N 8 St &amp; Driggs Ave</td>\n",
              "      <td>0</td>\n",
              "      <td>31</td>\n",
              "      <td>40.717746</td>\n",
              "      <td>-73.956001</td>\n",
              "      <td>In Service</td>\n",
              "      <td>1</td>\n",
              "      <td>31</td>\n",
              "      <td>N 8 St &amp; Driggs Ave</td>\n",
              "      <td></td>\n",
              "      <td></td>\n",
              "      <td></td>\n",
              "      <td></td>\n",
              "      <td></td>\n",
              "      <td>False</td>\n",
              "      <td>2016-01-22 04:30:49 PM</td>\n",
              "      <td></td>\n",
              "      <td>1.0</td>\n",
              "    </tr>\n",
              "  </tbody>\n",
              "</table>\n",
              "</div>"
            ],
            "text/plain": [
              "       id                 stationName  ...  landMark  perc_full\n",
              "405  3126         44 Dr & Jackson Ave  ...                  1.0\n",
              "124   343  Clinton Ave & Flushing Ave  ...                  1.0\n",
              "369  3090         N 8 St & Driggs Ave  ...                  1.0\n",
              "\n",
              "[3 rows x 19 columns]"
            ]
          },
          "metadata": {
            "tags": []
          },
          "execution_count": 32
        }
      ]
    },
    {
      "cell_type": "markdown",
      "metadata": {
        "id": "y5XMll81nqfG"
      },
      "source": [
        "We can see that these stations are all totally full (`perc_full` = 1.0). Let's say we then want to sort them by the amount of available bikes. To do this, simply specify a list of columns."
      ]
    },
    {
      "cell_type": "code",
      "metadata": {
        "colab": {
          "base_uri": "https://localhost:8080/",
          "height": 193
        },
        "id": "4eiu0j2in8Ks",
        "outputId": "a1b09033-16d6-440f-8206-58ac9d80dc36"
      },
      "source": [
        "df.sort_values(by=['perc_full', 'availableBikes'], ascending=False).head(3)"
      ],
      "execution_count": null,
      "outputs": [
        {
          "output_type": "execute_result",
          "data": {
            "text/html": [
              "<div>\n",
              "<style scoped>\n",
              "    .dataframe tbody tr th:only-of-type {\n",
              "        vertical-align: middle;\n",
              "    }\n",
              "\n",
              "    .dataframe tbody tr th {\n",
              "        vertical-align: top;\n",
              "    }\n",
              "\n",
              "    .dataframe thead th {\n",
              "        text-align: right;\n",
              "    }\n",
              "</style>\n",
              "<table border=\"1\" class=\"dataframe\">\n",
              "  <thead>\n",
              "    <tr style=\"text-align: right;\">\n",
              "      <th></th>\n",
              "      <th>id</th>\n",
              "      <th>stationName</th>\n",
              "      <th>availableDocks</th>\n",
              "      <th>totalDocks</th>\n",
              "      <th>latitude</th>\n",
              "      <th>longitude</th>\n",
              "      <th>statusValue</th>\n",
              "      <th>statusKey</th>\n",
              "      <th>availableBikes</th>\n",
              "      <th>stAddress1</th>\n",
              "      <th>stAddress2</th>\n",
              "      <th>city</th>\n",
              "      <th>postalCode</th>\n",
              "      <th>location</th>\n",
              "      <th>altitude</th>\n",
              "      <th>testStation</th>\n",
              "      <th>lastCommunicationTime</th>\n",
              "      <th>landMark</th>\n",
              "      <th>perc_full</th>\n",
              "    </tr>\n",
              "  </thead>\n",
              "  <tbody>\n",
              "    <tr>\n",
              "      <th>405</th>\n",
              "      <td>3126</td>\n",
              "      <td>44 Dr &amp; Jackson Ave</td>\n",
              "      <td>0</td>\n",
              "      <td>34</td>\n",
              "      <td>40.747182</td>\n",
              "      <td>-73.943264</td>\n",
              "      <td>In Service</td>\n",
              "      <td>1</td>\n",
              "      <td>34</td>\n",
              "      <td>44 Dr &amp; Jackson Ave</td>\n",
              "      <td></td>\n",
              "      <td></td>\n",
              "      <td></td>\n",
              "      <td></td>\n",
              "      <td></td>\n",
              "      <td>False</td>\n",
              "      <td>2016-01-22 04:29:33 PM</td>\n",
              "      <td></td>\n",
              "      <td>1.0</td>\n",
              "    </tr>\n",
              "    <tr>\n",
              "      <th>1</th>\n",
              "      <td>79</td>\n",
              "      <td>Franklin St &amp; W Broadway</td>\n",
              "      <td>0</td>\n",
              "      <td>33</td>\n",
              "      <td>40.719116</td>\n",
              "      <td>-74.006667</td>\n",
              "      <td>In Service</td>\n",
              "      <td>1</td>\n",
              "      <td>33</td>\n",
              "      <td>Franklin St &amp; W Broadway</td>\n",
              "      <td></td>\n",
              "      <td></td>\n",
              "      <td></td>\n",
              "      <td></td>\n",
              "      <td></td>\n",
              "      <td>False</td>\n",
              "      <td>2016-01-22 04:32:41 PM</td>\n",
              "      <td></td>\n",
              "      <td>1.0</td>\n",
              "    </tr>\n",
              "    <tr>\n",
              "      <th>369</th>\n",
              "      <td>3090</td>\n",
              "      <td>N 8 St &amp; Driggs Ave</td>\n",
              "      <td>0</td>\n",
              "      <td>31</td>\n",
              "      <td>40.717746</td>\n",
              "      <td>-73.956001</td>\n",
              "      <td>In Service</td>\n",
              "      <td>1</td>\n",
              "      <td>31</td>\n",
              "      <td>N 8 St &amp; Driggs Ave</td>\n",
              "      <td></td>\n",
              "      <td></td>\n",
              "      <td></td>\n",
              "      <td></td>\n",
              "      <td></td>\n",
              "      <td>False</td>\n",
              "      <td>2016-01-22 04:30:49 PM</td>\n",
              "      <td></td>\n",
              "      <td>1.0</td>\n",
              "    </tr>\n",
              "  </tbody>\n",
              "</table>\n",
              "</div>"
            ],
            "text/plain": [
              "       id               stationName  ...  landMark  perc_full\n",
              "405  3126       44 Dr & Jackson Ave  ...                  1.0\n",
              "1      79  Franklin St & W Broadway  ...                  1.0\n",
              "369  3090       N 8 St & Driggs Ave  ...                  1.0\n",
              "\n",
              "[3 rows x 19 columns]"
            ]
          },
          "metadata": {
            "tags": []
          },
          "execution_count": 33
        }
      ]
    },
    {
      "cell_type": "markdown",
      "metadata": {
        "id": "-K7O5s7uogwV"
      },
      "source": [
        "**Note:** If we would have like to sort by `perc_full` in descending order, but by `availableBikes` in ascending order, we would have used `ascending=[False, True]`."
      ]
    },
    {
      "cell_type": "markdown",
      "metadata": {
        "id": "ESYgL8A7Mc_P"
      },
      "source": [
        "---\n",
        "## Writing the data to a CSV\n",
        "\n",
        "With the above, we just scratched the surface of what it means to do data processing.\n",
        "\n",
        "After you did your basic data processing, you may want to save the DataFrame in a new CSV file, so that you don't have to repeat the same pre-processing everytime. You can use the [to_csv](https://datatofish.com/export-dataframe-to-csv/) function.\n",
        "\n",
        "**Note**: When you use Google Colab, this file will only be saved in your temporary virtual machine space and will be deleted once your Colab instance is closed (i.e. you close the window). If you want to explore more permanent solutions of saving your file look [here](https://colab.research.google.com/notebooks/io.ipynb).\n"
      ]
    },
    {
      "cell_type": "code",
      "metadata": {
        "id": "geghC3KjMc_Q"
      },
      "source": [
        "# uncomment the following to save the file\n",
        "# df.to_csv(\"my_new_file.csv\", sep=\",\")"
      ],
      "execution_count": null,
      "outputs": []
    }
  ]
}
