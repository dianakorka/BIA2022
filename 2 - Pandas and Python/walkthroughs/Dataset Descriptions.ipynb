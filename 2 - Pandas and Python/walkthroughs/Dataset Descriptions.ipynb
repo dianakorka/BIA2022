{
  "nbformat": 4,
  "nbformat_minor": 0,
  "metadata": {
    "kernelspec": {
      "display_name": "Python 3",
      "language": "python",
      "name": "python3"
    },
    "language_info": {
      "codemirror_mode": {
        "name": "ipython",
        "version": 3
      },
      "file_extension": ".py",
      "mimetype": "text/x-python",
      "name": "python",
      "nbconvert_exporter": "python",
      "pygments_lexer": "ipython3",
      "version": "3.7.6"
    },
    "colab": {
      "name": "Dataset Descriptions.ipynb",
      "provenance": [],
      "include_colab_link": true
    }
  },
  "cells": [
    {
      "cell_type": "markdown",
      "metadata": {
        "id": "view-in-github",
        "colab_type": "text"
      },
      "source": [
        "<a href=\"https://colab.research.google.com/github/michalis0/Business-Intelligence-and-Analytics/blob/master/2%20-%20Pandas%20and%20Python/walkthroughs/Dataset%20Descriptions.ipynb\" target=\"_parent\"><img src=\"https://colab.research.google.com/assets/colab-badge.svg\" alt=\"Open In Colab\"/></a>"
      ]
    },
    {
      "cell_type": "markdown",
      "metadata": {
        "id": "ULUmO5XkXCxp"
      },
      "source": [
        "# Dataset Descriptions\n",
        "This notebook contains the descriptions of all the datasets used during the tutorials found within this [Learning Pandas repository](https://github.com/tdpetrou/Learn-Pandas).\n",
        "\n",
        "### Datasets\n",
        "* [Employee](#Employee-Data)\n",
        "* [Stack Overflow](#Stack-Overflow-Data)\n",
        "* [Food Inspections](#Food-Inspections-Data)"
      ]
    },
    {
      "cell_type": "markdown",
      "metadata": {
        "id": "in5FZODkXCxq"
      },
      "source": [
        "## Helper Function\n",
        "The below **`create_description_table`** function can help create datasets descriptions for any DataFrame. You must first import each DataFrame in as normal and then pass it to the function. You must also pass it a list of the **`descriptions`** as strings."
      ]
    },
    {
      "cell_type": "code",
      "metadata": {
        "collapsed": true,
        "id": "IK174zF2XCxr"
      },
      "source": [
        "def create_description_table(df, descriptions, round_num=2):\n",
        "    df_desc = df.dtypes.to_frame(name='Data Type')\n",
        "    df_desc['Description'] = descriptions\n",
        "    df_desc['Missing Values'] = df.isnull().sum()\n",
        "    df_desc['Mean'] = df.select_dtypes('number').mean().round(round_num)\n",
        "    df_desc['Most Common'] = df.apply(lambda x: x.value_counts().index[0])\n",
        "    df_desc['Most Common Ct'] = df.apply(lambda x: x.value_counts().iloc[0])\n",
        "    df_desc['Unique Values'] = df.nunique()\n",
        "    return df_desc"
      ],
      "execution_count": 8,
      "outputs": []
    },
    {
      "cell_type": "markdown",
      "metadata": {
        "id": "pnojkZgNXCxr"
      },
      "source": [
        "# Employee Data\n",
        "\n",
        "### Brief Overview\n",
        "The city of Houston provides information on all its employees to the public. This is a random sample of 2,000 employees with a selection of the more interesting columns. For more on [open Houston data visit their website](http://data.houstontx.gov/). Data was pulled in December, 2016."
      ]
    },
    {
      "cell_type": "code",
      "metadata": {
        "collapsed": true,
        "id": "NjFoQawJXCxs"
      },
      "source": [
        "import pandas as pd"
      ],
      "execution_count": 9,
      "outputs": []
    },
    {
      "cell_type": "code",
      "metadata": {
        "id": "T5EmSzEnXCxs",
        "colab": {
          "base_uri": "https://localhost:8080/",
          "height": 195
        },
        "outputId": "10ffd9a0-b13f-4382-a230-ebadf04fe940"
      },
      "source": [
        "employee = pd.read_csv('https://raw.githubusercontent.com/michalis0/Business-Intelligence-and-Analytics/master/week2%20-%20Pandas%20and%20Python/Pandas/data/employee.csv', parse_dates=['HIRE_DATE', 'JOB_DATE'])\n",
        "employee.head()"
      ],
      "execution_count": 10,
      "outputs": [
        {
          "output_type": "execute_result",
          "data": {
            "text/html": [
              "<div>\n",
              "<style scoped>\n",
              "    .dataframe tbody tr th:only-of-type {\n",
              "        vertical-align: middle;\n",
              "    }\n",
              "\n",
              "    .dataframe tbody tr th {\n",
              "        vertical-align: top;\n",
              "    }\n",
              "\n",
              "    .dataframe thead th {\n",
              "        text-align: right;\n",
              "    }\n",
              "</style>\n",
              "<table border=\"1\" class=\"dataframe\">\n",
              "  <thead>\n",
              "    <tr style=\"text-align: right;\">\n",
              "      <th></th>\n",
              "      <th>POSITION_TITLE</th>\n",
              "      <th>DEPARTMENT</th>\n",
              "      <th>BASE_SALARY</th>\n",
              "      <th>ETHNICITY</th>\n",
              "      <th>EMPLOYMENT_TYPE</th>\n",
              "      <th>GENDER</th>\n",
              "      <th>HIRE_DATE</th>\n",
              "      <th>JOB_DATE</th>\n",
              "    </tr>\n",
              "  </thead>\n",
              "  <tbody>\n",
              "    <tr>\n",
              "      <th>0</th>\n",
              "      <td>ASSISTANT DIRECTOR (EX LVL)</td>\n",
              "      <td>Municipal Courts Department</td>\n",
              "      <td>121862.0</td>\n",
              "      <td>Hispanic/Latino</td>\n",
              "      <td>Full Time</td>\n",
              "      <td>Female</td>\n",
              "      <td>2006-06-12</td>\n",
              "      <td>2012-10-13</td>\n",
              "    </tr>\n",
              "    <tr>\n",
              "      <th>1</th>\n",
              "      <td>LIBRARY ASSISTANT</td>\n",
              "      <td>Library</td>\n",
              "      <td>26125.0</td>\n",
              "      <td>Hispanic/Latino</td>\n",
              "      <td>Full Time</td>\n",
              "      <td>Female</td>\n",
              "      <td>2000-07-19</td>\n",
              "      <td>2010-09-18</td>\n",
              "    </tr>\n",
              "    <tr>\n",
              "      <th>2</th>\n",
              "      <td>POLICE OFFICER</td>\n",
              "      <td>Houston Police Department-HPD</td>\n",
              "      <td>45279.0</td>\n",
              "      <td>White</td>\n",
              "      <td>Full Time</td>\n",
              "      <td>Male</td>\n",
              "      <td>2015-02-03</td>\n",
              "      <td>2015-02-03</td>\n",
              "    </tr>\n",
              "    <tr>\n",
              "      <th>3</th>\n",
              "      <td>ENGINEER/OPERATOR</td>\n",
              "      <td>Houston Fire Department (HFD)</td>\n",
              "      <td>63166.0</td>\n",
              "      <td>White</td>\n",
              "      <td>Full Time</td>\n",
              "      <td>Male</td>\n",
              "      <td>1982-02-08</td>\n",
              "      <td>1991-05-25</td>\n",
              "    </tr>\n",
              "    <tr>\n",
              "      <th>4</th>\n",
              "      <td>ELECTRICIAN</td>\n",
              "      <td>General Services Department</td>\n",
              "      <td>56347.0</td>\n",
              "      <td>White</td>\n",
              "      <td>Full Time</td>\n",
              "      <td>Male</td>\n",
              "      <td>1989-06-19</td>\n",
              "      <td>1994-10-22</td>\n",
              "    </tr>\n",
              "  </tbody>\n",
              "</table>\n",
              "</div>"
            ],
            "text/plain": [
              "                POSITION_TITLE  ...   JOB_DATE\n",
              "0  ASSISTANT DIRECTOR (EX LVL)  ... 2012-10-13\n",
              "1            LIBRARY ASSISTANT  ... 2010-09-18\n",
              "2               POLICE OFFICER  ... 2015-02-03\n",
              "3            ENGINEER/OPERATOR  ... 1991-05-25\n",
              "4                  ELECTRICIAN  ... 1994-10-22\n",
              "\n",
              "[5 rows x 8 columns]"
            ]
          },
          "metadata": {
            "tags": []
          },
          "execution_count": 10
        }
      ]
    },
    {
      "cell_type": "code",
      "metadata": {
        "id": "h7066LTfXCxt",
        "colab": {
          "base_uri": "https://localhost:8080/"
        },
        "outputId": "d3f439c4-5b64-4ce1-81a5-22e47d40e95d"
      },
      "source": [
        "employee.shape"
      ],
      "execution_count": 11,
      "outputs": [
        {
          "output_type": "execute_result",
          "data": {
            "text/plain": [
              "(2000, 8)"
            ]
          },
          "metadata": {
            "tags": []
          },
          "execution_count": 11
        }
      ]
    },
    {
      "cell_type": "code",
      "metadata": {
        "id": "44rdOZCfXCxt"
      },
      "source": [
        "descriptions = ['Position', 'Department', 'Base salary', 'Ethnicity', \n",
        "                'Full time/Part time/Temporary, etc...', 'Gender', \n",
        "                'Date hired', 'Date current job began']"
      ],
      "execution_count": 12,
      "outputs": []
    },
    {
      "cell_type": "code",
      "metadata": {
        "id": "Hsp8cbnxXCxt",
        "colab": {
          "base_uri": "https://localhost:8080/",
          "height": 284
        },
        "outputId": "fd65d5b3-55c0-4a88-d139-b83dd14b36bb"
      },
      "source": [
        "create_description_table(employee, descriptions)"
      ],
      "execution_count": 13,
      "outputs": [
        {
          "output_type": "execute_result",
          "data": {
            "text/html": [
              "<div>\n",
              "<style scoped>\n",
              "    .dataframe tbody tr th:only-of-type {\n",
              "        vertical-align: middle;\n",
              "    }\n",
              "\n",
              "    .dataframe tbody tr th {\n",
              "        vertical-align: top;\n",
              "    }\n",
              "\n",
              "    .dataframe thead th {\n",
              "        text-align: right;\n",
              "    }\n",
              "</style>\n",
              "<table border=\"1\" class=\"dataframe\">\n",
              "  <thead>\n",
              "    <tr style=\"text-align: right;\">\n",
              "      <th></th>\n",
              "      <th>Data Type</th>\n",
              "      <th>Description</th>\n",
              "      <th>Missing Values</th>\n",
              "      <th>Mean</th>\n",
              "      <th>Most Common</th>\n",
              "      <th>Most Common Ct</th>\n",
              "      <th>Unique Values</th>\n",
              "    </tr>\n",
              "  </thead>\n",
              "  <tbody>\n",
              "    <tr>\n",
              "      <th>POSITION_TITLE</th>\n",
              "      <td>object</td>\n",
              "      <td>Position</td>\n",
              "      <td>0</td>\n",
              "      <td>NaN</td>\n",
              "      <td>SENIOR POLICE OFFICER</td>\n",
              "      <td>220</td>\n",
              "      <td>330</td>\n",
              "    </tr>\n",
              "    <tr>\n",
              "      <th>DEPARTMENT</th>\n",
              "      <td>object</td>\n",
              "      <td>Department</td>\n",
              "      <td>0</td>\n",
              "      <td>NaN</td>\n",
              "      <td>Houston Police Department-HPD</td>\n",
              "      <td>638</td>\n",
              "      <td>24</td>\n",
              "    </tr>\n",
              "    <tr>\n",
              "      <th>BASE_SALARY</th>\n",
              "      <td>float64</td>\n",
              "      <td>Base salary</td>\n",
              "      <td>114</td>\n",
              "      <td>55767.93</td>\n",
              "      <td>66614</td>\n",
              "      <td>157</td>\n",
              "      <td>791</td>\n",
              "    </tr>\n",
              "    <tr>\n",
              "      <th>ETHNICITY</th>\n",
              "      <td>object</td>\n",
              "      <td>Ethnicity</td>\n",
              "      <td>35</td>\n",
              "      <td>NaN</td>\n",
              "      <td>Black or African American</td>\n",
              "      <td>700</td>\n",
              "      <td>6</td>\n",
              "    </tr>\n",
              "    <tr>\n",
              "      <th>EMPLOYMENT_TYPE</th>\n",
              "      <td>object</td>\n",
              "      <td>Full time/Part time/Temporary, etc...</td>\n",
              "      <td>0</td>\n",
              "      <td>NaN</td>\n",
              "      <td>Full Time</td>\n",
              "      <td>1954</td>\n",
              "      <td>5</td>\n",
              "    </tr>\n",
              "    <tr>\n",
              "      <th>GENDER</th>\n",
              "      <td>object</td>\n",
              "      <td>Gender</td>\n",
              "      <td>0</td>\n",
              "      <td>NaN</td>\n",
              "      <td>Male</td>\n",
              "      <td>1397</td>\n",
              "      <td>2</td>\n",
              "    </tr>\n",
              "    <tr>\n",
              "      <th>HIRE_DATE</th>\n",
              "      <td>datetime64[ns]</td>\n",
              "      <td>Date hired</td>\n",
              "      <td>0</td>\n",
              "      <td>NaN</td>\n",
              "      <td>2016-03-28 00:00:00</td>\n",
              "      <td>11</td>\n",
              "      <td>999</td>\n",
              "    </tr>\n",
              "    <tr>\n",
              "      <th>JOB_DATE</th>\n",
              "      <td>datetime64[ns]</td>\n",
              "      <td>Date current job began</td>\n",
              "      <td>3</td>\n",
              "      <td>NaN</td>\n",
              "      <td>2002-01-05 00:00:00</td>\n",
              "      <td>34</td>\n",
              "      <td>947</td>\n",
              "    </tr>\n",
              "  </tbody>\n",
              "</table>\n",
              "</div>"
            ],
            "text/plain": [
              "                      Data Type  ... Unique Values\n",
              "POSITION_TITLE           object  ...           330\n",
              "DEPARTMENT               object  ...            24\n",
              "BASE_SALARY             float64  ...           791\n",
              "ETHNICITY                object  ...             6\n",
              "EMPLOYMENT_TYPE          object  ...             5\n",
              "GENDER                   object  ...             2\n",
              "HIRE_DATE        datetime64[ns]  ...           999\n",
              "JOB_DATE         datetime64[ns]  ...           947\n",
              "\n",
              "[8 rows x 7 columns]"
            ]
          },
          "metadata": {
            "tags": []
          },
          "execution_count": 13
        }
      ]
    },
    {
      "cell_type": "markdown",
      "metadata": {
        "id": "NpAeydAQXCxu"
      },
      "source": [
        "# Stack Overflow Data\n",
        "This data was gathered from the [Stack Exchange data explorer](https://data.stackexchange.com/), an excellent tool to get almost any data you want from any of the Stack Exchange sites.\n",
        "\n",
        "This particular dataset was collected December 7, 2017 with [this query](http://data.stackexchange.com/stackoverflow/query/768430/get-all-questions-and-answerers-from-tag). You'll have to run the query twice to get all the data because the query exceeds 50,000, the maximum allowable number of rows. Switch the inequality on the **`creationdate`** in the `where` clause to do so."
      ]
    },
    {
      "cell_type": "code",
      "metadata": {
        "id": "ASsu4S-nXCxu",
        "colab": {
          "base_uri": "https://localhost:8080/",
          "height": 204
        },
        "outputId": "fcf7e9c0-ca4b-44dc-e2b4-fa20e2db8747"
      },
      "source": [
        "so = pd.read_csv('https://github.com/michalis0/Business-Intelligence-and-Analytics/blob/master/week2%20-%20Pandas%20and%20Python/Pandas/data/stackoverflow_qa.csv?raw=true')\n",
        "so.head()"
      ],
      "execution_count": null,
      "outputs": [
        {
          "output_type": "execute_result",
          "data": {
            "text/html": [
              "<div>\n",
              "<style scoped>\n",
              "    .dataframe tbody tr th:only-of-type {\n",
              "        vertical-align: middle;\n",
              "    }\n",
              "\n",
              "    .dataframe tbody tr th {\n",
              "        vertical-align: top;\n",
              "    }\n",
              "\n",
              "    .dataframe thead th {\n",
              "        text-align: right;\n",
              "    }\n",
              "</style>\n",
              "<table border=\"1\" class=\"dataframe\">\n",
              "  <thead>\n",
              "    <tr style=\"text-align: right;\">\n",
              "      <th></th>\n",
              "      <th>id</th>\n",
              "      <th>creationdate</th>\n",
              "      <th>score</th>\n",
              "      <th>viewcount</th>\n",
              "      <th>title</th>\n",
              "      <th>answercount</th>\n",
              "      <th>commentcount</th>\n",
              "      <th>favoritecount</th>\n",
              "      <th>quest_name</th>\n",
              "      <th>quest_rep</th>\n",
              "      <th>ans_name</th>\n",
              "      <th>ans_rep</th>\n",
              "    </tr>\n",
              "  </thead>\n",
              "  <tbody>\n",
              "    <tr>\n",
              "      <th>0</th>\n",
              "      <td>5486226</td>\n",
              "      <td>2011-03-30 12:26:50</td>\n",
              "      <td>4</td>\n",
              "      <td>2113</td>\n",
              "      <td>Rolling median in python</td>\n",
              "      <td>3</td>\n",
              "      <td>4</td>\n",
              "      <td>1.0</td>\n",
              "      <td>yueerhu</td>\n",
              "      <td>125.0</td>\n",
              "      <td>Mike Pennington</td>\n",
              "      <td>26995.0</td>\n",
              "    </tr>\n",
              "    <tr>\n",
              "      <th>1</th>\n",
              "      <td>5515021</td>\n",
              "      <td>2011-04-01 14:50:44</td>\n",
              "      <td>8</td>\n",
              "      <td>7015</td>\n",
              "      <td>Compute a compounded return series in Python</td>\n",
              "      <td>3</td>\n",
              "      <td>6</td>\n",
              "      <td>7.0</td>\n",
              "      <td>Jason Strimpel</td>\n",
              "      <td>3301.0</td>\n",
              "      <td>Mike Pennington</td>\n",
              "      <td>26995.0</td>\n",
              "    </tr>\n",
              "    <tr>\n",
              "      <th>2</th>\n",
              "      <td>5558607</td>\n",
              "      <td>2011-04-05 21:13:50</td>\n",
              "      <td>2</td>\n",
              "      <td>7392</td>\n",
              "      <td>Sort a pandas DataMatrix in ascending order</td>\n",
              "      <td>2</td>\n",
              "      <td>0</td>\n",
              "      <td>1.0</td>\n",
              "      <td>Jason Strimpel</td>\n",
              "      <td>3301.0</td>\n",
              "      <td>Wes McKinney</td>\n",
              "      <td>43310.0</td>\n",
              "    </tr>\n",
              "    <tr>\n",
              "      <th>3</th>\n",
              "      <td>6467832</td>\n",
              "      <td>2011-06-24 12:31:45</td>\n",
              "      <td>9</td>\n",
              "      <td>13056</td>\n",
              "      <td>How to get the correlation between two timeser...</td>\n",
              "      <td>1</td>\n",
              "      <td>0</td>\n",
              "      <td>7.0</td>\n",
              "      <td>user814005</td>\n",
              "      <td>117.0</td>\n",
              "      <td>Wes McKinney</td>\n",
              "      <td>43310.0</td>\n",
              "    </tr>\n",
              "    <tr>\n",
              "      <th>4</th>\n",
              "      <td>7577546</td>\n",
              "      <td>2011-09-28 01:58:38</td>\n",
              "      <td>9</td>\n",
              "      <td>2488</td>\n",
              "      <td>Using pandas, how do I subsample a large DataF...</td>\n",
              "      <td>1</td>\n",
              "      <td>0</td>\n",
              "      <td>5.0</td>\n",
              "      <td>Uri Laserson</td>\n",
              "      <td>958.0</td>\n",
              "      <td>HYRY</td>\n",
              "      <td>54137.0</td>\n",
              "    </tr>\n",
              "  </tbody>\n",
              "</table>\n",
              "</div>"
            ],
            "text/plain": [
              "        id         creationdate  score  ...  quest_rep         ans_name  ans_rep\n",
              "0  5486226  2011-03-30 12:26:50      4  ...      125.0  Mike Pennington  26995.0\n",
              "1  5515021  2011-04-01 14:50:44      8  ...     3301.0  Mike Pennington  26995.0\n",
              "2  5558607  2011-04-05 21:13:50      2  ...     3301.0     Wes McKinney  43310.0\n",
              "3  6467832  2011-06-24 12:31:45      9  ...      117.0     Wes McKinney  43310.0\n",
              "4  7577546  2011-09-28 01:58:38      9  ...      958.0             HYRY  54137.0\n",
              "\n",
              "[5 rows x 12 columns]"
            ]
          },
          "metadata": {
            "tags": []
          },
          "execution_count": 7
        }
      ]
    },
    {
      "cell_type": "code",
      "metadata": {
        "id": "X5APAHdWXCxu",
        "colab": {
          "base_uri": "https://localhost:8080/"
        },
        "outputId": "55c7d43b-98d2-45c9-d7a7-b1b9212e3e12"
      },
      "source": [
        "so.shape"
      ],
      "execution_count": null,
      "outputs": [
        {
          "output_type": "execute_result",
          "data": {
            "text/plain": [
              "(56398, 12)"
            ]
          },
          "metadata": {
            "tags": []
          },
          "execution_count": 8
        }
      ]
    },
    {
      "cell_type": "code",
      "metadata": {
        "collapsed": true,
        "id": "m95ZEfoLXCxv"
      },
      "source": [
        "descriptions = ['Question ID', 'Creation date', '# of question upvotes', 'View count',\n",
        "                'Question Title', 'Number of Answers', 'Number of comments for Question',\n",
        "                'Number of favorites for Question', 'User name of question author',\n",
        "                'Reputation of question author', 'User name of selected answer author',\n",
        "                'Reputation of selected answer author']"
      ],
      "execution_count": null,
      "outputs": []
    },
    {
      "cell_type": "code",
      "metadata": {
        "id": "v6ABUT77XCxv",
        "colab": {
          "base_uri": "https://localhost:8080/",
          "height": 421
        },
        "outputId": "aae10f36-a840-4995-ee25-eb1a5a1bfccc"
      },
      "source": [
        "create_description_table(so, descriptions)"
      ],
      "execution_count": null,
      "outputs": [
        {
          "output_type": "execute_result",
          "data": {
            "text/html": [
              "<div>\n",
              "<style scoped>\n",
              "    .dataframe tbody tr th:only-of-type {\n",
              "        vertical-align: middle;\n",
              "    }\n",
              "\n",
              "    .dataframe tbody tr th {\n",
              "        vertical-align: top;\n",
              "    }\n",
              "\n",
              "    .dataframe thead th {\n",
              "        text-align: right;\n",
              "    }\n",
              "</style>\n",
              "<table border=\"1\" class=\"dataframe\">\n",
              "  <thead>\n",
              "    <tr style=\"text-align: right;\">\n",
              "      <th></th>\n",
              "      <th>Data Type</th>\n",
              "      <th>Description</th>\n",
              "      <th>Missing Values</th>\n",
              "      <th>Mean</th>\n",
              "      <th>Most Common</th>\n",
              "      <th>Most Common Ct</th>\n",
              "      <th>Unique Values</th>\n",
              "    </tr>\n",
              "  </thead>\n",
              "  <tbody>\n",
              "    <tr>\n",
              "      <th>id</th>\n",
              "      <td>int64</td>\n",
              "      <td>Question ID</td>\n",
              "      <td>0</td>\n",
              "      <td>36953124.64</td>\n",
              "      <td>20087530</td>\n",
              "      <td>1</td>\n",
              "      <td>56398</td>\n",
              "    </tr>\n",
              "    <tr>\n",
              "      <th>creationdate</th>\n",
              "      <td>object</td>\n",
              "      <td>Creation date</td>\n",
              "      <td>0</td>\n",
              "      <td>NaN</td>\n",
              "      <td>2016-10-26 08:38:58</td>\n",
              "      <td>2</td>\n",
              "      <td>56378</td>\n",
              "    </tr>\n",
              "    <tr>\n",
              "      <th>score</th>\n",
              "      <td>int64</td>\n",
              "      <td># of question upvotes</td>\n",
              "      <td>0</td>\n",
              "      <td>1.98</td>\n",
              "      <td>0</td>\n",
              "      <td>18530</td>\n",
              "      <td>159</td>\n",
              "    </tr>\n",
              "    <tr>\n",
              "      <th>viewcount</th>\n",
              "      <td>int64</td>\n",
              "      <td>View count</td>\n",
              "      <td>0</td>\n",
              "      <td>1416.34</td>\n",
              "      <td>38</td>\n",
              "      <td>550</td>\n",
              "      <td>5978</td>\n",
              "    </tr>\n",
              "    <tr>\n",
              "      <th>title</th>\n",
              "      <td>object</td>\n",
              "      <td>Question Title</td>\n",
              "      <td>0</td>\n",
              "      <td>NaN</td>\n",
              "      <td>cannot write file with full path in Python</td>\n",
              "      <td>2</td>\n",
              "      <td>56392</td>\n",
              "    </tr>\n",
              "    <tr>\n",
              "      <th>answercount</th>\n",
              "      <td>int64</td>\n",
              "      <td>Number of Answers</td>\n",
              "      <td>0</td>\n",
              "      <td>1.38</td>\n",
              "      <td>1</td>\n",
              "      <td>31299</td>\n",
              "      <td>19</td>\n",
              "    </tr>\n",
              "    <tr>\n",
              "      <th>commentcount</th>\n",
              "      <td>int64</td>\n",
              "      <td>Number of comments for Question</td>\n",
              "      <td>0</td>\n",
              "      <td>1.65</td>\n",
              "      <td>0</td>\n",
              "      <td>26321</td>\n",
              "      <td>26</td>\n",
              "    </tr>\n",
              "    <tr>\n",
              "      <th>favoritecount</th>\n",
              "      <td>float64</td>\n",
              "      <td>Number of favorites for Question</td>\n",
              "      <td>43741</td>\n",
              "      <td>2.33</td>\n",
              "      <td>1</td>\n",
              "      <td>7326</td>\n",
              "      <td>81</td>\n",
              "    </tr>\n",
              "    <tr>\n",
              "      <th>quest_name</th>\n",
              "      <td>object</td>\n",
              "      <td>User name of question author</td>\n",
              "      <td>299</td>\n",
              "      <td>NaN</td>\n",
              "      <td>user308827</td>\n",
              "      <td>241</td>\n",
              "      <td>19848</td>\n",
              "    </tr>\n",
              "    <tr>\n",
              "      <th>quest_rep</th>\n",
              "      <td>float64</td>\n",
              "      <td>Reputation of question author</td>\n",
              "      <td>291</td>\n",
              "      <td>1637.93</td>\n",
              "      <td>1</td>\n",
              "      <td>1502</td>\n",
              "      <td>2668</td>\n",
              "    </tr>\n",
              "    <tr>\n",
              "      <th>ans_name</th>\n",
              "      <td>object</td>\n",
              "      <td>User name of selected answer author</td>\n",
              "      <td>19119</td>\n",
              "      <td>NaN</td>\n",
              "      <td>jezrael</td>\n",
              "      <td>5436</td>\n",
              "      <td>4907</td>\n",
              "    </tr>\n",
              "    <tr>\n",
              "      <th>ans_rep</th>\n",
              "      <td>float64</td>\n",
              "      <td>Reputation of selected answer author</td>\n",
              "      <td>19117</td>\n",
              "      <td>74849.53</td>\n",
              "      <td>186894</td>\n",
              "      <td>5436</td>\n",
              "      <td>2648</td>\n",
              "    </tr>\n",
              "  </tbody>\n",
              "</table>\n",
              "</div>"
            ],
            "text/plain": [
              "              Data Type  ... Unique Values\n",
              "id                int64  ...         56398\n",
              "creationdate     object  ...         56378\n",
              "score             int64  ...           159\n",
              "viewcount         int64  ...          5978\n",
              "title            object  ...         56392\n",
              "answercount       int64  ...            19\n",
              "commentcount      int64  ...            26\n",
              "favoritecount   float64  ...            81\n",
              "quest_name       object  ...         19848\n",
              "quest_rep       float64  ...          2668\n",
              "ans_name         object  ...          4907\n",
              "ans_rep         float64  ...          2648\n",
              "\n",
              "[12 rows x 7 columns]"
            ]
          },
          "metadata": {
            "tags": []
          },
          "execution_count": 10
        }
      ]
    },
    {
      "cell_type": "markdown",
      "metadata": {
        "id": "EDhHBg9mXCxv"
      },
      "source": [
        "# Food Inspections Data"
      ]
    },
    {
      "cell_type": "code",
      "metadata": {
        "id": "7azOrKhvXCxv",
        "colab": {
          "base_uri": "https://localhost:8080/",
          "height": 204
        },
        "outputId": "550608d9-39f0-4319-debf-98e097eb13bd"
      },
      "source": [
        "food_inspections = pd.read_csv('https://raw.githubusercontent.com/michalis0/Business-Intelligence-and-Analytics/master/week2%20-%20Pandas%20and%20Python/Pandas/data/food_inspections.csv', parse_dates=['Inspection Date'])\n",
        "food_inspections.head()"
      ],
      "execution_count": null,
      "outputs": [
        {
          "output_type": "execute_result",
          "data": {
            "text/html": [
              "<div>\n",
              "<style scoped>\n",
              "    .dataframe tbody tr th:only-of-type {\n",
              "        vertical-align: middle;\n",
              "    }\n",
              "\n",
              "    .dataframe tbody tr th {\n",
              "        vertical-align: top;\n",
              "    }\n",
              "\n",
              "    .dataframe thead th {\n",
              "        text-align: right;\n",
              "    }\n",
              "</style>\n",
              "<table border=\"1\" class=\"dataframe\">\n",
              "  <thead>\n",
              "    <tr style=\"text-align: right;\">\n",
              "      <th></th>\n",
              "      <th>DBA Name</th>\n",
              "      <th>Facility Type</th>\n",
              "      <th>Risk</th>\n",
              "      <th>Address</th>\n",
              "      <th>Zip</th>\n",
              "      <th>Inspection Date</th>\n",
              "      <th>Inspection Type</th>\n",
              "      <th>Results</th>\n",
              "      <th>Violations</th>\n",
              "    </tr>\n",
              "  </thead>\n",
              "  <tbody>\n",
              "    <tr>\n",
              "      <th>0</th>\n",
              "      <td>DANY'S TACOS</td>\n",
              "      <td>Restaurant</td>\n",
              "      <td>Risk 1 (High)</td>\n",
              "      <td>2857 S ST LOUIS AVE</td>\n",
              "      <td>60623.0</td>\n",
              "      <td>2017-03-27</td>\n",
              "      <td>License</td>\n",
              "      <td>Fail</td>\n",
              "      <td>16. FOOD PROTECTED DURING STORAGE, PREPARATION...</td>\n",
              "    </tr>\n",
              "    <tr>\n",
              "      <th>1</th>\n",
              "      <td>BILLY FOOD MARKET INC</td>\n",
              "      <td>NaN</td>\n",
              "      <td>Risk 3 (Low)</td>\n",
              "      <td>3906 W ROOSEVELT RD</td>\n",
              "      <td>60624.0</td>\n",
              "      <td>2017-03-27</td>\n",
              "      <td>License</td>\n",
              "      <td>Not Ready</td>\n",
              "      <td>NaN</td>\n",
              "    </tr>\n",
              "    <tr>\n",
              "      <th>2</th>\n",
              "      <td>TAQUERIA HACIENDA TAPATIA</td>\n",
              "      <td>Restaurant</td>\n",
              "      <td>Risk 1 (High)</td>\n",
              "      <td>4125 W 26TH ST</td>\n",
              "      <td>60623.0</td>\n",
              "      <td>2017-03-27</td>\n",
              "      <td>License Re-Inspection</td>\n",
              "      <td>Pass</td>\n",
              "      <td>2. FACILITIES TO MAINTAIN PROPER TEMPERATURE -...</td>\n",
              "    </tr>\n",
              "    <tr>\n",
              "      <th>3</th>\n",
              "      <td>WILD GOOSE BAR &amp; GRILL</td>\n",
              "      <td>Restaurant</td>\n",
              "      <td>Risk 1 (High)</td>\n",
              "      <td>4265 N LINCOLN AVE</td>\n",
              "      <td>60618.0</td>\n",
              "      <td>2017-03-27</td>\n",
              "      <td>Canvass</td>\n",
              "      <td>Fail</td>\n",
              "      <td>16. FOOD PROTECTED DURING STORAGE, PREPARATION...</td>\n",
              "    </tr>\n",
              "    <tr>\n",
              "      <th>4</th>\n",
              "      <td>PUBLICAN TAVERN K1</td>\n",
              "      <td>Restaurant</td>\n",
              "      <td>Risk 1 (High)</td>\n",
              "      <td>11601 W TOUHY AVE</td>\n",
              "      <td>60666.0</td>\n",
              "      <td>2017-03-27</td>\n",
              "      <td>Canvass</td>\n",
              "      <td>Fail</td>\n",
              "      <td>18. NO EVIDENCE OF RODENT OR INSECT OUTER OPEN...</td>\n",
              "    </tr>\n",
              "  </tbody>\n",
              "</table>\n",
              "</div>"
            ],
            "text/plain": [
              "                    DBA Name  ...                                         Violations\n",
              "0               DANY'S TACOS  ...  16. FOOD PROTECTED DURING STORAGE, PREPARATION...\n",
              "1      BILLY FOOD MARKET INC  ...                                                NaN\n",
              "2  TAQUERIA HACIENDA TAPATIA  ...  2. FACILITIES TO MAINTAIN PROPER TEMPERATURE -...\n",
              "3     WILD GOOSE BAR & GRILL  ...  16. FOOD PROTECTED DURING STORAGE, PREPARATION...\n",
              "4         PUBLICAN TAVERN K1  ...  18. NO EVIDENCE OF RODENT OR INSECT OUTER OPEN...\n",
              "\n",
              "[5 rows x 9 columns]"
            ]
          },
          "metadata": {
            "tags": []
          },
          "execution_count": 11
        }
      ]
    },
    {
      "cell_type": "code",
      "metadata": {
        "id": "Pg6C49V3XCxw",
        "colab": {
          "base_uri": "https://localhost:8080/"
        },
        "outputId": "1dbd3e23-cf9f-4dba-9f6d-90cec34dc763"
      },
      "source": [
        "food_inspections.shape"
      ],
      "execution_count": null,
      "outputs": [
        {
          "output_type": "execute_result",
          "data": {
            "text/plain": [
              "(24063, 9)"
            ]
          },
          "metadata": {
            "tags": []
          },
          "execution_count": 12
        }
      ]
    },
    {
      "cell_type": "code",
      "metadata": {
        "collapsed": true,
        "id": "lMVjYkPVXCxw"
      },
      "source": [
        "descriptions = ['Doing business as Name', 'Restaurant, Grocery store, School, Bakery, etc...',\n",
        "                'High/Medium/Low', 'Address', 'Zip Code', 'Inspection Date',\n",
        "                'Inspection Type', 'Pass/Fail/Out of business, etc...',\n",
        "                'Detailed description of violations']"
      ],
      "execution_count": null,
      "outputs": []
    },
    {
      "cell_type": "code",
      "metadata": {
        "id": "ff-n1bm4XCxw",
        "colab": {
          "base_uri": "https://localhost:8080/",
          "height": 328
        },
        "outputId": "651b05cb-cdaf-49fb-e2bc-e8b086f84571"
      },
      "source": [
        "create_description_table(food_inspections, descriptions)"
      ],
      "execution_count": null,
      "outputs": [
        {
          "output_type": "execute_result",
          "data": {
            "text/html": [
              "<div>\n",
              "<style scoped>\n",
              "    .dataframe tbody tr th:only-of-type {\n",
              "        vertical-align: middle;\n",
              "    }\n",
              "\n",
              "    .dataframe tbody tr th {\n",
              "        vertical-align: top;\n",
              "    }\n",
              "\n",
              "    .dataframe thead th {\n",
              "        text-align: right;\n",
              "    }\n",
              "</style>\n",
              "<table border=\"1\" class=\"dataframe\">\n",
              "  <thead>\n",
              "    <tr style=\"text-align: right;\">\n",
              "      <th></th>\n",
              "      <th>Data Type</th>\n",
              "      <th>Description</th>\n",
              "      <th>Missing Values</th>\n",
              "      <th>Mean</th>\n",
              "      <th>Most Common</th>\n",
              "      <th>Most Common Ct</th>\n",
              "      <th>Unique Values</th>\n",
              "    </tr>\n",
              "  </thead>\n",
              "  <tbody>\n",
              "    <tr>\n",
              "      <th>DBA Name</th>\n",
              "      <td>object</td>\n",
              "      <td>Doing business as Name</td>\n",
              "      <td>0</td>\n",
              "      <td>NaN</td>\n",
              "      <td>THE LITTLE SCHOLARS CLUB</td>\n",
              "      <td>1</td>\n",
              "      <td>24063</td>\n",
              "    </tr>\n",
              "    <tr>\n",
              "      <th>Facility Type</th>\n",
              "      <td>object</td>\n",
              "      <td>Restaurant, Grocery store, School, Bakery, etc...</td>\n",
              "      <td>3445</td>\n",
              "      <td>NaN</td>\n",
              "      <td>Restaurant</td>\n",
              "      <td>11849</td>\n",
              "      <td>392</td>\n",
              "    </tr>\n",
              "    <tr>\n",
              "      <th>Risk</th>\n",
              "      <td>object</td>\n",
              "      <td>High/Medium/Low</td>\n",
              "      <td>36</td>\n",
              "      <td>NaN</td>\n",
              "      <td>Risk 1 (High)</td>\n",
              "      <td>12802</td>\n",
              "      <td>4</td>\n",
              "    </tr>\n",
              "    <tr>\n",
              "      <th>Address</th>\n",
              "      <td>object</td>\n",
              "      <td>Address</td>\n",
              "      <td>0</td>\n",
              "      <td>NaN</td>\n",
              "      <td>11601 W TOUHY AVE</td>\n",
              "      <td>155</td>\n",
              "      <td>15320</td>\n",
              "    </tr>\n",
              "    <tr>\n",
              "      <th>Zip</th>\n",
              "      <td>float64</td>\n",
              "      <td>Zip Code</td>\n",
              "      <td>34</td>\n",
              "      <td>60629.1</td>\n",
              "      <td>60647</td>\n",
              "      <td>967</td>\n",
              "      <td>93</td>\n",
              "    </tr>\n",
              "    <tr>\n",
              "      <th>Inspection Date</th>\n",
              "      <td>datetime64[ns]</td>\n",
              "      <td>Inspection Date</td>\n",
              "      <td>0</td>\n",
              "      <td>NaN</td>\n",
              "      <td>2016-10-05 00:00:00</td>\n",
              "      <td>83</td>\n",
              "      <td>1772</td>\n",
              "    </tr>\n",
              "    <tr>\n",
              "      <th>Inspection Type</th>\n",
              "      <td>object</td>\n",
              "      <td>Inspection Type</td>\n",
              "      <td>1</td>\n",
              "      <td>NaN</td>\n",
              "      <td>Canvass</td>\n",
              "      <td>16422</td>\n",
              "      <td>43</td>\n",
              "    </tr>\n",
              "    <tr>\n",
              "      <th>Results</th>\n",
              "      <td>object</td>\n",
              "      <td>Pass/Fail/Out of business, etc...</td>\n",
              "      <td>0</td>\n",
              "      <td>NaN</td>\n",
              "      <td>Pass</td>\n",
              "      <td>11358</td>\n",
              "      <td>7</td>\n",
              "    </tr>\n",
              "    <tr>\n",
              "      <th>Violations</th>\n",
              "      <td>object</td>\n",
              "      <td>Detailed description of violations</td>\n",
              "      <td>12342</td>\n",
              "      <td>NaN</td>\n",
              "      <td>18. NO EVIDENCE OF RODENT OR INSECT OUTER OPEN...</td>\n",
              "      <td>12</td>\n",
              "      <td>11679</td>\n",
              "    </tr>\n",
              "  </tbody>\n",
              "</table>\n",
              "</div>"
            ],
            "text/plain": [
              "                      Data Type  ... Unique Values\n",
              "DBA Name                 object  ...         24063\n",
              "Facility Type            object  ...           392\n",
              "Risk                     object  ...             4\n",
              "Address                  object  ...         15320\n",
              "Zip                     float64  ...            93\n",
              "Inspection Date  datetime64[ns]  ...          1772\n",
              "Inspection Type          object  ...            43\n",
              "Results                  object  ...             7\n",
              "Violations               object  ...         11679\n",
              "\n",
              "[9 rows x 7 columns]"
            ]
          },
          "metadata": {
            "tags": []
          },
          "execution_count": 14
        }
      ]
    },
    {
      "cell_type": "code",
      "metadata": {
        "collapsed": true,
        "id": "cCn_M4VwXCxw"
      },
      "source": [
        ""
      ],
      "execution_count": null,
      "outputs": []
    }
  ]
}
