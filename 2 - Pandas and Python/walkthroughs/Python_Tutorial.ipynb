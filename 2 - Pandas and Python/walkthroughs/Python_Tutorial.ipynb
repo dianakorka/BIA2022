{
  "nbformat": 4,
  "nbformat_minor": 0,
  "metadata": {
    "kernelspec": {
      "display_name": "Python 3",
      "language": "python",
      "name": "python3"
    },
    "language_info": {
      "codemirror_mode": {
        "name": "ipython",
        "version": 3
      },
      "file_extension": ".py",
      "mimetype": "text/x-python",
      "name": "python",
      "nbconvert_exporter": "python",
      "pygments_lexer": "ipython3",
      "version": "3.7.6"
    },
    "colab": {
      "name": "Python_Tutorial.ipynb",
      "provenance": [],
      "include_colab_link": true
    }
  },
  "cells": [
    {
      "cell_type": "markdown",
      "metadata": {
        "id": "view-in-github",
        "colab_type": "text"
      },
      "source": [
        "<a href=\"https://colab.research.google.com/github/michalis0/Business-Intelligence-and-Analytics/blob/master/2%20-%20Pandas%20and%20Python/walkthroughs/Python_Tutorial.ipynb\" target=\"_parent\"><img src=\"https://colab.research.google.com/assets/colab-badge.svg\" alt=\"Open In Colab\"/></a>"
      ]
    },
    {
      "cell_type": "markdown",
      "metadata": {
        "id": "SYcWFepst-yl"
      },
      "source": [
        "# Python tutorial\n",
        "\n",
        "    1. Types and variables\n",
        "\n",
        "\n",
        "These are the basic data types that constitute all of the more complex data structures in python. The basic data types are the following:\n",
        "\n",
        "* Strings: to represent several characters \n",
        "* Numeric types (Integer and Float): to compute evaluate mathematical values\n",
        "* Booleans: to work with logical conditionning\n",
        "\n",
        "By using variables, we can assign a mnemonic name to each value, and use the name instead of the value itself.\n",
        "Run the code above:"
      ]
    },
    {
      "cell_type": "code",
      "metadata": {
        "id": "1nJmMqGLt-yq",
        "colab": {
          "base_uri": "https://localhost:8080/"
        },
        "outputId": "117f77cf-fc52-4221-8e9c-b61d9f387a61"
      },
      "source": [
        "print(type(1))\n",
        "print(type(0.0))\n",
        "print(type(\"Hello\"))\n",
        "print(type(False))\n",
        "print(type(True))"
      ],
      "execution_count": null,
      "outputs": [
        {
          "output_type": "stream",
          "text": [
            "<class 'int'>\n",
            "<class 'float'>\n",
            "<class 'str'>\n",
            "<class 'bool'>\n",
            "<class 'bool'>\n"
          ],
          "name": "stdout"
        }
      ]
    },
    {
      "cell_type": "code",
      "metadata": {
        "scrolled": true,
        "id": "ucsdo0jEt-y1",
        "colab": {
          "base_uri": "https://localhost:8080/"
        },
        "outputId": "5f2819cf-5972-4704-eef9-672e8f4431f4"
      },
      "source": [
        "a = \"Hello world!\"\n",
        "print(\"Value of a:\", a)\n",
        "print(\"The type of a:\", type(a))\n",
        "print(\"The length of a:\", len(a))\n",
        "\n",
        "#Modify the value\n",
        "b = \"Goodbye\"\n",
        "a = b\n",
        "print(a)\n"
      ],
      "execution_count": null,
      "outputs": [
        {
          "output_type": "stream",
          "text": [
            "Value of a: Hello world!\n",
            "The type of a: <class 'str'>\n",
            "The length of a: 12\n",
            "Goodbye\n"
          ],
          "name": "stdout"
        }
      ]
    },
    {
      "cell_type": "markdown",
      "metadata": {
        "id": "CIHE3xZqt-y7"
      },
      "source": [
        "**Note**: the variable 'a' contains the string value \"Hello world\". The function `print()` displays the value of the variable, you can update variable' values."
      ]
    },
    {
      "cell_type": "code",
      "metadata": {
        "scrolled": true,
        "id": "qaa-356yt-y9",
        "colab": {
          "base_uri": "https://localhost:8080/"
        },
        "outputId": "df407f89-3dea-4f69-dca5-4d70f3002743"
      },
      "source": [
        "males = 7\n",
        "females = 10\n",
        "fraction = males/(males+females)\n",
        "print(\"Percentage of men:\", 100*fraction)\n",
        "print(\"Percentage of men:\", round(100*fraction, 3))"
      ],
      "execution_count": null,
      "outputs": [
        {
          "output_type": "stream",
          "text": [
            "Percentage of men: 41.17647058823529\n",
            "Percentage of men: 41.176\n"
          ],
          "name": "stdout"
        }
      ]
    },
    {
      "cell_type": "markdown",
      "metadata": {
        "id": "ZLwKa0crt-zH"
      },
      "source": [
        "**Note:** The function `round()` round the values up to a specific number after the coma."
      ]
    },
    {
      "cell_type": "markdown",
      "metadata": {
        "id": "lT6gUqgmt-zJ"
      },
      "source": [
        "    2. Conditionning\n",
        "    \n",
        "Boolean types: `True` and `False` define the logic values. We define conditionnal operator with \n",
        "`if`, `else`, `elif`. If the condition next to the if is true then you execute the code below. Otherwise you continue to test the other conditions.\n",
        "\n",
        "To deal with boolean values we use comparaison operators:\n",
        "\n",
        "    - `a == b`: a equals b\n",
        "    - `a < b`: a less than b\n",
        "    - `a <= b`: a less than b or equals b\n",
        "    - `a != b`: a not equal b\n",
        "    - `a > b`: a greater than b\n",
        "    - `a >= b`: a greater than b or equals b\n",
        "\n",
        "Python provides operators to combine boolean values using the standard concepts of \"and\", \"or\", and \"not\". And in fact, the corresponding Python operators use just those words: `and`, `or`, and `not`.\n",
        "\n",
        "**Example:**"
      ]
    },
    {
      "cell_type": "code",
      "metadata": {
        "id": "04IN-Rfrt-zL",
        "colab": {
          "base_uri": "https://localhost:8080/"
        },
        "outputId": "f83ca543-580c-42a1-dd78-8f8984310c74"
      },
      "source": [
        "x = True\n",
        "y = False\n",
        "z = False\n",
        "\n",
        "if y or (x and z):\n",
        "    print(\"output1\")\n",
        "if not x or (y and z):\n",
        "    print(\"output2\")\n",
        "if (x or z) or (y and z):\n",
        "    print(\"output3\")\n",
        "if (y != z):\n",
        "    print(\"output4\")"
      ],
      "execution_count": null,
      "outputs": [
        {
          "output_type": "stream",
          "text": [
            "output3\n"
          ],
          "name": "stdout"
        }
      ]
    },
    {
      "cell_type": "code",
      "metadata": {
        "id": "GC9Res9Ot-zQ",
        "colab": {
          "base_uri": "https://localhost:8080/"
        },
        "outputId": "41ce6524-a7fc-4541-dc05-8e455734c98b"
      },
      "source": [
        "name=\"Alice\"\n",
        "age=9\n",
        "brothers=2\n",
        "sisters=0\n",
        "print(name==\"Alice\" or age==9)\n",
        "print(name==\"Alice\" and not age==9)\n",
        "print(name==\"Miro\" or not age>5)\n",
        "print(\"Not, And, Or\")\n",
        "\n",
        "\n",
        "if age>5 and len(name)<10:\n",
        "    print(\"The condition is true, so this message will be print!\")\n",
        "\n",
        "if brothers>1 or sisters>1:\n",
        "    print(\"At least one brother and one sister.\")\n",
        "elif brothers>1 and sisters==0:\n",
        "    print(\"You have more than one brothers and no sisters.\")\n",
        "elif brothers==0 and sisters>1:\n",
        "    print(\"You have more than one sisters and no brothers.\")\n",
        "else:\n",
        "    print(\"\")\n",
        "\n"
      ],
      "execution_count": null,
      "outputs": [
        {
          "output_type": "stream",
          "text": [
            "True\n",
            "False\n",
            "False\n",
            "Not, And, Or\n",
            "The condition is true, so this message will be print!\n",
            "At least one brother and one sister.\n"
          ],
          "name": "stdout"
        }
      ]
    },
    {
      "cell_type": "markdown",
      "metadata": {
        "id": "lpdcHLj-t-zU"
      },
      "source": [
        "    3. List\n",
        "    \n",
        "Lists in Python represent ordered sequences of values. They can take any type of values, let see how define them:\n"
      ]
    },
    {
      "cell_type": "code",
      "metadata": {
        "id": "pwaeM8GVt-zV"
      },
      "source": [
        "primes = [2, 3, 5, 7]\n",
        "companies = ['Google', 'Apple', 'Facebook', 'Amazon', 'Space X', 'Huawei', 'Samsung']\n",
        "# A list of lists\n",
        "hands = [['J', 'Q', 'K'], ['2', '2', '2'], ['6', 'A', 'K']]\n",
        "my_favourite_things = [32, 'raindrops on roses', help]"
      ],
      "execution_count": null,
      "outputs": []
    },
    {
      "cell_type": "markdown",
      "metadata": {
        "id": "UTUyvtUlt-zb"
      },
      "source": [
        "You can access individual list elements with square brackets.\n",
        " Python uses zero-based indexing, so the first element has index 0.\n",
        "\n",
        "**Example:**"
      ]
    },
    {
      "cell_type": "code",
      "metadata": {
        "scrolled": true,
        "id": "p6_ZCyV8t-zc",
        "colab": {
          "base_uri": "https://localhost:8080/"
        },
        "outputId": "5cb9f2b2-4c77-47e7-ba8d-827b3aaf880a"
      },
      "source": [
        "print(companies[0])\n",
        "print(companies[-1])\n",
        "print(hands[0][0])\n",
        "print(primes[len(primes)-1])"
      ],
      "execution_count": null,
      "outputs": [
        {
          "output_type": "stream",
          "text": [
            "Google\n",
            "Samsung\n",
            "J\n",
            "7\n"
          ],
          "name": "stdout"
        }
      ]
    },
    {
      "cell_type": "markdown",
      "metadata": {
        "id": "71ubw0NAt-zi"
      },
      "source": [
        "We use *slicing* to get several values. `companies[0:3]` is a way of asking for the elements of companies starting from index 0 and continuing up to but not including index 3."
      ]
    },
    {
      "cell_type": "code",
      "metadata": {
        "scrolled": true,
        "id": "y4q72QzAt-zi",
        "colab": {
          "base_uri": "https://localhost:8080/"
        },
        "outputId": "e48ae630-f32e-4cd7-f777-5b145f93a036"
      },
      "source": [
        "print(\"Orignal list: \", companies)\n",
        "print(companies[0:3])\n",
        "print(companies[:3])\n",
        "print(companies[3:])\n",
        "print(companies[1: -1])\n",
        "print(companies[-2:])"
      ],
      "execution_count": null,
      "outputs": [
        {
          "output_type": "stream",
          "text": [
            "Orignal list:  ['Google', 'Apple', 'Facebook', 'Amazon', 'Space X', 'Huawei', 'Samsung']\n",
            "['Google', 'Apple', 'Facebook']\n",
            "['Google', 'Apple', 'Facebook']\n",
            "['Amazon', 'Space X', 'Huawei', 'Samsung']\n",
            "['Apple', 'Facebook', 'Amazon', 'Space X', 'Huawei']\n",
            "['Huawei', 'Samsung']\n"
          ],
          "name": "stdout"
        }
      ]
    },
    {
      "cell_type": "markdown",
      "metadata": {
        "id": "oiRLN4d3t-zm"
      },
      "source": [
        "We can modify the list in several ways. You can affect new value to one or more elements. We use indexing and slicing for this.\n",
        "\n",
        "You can also use the different list methods like:\n",
        "    - list.pop removes and returns the last element of a list\n",
        "    - list.append modifies a list by adding an item to the end:\n",
        "\n",
        "**Example:**"
      ]
    },
    {
      "cell_type": "code",
      "metadata": {
        "id": "3eVrqi6At-zo",
        "colab": {
          "base_uri": "https://localhost:8080/"
        },
        "outputId": "14b860de-6acf-46de-9ced-e892acb1b469"
      },
      "source": [
        "\n",
        "#Change one element\n",
        "companies[4] = 'Monsanto'\n",
        "print(companies)\n",
        "\n",
        "#Change 3 elements\n",
        "companies[:3] = ['G', 'A', 'F']\n",
        "print(companies)\n",
        "\n",
        "companies.append('Bayer')\n",
        "print(companies)\n",
        "companies.pop()\n",
        "print(companies)"
      ],
      "execution_count": null,
      "outputs": [
        {
          "output_type": "stream",
          "text": [
            "['Google', 'Apple', 'Facebook', 'Amazon', 'Monsanto', 'Huawei', 'Samsung']\n",
            "['G', 'A', 'F', 'Amazon', 'Monsanto', 'Huawei', 'Samsung']\n",
            "['G', 'A', 'F', 'Amazon', 'Monsanto', 'Huawei', 'Samsung', 'Bayer']\n",
            "['G', 'A', 'F', 'Amazon', 'Monsanto', 'Huawei', 'Samsung']\n"
          ],
          "name": "stdout"
        }
      ]
    },
    {
      "cell_type": "markdown",
      "metadata": {
        "id": "ZK1vg-AAt-zt"
      },
      "source": [
        "    4. Functions\n",
        "    \n",
        "We have already seen some function like :`print()`\n",
        "A coding function is similar to a mathematical function: It takes some arguments (input data), defines some computations and can return values.\n",
        "\n",
        "Built in functions are great, but we can only get so far with them before we need to start defining our own functions. \n",
        "\n",
        "**Example:**"
      ]
    },
    {
      "cell_type": "code",
      "metadata": {
        "id": "jQxVIIuMt-zu",
        "colab": {
          "base_uri": "https://localhost:8080/"
        },
        "outputId": "02ca81d1-0e16-4367-e5a7-aeb5c35d28e1"
      },
      "source": [
        "def least_difference(a, b, c):\n",
        "    \"\"\"Return the smallest difference between any two numbers\n",
        "    among a, b and c.\n",
        "    \"\"\"\n",
        "    diff1 = abs(a - b)\n",
        "    diff2 = abs(b - c)\n",
        "    diff3 = abs(a - c)\n",
        "    return min(diff1, diff2, diff3)\n",
        "\n",
        "least_diff = least_difference(2, 5, 8)\n",
        "print(\" The least difference between (2, 5, 8) is : \", least_diff)\n",
        "\n",
        "#Compact way\n",
        "print(\" The least difference between (2, 5, 8) is : \", least_difference(2, 5, 8))"
      ],
      "execution_count": null,
      "outputs": [
        {
          "output_type": "stream",
          "text": [
            " The least difference between (2, 5, 8) is :  3\n",
            " The least difference between (2, 5, 8) is :  3\n"
          ],
          "name": "stdout"
        }
      ]
    },
    {
      "cell_type": "markdown",
      "metadata": {
        "id": "YquDVLE7t-zz"
      },
      "source": [
        "**Note:** This function computes the minimum difference between three values. We use the python function `abs()` which computes the absolute value. The result is saved into the different variables. The function returns the minimum distance between them. \n",
        "`return` is another keyword uniquely associated with functions. When Python encounters a return statement, it exits the function immediately, and passes the value on the right hand side to the calling context.\n",
        "\n",
        "We can call the function with specific values and save it into a variable, this value can be used later in your code."
      ]
    },
    {
      "cell_type": "code",
      "metadata": {
        "id": "6bnHdUy5t-z0",
        "colab": {
          "base_uri": "https://localhost:8080/"
        },
        "outputId": "fee3ecc2-0c11-4c08-82c0-ae12970567ba"
      },
      "source": [
        "help(least_difference)"
      ],
      "execution_count": null,
      "outputs": [
        {
          "output_type": "stream",
          "text": [
            "Help on function least_difference in module __main__:\n",
            "\n",
            "least_difference(a, b, c)\n",
            "    Return the smallest difference between any two numbers\n",
            "    among a, b and c.\n",
            "\n"
          ],
          "name": "stdout"
        }
      ]
    },
    {
      "cell_type": "markdown",
      "metadata": {
        "id": "BoR4WJvlt-z3"
      },
      "source": [
        "Some function does not return any values. The result of calling them is the special value `None`. \n",
        "\n",
        "**Example**:"
      ]
    },
    {
      "cell_type": "code",
      "metadata": {
        "id": "DbMFmXHCt-z5",
        "colab": {
          "base_uri": "https://localhost:8080/"
        },
        "outputId": "a534cccf-bd41-4a12-cd8e-9397b696ef1b"
      },
      "source": [
        "def least_difference(a, b, c):\n",
        "    \"\"\"Compute the smallest difference between any two numbers\n",
        "    among a, b and c.\n",
        "    \"\"\"\n",
        "    diff1 = abs(a - b)\n",
        "    diff2 = abs(b - c)\n",
        "    diff3 = abs(a - c)\n",
        "    min(diff1, diff2, diff3)\n",
        "    \n",
        "print(\" The least difference between (2, 5, 8) is : \", least_difference(2, 5, 8))"
      ],
      "execution_count": null,
      "outputs": [
        {
          "output_type": "stream",
          "text": [
            " The least difference between (2, 5, 8) is :  None\n"
          ],
          "name": "stdout"
        }
      ]
    },
    {
      "cell_type": "markdown",
      "metadata": {
        "id": "oBKRO1LAt-z9"
      },
      "source": [
        "\n",
        "We can also apply functions to functions. Here's something that's powerful, though it can feel very abstract at first. You can supply functions as arguments to other functions.\n",
        "\n",
        "**Example**:"
      ]
    },
    {
      "cell_type": "code",
      "metadata": {
        "id": "1oUbzSBVt-z9",
        "colab": {
          "base_uri": "https://localhost:8080/"
        },
        "outputId": "740f004d-064a-4353-f3fe-8725b84fdad0"
      },
      "source": [
        "def mult_by_five(x):\n",
        "    return 5 * x\n",
        "\n",
        "def call(fn, arg):\n",
        "    \"\"\"Call fn on arg\"\"\"\n",
        "    return fn(arg)\n",
        "\n",
        "def squared_call(fn, arg):\n",
        "    \"\"\"Call fn on the result of calling fn on arg\"\"\"\n",
        "    return fn(fn(arg))\n",
        "\n",
        "print(\n",
        "    call(mult_by_five, 1),\n",
        "    squared_call(mult_by_five, 1), \n",
        "    sep='\\n', # '\\n' is the newline character - it starts a new line\n",
        ")"
      ],
      "execution_count": null,
      "outputs": [
        {
          "output_type": "stream",
          "text": [
            "5\n",
            "25\n"
          ],
          "name": "stdout"
        }
      ]
    },
    {
      "cell_type": "markdown",
      "metadata": {
        "id": "ohCO_S64t-0B"
      },
      "source": [
        "    5. Loop\n",
        "    \n",
        "Loops are a way to repeatedly execute some code. The `for` specifies the name of the variable and the set of values to loop over. We use the word `in` to link them together.\n",
        "The object to the right of the `in` can be any object that supports iteration. Basically, if it can be thought of as a group of things, you can probably loop over it.\n",
        "\n",
        "**Example:**\n"
      ]
    },
    {
      "cell_type": "code",
      "metadata": {
        "id": "skXSdcilt-0D",
        "colab": {
          "base_uri": "https://localhost:8080/"
        },
        "outputId": "00778a4c-1b5f-4033-f707-c335e61ff0fd"
      },
      "source": [
        "companies = ['Google', 'Apple', 'Facebook', 'Amazon', 'Space X', 'Huawei', 'Samsung']\n",
        "for company in companies:\n",
        "    print(company, end=' - ')"
      ],
      "execution_count": null,
      "outputs": [
        {
          "output_type": "stream",
          "text": [
            "Google - Apple - Facebook - Amazon - Space X - Huawei - Samsung - "
          ],
          "name": "stdout"
        }
      ]
    },
    {
      "cell_type": "markdown",
      "metadata": {
        "id": "_IjouvOut-0F"
      },
      "source": [
        "`range()` is a function that returns a sequence of numbers. It turns out to be very useful for writing loops."
      ]
    },
    {
      "cell_type": "code",
      "metadata": {
        "id": "OLFtIWs3t-0G",
        "colab": {
          "base_uri": "https://localhost:8080/"
        },
        "outputId": "5f863201-d817-4385-8b07-4838a4336687"
      },
      "source": [
        "for i in range(5):\n",
        "    print(\"i =\", i)"
      ],
      "execution_count": null,
      "outputs": [
        {
          "output_type": "stream",
          "text": [
            "i = 0\n",
            "i = 1\n",
            "i = 2\n",
            "i = 3\n",
            "i = 4\n"
          ],
          "name": "stdout"
        }
      ]
    },
    {
      "cell_type": "markdown",
      "metadata": {
        "id": "QwBp0Ctkt-0K"
      },
      "source": [
        "The other type of loop in Python is a `while` loop, which iterates until some condition is met:"
      ]
    },
    {
      "cell_type": "code",
      "metadata": {
        "id": "902-vj9St-0L",
        "colab": {
          "base_uri": "https://localhost:8080/"
        },
        "outputId": "b0a54ade-7eea-4f47-8bfd-be47d900d5d8"
      },
      "source": [
        "i = 0\n",
        "while i < 10:\n",
        "    print(i, end=' ')\n",
        "    i += 1"
      ],
      "execution_count": null,
      "outputs": [
        {
          "output_type": "stream",
          "text": [
            "0 1 2 3 4 5 6 7 8 9 "
          ],
          "name": "stdout"
        }
      ]
    },
    {
      "cell_type": "markdown",
      "metadata": {
        "id": "dcMeMP_zt-0O"
      },
      "source": [
        "The code bellow of the form: `[n**2 for n in range(10)]` is called a list comprehension. It is a very useful feature of python which simplifies the code."
      ]
    },
    {
      "cell_type": "code",
      "metadata": {
        "id": "3GqViL1ft-0Q",
        "colab": {
          "base_uri": "https://localhost:8080/"
        },
        "outputId": "86b9bf5c-d99c-4cf8-9d07-f2678c6cc085"
      },
      "source": [
        "\n",
        "# List comprehension\n",
        "squares = [n**2 for n in range(10)]\n",
        "print(squares)\n",
        "\n",
        "#Normal way\n",
        "squares = []\n",
        "for n in range(10):\n",
        "    squares.append(n**2)\n",
        "print(squares)\n",
        "\n",
        "# It is possible to add a condition 'if'\n",
        "short_companies = [company for company in companies if len(company) < 6]\n",
        "print(short_companies)"
      ],
      "execution_count": null,
      "outputs": [
        {
          "output_type": "stream",
          "text": [
            "[0, 1, 4, 9, 16, 25, 36, 49, 64, 81]\n",
            "[0, 1, 4, 9, 16, 25, 36, 49, 64, 81]\n",
            "['Apple']\n"
          ],
          "name": "stdout"
        }
      ]
    },
    {
      "cell_type": "markdown",
      "metadata": {
        "id": "7fJti7dTt-0T"
      },
      "source": [
        "    6. External libraries: Numpy & Matplotlib\n",
        "    \n",
        "External libraries are useful tools. We will use the word `import` to import the libraires or the different modules inside them. It is very common to rename our library/module with the key word `as`.\n",
        "\n",
        "We will see three libraires for now:\n",
        "\n",
        "    - math: contains maths functions\n",
        "    - numpy: support for large, multi-dimensional arrays and matrices, it is used for big data\n",
        "    - matplotlib: visualisation library\n",
        "    \n",
        "**Example:**"
      ]
    },
    {
      "cell_type": "code",
      "metadata": {
        "id": "chLRDiqVt-0T",
        "colab": {
          "base_uri": "https://localhost:8080/"
        },
        "outputId": "9e8404dd-bd16-43aa-9916-b38a37c0f6cd"
      },
      "source": [
        "#Import the library\n",
        "import math\n",
        "print(math.cos(5))\n",
        "\n",
        "#Import modules from a library\n",
        "from math import sin, cos\n",
        "print(cos(5), sin(4))"
      ],
      "execution_count": null,
      "outputs": [
        {
          "output_type": "stream",
          "text": [
            "0.28366218546322625\n",
            "0.28366218546322625 -0.7568024953079282\n"
          ],
          "name": "stdout"
        }
      ]
    },
    {
      "cell_type": "code",
      "metadata": {
        "id": "pZ2vb-kjt-0X",
        "colab": {
          "base_uri": "https://localhost:8080/",
          "height": 281
        },
        "outputId": "0607dfde-2f93-4938-9e8a-8289b6c5ae57"
      },
      "source": [
        "# used to embed plots inside an ipython notebook\n",
        "%matplotlib inline \n",
        "#Import the pyplot module from matplotlib library, then rename is as plt\n",
        "import matplotlib.pyplot as plt\n",
        "\n",
        "# really simple example:\n",
        "y = [1,2,3,4,5,4,3,2,1]\n",
        "x = [1,2,3,4,5,6,7,8,9]\n",
        "plt.title(\"Our graph test\")\n",
        "plt.plot(x, y)\n",
        "plt.plot([1,2,3,4])\n",
        "plt.ylabel('some numbers')\n",
        "plt.show()"
      ],
      "execution_count": null,
      "outputs": [
        {
          "output_type": "display_data",
          "data": {
            "image/png": "[encoded data removed]",
            "text/plain": [
              "<Figure size 432x288 with 1 Axes>"
            ]
          },
          "metadata": {
            "tags": [],
            "needs_background": "light"
          }
        }
      ]
    },
    {
      "cell_type": "code",
      "metadata": {
        "id": "Z8MqqLAKt-0b",
        "colab": {
          "base_uri": "https://localhost:8080/",
          "height": 312
        },
        "outputId": "95460e3b-e1e8-4685-dbcb-ca637341bfff"
      },
      "source": [
        "import numpy as np\n",
        "import math as math\n",
        "\n",
        "X = np.linspace(0, 10, 100001) #create values from 0 to 10, and use 10001 values\n",
        "Y = []\n",
        "\n",
        "for x in X:\n",
        "    y = math.sin(x)\n",
        "    Y.append(y)\n",
        "    \n",
        "plt.plot(X, Y, 'mx')\n",
        "plt.title('The Sine Wave')\n",
        "plt.xlabel('X')\n",
        "plt.ylabel('sin(X)')"
      ],
      "execution_count": null,
      "outputs": [
        {
          "output_type": "execute_result",
          "data": {
            "text/plain": [
              "Text(0, 0.5, 'sin(X)')"
            ]
          },
          "metadata": {
            "tags": []
          },
          "execution_count": 20
        },
        {
          "output_type": "display_data",
          "data": {
            "image/png": "[encoded data removed]",
            "text/plain": [
              "<Figure size 432x288 with 1 Axes>"
            ]
          },
          "metadata": {
            "tags": [],
            "needs_background": "light"
          }
        }
      ]
    },
    {
      "cell_type": "markdown",
      "metadata": {
        "id": "KzJUrSOZt-0d"
      },
      "source": [
        "We can also define Bar plot and Histogram:"
      ]
    },
    {
      "cell_type": "code",
      "metadata": {
        "id": "BYdIxBBEt-0e",
        "colab": {
          "base_uri": "https://localhost:8080/",
          "height": 516
        },
        "outputId": "5cf06155-e19a-46bb-d4e8-f2d32a160b3e"
      },
      "source": [
        "vals = [7, 6.2, 3, 5, 9]\n",
        "xval = [1, 2, 3, 4, 5]\n",
        "plt.bar(xval, vals)\n",
        "plt.show()\n",
        "\n",
        "Y = []\n",
        "for x in range(0,100000):\n",
        "    Y.append(np.random.randn())\n",
        "    \n",
        "plt.hist(Y, 100)\n",
        "plt.show()"
      ],
      "execution_count": null,
      "outputs": [
        {
          "output_type": "display_data",
          "data": {
            "image/png": "[encoded data removed]",
            "text/plain": [
              "<Figure size 432x288 with 1 Axes>"
            ]
          },
          "metadata": {
            "tags": [],
            "needs_background": "light"
          }
        },
        {
          "output_type": "display_data",
          "data": {
            "image/png": "[encoded data removed]",
            "text/plain": [
              "<Figure size 432x288 with 1 Axes>"
            ]
          },
          "metadata": {
            "tags": [],
            "needs_background": "light"
          }
        }
      ]
    },
    {
      "cell_type": "code",
      "metadata": {
        "id": "gAAOSeKNt-0h"
      },
      "source": [
        ""
      ],
      "execution_count": null,
      "outputs": []
    }
  ]
}
