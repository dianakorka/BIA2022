{
  "nbformat": 4,
  "nbformat_minor": 0,
  "metadata": {
    "kernelspec": {
      "display_name": "Python 3",
      "language": "python",
      "name": "python3"
    },
    "language_info": {
      "codemirror_mode": {
        "name": "ipython",
        "version": 3
      },
      "file_extension": ".py",
      "mimetype": "text/x-python",
      "name": "python",
      "nbconvert_exporter": "python",
      "pygments_lexer": "ipython3",
      "version": "3.7.6"
    },
    "colab": {
      "name": "03 Assigning subsets of data.ipynb",
      "provenance": [],
      "include_colab_link": true
    }
  },
  "cells": [
    {
      "cell_type": "markdown",
      "metadata": {
        "id": "view-in-github",
        "colab_type": "text"
      },
      "source": [
        "<a href=\"https://colab.research.google.com/github/michalis0/Business-Intelligence-and-Analytics/blob/master/2%20-%20Pandas%20and%20Python/walkthroughs/03%20Assigning%20subsets%20of%20data.ipynb\" target=\"_parent\"><img src=\"https://colab.research.google.com/assets/colab-badge.svg\" alt=\"Open In Colab\"/></a>"
      ]
    },
    {
      "cell_type": "markdown",
      "metadata": {
        "id": "bIyzK_8kWYeS"
      },
      "source": [
        "# Selecting Subsets of Data in Pandas\n",
        "\n",
        "This notebook is also available as a [blog post on Medium](https://medium.com/dunder-data/selecting-subsets-of-data-in-pandas-part-3-d5704b4b9116).\n",
        "\n",
        "## Part 3: Assigning subsets of data\n",
        "This is part 3 of a 7-part series on how to select subsets of data from a pandas DataFrame or Series. Pandas offers a wide variety of options for subset selection which necessitates multiple articles. This series is broken down into the following 7 topics.\n",
        "\n",
        "\n",
        "## Assignment\n",
        "When you see the word **assign** used during a discussion on programming, it usually means that a variable is set equal to some value. For most programming languages, this means using the equal sign. For instance, to assign the value 5 to the variable **`x`** in Python, we do the following:\n",
        "\n",
        "```Python\n",
        "x = 5\n",
        "```\n",
        "\n",
        "This is formally called an [assignment statement][1]. More generally, we can define Python assignment statements as follows:\n",
        "\n",
        "```Python\n",
        "variable = expression\n",
        "```\n",
        "\n",
        "There is quite a bit more to the [Python assignment statement](https://docs.python.org/3/reference/simple_stmts.html), but for our purposes it just means using the equal sign to store the object on the right-hand side to the left-hand side.\n",
        "\n",
        "## Documentation on Assigning subsets of data\n",
        "There isn't one particular sub-section of the documentation that covers this topic precisely. Several examples are available throughout the entire [indexing section](http://pandas.pydata.org/pandas-docs/stable/indexing.html).\n",
        "\n",
        "## What does this have to do with selecting subsets of data?\n",
        "In this article, we will use the assignment statement, but only after we select a subset of data. We will be doing our subset selection based on what we learned from [part 1](https://medium.com/dunder-data/selecting-subsets-of-data-in-pandas-6fcd0170be9c) and [part 2](https://medium.com/dunder-data/selecting-subsets-of-data-in-pandas-39e811c81a0c) and changing just those values.\n",
        "\n",
        "The left-hand side will have our subset selection and the right-hand side will contain our new values like this:\n",
        "\n",
        "```Python\n",
        "subset_of_DataFrame_or_Series = new_values\n",
        "```\n",
        "\n",
        "## Small Sample Dataset\n",
        "During this tutorial, we will be working with a small sample of the [employee](Dataset%20Descriptions.ipynb#Employee-Data) dataset. The small dataset will help us immediately see the changes. Let's take a look at this dataset now, which uses the index to store the names of each employee.\n",
        "\n",
        "[1]: https://en.wikipedia.org/wiki/Assignment_(computer_science)"
      ]
    },
    {
      "cell_type": "code",
      "metadata": {
        "collapsed": true,
        "id": "pbO1LeMrWYeU"
      },
      "source": [
        "#@title\n",
        "import pandas as pd\n",
        "import numpy as np"
      ],
      "execution_count": 1,
      "outputs": []
    },
    {
      "cell_type": "code",
      "metadata": {
        "id": "k89sYH_7WYeU",
        "colab": {
          "base_uri": "https://localhost:8080/",
          "height": 254
        },
        "outputId": "69b0c472-66f2-4352-a9db-37585dadd9a2"
      },
      "source": [
        "#@title\n",
        "df = pd.read_csv('https://raw.githubusercontent.com/michalis0/Business-Intelligence-and-Analytics/master/week2%20-%20Pandas%20and%20Python/Pandas/data/employee_sample.csv', index_col=0)\n",
        "df"
      ],
      "execution_count": 2,
      "outputs": [
        {
          "output_type": "execute_result",
          "data": {
            "text/html": [
              "<div>\n",
              "<style scoped>\n",
              "    .dataframe tbody tr th:only-of-type {\n",
              "        vertical-align: middle;\n",
              "    }\n",
              "\n",
              "    .dataframe tbody tr th {\n",
              "        vertical-align: top;\n",
              "    }\n",
              "\n",
              "    .dataframe thead th {\n",
              "        text-align: right;\n",
              "    }\n",
              "</style>\n",
              "<table border=\"1\" class=\"dataframe\">\n",
              "  <thead>\n",
              "    <tr style=\"text-align: right;\">\n",
              "      <th></th>\n",
              "      <th>GENDER</th>\n",
              "      <th>NATIONALITY</th>\n",
              "      <th>DEPARTMENT</th>\n",
              "      <th>YEARS EXPERIENCE</th>\n",
              "      <th>SALARY</th>\n",
              "    </tr>\n",
              "  </thead>\n",
              "  <tbody>\n",
              "    <tr>\n",
              "      <th>Tom</th>\n",
              "      <td>Male</td>\n",
              "      <td>Switzerland</td>\n",
              "      <td>Engineering</td>\n",
              "      <td>23</td>\n",
              "      <td>107962</td>\n",
              "    </tr>\n",
              "    <tr>\n",
              "      <th>Niko</th>\n",
              "      <td>Male</td>\n",
              "      <td>USA</td>\n",
              "      <td>Engineering</td>\n",
              "      <td>1</td>\n",
              "      <td>30347</td>\n",
              "    </tr>\n",
              "    <tr>\n",
              "      <th>Penelope</th>\n",
              "      <td>Female</td>\n",
              "      <td>Switzerland</td>\n",
              "      <td>Engineering</td>\n",
              "      <td>12</td>\n",
              "      <td>60258</td>\n",
              "    </tr>\n",
              "    <tr>\n",
              "      <th>Aria</th>\n",
              "      <td>Female</td>\n",
              "      <td>USA</td>\n",
              "      <td>Engineering</td>\n",
              "      <td>8</td>\n",
              "      <td>43618</td>\n",
              "    </tr>\n",
              "    <tr>\n",
              "      <th>Sofia</th>\n",
              "      <td>Female</td>\n",
              "      <td>USA</td>\n",
              "      <td>Parks &amp; Recreation</td>\n",
              "      <td>23</td>\n",
              "      <td>26125</td>\n",
              "    </tr>\n",
              "    <tr>\n",
              "      <th>Dean</th>\n",
              "      <td>Male</td>\n",
              "      <td>USA</td>\n",
              "      <td>Parks &amp; Recreation</td>\n",
              "      <td>3</td>\n",
              "      <td>33592</td>\n",
              "    </tr>\n",
              "    <tr>\n",
              "      <th>Zach</th>\n",
              "      <td>Male</td>\n",
              "      <td>Switzerland</td>\n",
              "      <td>Parks &amp; Recreation</td>\n",
              "      <td>4</td>\n",
              "      <td>37565</td>\n",
              "    </tr>\n",
              "  </tbody>\n",
              "</table>\n",
              "</div>"
            ],
            "text/plain": [
              "          GENDER  NATIONALITY          DEPARTMENT  YEARS EXPERIENCE  SALARY\n",
              "Tom         Male  Switzerland         Engineering                23  107962\n",
              "Niko        Male          USA         Engineering                 1   30347\n",
              "Penelope  Female  Switzerland         Engineering                12   60258\n",
              "Aria      Female          USA         Engineering                 8   43618\n",
              "Sofia     Female          USA  Parks & Recreation                23   26125\n",
              "Dean        Male          USA  Parks & Recreation                 3   33592\n",
              "Zach        Male  Switzerland  Parks & Recreation                 4   37565"
            ]
          },
          "metadata": {
            "tags": []
          },
          "execution_count": 2
        }
      ]
    },
    {
      "cell_type": "markdown",
      "metadata": {
        "id": "tS2CJxO4WYeV"
      },
      "source": [
        "## Creating a new column\n",
        "Before we change any of the data in this DataFrame, we will add a single column to the end. There are multiple ways of doing so, but we will begin by using *just the indexing operator* (the brackets). Place a string inside of the brackets and make this the left-hand side of the assignment.\n",
        "\n",
        "The right-hand side can consist of any of the following:\n",
        "* A scalar value\n",
        "* A list or array with the same length as the DataFrame\n",
        "* A pandas Series with an index that matches the index of the DataFrame (a little tricky!)\n",
        "\n",
        "## New column assigned to a scalar value\n",
        "A **scalar** value is simply one single value, like an integer, string, boolean or date. When using a scalar for column assignment, each value in the column will be the same. Let's create a column **`SCORE`** and assign it the value 99."
      ]
    },
    {
      "cell_type": "code",
      "metadata": {
        "collapsed": true,
        "id": "EQy24R5mWYeW"
      },
      "source": [
        "#@title\n",
        "df['SCORE'] = 99"
      ],
      "execution_count": 3,
      "outputs": []
    },
    {
      "cell_type": "markdown",
      "metadata": {
        "id": "ex78hX4iWYeW"
      },
      "source": [
        "## Where's the output?\n",
        "In the previous two notebooks, we were only making column selections (no equal signs) resulting in output displayed directly into the notebook after executing the line of code. In the above, we made an assignment, which will not yield any output. We must use an extra line to display our data."
      ]
    },
    {
      "cell_type": "code",
      "metadata": {
        "id": "p45ds3RAWYeW",
        "colab": {
          "base_uri": "https://localhost:8080/",
          "height": 254
        },
        "outputId": "5415cc54-ea71-495a-a271-a4bad8321b0b"
      },
      "source": [
        "#@title\n",
        "df"
      ],
      "execution_count": 4,
      "outputs": [
        {
          "output_type": "execute_result",
          "data": {
            "text/html": [
              "<div>\n",
              "<style scoped>\n",
              "    .dataframe tbody tr th:only-of-type {\n",
              "        vertical-align: middle;\n",
              "    }\n",
              "\n",
              "    .dataframe tbody tr th {\n",
              "        vertical-align: top;\n",
              "    }\n",
              "\n",
              "    .dataframe thead th {\n",
              "        text-align: right;\n",
              "    }\n",
              "</style>\n",
              "<table border=\"1\" class=\"dataframe\">\n",
              "  <thead>\n",
              "    <tr style=\"text-align: right;\">\n",
              "      <th></th>\n",
              "      <th>GENDER</th>\n",
              "      <th>NATIONALITY</th>\n",
              "      <th>DEPARTMENT</th>\n",
              "      <th>YEARS EXPERIENCE</th>\n",
              "      <th>SALARY</th>\n",
              "      <th>SCORE</th>\n",
              "    </tr>\n",
              "  </thead>\n",
              "  <tbody>\n",
              "    <tr>\n",
              "      <th>Tom</th>\n",
              "      <td>Male</td>\n",
              "      <td>Switzerland</td>\n",
              "      <td>Engineering</td>\n",
              "      <td>23</td>\n",
              "      <td>107962</td>\n",
              "      <td>99</td>\n",
              "    </tr>\n",
              "    <tr>\n",
              "      <th>Niko</th>\n",
              "      <td>Male</td>\n",
              "      <td>USA</td>\n",
              "      <td>Engineering</td>\n",
              "      <td>1</td>\n",
              "      <td>30347</td>\n",
              "      <td>99</td>\n",
              "    </tr>\n",
              "    <tr>\n",
              "      <th>Penelope</th>\n",
              "      <td>Female</td>\n",
              "      <td>Switzerland</td>\n",
              "      <td>Engineering</td>\n",
              "      <td>12</td>\n",
              "      <td>60258</td>\n",
              "      <td>99</td>\n",
              "    </tr>\n",
              "    <tr>\n",
              "      <th>Aria</th>\n",
              "      <td>Female</td>\n",
              "      <td>USA</td>\n",
              "      <td>Engineering</td>\n",
              "      <td>8</td>\n",
              "      <td>43618</td>\n",
              "      <td>99</td>\n",
              "    </tr>\n",
              "    <tr>\n",
              "      <th>Sofia</th>\n",
              "      <td>Female</td>\n",
              "      <td>USA</td>\n",
              "      <td>Parks &amp; Recreation</td>\n",
              "      <td>23</td>\n",
              "      <td>26125</td>\n",
              "      <td>99</td>\n",
              "    </tr>\n",
              "    <tr>\n",
              "      <th>Dean</th>\n",
              "      <td>Male</td>\n",
              "      <td>USA</td>\n",
              "      <td>Parks &amp; Recreation</td>\n",
              "      <td>3</td>\n",
              "      <td>33592</td>\n",
              "      <td>99</td>\n",
              "    </tr>\n",
              "    <tr>\n",
              "      <th>Zach</th>\n",
              "      <td>Male</td>\n",
              "      <td>Switzerland</td>\n",
              "      <td>Parks &amp; Recreation</td>\n",
              "      <td>4</td>\n",
              "      <td>37565</td>\n",
              "      <td>99</td>\n",
              "    </tr>\n",
              "  </tbody>\n",
              "</table>\n",
              "</div>"
            ],
            "text/plain": [
              "          GENDER  NATIONALITY  ...  SALARY  SCORE\n",
              "Tom         Male  Switzerland  ...  107962     99\n",
              "Niko        Male          USA  ...   30347     99\n",
              "Penelope  Female  Switzerland  ...   60258     99\n",
              "Aria      Female          USA  ...   43618     99\n",
              "Sofia     Female          USA  ...   26125     99\n",
              "Dean        Male          USA  ...   33592     99\n",
              "Zach        Male  Switzerland  ...   37565     99\n",
              "\n",
              "[7 rows x 6 columns]"
            ]
          },
          "metadata": {
            "tags": []
          },
          "execution_count": 4
        }
      ]
    },
    {
      "cell_type": "markdown",
      "metadata": {
        "id": "zVREcAjtWYeX"
      },
      "source": [
        "## Create a new column with a list or array\n",
        "\n",
        "Instead of creating a new column with all the same values, we can use a list or NumPy array with different values for each row. The only stipulation is that the number of new values in the list/array must be the same as the number of rows in the DataFrame.\n",
        "\n",
        "Let's create the column **`BONUS RATE`**, with a list of numbers between 0 and 1."
      ]
    },
    {
      "cell_type": "code",
      "metadata": {
        "id": "U6FhdlimWYeX",
        "colab": {
          "base_uri": "https://localhost:8080/",
          "height": 254
        },
        "outputId": "1a249389-4cd8-49b9-93ed-fef0841c6284"
      },
      "source": [
        "#@title\n",
        "df['BONUS RATE'] = [.2, .1, 0, .15, .12, .3, .05]\n",
        "df"
      ],
      "execution_count": 5,
      "outputs": [
        {
          "output_type": "execute_result",
          "data": {
            "text/html": [
              "<div>\n",
              "<style scoped>\n",
              "    .dataframe tbody tr th:only-of-type {\n",
              "        vertical-align: middle;\n",
              "    }\n",
              "\n",
              "    .dataframe tbody tr th {\n",
              "        vertical-align: top;\n",
              "    }\n",
              "\n",
              "    .dataframe thead th {\n",
              "        text-align: right;\n",
              "    }\n",
              "</style>\n",
              "<table border=\"1\" class=\"dataframe\">\n",
              "  <thead>\n",
              "    <tr style=\"text-align: right;\">\n",
              "      <th></th>\n",
              "      <th>GENDER</th>\n",
              "      <th>NATIONALITY</th>\n",
              "      <th>DEPARTMENT</th>\n",
              "      <th>YEARS EXPERIENCE</th>\n",
              "      <th>SALARY</th>\n",
              "      <th>SCORE</th>\n",
              "      <th>BONUS RATE</th>\n",
              "    </tr>\n",
              "  </thead>\n",
              "  <tbody>\n",
              "    <tr>\n",
              "      <th>Tom</th>\n",
              "      <td>Male</td>\n",
              "      <td>Switzerland</td>\n",
              "      <td>Engineering</td>\n",
              "      <td>23</td>\n",
              "      <td>107962</td>\n",
              "      <td>99</td>\n",
              "      <td>0.20</td>\n",
              "    </tr>\n",
              "    <tr>\n",
              "      <th>Niko</th>\n",
              "      <td>Male</td>\n",
              "      <td>USA</td>\n",
              "      <td>Engineering</td>\n",
              "      <td>1</td>\n",
              "      <td>30347</td>\n",
              "      <td>99</td>\n",
              "      <td>0.10</td>\n",
              "    </tr>\n",
              "    <tr>\n",
              "      <th>Penelope</th>\n",
              "      <td>Female</td>\n",
              "      <td>Switzerland</td>\n",
              "      <td>Engineering</td>\n",
              "      <td>12</td>\n",
              "      <td>60258</td>\n",
              "      <td>99</td>\n",
              "      <td>0.00</td>\n",
              "    </tr>\n",
              "    <tr>\n",
              "      <th>Aria</th>\n",
              "      <td>Female</td>\n",
              "      <td>USA</td>\n",
              "      <td>Engineering</td>\n",
              "      <td>8</td>\n",
              "      <td>43618</td>\n",
              "      <td>99</td>\n",
              "      <td>0.15</td>\n",
              "    </tr>\n",
              "    <tr>\n",
              "      <th>Sofia</th>\n",
              "      <td>Female</td>\n",
              "      <td>USA</td>\n",
              "      <td>Parks &amp; Recreation</td>\n",
              "      <td>23</td>\n",
              "      <td>26125</td>\n",
              "      <td>99</td>\n",
              "      <td>0.12</td>\n",
              "    </tr>\n",
              "    <tr>\n",
              "      <th>Dean</th>\n",
              "      <td>Male</td>\n",
              "      <td>USA</td>\n",
              "      <td>Parks &amp; Recreation</td>\n",
              "      <td>3</td>\n",
              "      <td>33592</td>\n",
              "      <td>99</td>\n",
              "      <td>0.30</td>\n",
              "    </tr>\n",
              "    <tr>\n",
              "      <th>Zach</th>\n",
              "      <td>Male</td>\n",
              "      <td>Switzerland</td>\n",
              "      <td>Parks &amp; Recreation</td>\n",
              "      <td>4</td>\n",
              "      <td>37565</td>\n",
              "      <td>99</td>\n",
              "      <td>0.05</td>\n",
              "    </tr>\n",
              "  </tbody>\n",
              "</table>\n",
              "</div>"
            ],
            "text/plain": [
              "          GENDER  NATIONALITY          DEPARTMENT  ...  SALARY  SCORE  BONUS RATE\n",
              "Tom         Male  Switzerland         Engineering  ...  107962     99        0.20\n",
              "Niko        Male          USA         Engineering  ...   30347     99        0.10\n",
              "Penelope  Female  Switzerland         Engineering  ...   60258     99        0.00\n",
              "Aria      Female          USA         Engineering  ...   43618     99        0.15\n",
              "Sofia     Female          USA  Parks & Recreation  ...   26125     99        0.12\n",
              "Dean        Male          USA  Parks & Recreation  ...   33592     99        0.30\n",
              "Zach        Male  Switzerland  Parks & Recreation  ...   37565     99        0.05\n",
              "\n",
              "[7 rows x 7 columns]"
            ]
          },
          "metadata": {
            "tags": []
          },
          "execution_count": 5
        }
      ]
    },
    {
      "cell_type": "markdown",
      "metadata": {
        "id": "ndWh9Gy_WYeX"
      },
      "source": [
        "Since the number of values in our list (7) is not equal to the number of rows of the DataFrame (2000), we get a ValueError.\n",
        "\n",
        "We could have just as easily used a one dimensional NumPy array to get the same exact results. Let's do just that and create a random array of integers to represent the floor that the employee works on.\n",
        "\n",
        "We use the **`randint`** function from NumPy's **`rand`** module. Use the **`low`** (inclusive) and **`high`** (exclusive) parameters to bound the range of possible integers. **`len(df)`** returns the number of rows in the DataFrame ensuring that the size of the array is correct.."
      ]
    },
    {
      "cell_type": "code",
      "metadata": {
        "id": "o3saqkThWYeY",
        "colab": {
          "base_uri": "https://localhost:8080/"
        },
        "outputId": "1feb1bdb-47c2-415e-88d0-277734d3949d"
      },
      "source": [
        "#@title\n",
        "floor = np.random.randint(low=1, high=10, size=len(df))\n",
        "floor"
      ],
      "execution_count": 6,
      "outputs": [
        {
          "output_type": "execute_result",
          "data": {
            "text/plain": [
              "array([5, 9, 2, 3, 1, 5, 8])"
            ]
          },
          "metadata": {
            "tags": []
          },
          "execution_count": 6
        }
      ]
    },
    {
      "cell_type": "markdown",
      "metadata": {
        "id": "_fiujqGjWYeY"
      },
      "source": [
        "Then assign this to the **`FLOOR`** column:"
      ]
    },
    {
      "cell_type": "code",
      "metadata": {
        "id": "5NtYgv9pWYeY",
        "colab": {
          "base_uri": "https://localhost:8080/",
          "height": 254
        },
        "outputId": "36efbab2-6df1-4f5f-c53f-539290779581"
      },
      "source": [
        "#@title\n",
        "df['FLOOR'] = floor\n",
        "df"
      ],
      "execution_count": 7,
      "outputs": [
        {
          "output_type": "execute_result",
          "data": {
            "text/html": [
              "<div>\n",
              "<style scoped>\n",
              "    .dataframe tbody tr th:only-of-type {\n",
              "        vertical-align: middle;\n",
              "    }\n",
              "\n",
              "    .dataframe tbody tr th {\n",
              "        vertical-align: top;\n",
              "    }\n",
              "\n",
              "    .dataframe thead th {\n",
              "        text-align: right;\n",
              "    }\n",
              "</style>\n",
              "<table border=\"1\" class=\"dataframe\">\n",
              "  <thead>\n",
              "    <tr style=\"text-align: right;\">\n",
              "      <th></th>\n",
              "      <th>GENDER</th>\n",
              "      <th>NATIONALITY</th>\n",
              "      <th>DEPARTMENT</th>\n",
              "      <th>YEARS EXPERIENCE</th>\n",
              "      <th>SALARY</th>\n",
              "      <th>SCORE</th>\n",
              "      <th>BONUS RATE</th>\n",
              "      <th>FLOOR</th>\n",
              "    </tr>\n",
              "  </thead>\n",
              "  <tbody>\n",
              "    <tr>\n",
              "      <th>Tom</th>\n",
              "      <td>Male</td>\n",
              "      <td>Switzerland</td>\n",
              "      <td>Engineering</td>\n",
              "      <td>23</td>\n",
              "      <td>107962</td>\n",
              "      <td>99</td>\n",
              "      <td>0.20</td>\n",
              "      <td>5</td>\n",
              "    </tr>\n",
              "    <tr>\n",
              "      <th>Niko</th>\n",
              "      <td>Male</td>\n",
              "      <td>USA</td>\n",
              "      <td>Engineering</td>\n",
              "      <td>1</td>\n",
              "      <td>30347</td>\n",
              "      <td>99</td>\n",
              "      <td>0.10</td>\n",
              "      <td>9</td>\n",
              "    </tr>\n",
              "    <tr>\n",
              "      <th>Penelope</th>\n",
              "      <td>Female</td>\n",
              "      <td>Switzerland</td>\n",
              "      <td>Engineering</td>\n",
              "      <td>12</td>\n",
              "      <td>60258</td>\n",
              "      <td>99</td>\n",
              "      <td>0.00</td>\n",
              "      <td>2</td>\n",
              "    </tr>\n",
              "    <tr>\n",
              "      <th>Aria</th>\n",
              "      <td>Female</td>\n",
              "      <td>USA</td>\n",
              "      <td>Engineering</td>\n",
              "      <td>8</td>\n",
              "      <td>43618</td>\n",
              "      <td>99</td>\n",
              "      <td>0.15</td>\n",
              "      <td>3</td>\n",
              "    </tr>\n",
              "    <tr>\n",
              "      <th>Sofia</th>\n",
              "      <td>Female</td>\n",
              "      <td>USA</td>\n",
              "      <td>Parks &amp; Recreation</td>\n",
              "      <td>23</td>\n",
              "      <td>26125</td>\n",
              "      <td>99</td>\n",
              "      <td>0.12</td>\n",
              "      <td>1</td>\n",
              "    </tr>\n",
              "    <tr>\n",
              "      <th>Dean</th>\n",
              "      <td>Male</td>\n",
              "      <td>USA</td>\n",
              "      <td>Parks &amp; Recreation</td>\n",
              "      <td>3</td>\n",
              "      <td>33592</td>\n",
              "      <td>99</td>\n",
              "      <td>0.30</td>\n",
              "      <td>5</td>\n",
              "    </tr>\n",
              "    <tr>\n",
              "      <th>Zach</th>\n",
              "      <td>Male</td>\n",
              "      <td>Switzerland</td>\n",
              "      <td>Parks &amp; Recreation</td>\n",
              "      <td>4</td>\n",
              "      <td>37565</td>\n",
              "      <td>99</td>\n",
              "      <td>0.05</td>\n",
              "      <td>8</td>\n",
              "    </tr>\n",
              "  </tbody>\n",
              "</table>\n",
              "</div>"
            ],
            "text/plain": [
              "          GENDER  NATIONALITY          DEPARTMENT  ...  SCORE  BONUS RATE  FLOOR\n",
              "Tom         Male  Switzerland         Engineering  ...     99        0.20      5\n",
              "Niko        Male          USA         Engineering  ...     99        0.10      9\n",
              "Penelope  Female  Switzerland         Engineering  ...     99        0.00      2\n",
              "Aria      Female          USA         Engineering  ...     99        0.15      3\n",
              "Sofia     Female          USA  Parks & Recreation  ...     99        0.12      1\n",
              "Dean        Male          USA  Parks & Recreation  ...     99        0.30      5\n",
              "Zach        Male  Switzerland  Parks & Recreation  ...     99        0.05      8\n",
              "\n",
              "[7 rows x 8 columns]"
            ]
          },
          "metadata": {
            "tags": []
          },
          "execution_count": 7
        }
      ]
    },
    {
      "cell_type": "markdown",
      "metadata": {
        "id": "QwQT0XM-WYeZ"
      },
      "source": [
        "## Creating a new column with a Series (tricky!)\n",
        "Let's create a new pandas Series and see what happens when we attempt to assign it as a new column in our DataFrame.\n",
        "\n",
        "Let's try and add a column for the last name of each person."
      ]
    },
    {
      "cell_type": "code",
      "metadata": {
        "id": "zk-_zewLWYeZ",
        "colab": {
          "base_uri": "https://localhost:8080/"
        },
        "outputId": "5d733ad7-0020-49cc-8e73-bd8ab257da2c"
      },
      "source": [
        "#@title\n",
        "last_name = pd.Series(['Smith', 'Jones', 'Williams', 'Green', 'Brown', 'Simpson', 'Peters'])\n",
        "last_name"
      ],
      "execution_count": 8,
      "outputs": [
        {
          "output_type": "execute_result",
          "data": {
            "text/plain": [
              "0       Smith\n",
              "1       Jones\n",
              "2    Williams\n",
              "3       Green\n",
              "4       Brown\n",
              "5     Simpson\n",
              "6      Peters\n",
              "dtype: object"
            ]
          },
          "metadata": {
            "tags": []
          },
          "execution_count": 8
        }
      ]
    },
    {
      "cell_type": "markdown",
      "metadata": {
        "id": "TrkYz_dQWYeZ"
      },
      "source": [
        "Make the assignment like we have done above:"
      ]
    },
    {
      "cell_type": "code",
      "metadata": {
        "id": "2GpHvwx6WYeZ",
        "colab": {
          "base_uri": "https://localhost:8080/",
          "height": 254
        },
        "outputId": "c96a7c9a-20b6-45dd-8979-c22fa343e04b"
      },
      "source": [
        "#@title\n",
        "df['LAST NAME'] = last_name\n",
        "df"
      ],
      "execution_count": 9,
      "outputs": [
        {
          "output_type": "execute_result",
          "data": {
            "text/html": [
              "<div>\n",
              "<style scoped>\n",
              "    .dataframe tbody tr th:only-of-type {\n",
              "        vertical-align: middle;\n",
              "    }\n",
              "\n",
              "    .dataframe tbody tr th {\n",
              "        vertical-align: top;\n",
              "    }\n",
              "\n",
              "    .dataframe thead th {\n",
              "        text-align: right;\n",
              "    }\n",
              "</style>\n",
              "<table border=\"1\" class=\"dataframe\">\n",
              "  <thead>\n",
              "    <tr style=\"text-align: right;\">\n",
              "      <th></th>\n",
              "      <th>GENDER</th>\n",
              "      <th>NATIONALITY</th>\n",
              "      <th>DEPARTMENT</th>\n",
              "      <th>YEARS EXPERIENCE</th>\n",
              "      <th>SALARY</th>\n",
              "      <th>SCORE</th>\n",
              "      <th>BONUS RATE</th>\n",
              "      <th>FLOOR</th>\n",
              "      <th>LAST NAME</th>\n",
              "    </tr>\n",
              "  </thead>\n",
              "  <tbody>\n",
              "    <tr>\n",
              "      <th>Tom</th>\n",
              "      <td>Male</td>\n",
              "      <td>Switzerland</td>\n",
              "      <td>Engineering</td>\n",
              "      <td>23</td>\n",
              "      <td>107962</td>\n",
              "      <td>99</td>\n",
              "      <td>0.20</td>\n",
              "      <td>5</td>\n",
              "      <td>NaN</td>\n",
              "    </tr>\n",
              "    <tr>\n",
              "      <th>Niko</th>\n",
              "      <td>Male</td>\n",
              "      <td>USA</td>\n",
              "      <td>Engineering</td>\n",
              "      <td>1</td>\n",
              "      <td>30347</td>\n",
              "      <td>99</td>\n",
              "      <td>0.10</td>\n",
              "      <td>9</td>\n",
              "      <td>NaN</td>\n",
              "    </tr>\n",
              "    <tr>\n",
              "      <th>Penelope</th>\n",
              "      <td>Female</td>\n",
              "      <td>Switzerland</td>\n",
              "      <td>Engineering</td>\n",
              "      <td>12</td>\n",
              "      <td>60258</td>\n",
              "      <td>99</td>\n",
              "      <td>0.00</td>\n",
              "      <td>2</td>\n",
              "      <td>NaN</td>\n",
              "    </tr>\n",
              "    <tr>\n",
              "      <th>Aria</th>\n",
              "      <td>Female</td>\n",
              "      <td>USA</td>\n",
              "      <td>Engineering</td>\n",
              "      <td>8</td>\n",
              "      <td>43618</td>\n",
              "      <td>99</td>\n",
              "      <td>0.15</td>\n",
              "      <td>3</td>\n",
              "      <td>NaN</td>\n",
              "    </tr>\n",
              "    <tr>\n",
              "      <th>Sofia</th>\n",
              "      <td>Female</td>\n",
              "      <td>USA</td>\n",
              "      <td>Parks &amp; Recreation</td>\n",
              "      <td>23</td>\n",
              "      <td>26125</td>\n",
              "      <td>99</td>\n",
              "      <td>0.12</td>\n",
              "      <td>1</td>\n",
              "      <td>NaN</td>\n",
              "    </tr>\n",
              "    <tr>\n",
              "      <th>Dean</th>\n",
              "      <td>Male</td>\n",
              "      <td>USA</td>\n",
              "      <td>Parks &amp; Recreation</td>\n",
              "      <td>3</td>\n",
              "      <td>33592</td>\n",
              "      <td>99</td>\n",
              "      <td>0.30</td>\n",
              "      <td>5</td>\n",
              "      <td>NaN</td>\n",
              "    </tr>\n",
              "    <tr>\n",
              "      <th>Zach</th>\n",
              "      <td>Male</td>\n",
              "      <td>Switzerland</td>\n",
              "      <td>Parks &amp; Recreation</td>\n",
              "      <td>4</td>\n",
              "      <td>37565</td>\n",
              "      <td>99</td>\n",
              "      <td>0.05</td>\n",
              "      <td>8</td>\n",
              "      <td>NaN</td>\n",
              "    </tr>\n",
              "  </tbody>\n",
              "</table>\n",
              "</div>"
            ],
            "text/plain": [
              "          GENDER  NATIONALITY          DEPARTMENT  ...  BONUS RATE  FLOOR  LAST NAME\n",
              "Tom         Male  Switzerland         Engineering  ...        0.20      5        NaN\n",
              "Niko        Male          USA         Engineering  ...        0.10      9        NaN\n",
              "Penelope  Female  Switzerland         Engineering  ...        0.00      2        NaN\n",
              "Aria      Female          USA         Engineering  ...        0.15      3        NaN\n",
              "Sofia     Female          USA  Parks & Recreation  ...        0.12      1        NaN\n",
              "Dean        Male          USA  Parks & Recreation  ...        0.30      5        NaN\n",
              "Zach        Male  Switzerland  Parks & Recreation  ...        0.05      8        NaN\n",
              "\n",
              "[7 rows x 9 columns]"
            ]
          },
          "metadata": {
            "tags": []
          },
          "execution_count": 9
        }
      ]
    },
    {
      "cell_type": "markdown",
      "metadata": {
        "id": "oa0mwM5TWYea"
      },
      "source": [
        "## All missing values!\n",
        "Our attempt failed because pandas uses a completely different methodology for combining two pandas objects. \n",
        "\n",
        "## Automatic alignment of the Index\n",
        "Whenever two pandas objects are combined in some fashion the row/column index of one is aligned with the row/column index of the other. This all happens silently and implicitly behind the scenes. So if you are unaware of it, you will be completely taken by surprise. I will dedicate several notebooks in a different section to this surprising yet powerful feature.\n",
        "\n",
        "Our operation failed to add the last names because the index of our Series is the integers 0 through 6, while the index of the DataFrame are the names of the employees. There are no index values in common between the objects, so pandas defaults to NaN (Not a number).\n",
        "\n",
        "## Create a Series with same Index as DataFrame\n",
        "To use a Series to create a new column, the index must match that of the modifying DataFrame. Let's re-create our Series with the same index as the DataFrame."
      ]
    },
    {
      "cell_type": "code",
      "metadata": {
        "id": "a535svRMWYea",
        "colab": {
          "base_uri": "https://localhost:8080/"
        },
        "outputId": "1c0ad6cb-6148-41c7-db64-1aea7a9ff1e2"
      },
      "source": [
        "#@title\n",
        "last_name = pd.Series(data=['Smith', 'Jones', 'Williams', 'Green', 'Brown', 'Simpson', 'Peters'],\n",
        "                      index=['Tom', 'Niko', 'Penelope', 'Aria', 'Sofia', 'Dean', 'Zach'])\n",
        "last_name"
      ],
      "execution_count": 10,
      "outputs": [
        {
          "output_type": "execute_result",
          "data": {
            "text/plain": [
              "Tom            Smith\n",
              "Niko           Jones\n",
              "Penelope    Williams\n",
              "Aria           Green\n",
              "Sofia          Brown\n",
              "Dean         Simpson\n",
              "Zach          Peters\n",
              "dtype: object"
            ]
          },
          "metadata": {
            "tags": []
          },
          "execution_count": 10
        }
      ]
    },
    {
      "cell_type": "markdown",
      "metadata": {
        "id": "ssgl62cGWYea"
      },
      "source": [
        "Let's try that assignment again. This technically will overwrite our previous **`LAST NAME`** column"
      ]
    },
    {
      "cell_type": "code",
      "metadata": {
        "id": "t6eWPdgQWYea",
        "colab": {
          "base_uri": "https://localhost:8080/",
          "height": 254
        },
        "outputId": "ddf61744-e38e-4da9-e78c-b0df3e498a6b"
      },
      "source": [
        "#@title\n",
        "df['LAST NAME'] = last_name\n",
        "df"
      ],
      "execution_count": 11,
      "outputs": [
        {
          "output_type": "execute_result",
          "data": {
            "text/html": [
              "<div>\n",
              "<style scoped>\n",
              "    .dataframe tbody tr th:only-of-type {\n",
              "        vertical-align: middle;\n",
              "    }\n",
              "\n",
              "    .dataframe tbody tr th {\n",
              "        vertical-align: top;\n",
              "    }\n",
              "\n",
              "    .dataframe thead th {\n",
              "        text-align: right;\n",
              "    }\n",
              "</style>\n",
              "<table border=\"1\" class=\"dataframe\">\n",
              "  <thead>\n",
              "    <tr style=\"text-align: right;\">\n",
              "      <th></th>\n",
              "      <th>GENDER</th>\n",
              "      <th>NATIONALITY</th>\n",
              "      <th>DEPARTMENT</th>\n",
              "      <th>YEARS EXPERIENCE</th>\n",
              "      <th>SALARY</th>\n",
              "      <th>SCORE</th>\n",
              "      <th>BONUS RATE</th>\n",
              "      <th>FLOOR</th>\n",
              "      <th>LAST NAME</th>\n",
              "    </tr>\n",
              "  </thead>\n",
              "  <tbody>\n",
              "    <tr>\n",
              "      <th>Tom</th>\n",
              "      <td>Male</td>\n",
              "      <td>Switzerland</td>\n",
              "      <td>Engineering</td>\n",
              "      <td>23</td>\n",
              "      <td>107962</td>\n",
              "      <td>99</td>\n",
              "      <td>0.20</td>\n",
              "      <td>5</td>\n",
              "      <td>Smith</td>\n",
              "    </tr>\n",
              "    <tr>\n",
              "      <th>Niko</th>\n",
              "      <td>Male</td>\n",
              "      <td>USA</td>\n",
              "      <td>Engineering</td>\n",
              "      <td>1</td>\n",
              "      <td>30347</td>\n",
              "      <td>99</td>\n",
              "      <td>0.10</td>\n",
              "      <td>9</td>\n",
              "      <td>Jones</td>\n",
              "    </tr>\n",
              "    <tr>\n",
              "      <th>Penelope</th>\n",
              "      <td>Female</td>\n",
              "      <td>Switzerland</td>\n",
              "      <td>Engineering</td>\n",
              "      <td>12</td>\n",
              "      <td>60258</td>\n",
              "      <td>99</td>\n",
              "      <td>0.00</td>\n",
              "      <td>2</td>\n",
              "      <td>Williams</td>\n",
              "    </tr>\n",
              "    <tr>\n",
              "      <th>Aria</th>\n",
              "      <td>Female</td>\n",
              "      <td>USA</td>\n",
              "      <td>Engineering</td>\n",
              "      <td>8</td>\n",
              "      <td>43618</td>\n",
              "      <td>99</td>\n",
              "      <td>0.15</td>\n",
              "      <td>3</td>\n",
              "      <td>Green</td>\n",
              "    </tr>\n",
              "    <tr>\n",
              "      <th>Sofia</th>\n",
              "      <td>Female</td>\n",
              "      <td>USA</td>\n",
              "      <td>Parks &amp; Recreation</td>\n",
              "      <td>23</td>\n",
              "      <td>26125</td>\n",
              "      <td>99</td>\n",
              "      <td>0.12</td>\n",
              "      <td>1</td>\n",
              "      <td>Brown</td>\n",
              "    </tr>\n",
              "    <tr>\n",
              "      <th>Dean</th>\n",
              "      <td>Male</td>\n",
              "      <td>USA</td>\n",
              "      <td>Parks &amp; Recreation</td>\n",
              "      <td>3</td>\n",
              "      <td>33592</td>\n",
              "      <td>99</td>\n",
              "      <td>0.30</td>\n",
              "      <td>5</td>\n",
              "      <td>Simpson</td>\n",
              "    </tr>\n",
              "    <tr>\n",
              "      <th>Zach</th>\n",
              "      <td>Male</td>\n",
              "      <td>Switzerland</td>\n",
              "      <td>Parks &amp; Recreation</td>\n",
              "      <td>4</td>\n",
              "      <td>37565</td>\n",
              "      <td>99</td>\n",
              "      <td>0.05</td>\n",
              "      <td>8</td>\n",
              "      <td>Peters</td>\n",
              "    </tr>\n",
              "  </tbody>\n",
              "</table>\n",
              "</div>"
            ],
            "text/plain": [
              "          GENDER  NATIONALITY          DEPARTMENT  ...  BONUS RATE  FLOOR  LAST NAME\n",
              "Tom         Male  Switzerland         Engineering  ...        0.20      5      Smith\n",
              "Niko        Male          USA         Engineering  ...        0.10      9      Jones\n",
              "Penelope  Female  Switzerland         Engineering  ...        0.00      2   Williams\n",
              "Aria      Female          USA         Engineering  ...        0.15      3      Green\n",
              "Sofia     Female          USA  Parks & Recreation  ...        0.12      1      Brown\n",
              "Dean        Male          USA  Parks & Recreation  ...        0.30      5    Simpson\n",
              "Zach        Male  Switzerland  Parks & Recreation  ...        0.05      8     Peters\n",
              "\n",
              "[7 rows x 9 columns]"
            ]
          },
          "metadata": {
            "tags": []
          },
          "execution_count": 11
        }
      ]
    },
    {
      "cell_type": "markdown",
      "metadata": {
        "id": "WbeDmp6oUuYo"
      },
      "source": [
        "**Note:** In our DataFrame, there are none with the same first name (index), but if there were, they would get the same `LAST NAME`, even if they are different people."
      ]
    },
    {
      "cell_type": "markdown",
      "metadata": {
        "id": "79qhxLYqWYeb"
      },
      "source": [
        "## Create a new column with expressions involving other columns\n",
        "We can create a new column by combining any number of other columns. One primary way of doing that is through a mathematical expression. For instance, let's create a new column **`BONUS`** by multiplying the **`BONUS RATE`** and **`SALARY`** columns together.\n",
        "\n",
        "## Output before assignment\n",
        "Before adding this new column to your DataFrame, you might want to consider viewing the output before making the assignment. This gives you a little preview so that you can check your work before doing the more permanent assignment.\n",
        "\n",
        "Let's multiple our two columns without assignment:"
      ]
    },
    {
      "cell_type": "code",
      "metadata": {
        "id": "IzEomJvLWYeb",
        "colab": {
          "base_uri": "https://localhost:8080/"
        },
        "outputId": "99ca384a-323b-4f4f-ebb9-b78dbfd05edb"
      },
      "source": [
        "#@title\n",
        "df['BONUS RATE'] * df['SALARY']"
      ],
      "execution_count": 12,
      "outputs": [
        {
          "output_type": "execute_result",
          "data": {
            "text/plain": [
              "Tom         21592.40\n",
              "Niko         3034.70\n",
              "Penelope        0.00\n",
              "Aria         6542.70\n",
              "Sofia        3135.00\n",
              "Dean        10077.60\n",
              "Zach         1878.25\n",
              "dtype: float64"
            ]
          },
          "metadata": {
            "tags": []
          },
          "execution_count": 12
        }
      ]
    },
    {
      "cell_type": "markdown",
      "metadata": {
        "id": "_8dS9pQuWYeb"
      },
      "source": [
        "Everything appears to be OK, so go ahead and make the assignment. Notice that the output is a Series with index the same as the DataFrame."
      ]
    },
    {
      "cell_type": "code",
      "metadata": {
        "id": "EhtSLJwIWYeb",
        "colab": {
          "base_uri": "https://localhost:8080/",
          "height": 254
        },
        "outputId": "2ab953ee-ec6d-4020-93c9-64e307d2aab5"
      },
      "source": [
        "#@title\n",
        "df['BONUS'] = df['BONUS RATE'] * df['SALARY']\n",
        "df"
      ],
      "execution_count": 13,
      "outputs": [
        {
          "output_type": "execute_result",
          "data": {
            "text/html": [
              "<div>\n",
              "<style scoped>\n",
              "    .dataframe tbody tr th:only-of-type {\n",
              "        vertical-align: middle;\n",
              "    }\n",
              "\n",
              "    .dataframe tbody tr th {\n",
              "        vertical-align: top;\n",
              "    }\n",
              "\n",
              "    .dataframe thead th {\n",
              "        text-align: right;\n",
              "    }\n",
              "</style>\n",
              "<table border=\"1\" class=\"dataframe\">\n",
              "  <thead>\n",
              "    <tr style=\"text-align: right;\">\n",
              "      <th></th>\n",
              "      <th>GENDER</th>\n",
              "      <th>NATIONALITY</th>\n",
              "      <th>DEPARTMENT</th>\n",
              "      <th>YEARS EXPERIENCE</th>\n",
              "      <th>SALARY</th>\n",
              "      <th>SCORE</th>\n",
              "      <th>BONUS RATE</th>\n",
              "      <th>FLOOR</th>\n",
              "      <th>LAST NAME</th>\n",
              "      <th>BONUS</th>\n",
              "    </tr>\n",
              "  </thead>\n",
              "  <tbody>\n",
              "    <tr>\n",
              "      <th>Tom</th>\n",
              "      <td>Male</td>\n",
              "      <td>Switzerland</td>\n",
              "      <td>Engineering</td>\n",
              "      <td>23</td>\n",
              "      <td>107962</td>\n",
              "      <td>99</td>\n",
              "      <td>0.20</td>\n",
              "      <td>5</td>\n",
              "      <td>Smith</td>\n",
              "      <td>21592.40</td>\n",
              "    </tr>\n",
              "    <tr>\n",
              "      <th>Niko</th>\n",
              "      <td>Male</td>\n",
              "      <td>USA</td>\n",
              "      <td>Engineering</td>\n",
              "      <td>1</td>\n",
              "      <td>30347</td>\n",
              "      <td>99</td>\n",
              "      <td>0.10</td>\n",
              "      <td>9</td>\n",
              "      <td>Jones</td>\n",
              "      <td>3034.70</td>\n",
              "    </tr>\n",
              "    <tr>\n",
              "      <th>Penelope</th>\n",
              "      <td>Female</td>\n",
              "      <td>Switzerland</td>\n",
              "      <td>Engineering</td>\n",
              "      <td>12</td>\n",
              "      <td>60258</td>\n",
              "      <td>99</td>\n",
              "      <td>0.00</td>\n",
              "      <td>2</td>\n",
              "      <td>Williams</td>\n",
              "      <td>0.00</td>\n",
              "    </tr>\n",
              "    <tr>\n",
              "      <th>Aria</th>\n",
              "      <td>Female</td>\n",
              "      <td>USA</td>\n",
              "      <td>Engineering</td>\n",
              "      <td>8</td>\n",
              "      <td>43618</td>\n",
              "      <td>99</td>\n",
              "      <td>0.15</td>\n",
              "      <td>3</td>\n",
              "      <td>Green</td>\n",
              "      <td>6542.70</td>\n",
              "    </tr>\n",
              "    <tr>\n",
              "      <th>Sofia</th>\n",
              "      <td>Female</td>\n",
              "      <td>USA</td>\n",
              "      <td>Parks &amp; Recreation</td>\n",
              "      <td>23</td>\n",
              "      <td>26125</td>\n",
              "      <td>99</td>\n",
              "      <td>0.12</td>\n",
              "      <td>1</td>\n",
              "      <td>Brown</td>\n",
              "      <td>3135.00</td>\n",
              "    </tr>\n",
              "    <tr>\n",
              "      <th>Dean</th>\n",
              "      <td>Male</td>\n",
              "      <td>USA</td>\n",
              "      <td>Parks &amp; Recreation</td>\n",
              "      <td>3</td>\n",
              "      <td>33592</td>\n",
              "      <td>99</td>\n",
              "      <td>0.30</td>\n",
              "      <td>5</td>\n",
              "      <td>Simpson</td>\n",
              "      <td>10077.60</td>\n",
              "    </tr>\n",
              "    <tr>\n",
              "      <th>Zach</th>\n",
              "      <td>Male</td>\n",
              "      <td>Switzerland</td>\n",
              "      <td>Parks &amp; Recreation</td>\n",
              "      <td>4</td>\n",
              "      <td>37565</td>\n",
              "      <td>99</td>\n",
              "      <td>0.05</td>\n",
              "      <td>8</td>\n",
              "      <td>Peters</td>\n",
              "      <td>1878.25</td>\n",
              "    </tr>\n",
              "  </tbody>\n",
              "</table>\n",
              "</div>"
            ],
            "text/plain": [
              "          GENDER  NATIONALITY          DEPARTMENT  ...  FLOOR  LAST NAME     BONUS\n",
              "Tom         Male  Switzerland         Engineering  ...      5      Smith  21592.40\n",
              "Niko        Male          USA         Engineering  ...      9      Jones   3034.70\n",
              "Penelope  Female  Switzerland         Engineering  ...      2   Williams      0.00\n",
              "Aria      Female          USA         Engineering  ...      3      Green   6542.70\n",
              "Sofia     Female          USA  Parks & Recreation  ...      1      Brown   3135.00\n",
              "Dean        Male          USA  Parks & Recreation  ...      5    Simpson  10077.60\n",
              "Zach        Male  Switzerland  Parks & Recreation  ...      8     Peters   1878.25\n",
              "\n",
              "[7 rows x 10 columns]"
            ]
          },
          "metadata": {
            "tags": []
          },
          "execution_count": 13
        }
      ]
    },
    {
      "cell_type": "markdown",
      "metadata": {
        "id": "BTndquNkWYeb"
      },
      "source": [
        "# Actual Subset Assignment\n",
        "So far, we have just added new columns to our DataFrame. We did not change any of the pre-existing values. Let's begin doing this by changing each person's **`SCORE`** to 100.\n",
        "\n",
        "The syntax is the same, whether it's adding a new column or changing an existing column:"
      ]
    },
    {
      "cell_type": "code",
      "metadata": {
        "id": "-c6o7GArWYec",
        "colab": {
          "base_uri": "https://localhost:8080/",
          "height": 254
        },
        "outputId": "ada3a8e9-5168-4f35-8701-98eaf4420fdf"
      },
      "source": [
        "#@title\n",
        "df['SCORE'] = 100\n",
        "df"
      ],
      "execution_count": 14,
      "outputs": [
        {
          "output_type": "execute_result",
          "data": {
            "text/html": [
              "<div>\n",
              "<style scoped>\n",
              "    .dataframe tbody tr th:only-of-type {\n",
              "        vertical-align: middle;\n",
              "    }\n",
              "\n",
              "    .dataframe tbody tr th {\n",
              "        vertical-align: top;\n",
              "    }\n",
              "\n",
              "    .dataframe thead th {\n",
              "        text-align: right;\n",
              "    }\n",
              "</style>\n",
              "<table border=\"1\" class=\"dataframe\">\n",
              "  <thead>\n",
              "    <tr style=\"text-align: right;\">\n",
              "      <th></th>\n",
              "      <th>GENDER</th>\n",
              "      <th>NATIONALITY</th>\n",
              "      <th>DEPARTMENT</th>\n",
              "      <th>YEARS EXPERIENCE</th>\n",
              "      <th>SALARY</th>\n",
              "      <th>SCORE</th>\n",
              "      <th>BONUS RATE</th>\n",
              "      <th>FLOOR</th>\n",
              "      <th>LAST NAME</th>\n",
              "      <th>BONUS</th>\n",
              "    </tr>\n",
              "  </thead>\n",
              "  <tbody>\n",
              "    <tr>\n",
              "      <th>Tom</th>\n",
              "      <td>Male</td>\n",
              "      <td>Switzerland</td>\n",
              "      <td>Engineering</td>\n",
              "      <td>23</td>\n",
              "      <td>107962</td>\n",
              "      <td>100</td>\n",
              "      <td>0.20</td>\n",
              "      <td>5</td>\n",
              "      <td>Smith</td>\n",
              "      <td>21592.40</td>\n",
              "    </tr>\n",
              "    <tr>\n",
              "      <th>Niko</th>\n",
              "      <td>Male</td>\n",
              "      <td>USA</td>\n",
              "      <td>Engineering</td>\n",
              "      <td>1</td>\n",
              "      <td>30347</td>\n",
              "      <td>100</td>\n",
              "      <td>0.10</td>\n",
              "      <td>9</td>\n",
              "      <td>Jones</td>\n",
              "      <td>3034.70</td>\n",
              "    </tr>\n",
              "    <tr>\n",
              "      <th>Penelope</th>\n",
              "      <td>Female</td>\n",
              "      <td>Switzerland</td>\n",
              "      <td>Engineering</td>\n",
              "      <td>12</td>\n",
              "      <td>60258</td>\n",
              "      <td>100</td>\n",
              "      <td>0.00</td>\n",
              "      <td>2</td>\n",
              "      <td>Williams</td>\n",
              "      <td>0.00</td>\n",
              "    </tr>\n",
              "    <tr>\n",
              "      <th>Aria</th>\n",
              "      <td>Female</td>\n",
              "      <td>USA</td>\n",
              "      <td>Engineering</td>\n",
              "      <td>8</td>\n",
              "      <td>43618</td>\n",
              "      <td>100</td>\n",
              "      <td>0.15</td>\n",
              "      <td>3</td>\n",
              "      <td>Green</td>\n",
              "      <td>6542.70</td>\n",
              "    </tr>\n",
              "    <tr>\n",
              "      <th>Sofia</th>\n",
              "      <td>Female</td>\n",
              "      <td>USA</td>\n",
              "      <td>Parks &amp; Recreation</td>\n",
              "      <td>23</td>\n",
              "      <td>26125</td>\n",
              "      <td>100</td>\n",
              "      <td>0.12</td>\n",
              "      <td>1</td>\n",
              "      <td>Brown</td>\n",
              "      <td>3135.00</td>\n",
              "    </tr>\n",
              "    <tr>\n",
              "      <th>Dean</th>\n",
              "      <td>Male</td>\n",
              "      <td>USA</td>\n",
              "      <td>Parks &amp; Recreation</td>\n",
              "      <td>3</td>\n",
              "      <td>33592</td>\n",
              "      <td>100</td>\n",
              "      <td>0.30</td>\n",
              "      <td>5</td>\n",
              "      <td>Simpson</td>\n",
              "      <td>10077.60</td>\n",
              "    </tr>\n",
              "    <tr>\n",
              "      <th>Zach</th>\n",
              "      <td>Male</td>\n",
              "      <td>Switzerland</td>\n",
              "      <td>Parks &amp; Recreation</td>\n",
              "      <td>4</td>\n",
              "      <td>37565</td>\n",
              "      <td>100</td>\n",
              "      <td>0.05</td>\n",
              "      <td>8</td>\n",
              "      <td>Peters</td>\n",
              "      <td>1878.25</td>\n",
              "    </tr>\n",
              "  </tbody>\n",
              "</table>\n",
              "</div>"
            ],
            "text/plain": [
              "          GENDER  NATIONALITY          DEPARTMENT  ...  FLOOR  LAST NAME     BONUS\n",
              "Tom         Male  Switzerland         Engineering  ...      5      Smith  21592.40\n",
              "Niko        Male          USA         Engineering  ...      9      Jones   3034.70\n",
              "Penelope  Female  Switzerland         Engineering  ...      2   Williams      0.00\n",
              "Aria      Female          USA         Engineering  ...      3      Green   6542.70\n",
              "Sofia     Female          USA  Parks & Recreation  ...      1      Brown   3135.00\n",
              "Dean        Male          USA  Parks & Recreation  ...      5    Simpson  10077.60\n",
              "Zach        Male  Switzerland  Parks & Recreation  ...      8     Peters   1878.25\n",
              "\n",
              "[7 rows x 10 columns]"
            ]
          },
          "metadata": {
            "tags": []
          },
          "execution_count": 14
        }
      ]
    },
    {
      "cell_type": "markdown",
      "metadata": {
        "id": "4x0s45dFWYec"
      },
      "source": [
        "## Overwriting the same column\n",
        "You can use the column itself you are assigning in the expression on the right-hand side of the equal sign. For instance, if we want to remove the ugly decimals from the **`BONUS`** column, we can call the **`astype`** method on it and assign it to itself."
      ]
    },
    {
      "cell_type": "code",
      "metadata": {
        "id": "ZFuiS0oxWYec",
        "colab": {
          "base_uri": "https://localhost:8080/",
          "height": 254
        },
        "outputId": "d0111083-6436-44e6-eead-12d810ef085a"
      },
      "source": [
        "#@title\n",
        "df['BONUS'] = df['BONUS'].astype(int)\n",
        "df"
      ],
      "execution_count": 15,
      "outputs": [
        {
          "output_type": "execute_result",
          "data": {
            "text/html": [
              "<div>\n",
              "<style scoped>\n",
              "    .dataframe tbody tr th:only-of-type {\n",
              "        vertical-align: middle;\n",
              "    }\n",
              "\n",
              "    .dataframe tbody tr th {\n",
              "        vertical-align: top;\n",
              "    }\n",
              "\n",
              "    .dataframe thead th {\n",
              "        text-align: right;\n",
              "    }\n",
              "</style>\n",
              "<table border=\"1\" class=\"dataframe\">\n",
              "  <thead>\n",
              "    <tr style=\"text-align: right;\">\n",
              "      <th></th>\n",
              "      <th>GENDER</th>\n",
              "      <th>NATIONALITY</th>\n",
              "      <th>DEPARTMENT</th>\n",
              "      <th>YEARS EXPERIENCE</th>\n",
              "      <th>SALARY</th>\n",
              "      <th>SCORE</th>\n",
              "      <th>BONUS RATE</th>\n",
              "      <th>FLOOR</th>\n",
              "      <th>LAST NAME</th>\n",
              "      <th>BONUS</th>\n",
              "    </tr>\n",
              "  </thead>\n",
              "  <tbody>\n",
              "    <tr>\n",
              "      <th>Tom</th>\n",
              "      <td>Male</td>\n",
              "      <td>Switzerland</td>\n",
              "      <td>Engineering</td>\n",
              "      <td>23</td>\n",
              "      <td>107962</td>\n",
              "      <td>100</td>\n",
              "      <td>0.20</td>\n",
              "      <td>5</td>\n",
              "      <td>Smith</td>\n",
              "      <td>21592</td>\n",
              "    </tr>\n",
              "    <tr>\n",
              "      <th>Niko</th>\n",
              "      <td>Male</td>\n",
              "      <td>USA</td>\n",
              "      <td>Engineering</td>\n",
              "      <td>1</td>\n",
              "      <td>30347</td>\n",
              "      <td>100</td>\n",
              "      <td>0.10</td>\n",
              "      <td>9</td>\n",
              "      <td>Jones</td>\n",
              "      <td>3034</td>\n",
              "    </tr>\n",
              "    <tr>\n",
              "      <th>Penelope</th>\n",
              "      <td>Female</td>\n",
              "      <td>Switzerland</td>\n",
              "      <td>Engineering</td>\n",
              "      <td>12</td>\n",
              "      <td>60258</td>\n",
              "      <td>100</td>\n",
              "      <td>0.00</td>\n",
              "      <td>2</td>\n",
              "      <td>Williams</td>\n",
              "      <td>0</td>\n",
              "    </tr>\n",
              "    <tr>\n",
              "      <th>Aria</th>\n",
              "      <td>Female</td>\n",
              "      <td>USA</td>\n",
              "      <td>Engineering</td>\n",
              "      <td>8</td>\n",
              "      <td>43618</td>\n",
              "      <td>100</td>\n",
              "      <td>0.15</td>\n",
              "      <td>3</td>\n",
              "      <td>Green</td>\n",
              "      <td>6542</td>\n",
              "    </tr>\n",
              "    <tr>\n",
              "      <th>Sofia</th>\n",
              "      <td>Female</td>\n",
              "      <td>USA</td>\n",
              "      <td>Parks &amp; Recreation</td>\n",
              "      <td>23</td>\n",
              "      <td>26125</td>\n",
              "      <td>100</td>\n",
              "      <td>0.12</td>\n",
              "      <td>1</td>\n",
              "      <td>Brown</td>\n",
              "      <td>3135</td>\n",
              "    </tr>\n",
              "    <tr>\n",
              "      <th>Dean</th>\n",
              "      <td>Male</td>\n",
              "      <td>USA</td>\n",
              "      <td>Parks &amp; Recreation</td>\n",
              "      <td>3</td>\n",
              "      <td>33592</td>\n",
              "      <td>100</td>\n",
              "      <td>0.30</td>\n",
              "      <td>5</td>\n",
              "      <td>Simpson</td>\n",
              "      <td>10077</td>\n",
              "    </tr>\n",
              "    <tr>\n",
              "      <th>Zach</th>\n",
              "      <td>Male</td>\n",
              "      <td>Switzerland</td>\n",
              "      <td>Parks &amp; Recreation</td>\n",
              "      <td>4</td>\n",
              "      <td>37565</td>\n",
              "      <td>100</td>\n",
              "      <td>0.05</td>\n",
              "      <td>8</td>\n",
              "      <td>Peters</td>\n",
              "      <td>1878</td>\n",
              "    </tr>\n",
              "  </tbody>\n",
              "</table>\n",
              "</div>"
            ],
            "text/plain": [
              "          GENDER  NATIONALITY          DEPARTMENT  ...  FLOOR  LAST NAME  BONUS\n",
              "Tom         Male  Switzerland         Engineering  ...      5      Smith  21592\n",
              "Niko        Male          USA         Engineering  ...      9      Jones   3034\n",
              "Penelope  Female  Switzerland         Engineering  ...      2   Williams      0\n",
              "Aria      Female          USA         Engineering  ...      3      Green   6542\n",
              "Sofia     Female          USA  Parks & Recreation  ...      1      Brown   3135\n",
              "Dean        Male          USA  Parks & Recreation  ...      5    Simpson  10077\n",
              "Zach        Male  Switzerland  Parks & Recreation  ...      8     Peters   1878\n",
              "\n",
              "[7 rows x 10 columns]"
            ]
          },
          "metadata": {
            "tags": []
          },
          "execution_count": 15
        }
      ]
    },
    {
      "cell_type": "markdown",
      "metadata": {
        "id": "1z7aL4btWYec"
      },
      "source": [
        "## Assigning a subset of rows within a single column\n",
        "Now that we can change all the values in a single at once, let's learn how to change just a subset of them.\n",
        "\n",
        "For instance, let's change the **`FLOOR`** for **`Niko`**, **`Penelope`**, and **`Aria`**. Before doing so, let's remember how to make that subset selection with **`.loc`**:"
      ]
    },
    {
      "cell_type": "code",
      "metadata": {
        "id": "GZ-Q4vIlWYed",
        "colab": {
          "base_uri": "https://localhost:8080/"
        },
        "outputId": "a33ef1f8-b586-46ba-8d23-fa896ed47a0f"
      },
      "source": [
        "#@title\n",
        "df.loc[['Niko', 'Penelope', 'Aria'], 'FLOOR']"
      ],
      "execution_count": 16,
      "outputs": [
        {
          "output_type": "execute_result",
          "data": {
            "text/plain": [
              "Niko        9\n",
              "Penelope    2\n",
              "Aria        3\n",
              "Name: FLOOR, dtype: int64"
            ]
          },
          "metadata": {
            "tags": []
          },
          "execution_count": 16
        }
      ]
    },
    {
      "cell_type": "markdown",
      "metadata": {
        "id": "DSmrP72qWYed"
      },
      "source": [
        "The **`.loc`** indexer allows for row and column selection separated by a comma. It only makes selections based on row/column **labels**. Once we have correctly selected our subset, let's assign it a list of three new integers"
      ]
    },
    {
      "cell_type": "code",
      "metadata": {
        "id": "61jUCAgHWYed",
        "colab": {
          "base_uri": "https://localhost:8080/",
          "height": 254
        },
        "outputId": "55318ca9-112f-4d60-a7a2-3495e80718fb"
      },
      "source": [
        "#@title\n",
        "df.loc[['Niko', 'Penelope', 'Aria'], 'FLOOR'] = [3, 6, 4]\n",
        "df"
      ],
      "execution_count": 17,
      "outputs": [
        {
          "output_type": "execute_result",
          "data": {
            "text/html": [
              "<div>\n",
              "<style scoped>\n",
              "    .dataframe tbody tr th:only-of-type {\n",
              "        vertical-align: middle;\n",
              "    }\n",
              "\n",
              "    .dataframe tbody tr th {\n",
              "        vertical-align: top;\n",
              "    }\n",
              "\n",
              "    .dataframe thead th {\n",
              "        text-align: right;\n",
              "    }\n",
              "</style>\n",
              "<table border=\"1\" class=\"dataframe\">\n",
              "  <thead>\n",
              "    <tr style=\"text-align: right;\">\n",
              "      <th></th>\n",
              "      <th>GENDER</th>\n",
              "      <th>NATIONALITY</th>\n",
              "      <th>DEPARTMENT</th>\n",
              "      <th>YEARS EXPERIENCE</th>\n",
              "      <th>SALARY</th>\n",
              "      <th>SCORE</th>\n",
              "      <th>BONUS RATE</th>\n",
              "      <th>FLOOR</th>\n",
              "      <th>LAST NAME</th>\n",
              "      <th>BONUS</th>\n",
              "    </tr>\n",
              "  </thead>\n",
              "  <tbody>\n",
              "    <tr>\n",
              "      <th>Tom</th>\n",
              "      <td>Male</td>\n",
              "      <td>Switzerland</td>\n",
              "      <td>Engineering</td>\n",
              "      <td>23</td>\n",
              "      <td>107962</td>\n",
              "      <td>100</td>\n",
              "      <td>0.20</td>\n",
              "      <td>5</td>\n",
              "      <td>Smith</td>\n",
              "      <td>21592</td>\n",
              "    </tr>\n",
              "    <tr>\n",
              "      <th>Niko</th>\n",
              "      <td>Male</td>\n",
              "      <td>USA</td>\n",
              "      <td>Engineering</td>\n",
              "      <td>1</td>\n",
              "      <td>30347</td>\n",
              "      <td>100</td>\n",
              "      <td>0.10</td>\n",
              "      <td>3</td>\n",
              "      <td>Jones</td>\n",
              "      <td>3034</td>\n",
              "    </tr>\n",
              "    <tr>\n",
              "      <th>Penelope</th>\n",
              "      <td>Female</td>\n",
              "      <td>Switzerland</td>\n",
              "      <td>Engineering</td>\n",
              "      <td>12</td>\n",
              "      <td>60258</td>\n",
              "      <td>100</td>\n",
              "      <td>0.00</td>\n",
              "      <td>6</td>\n",
              "      <td>Williams</td>\n",
              "      <td>0</td>\n",
              "    </tr>\n",
              "    <tr>\n",
              "      <th>Aria</th>\n",
              "      <td>Female</td>\n",
              "      <td>USA</td>\n",
              "      <td>Engineering</td>\n",
              "      <td>8</td>\n",
              "      <td>43618</td>\n",
              "      <td>100</td>\n",
              "      <td>0.15</td>\n",
              "      <td>4</td>\n",
              "      <td>Green</td>\n",
              "      <td>6542</td>\n",
              "    </tr>\n",
              "    <tr>\n",
              "      <th>Sofia</th>\n",
              "      <td>Female</td>\n",
              "      <td>USA</td>\n",
              "      <td>Parks &amp; Recreation</td>\n",
              "      <td>23</td>\n",
              "      <td>26125</td>\n",
              "      <td>100</td>\n",
              "      <td>0.12</td>\n",
              "      <td>1</td>\n",
              "      <td>Brown</td>\n",
              "      <td>3135</td>\n",
              "    </tr>\n",
              "    <tr>\n",
              "      <th>Dean</th>\n",
              "      <td>Male</td>\n",
              "      <td>USA</td>\n",
              "      <td>Parks &amp; Recreation</td>\n",
              "      <td>3</td>\n",
              "      <td>33592</td>\n",
              "      <td>100</td>\n",
              "      <td>0.30</td>\n",
              "      <td>5</td>\n",
              "      <td>Simpson</td>\n",
              "      <td>10077</td>\n",
              "    </tr>\n",
              "    <tr>\n",
              "      <th>Zach</th>\n",
              "      <td>Male</td>\n",
              "      <td>Switzerland</td>\n",
              "      <td>Parks &amp; Recreation</td>\n",
              "      <td>4</td>\n",
              "      <td>37565</td>\n",
              "      <td>100</td>\n",
              "      <td>0.05</td>\n",
              "      <td>8</td>\n",
              "      <td>Peters</td>\n",
              "      <td>1878</td>\n",
              "    </tr>\n",
              "  </tbody>\n",
              "</table>\n",
              "</div>"
            ],
            "text/plain": [
              "          GENDER  NATIONALITY          DEPARTMENT  ...  FLOOR  LAST NAME  BONUS\n",
              "Tom         Male  Switzerland         Engineering  ...      5      Smith  21592\n",
              "Niko        Male          USA         Engineering  ...      3      Jones   3034\n",
              "Penelope  Female  Switzerland         Engineering  ...      6   Williams      0\n",
              "Aria      Female          USA         Engineering  ...      4      Green   6542\n",
              "Sofia     Female          USA  Parks & Recreation  ...      1      Brown   3135\n",
              "Dean        Male          USA  Parks & Recreation  ...      5    Simpson  10077\n",
              "Zach        Male  Switzerland  Parks & Recreation  ...      8     Peters   1878\n",
              "\n",
              "[7 rows x 10 columns]"
            ]
          },
          "metadata": {
            "tags": []
          },
          "execution_count": 17
        }
      ]
    },
    {
      "cell_type": "markdown",
      "metadata": {
        "id": "vTcfQbdmWYee"
      },
      "source": [
        "## Style DataFrame to show differences (advanced)\n",
        "It's not important you understand this section if you are new to pandas, but you should still read through it as the **`style_diff`** function will be used in subsequent sections. Pandas provides a **`style`** attribute which allows you to apply a wide variety of CSS styles to your DataFrames. Check the [style documentation](http://pandas.pydata.org/pandas-docs/stable/style.html) for more.\n",
        "\n",
        "We are going to change the background color and the color of the text for the values that have changed. To do this, you need to create a copy of the DataFrame before you make any changes with the **`copy`** method."
      ]
    },
    {
      "cell_type": "code",
      "metadata": {
        "collapsed": true,
        "id": "pbQre9T-WYee"
      },
      "source": [
        "#@title\n",
        "df_orig = df.copy()"
      ],
      "execution_count": 18,
      "outputs": []
    },
    {
      "cell_type": "markdown",
      "metadata": {
        "id": "Je_FJs0HWYef"
      },
      "source": [
        "Then, we make our changes to our DataFrame"
      ]
    },
    {
      "cell_type": "code",
      "metadata": {
        "id": "lXMrihNLWYef",
        "colab": {
          "base_uri": "https://localhost:8080/",
          "height": 254
        },
        "outputId": "81b456e4-a0a9-45b8-e835-263c8ad25ee9"
      },
      "source": [
        "#@title\n",
        "df.loc[['Niko', 'Penelope', 'Aria'], 'FLOOR'] = [60, 42, 99]\n",
        "df"
      ],
      "execution_count": 19,
      "outputs": [
        {
          "output_type": "execute_result",
          "data": {
            "text/html": [
              "<div>\n",
              "<style scoped>\n",
              "    .dataframe tbody tr th:only-of-type {\n",
              "        vertical-align: middle;\n",
              "    }\n",
              "\n",
              "    .dataframe tbody tr th {\n",
              "        vertical-align: top;\n",
              "    }\n",
              "\n",
              "    .dataframe thead th {\n",
              "        text-align: right;\n",
              "    }\n",
              "</style>\n",
              "<table border=\"1\" class=\"dataframe\">\n",
              "  <thead>\n",
              "    <tr style=\"text-align: right;\">\n",
              "      <th></th>\n",
              "      <th>GENDER</th>\n",
              "      <th>NATIONALITY</th>\n",
              "      <th>DEPARTMENT</th>\n",
              "      <th>YEARS EXPERIENCE</th>\n",
              "      <th>SALARY</th>\n",
              "      <th>SCORE</th>\n",
              "      <th>BONUS RATE</th>\n",
              "      <th>FLOOR</th>\n",
              "      <th>LAST NAME</th>\n",
              "      <th>BONUS</th>\n",
              "    </tr>\n",
              "  </thead>\n",
              "  <tbody>\n",
              "    <tr>\n",
              "      <th>Tom</th>\n",
              "      <td>Male</td>\n",
              "      <td>Switzerland</td>\n",
              "      <td>Engineering</td>\n",
              "      <td>23</td>\n",
              "      <td>107962</td>\n",
              "      <td>100</td>\n",
              "      <td>0.20</td>\n",
              "      <td>5</td>\n",
              "      <td>Smith</td>\n",
              "      <td>21592</td>\n",
              "    </tr>\n",
              "    <tr>\n",
              "      <th>Niko</th>\n",
              "      <td>Male</td>\n",
              "      <td>USA</td>\n",
              "      <td>Engineering</td>\n",
              "      <td>1</td>\n",
              "      <td>30347</td>\n",
              "      <td>100</td>\n",
              "      <td>0.10</td>\n",
              "      <td>60</td>\n",
              "      <td>Jones</td>\n",
              "      <td>3034</td>\n",
              "    </tr>\n",
              "    <tr>\n",
              "      <th>Penelope</th>\n",
              "      <td>Female</td>\n",
              "      <td>Switzerland</td>\n",
              "      <td>Engineering</td>\n",
              "      <td>12</td>\n",
              "      <td>60258</td>\n",
              "      <td>100</td>\n",
              "      <td>0.00</td>\n",
              "      <td>42</td>\n",
              "      <td>Williams</td>\n",
              "      <td>0</td>\n",
              "    </tr>\n",
              "    <tr>\n",
              "      <th>Aria</th>\n",
              "      <td>Female</td>\n",
              "      <td>USA</td>\n",
              "      <td>Engineering</td>\n",
              "      <td>8</td>\n",
              "      <td>43618</td>\n",
              "      <td>100</td>\n",
              "      <td>0.15</td>\n",
              "      <td>99</td>\n",
              "      <td>Green</td>\n",
              "      <td>6542</td>\n",
              "    </tr>\n",
              "    <tr>\n",
              "      <th>Sofia</th>\n",
              "      <td>Female</td>\n",
              "      <td>USA</td>\n",
              "      <td>Parks &amp; Recreation</td>\n",
              "      <td>23</td>\n",
              "      <td>26125</td>\n",
              "      <td>100</td>\n",
              "      <td>0.12</td>\n",
              "      <td>1</td>\n",
              "      <td>Brown</td>\n",
              "      <td>3135</td>\n",
              "    </tr>\n",
              "    <tr>\n",
              "      <th>Dean</th>\n",
              "      <td>Male</td>\n",
              "      <td>USA</td>\n",
              "      <td>Parks &amp; Recreation</td>\n",
              "      <td>3</td>\n",
              "      <td>33592</td>\n",
              "      <td>100</td>\n",
              "      <td>0.30</td>\n",
              "      <td>5</td>\n",
              "      <td>Simpson</td>\n",
              "      <td>10077</td>\n",
              "    </tr>\n",
              "    <tr>\n",
              "      <th>Zach</th>\n",
              "      <td>Male</td>\n",
              "      <td>Switzerland</td>\n",
              "      <td>Parks &amp; Recreation</td>\n",
              "      <td>4</td>\n",
              "      <td>37565</td>\n",
              "      <td>100</td>\n",
              "      <td>0.05</td>\n",
              "      <td>8</td>\n",
              "      <td>Peters</td>\n",
              "      <td>1878</td>\n",
              "    </tr>\n",
              "  </tbody>\n",
              "</table>\n",
              "</div>"
            ],
            "text/plain": [
              "          GENDER  NATIONALITY          DEPARTMENT  ...  FLOOR  LAST NAME  BONUS\n",
              "Tom         Male  Switzerland         Engineering  ...      5      Smith  21592\n",
              "Niko        Male          USA         Engineering  ...     60      Jones   3034\n",
              "Penelope  Female  Switzerland         Engineering  ...     42   Williams      0\n",
              "Aria      Female          USA         Engineering  ...     99      Green   6542\n",
              "Sofia     Female          USA  Parks & Recreation  ...      1      Brown   3135\n",
              "Dean        Male          USA  Parks & Recreation  ...      5    Simpson  10077\n",
              "Zach        Male  Switzerland  Parks & Recreation  ...      8     Peters   1878\n",
              "\n",
              "[7 rows x 10 columns]"
            ]
          },
          "metadata": {
            "tags": []
          },
          "execution_count": 19
        }
      ]
    },
    {
      "cell_type": "markdown",
      "metadata": {
        "id": "lvUibhFdWYeg"
      },
      "source": [
        "We can see that the values have changed, but it would be a bit nicer if they stood out more. The function below accepts the entire DataFrame for parameter **`x`** and the original as **`orig`**. It then creates a boolean DataFrame and replaces all the **`False`** values with a semi-colon separated list of new CSS table **`attribute: value`** pairs."
      ]
    },
    {
      "cell_type": "code",
      "metadata": {
        "collapsed": true,
        "id": "-RrXrkOaWYeg"
      },
      "source": [
        "#@title\n",
        "def style_diff(df, df_orig):\n",
        "    style = {True: '', \n",
        "             False: 'color: red; background-color: yellow'}\n",
        "    df_style = (df == df_orig).replace(style)\n",
        "    return df.style.apply(lambda x: df_style, axis=None)"
      ],
      "execution_count": 20,
      "outputs": []
    },
    {
      "cell_type": "markdown",
      "metadata": {
        "id": "LzHz7S_PWYeg"
      },
      "source": [
        "We can use this function with any DataFrame that we have. But, take care when using a large DataFrame as the style DataFrames **output every single row**. So, if you have a 10,000 row DataFrame, you are probably going to crash your notebook."
      ]
    },
    {
      "cell_type": "code",
      "metadata": {
        "id": "vcrGQ3huWYeg",
        "colab": {
          "base_uri": "https://localhost:8080/",
          "height": 178
        },
        "outputId": "83db5ca2-8200-4568-c2b8-a4004c8e9032"
      },
      "source": [
        "#@title\n",
        "style_diff(df, df_orig)"
      ],
      "execution_count": 21,
      "outputs": [
        {
          "output_type": "execute_result",
          "data": {
            "text/html": [
              "<style  type=\"text/css\" >\n",
              "#T_b3ee2ea0_86a2_11eb_8226_0242ac1c0002row1_col7,#T_b3ee2ea0_86a2_11eb_8226_0242ac1c0002row2_col7,#T_b3ee2ea0_86a2_11eb_8226_0242ac1c0002row3_col7{\n",
              "            color:  red;\n",
              "             background-color:  yellow;\n",
              "        }</style><table id=\"T_b3ee2ea0_86a2_11eb_8226_0242ac1c0002\" ><thead>    <tr>        <th class=\"blank level0\" ></th>        <th class=\"col_heading level0 col0\" >GENDER</th>        <th class=\"col_heading level0 col1\" >NATIONALITY</th>        <th class=\"col_heading level0 col2\" >DEPARTMENT</th>        <th class=\"col_heading level0 col3\" >YEARS EXPERIENCE</th>        <th class=\"col_heading level0 col4\" >SALARY</th>        <th class=\"col_heading level0 col5\" >SCORE</th>        <th class=\"col_heading level0 col6\" >BONUS RATE</th>        <th class=\"col_heading level0 col7\" >FLOOR</th>        <th class=\"col_heading level0 col8\" >LAST NAME</th>        <th class=\"col_heading level0 col9\" >BONUS</th>    </tr></thead><tbody>\n",
              "                <tr>\n",
              "                        <th id=\"T_b3ee2ea0_86a2_11eb_8226_0242ac1c0002level0_row0\" class=\"row_heading level0 row0\" >Tom</th>\n",
              "                        <td id=\"T_b3ee2ea0_86a2_11eb_8226_0242ac1c0002row0_col0\" class=\"data row0 col0\" >Male</td>\n",
              "                        <td id=\"T_b3ee2ea0_86a2_11eb_8226_0242ac1c0002row0_col1\" class=\"data row0 col1\" >Switzerland</td>\n",
              "                        <td id=\"T_b3ee2ea0_86a2_11eb_8226_0242ac1c0002row0_col2\" class=\"data row0 col2\" >Engineering</td>\n",
              "                        <td id=\"T_b3ee2ea0_86a2_11eb_8226_0242ac1c0002row0_col3\" class=\"data row0 col3\" >23</td>\n",
              "                        <td id=\"T_b3ee2ea0_86a2_11eb_8226_0242ac1c0002row0_col4\" class=\"data row0 col4\" >107962</td>\n",
              "                        <td id=\"T_b3ee2ea0_86a2_11eb_8226_0242ac1c0002row0_col5\" class=\"data row0 col5\" >100</td>\n",
              "                        <td id=\"T_b3ee2ea0_86a2_11eb_8226_0242ac1c0002row0_col6\" class=\"data row0 col6\" >0.200000</td>\n",
              "                        <td id=\"T_b3ee2ea0_86a2_11eb_8226_0242ac1c0002row0_col7\" class=\"data row0 col7\" >5</td>\n",
              "                        <td id=\"T_b3ee2ea0_86a2_11eb_8226_0242ac1c0002row0_col8\" class=\"data row0 col8\" >Smith</td>\n",
              "                        <td id=\"T_b3ee2ea0_86a2_11eb_8226_0242ac1c0002row0_col9\" class=\"data row0 col9\" >21592</td>\n",
              "            </tr>\n",
              "            <tr>\n",
              "                        <th id=\"T_b3ee2ea0_86a2_11eb_8226_0242ac1c0002level0_row1\" class=\"row_heading level0 row1\" >Niko</th>\n",
              "                        <td id=\"T_b3ee2ea0_86a2_11eb_8226_0242ac1c0002row1_col0\" class=\"data row1 col0\" >Male</td>\n",
              "                        <td id=\"T_b3ee2ea0_86a2_11eb_8226_0242ac1c0002row1_col1\" class=\"data row1 col1\" >USA</td>\n",
              "                        <td id=\"T_b3ee2ea0_86a2_11eb_8226_0242ac1c0002row1_col2\" class=\"data row1 col2\" >Engineering</td>\n",
              "                        <td id=\"T_b3ee2ea0_86a2_11eb_8226_0242ac1c0002row1_col3\" class=\"data row1 col3\" >1</td>\n",
              "                        <td id=\"T_b3ee2ea0_86a2_11eb_8226_0242ac1c0002row1_col4\" class=\"data row1 col4\" >30347</td>\n",
              "                        <td id=\"T_b3ee2ea0_86a2_11eb_8226_0242ac1c0002row1_col5\" class=\"data row1 col5\" >100</td>\n",
              "                        <td id=\"T_b3ee2ea0_86a2_11eb_8226_0242ac1c0002row1_col6\" class=\"data row1 col6\" >0.100000</td>\n",
              "                        <td id=\"T_b3ee2ea0_86a2_11eb_8226_0242ac1c0002row1_col7\" class=\"data row1 col7\" >60</td>\n",
              "                        <td id=\"T_b3ee2ea0_86a2_11eb_8226_0242ac1c0002row1_col8\" class=\"data row1 col8\" >Jones</td>\n",
              "                        <td id=\"T_b3ee2ea0_86a2_11eb_8226_0242ac1c0002row1_col9\" class=\"data row1 col9\" >3034</td>\n",
              "            </tr>\n",
              "            <tr>\n",
              "                        <th id=\"T_b3ee2ea0_86a2_11eb_8226_0242ac1c0002level0_row2\" class=\"row_heading level0 row2\" >Penelope</th>\n",
              "                        <td id=\"T_b3ee2ea0_86a2_11eb_8226_0242ac1c0002row2_col0\" class=\"data row2 col0\" >Female</td>\n",
              "                        <td id=\"T_b3ee2ea0_86a2_11eb_8226_0242ac1c0002row2_col1\" class=\"data row2 col1\" >Switzerland</td>\n",
              "                        <td id=\"T_b3ee2ea0_86a2_11eb_8226_0242ac1c0002row2_col2\" class=\"data row2 col2\" >Engineering</td>\n",
              "                        <td id=\"T_b3ee2ea0_86a2_11eb_8226_0242ac1c0002row2_col3\" class=\"data row2 col3\" >12</td>\n",
              "                        <td id=\"T_b3ee2ea0_86a2_11eb_8226_0242ac1c0002row2_col4\" class=\"data row2 col4\" >60258</td>\n",
              "                        <td id=\"T_b3ee2ea0_86a2_11eb_8226_0242ac1c0002row2_col5\" class=\"data row2 col5\" >100</td>\n",
              "                        <td id=\"T_b3ee2ea0_86a2_11eb_8226_0242ac1c0002row2_col6\" class=\"data row2 col6\" >0.000000</td>\n",
              "                        <td id=\"T_b3ee2ea0_86a2_11eb_8226_0242ac1c0002row2_col7\" class=\"data row2 col7\" >42</td>\n",
              "                        <td id=\"T_b3ee2ea0_86a2_11eb_8226_0242ac1c0002row2_col8\" class=\"data row2 col8\" >Williams</td>\n",
              "                        <td id=\"T_b3ee2ea0_86a2_11eb_8226_0242ac1c0002row2_col9\" class=\"data row2 col9\" >0</td>\n",
              "            </tr>\n",
              "            <tr>\n",
              "                        <th id=\"T_b3ee2ea0_86a2_11eb_8226_0242ac1c0002level0_row3\" class=\"row_heading level0 row3\" >Aria</th>\n",
              "                        <td id=\"T_b3ee2ea0_86a2_11eb_8226_0242ac1c0002row3_col0\" class=\"data row3 col0\" >Female</td>\n",
              "                        <td id=\"T_b3ee2ea0_86a2_11eb_8226_0242ac1c0002row3_col1\" class=\"data row3 col1\" >USA</td>\n",
              "                        <td id=\"T_b3ee2ea0_86a2_11eb_8226_0242ac1c0002row3_col2\" class=\"data row3 col2\" >Engineering</td>\n",
              "                        <td id=\"T_b3ee2ea0_86a2_11eb_8226_0242ac1c0002row3_col3\" class=\"data row3 col3\" >8</td>\n",
              "                        <td id=\"T_b3ee2ea0_86a2_11eb_8226_0242ac1c0002row3_col4\" class=\"data row3 col4\" >43618</td>\n",
              "                        <td id=\"T_b3ee2ea0_86a2_11eb_8226_0242ac1c0002row3_col5\" class=\"data row3 col5\" >100</td>\n",
              "                        <td id=\"T_b3ee2ea0_86a2_11eb_8226_0242ac1c0002row3_col6\" class=\"data row3 col6\" >0.150000</td>\n",
              "                        <td id=\"T_b3ee2ea0_86a2_11eb_8226_0242ac1c0002row3_col7\" class=\"data row3 col7\" >99</td>\n",
              "                        <td id=\"T_b3ee2ea0_86a2_11eb_8226_0242ac1c0002row3_col8\" class=\"data row3 col8\" >Green</td>\n",
              "                        <td id=\"T_b3ee2ea0_86a2_11eb_8226_0242ac1c0002row3_col9\" class=\"data row3 col9\" >6542</td>\n",
              "            </tr>\n",
              "            <tr>\n",
              "                        <th id=\"T_b3ee2ea0_86a2_11eb_8226_0242ac1c0002level0_row4\" class=\"row_heading level0 row4\" >Sofia</th>\n",
              "                        <td id=\"T_b3ee2ea0_86a2_11eb_8226_0242ac1c0002row4_col0\" class=\"data row4 col0\" >Female</td>\n",
              "                        <td id=\"T_b3ee2ea0_86a2_11eb_8226_0242ac1c0002row4_col1\" class=\"data row4 col1\" >USA</td>\n",
              "                        <td id=\"T_b3ee2ea0_86a2_11eb_8226_0242ac1c0002row4_col2\" class=\"data row4 col2\" >Parks & Recreation</td>\n",
              "                        <td id=\"T_b3ee2ea0_86a2_11eb_8226_0242ac1c0002row4_col3\" class=\"data row4 col3\" >23</td>\n",
              "                        <td id=\"T_b3ee2ea0_86a2_11eb_8226_0242ac1c0002row4_col4\" class=\"data row4 col4\" >26125</td>\n",
              "                        <td id=\"T_b3ee2ea0_86a2_11eb_8226_0242ac1c0002row4_col5\" class=\"data row4 col5\" >100</td>\n",
              "                        <td id=\"T_b3ee2ea0_86a2_11eb_8226_0242ac1c0002row4_col6\" class=\"data row4 col6\" >0.120000</td>\n",
              "                        <td id=\"T_b3ee2ea0_86a2_11eb_8226_0242ac1c0002row4_col7\" class=\"data row4 col7\" >1</td>\n",
              "                        <td id=\"T_b3ee2ea0_86a2_11eb_8226_0242ac1c0002row4_col8\" class=\"data row4 col8\" >Brown</td>\n",
              "                        <td id=\"T_b3ee2ea0_86a2_11eb_8226_0242ac1c0002row4_col9\" class=\"data row4 col9\" >3135</td>\n",
              "            </tr>\n",
              "            <tr>\n",
              "                        <th id=\"T_b3ee2ea0_86a2_11eb_8226_0242ac1c0002level0_row5\" class=\"row_heading level0 row5\" >Dean</th>\n",
              "                        <td id=\"T_b3ee2ea0_86a2_11eb_8226_0242ac1c0002row5_col0\" class=\"data row5 col0\" >Male</td>\n",
              "                        <td id=\"T_b3ee2ea0_86a2_11eb_8226_0242ac1c0002row5_col1\" class=\"data row5 col1\" >USA</td>\n",
              "                        <td id=\"T_b3ee2ea0_86a2_11eb_8226_0242ac1c0002row5_col2\" class=\"data row5 col2\" >Parks & Recreation</td>\n",
              "                        <td id=\"T_b3ee2ea0_86a2_11eb_8226_0242ac1c0002row5_col3\" class=\"data row5 col3\" >3</td>\n",
              "                        <td id=\"T_b3ee2ea0_86a2_11eb_8226_0242ac1c0002row5_col4\" class=\"data row5 col4\" >33592</td>\n",
              "                        <td id=\"T_b3ee2ea0_86a2_11eb_8226_0242ac1c0002row5_col5\" class=\"data row5 col5\" >100</td>\n",
              "                        <td id=\"T_b3ee2ea0_86a2_11eb_8226_0242ac1c0002row5_col6\" class=\"data row5 col6\" >0.300000</td>\n",
              "                        <td id=\"T_b3ee2ea0_86a2_11eb_8226_0242ac1c0002row5_col7\" class=\"data row5 col7\" >5</td>\n",
              "                        <td id=\"T_b3ee2ea0_86a2_11eb_8226_0242ac1c0002row5_col8\" class=\"data row5 col8\" >Simpson</td>\n",
              "                        <td id=\"T_b3ee2ea0_86a2_11eb_8226_0242ac1c0002row5_col9\" class=\"data row5 col9\" >10077</td>\n",
              "            </tr>\n",
              "            <tr>\n",
              "                        <th id=\"T_b3ee2ea0_86a2_11eb_8226_0242ac1c0002level0_row6\" class=\"row_heading level0 row6\" >Zach</th>\n",
              "                        <td id=\"T_b3ee2ea0_86a2_11eb_8226_0242ac1c0002row6_col0\" class=\"data row6 col0\" >Male</td>\n",
              "                        <td id=\"T_b3ee2ea0_86a2_11eb_8226_0242ac1c0002row6_col1\" class=\"data row6 col1\" >Switzerland</td>\n",
              "                        <td id=\"T_b3ee2ea0_86a2_11eb_8226_0242ac1c0002row6_col2\" class=\"data row6 col2\" >Parks & Recreation</td>\n",
              "                        <td id=\"T_b3ee2ea0_86a2_11eb_8226_0242ac1c0002row6_col3\" class=\"data row6 col3\" >4</td>\n",
              "                        <td id=\"T_b3ee2ea0_86a2_11eb_8226_0242ac1c0002row6_col4\" class=\"data row6 col4\" >37565</td>\n",
              "                        <td id=\"T_b3ee2ea0_86a2_11eb_8226_0242ac1c0002row6_col5\" class=\"data row6 col5\" >100</td>\n",
              "                        <td id=\"T_b3ee2ea0_86a2_11eb_8226_0242ac1c0002row6_col6\" class=\"data row6 col6\" >0.050000</td>\n",
              "                        <td id=\"T_b3ee2ea0_86a2_11eb_8226_0242ac1c0002row6_col7\" class=\"data row6 col7\" >8</td>\n",
              "                        <td id=\"T_b3ee2ea0_86a2_11eb_8226_0242ac1c0002row6_col8\" class=\"data row6 col8\" >Peters</td>\n",
              "                        <td id=\"T_b3ee2ea0_86a2_11eb_8226_0242ac1c0002row6_col9\" class=\"data row6 col9\" >1878</td>\n",
              "            </tr>\n",
              "    </tbody></table>"
            ],
            "text/plain": [
              "<pandas.io.formats.style.Styler at 0x7f5543d0dc90>"
            ]
          },
          "metadata": {
            "tags": []
          },
          "execution_count": 21
        }
      ]
    },
    {
      "cell_type": "markdown",
      "metadata": {
        "id": "939fbsUxWYeh"
      },
      "source": [
        "## Assigning subsets with `.iloc`\n",
        "Similarly, we can use the **`.iloc`** indexer which only makes selections via **`integer location`**.\n",
        "\n",
        "Let's assign the 3rd - 6th rows of the **`SCORE`** column (integer location 5) with the value 99. Again, we will make a copy of the DataFrame and display the difference with our **`style_diff`** function."
      ]
    },
    {
      "cell_type": "code",
      "metadata": {
        "collapsed": true,
        "id": "YRlufs94WYeh"
      },
      "source": [
        "#@title\n",
        "df_orig = df.copy()\n",
        "\n",
        "df.iloc[3:6, 5] = 99"
      ],
      "execution_count": 22,
      "outputs": []
    },
    {
      "cell_type": "code",
      "metadata": {
        "id": "p52-p0WZWYeh",
        "colab": {
          "base_uri": "https://localhost:8080/",
          "height": 178
        },
        "outputId": "d3acebe9-afaf-4dde-b779-30543d7c29b5"
      },
      "source": [
        "#@title\n",
        "style_diff(df, df_orig)"
      ],
      "execution_count": 23,
      "outputs": [
        {
          "output_type": "execute_result",
          "data": {
            "text/html": [
              "<style  type=\"text/css\" >\n",
              "#T_b3f5e398_86a2_11eb_8226_0242ac1c0002row3_col5,#T_b3f5e398_86a2_11eb_8226_0242ac1c0002row4_col5,#T_b3f5e398_86a2_11eb_8226_0242ac1c0002row5_col5{\n",
              "            color:  red;\n",
              "             background-color:  yellow;\n",
              "        }</style><table id=\"T_b3f5e398_86a2_11eb_8226_0242ac1c0002\" ><thead>    <tr>        <th class=\"blank level0\" ></th>        <th class=\"col_heading level0 col0\" >GENDER</th>        <th class=\"col_heading level0 col1\" >NATIONALITY</th>        <th class=\"col_heading level0 col2\" >DEPARTMENT</th>        <th class=\"col_heading level0 col3\" >YEARS EXPERIENCE</th>        <th class=\"col_heading level0 col4\" >SALARY</th>        <th class=\"col_heading level0 col5\" >SCORE</th>        <th class=\"col_heading level0 col6\" >BONUS RATE</th>        <th class=\"col_heading level0 col7\" >FLOOR</th>        <th class=\"col_heading level0 col8\" >LAST NAME</th>        <th class=\"col_heading level0 col9\" >BONUS</th>    </tr></thead><tbody>\n",
              "                <tr>\n",
              "                        <th id=\"T_b3f5e398_86a2_11eb_8226_0242ac1c0002level0_row0\" class=\"row_heading level0 row0\" >Tom</th>\n",
              "                        <td id=\"T_b3f5e398_86a2_11eb_8226_0242ac1c0002row0_col0\" class=\"data row0 col0\" >Male</td>\n",
              "                        <td id=\"T_b3f5e398_86a2_11eb_8226_0242ac1c0002row0_col1\" class=\"data row0 col1\" >Switzerland</td>\n",
              "                        <td id=\"T_b3f5e398_86a2_11eb_8226_0242ac1c0002row0_col2\" class=\"data row0 col2\" >Engineering</td>\n",
              "                        <td id=\"T_b3f5e398_86a2_11eb_8226_0242ac1c0002row0_col3\" class=\"data row0 col3\" >23</td>\n",
              "                        <td id=\"T_b3f5e398_86a2_11eb_8226_0242ac1c0002row0_col4\" class=\"data row0 col4\" >107962</td>\n",
              "                        <td id=\"T_b3f5e398_86a2_11eb_8226_0242ac1c0002row0_col5\" class=\"data row0 col5\" >100</td>\n",
              "                        <td id=\"T_b3f5e398_86a2_11eb_8226_0242ac1c0002row0_col6\" class=\"data row0 col6\" >0.200000</td>\n",
              "                        <td id=\"T_b3f5e398_86a2_11eb_8226_0242ac1c0002row0_col7\" class=\"data row0 col7\" >5</td>\n",
              "                        <td id=\"T_b3f5e398_86a2_11eb_8226_0242ac1c0002row0_col8\" class=\"data row0 col8\" >Smith</td>\n",
              "                        <td id=\"T_b3f5e398_86a2_11eb_8226_0242ac1c0002row0_col9\" class=\"data row0 col9\" >21592</td>\n",
              "            </tr>\n",
              "            <tr>\n",
              "                        <th id=\"T_b3f5e398_86a2_11eb_8226_0242ac1c0002level0_row1\" class=\"row_heading level0 row1\" >Niko</th>\n",
              "                        <td id=\"T_b3f5e398_86a2_11eb_8226_0242ac1c0002row1_col0\" class=\"data row1 col0\" >Male</td>\n",
              "                        <td id=\"T_b3f5e398_86a2_11eb_8226_0242ac1c0002row1_col1\" class=\"data row1 col1\" >USA</td>\n",
              "                        <td id=\"T_b3f5e398_86a2_11eb_8226_0242ac1c0002row1_col2\" class=\"data row1 col2\" >Engineering</td>\n",
              "                        <td id=\"T_b3f5e398_86a2_11eb_8226_0242ac1c0002row1_col3\" class=\"data row1 col3\" >1</td>\n",
              "                        <td id=\"T_b3f5e398_86a2_11eb_8226_0242ac1c0002row1_col4\" class=\"data row1 col4\" >30347</td>\n",
              "                        <td id=\"T_b3f5e398_86a2_11eb_8226_0242ac1c0002row1_col5\" class=\"data row1 col5\" >100</td>\n",
              "                        <td id=\"T_b3f5e398_86a2_11eb_8226_0242ac1c0002row1_col6\" class=\"data row1 col6\" >0.100000</td>\n",
              "                        <td id=\"T_b3f5e398_86a2_11eb_8226_0242ac1c0002row1_col7\" class=\"data row1 col7\" >60</td>\n",
              "                        <td id=\"T_b3f5e398_86a2_11eb_8226_0242ac1c0002row1_col8\" class=\"data row1 col8\" >Jones</td>\n",
              "                        <td id=\"T_b3f5e398_86a2_11eb_8226_0242ac1c0002row1_col9\" class=\"data row1 col9\" >3034</td>\n",
              "            </tr>\n",
              "            <tr>\n",
              "                        <th id=\"T_b3f5e398_86a2_11eb_8226_0242ac1c0002level0_row2\" class=\"row_heading level0 row2\" >Penelope</th>\n",
              "                        <td id=\"T_b3f5e398_86a2_11eb_8226_0242ac1c0002row2_col0\" class=\"data row2 col0\" >Female</td>\n",
              "                        <td id=\"T_b3f5e398_86a2_11eb_8226_0242ac1c0002row2_col1\" class=\"data row2 col1\" >Switzerland</td>\n",
              "                        <td id=\"T_b3f5e398_86a2_11eb_8226_0242ac1c0002row2_col2\" class=\"data row2 col2\" >Engineering</td>\n",
              "                        <td id=\"T_b3f5e398_86a2_11eb_8226_0242ac1c0002row2_col3\" class=\"data row2 col3\" >12</td>\n",
              "                        <td id=\"T_b3f5e398_86a2_11eb_8226_0242ac1c0002row2_col4\" class=\"data row2 col4\" >60258</td>\n",
              "                        <td id=\"T_b3f5e398_86a2_11eb_8226_0242ac1c0002row2_col5\" class=\"data row2 col5\" >100</td>\n",
              "                        <td id=\"T_b3f5e398_86a2_11eb_8226_0242ac1c0002row2_col6\" class=\"data row2 col6\" >0.000000</td>\n",
              "                        <td id=\"T_b3f5e398_86a2_11eb_8226_0242ac1c0002row2_col7\" class=\"data row2 col7\" >42</td>\n",
              "                        <td id=\"T_b3f5e398_86a2_11eb_8226_0242ac1c0002row2_col8\" class=\"data row2 col8\" >Williams</td>\n",
              "                        <td id=\"T_b3f5e398_86a2_11eb_8226_0242ac1c0002row2_col9\" class=\"data row2 col9\" >0</td>\n",
              "            </tr>\n",
              "            <tr>\n",
              "                        <th id=\"T_b3f5e398_86a2_11eb_8226_0242ac1c0002level0_row3\" class=\"row_heading level0 row3\" >Aria</th>\n",
              "                        <td id=\"T_b3f5e398_86a2_11eb_8226_0242ac1c0002row3_col0\" class=\"data row3 col0\" >Female</td>\n",
              "                        <td id=\"T_b3f5e398_86a2_11eb_8226_0242ac1c0002row3_col1\" class=\"data row3 col1\" >USA</td>\n",
              "                        <td id=\"T_b3f5e398_86a2_11eb_8226_0242ac1c0002row3_col2\" class=\"data row3 col2\" >Engineering</td>\n",
              "                        <td id=\"T_b3f5e398_86a2_11eb_8226_0242ac1c0002row3_col3\" class=\"data row3 col3\" >8</td>\n",
              "                        <td id=\"T_b3f5e398_86a2_11eb_8226_0242ac1c0002row3_col4\" class=\"data row3 col4\" >43618</td>\n",
              "                        <td id=\"T_b3f5e398_86a2_11eb_8226_0242ac1c0002row3_col5\" class=\"data row3 col5\" >99</td>\n",
              "                        <td id=\"T_b3f5e398_86a2_11eb_8226_0242ac1c0002row3_col6\" class=\"data row3 col6\" >0.150000</td>\n",
              "                        <td id=\"T_b3f5e398_86a2_11eb_8226_0242ac1c0002row3_col7\" class=\"data row3 col7\" >99</td>\n",
              "                        <td id=\"T_b3f5e398_86a2_11eb_8226_0242ac1c0002row3_col8\" class=\"data row3 col8\" >Green</td>\n",
              "                        <td id=\"T_b3f5e398_86a2_11eb_8226_0242ac1c0002row3_col9\" class=\"data row3 col9\" >6542</td>\n",
              "            </tr>\n",
              "            <tr>\n",
              "                        <th id=\"T_b3f5e398_86a2_11eb_8226_0242ac1c0002level0_row4\" class=\"row_heading level0 row4\" >Sofia</th>\n",
              "                        <td id=\"T_b3f5e398_86a2_11eb_8226_0242ac1c0002row4_col0\" class=\"data row4 col0\" >Female</td>\n",
              "                        <td id=\"T_b3f5e398_86a2_11eb_8226_0242ac1c0002row4_col1\" class=\"data row4 col1\" >USA</td>\n",
              "                        <td id=\"T_b3f5e398_86a2_11eb_8226_0242ac1c0002row4_col2\" class=\"data row4 col2\" >Parks & Recreation</td>\n",
              "                        <td id=\"T_b3f5e398_86a2_11eb_8226_0242ac1c0002row4_col3\" class=\"data row4 col3\" >23</td>\n",
              "                        <td id=\"T_b3f5e398_86a2_11eb_8226_0242ac1c0002row4_col4\" class=\"data row4 col4\" >26125</td>\n",
              "                        <td id=\"T_b3f5e398_86a2_11eb_8226_0242ac1c0002row4_col5\" class=\"data row4 col5\" >99</td>\n",
              "                        <td id=\"T_b3f5e398_86a2_11eb_8226_0242ac1c0002row4_col6\" class=\"data row4 col6\" >0.120000</td>\n",
              "                        <td id=\"T_b3f5e398_86a2_11eb_8226_0242ac1c0002row4_col7\" class=\"data row4 col7\" >1</td>\n",
              "                        <td id=\"T_b3f5e398_86a2_11eb_8226_0242ac1c0002row4_col8\" class=\"data row4 col8\" >Brown</td>\n",
              "                        <td id=\"T_b3f5e398_86a2_11eb_8226_0242ac1c0002row4_col9\" class=\"data row4 col9\" >3135</td>\n",
              "            </tr>\n",
              "            <tr>\n",
              "                        <th id=\"T_b3f5e398_86a2_11eb_8226_0242ac1c0002level0_row5\" class=\"row_heading level0 row5\" >Dean</th>\n",
              "                        <td id=\"T_b3f5e398_86a2_11eb_8226_0242ac1c0002row5_col0\" class=\"data row5 col0\" >Male</td>\n",
              "                        <td id=\"T_b3f5e398_86a2_11eb_8226_0242ac1c0002row5_col1\" class=\"data row5 col1\" >USA</td>\n",
              "                        <td id=\"T_b3f5e398_86a2_11eb_8226_0242ac1c0002row5_col2\" class=\"data row5 col2\" >Parks & Recreation</td>\n",
              "                        <td id=\"T_b3f5e398_86a2_11eb_8226_0242ac1c0002row5_col3\" class=\"data row5 col3\" >3</td>\n",
              "                        <td id=\"T_b3f5e398_86a2_11eb_8226_0242ac1c0002row5_col4\" class=\"data row5 col4\" >33592</td>\n",
              "                        <td id=\"T_b3f5e398_86a2_11eb_8226_0242ac1c0002row5_col5\" class=\"data row5 col5\" >99</td>\n",
              "                        <td id=\"T_b3f5e398_86a2_11eb_8226_0242ac1c0002row5_col6\" class=\"data row5 col6\" >0.300000</td>\n",
              "                        <td id=\"T_b3f5e398_86a2_11eb_8226_0242ac1c0002row5_col7\" class=\"data row5 col7\" >5</td>\n",
              "                        <td id=\"T_b3f5e398_86a2_11eb_8226_0242ac1c0002row5_col8\" class=\"data row5 col8\" >Simpson</td>\n",
              "                        <td id=\"T_b3f5e398_86a2_11eb_8226_0242ac1c0002row5_col9\" class=\"data row5 col9\" >10077</td>\n",
              "            </tr>\n",
              "            <tr>\n",
              "                        <th id=\"T_b3f5e398_86a2_11eb_8226_0242ac1c0002level0_row6\" class=\"row_heading level0 row6\" >Zach</th>\n",
              "                        <td id=\"T_b3f5e398_86a2_11eb_8226_0242ac1c0002row6_col0\" class=\"data row6 col0\" >Male</td>\n",
              "                        <td id=\"T_b3f5e398_86a2_11eb_8226_0242ac1c0002row6_col1\" class=\"data row6 col1\" >Switzerland</td>\n",
              "                        <td id=\"T_b3f5e398_86a2_11eb_8226_0242ac1c0002row6_col2\" class=\"data row6 col2\" >Parks & Recreation</td>\n",
              "                        <td id=\"T_b3f5e398_86a2_11eb_8226_0242ac1c0002row6_col3\" class=\"data row6 col3\" >4</td>\n",
              "                        <td id=\"T_b3f5e398_86a2_11eb_8226_0242ac1c0002row6_col4\" class=\"data row6 col4\" >37565</td>\n",
              "                        <td id=\"T_b3f5e398_86a2_11eb_8226_0242ac1c0002row6_col5\" class=\"data row6 col5\" >100</td>\n",
              "                        <td id=\"T_b3f5e398_86a2_11eb_8226_0242ac1c0002row6_col6\" class=\"data row6 col6\" >0.050000</td>\n",
              "                        <td id=\"T_b3f5e398_86a2_11eb_8226_0242ac1c0002row6_col7\" class=\"data row6 col7\" >8</td>\n",
              "                        <td id=\"T_b3f5e398_86a2_11eb_8226_0242ac1c0002row6_col8\" class=\"data row6 col8\" >Peters</td>\n",
              "                        <td id=\"T_b3f5e398_86a2_11eb_8226_0242ac1c0002row6_col9\" class=\"data row6 col9\" >1878</td>\n",
              "            </tr>\n",
              "    </tbody></table>"
            ],
            "text/plain": [
              "<pandas.io.formats.style.Styler at 0x7f55429caf90>"
            ]
          },
          "metadata": {
            "tags": []
          },
          "execution_count": 23
        }
      ]
    },
    {
      "cell_type": "markdown",
      "metadata": {
        "id": "TjPaNDZ9WYeh"
      },
      "source": [
        "## Assigning an entire column with `.loc` and `.iloc`\n",
        "Normally, *just the indexing operator* is used to change values of an entire column, but it's also possible to do it with both **`.loc`** and **.`iloc`**. You have to remember that the fist selection made by both these indexers is the rows. To select all rows, use the colon **`:`**.\n",
        "\n",
        "For instance, let's see this in action by changing all values in the **`FLOOR`** column."
      ]
    },
    {
      "cell_type": "code",
      "metadata": {
        "id": "Qq7PFabxWYei",
        "colab": {
          "base_uri": "https://localhost:8080/",
          "height": 178
        },
        "outputId": "189563b8-225f-43bd-d7a0-6e6bc0a31459"
      },
      "source": [
        "#@title\n",
        "df_orig = df.copy()\n",
        "df.loc[:, 'FLOOR'] = 33\n",
        "style_diff(df, df_orig)"
      ],
      "execution_count": 24,
      "outputs": [
        {
          "output_type": "execute_result",
          "data": {
            "text/html": [
              "<style  type=\"text/css\" >\n",
              "#T_b3fb4bb2_86a2_11eb_8226_0242ac1c0002row0_col7,#T_b3fb4bb2_86a2_11eb_8226_0242ac1c0002row1_col7,#T_b3fb4bb2_86a2_11eb_8226_0242ac1c0002row2_col7,#T_b3fb4bb2_86a2_11eb_8226_0242ac1c0002row3_col7,#T_b3fb4bb2_86a2_11eb_8226_0242ac1c0002row4_col7,#T_b3fb4bb2_86a2_11eb_8226_0242ac1c0002row5_col7,#T_b3fb4bb2_86a2_11eb_8226_0242ac1c0002row6_col7{\n",
              "            color:  red;\n",
              "             background-color:  yellow;\n",
              "        }</style><table id=\"T_b3fb4bb2_86a2_11eb_8226_0242ac1c0002\" ><thead>    <tr>        <th class=\"blank level0\" ></th>        <th class=\"col_heading level0 col0\" >GENDER</th>        <th class=\"col_heading level0 col1\" >NATIONALITY</th>        <th class=\"col_heading level0 col2\" >DEPARTMENT</th>        <th class=\"col_heading level0 col3\" >YEARS EXPERIENCE</th>        <th class=\"col_heading level0 col4\" >SALARY</th>        <th class=\"col_heading level0 col5\" >SCORE</th>        <th class=\"col_heading level0 col6\" >BONUS RATE</th>        <th class=\"col_heading level0 col7\" >FLOOR</th>        <th class=\"col_heading level0 col8\" >LAST NAME</th>        <th class=\"col_heading level0 col9\" >BONUS</th>    </tr></thead><tbody>\n",
              "                <tr>\n",
              "                        <th id=\"T_b3fb4bb2_86a2_11eb_8226_0242ac1c0002level0_row0\" class=\"row_heading level0 row0\" >Tom</th>\n",
              "                        <td id=\"T_b3fb4bb2_86a2_11eb_8226_0242ac1c0002row0_col0\" class=\"data row0 col0\" >Male</td>\n",
              "                        <td id=\"T_b3fb4bb2_86a2_11eb_8226_0242ac1c0002row0_col1\" class=\"data row0 col1\" >Switzerland</td>\n",
              "                        <td id=\"T_b3fb4bb2_86a2_11eb_8226_0242ac1c0002row0_col2\" class=\"data row0 col2\" >Engineering</td>\n",
              "                        <td id=\"T_b3fb4bb2_86a2_11eb_8226_0242ac1c0002row0_col3\" class=\"data row0 col3\" >23</td>\n",
              "                        <td id=\"T_b3fb4bb2_86a2_11eb_8226_0242ac1c0002row0_col4\" class=\"data row0 col4\" >107962</td>\n",
              "                        <td id=\"T_b3fb4bb2_86a2_11eb_8226_0242ac1c0002row0_col5\" class=\"data row0 col5\" >100</td>\n",
              "                        <td id=\"T_b3fb4bb2_86a2_11eb_8226_0242ac1c0002row0_col6\" class=\"data row0 col6\" >0.200000</td>\n",
              "                        <td id=\"T_b3fb4bb2_86a2_11eb_8226_0242ac1c0002row0_col7\" class=\"data row0 col7\" >33</td>\n",
              "                        <td id=\"T_b3fb4bb2_86a2_11eb_8226_0242ac1c0002row0_col8\" class=\"data row0 col8\" >Smith</td>\n",
              "                        <td id=\"T_b3fb4bb2_86a2_11eb_8226_0242ac1c0002row0_col9\" class=\"data row0 col9\" >21592</td>\n",
              "            </tr>\n",
              "            <tr>\n",
              "                        <th id=\"T_b3fb4bb2_86a2_11eb_8226_0242ac1c0002level0_row1\" class=\"row_heading level0 row1\" >Niko</th>\n",
              "                        <td id=\"T_b3fb4bb2_86a2_11eb_8226_0242ac1c0002row1_col0\" class=\"data row1 col0\" >Male</td>\n",
              "                        <td id=\"T_b3fb4bb2_86a2_11eb_8226_0242ac1c0002row1_col1\" class=\"data row1 col1\" >USA</td>\n",
              "                        <td id=\"T_b3fb4bb2_86a2_11eb_8226_0242ac1c0002row1_col2\" class=\"data row1 col2\" >Engineering</td>\n",
              "                        <td id=\"T_b3fb4bb2_86a2_11eb_8226_0242ac1c0002row1_col3\" class=\"data row1 col3\" >1</td>\n",
              "                        <td id=\"T_b3fb4bb2_86a2_11eb_8226_0242ac1c0002row1_col4\" class=\"data row1 col4\" >30347</td>\n",
              "                        <td id=\"T_b3fb4bb2_86a2_11eb_8226_0242ac1c0002row1_col5\" class=\"data row1 col5\" >100</td>\n",
              "                        <td id=\"T_b3fb4bb2_86a2_11eb_8226_0242ac1c0002row1_col6\" class=\"data row1 col6\" >0.100000</td>\n",
              "                        <td id=\"T_b3fb4bb2_86a2_11eb_8226_0242ac1c0002row1_col7\" class=\"data row1 col7\" >33</td>\n",
              "                        <td id=\"T_b3fb4bb2_86a2_11eb_8226_0242ac1c0002row1_col8\" class=\"data row1 col8\" >Jones</td>\n",
              "                        <td id=\"T_b3fb4bb2_86a2_11eb_8226_0242ac1c0002row1_col9\" class=\"data row1 col9\" >3034</td>\n",
              "            </tr>\n",
              "            <tr>\n",
              "                        <th id=\"T_b3fb4bb2_86a2_11eb_8226_0242ac1c0002level0_row2\" class=\"row_heading level0 row2\" >Penelope</th>\n",
              "                        <td id=\"T_b3fb4bb2_86a2_11eb_8226_0242ac1c0002row2_col0\" class=\"data row2 col0\" >Female</td>\n",
              "                        <td id=\"T_b3fb4bb2_86a2_11eb_8226_0242ac1c0002row2_col1\" class=\"data row2 col1\" >Switzerland</td>\n",
              "                        <td id=\"T_b3fb4bb2_86a2_11eb_8226_0242ac1c0002row2_col2\" class=\"data row2 col2\" >Engineering</td>\n",
              "                        <td id=\"T_b3fb4bb2_86a2_11eb_8226_0242ac1c0002row2_col3\" class=\"data row2 col3\" >12</td>\n",
              "                        <td id=\"T_b3fb4bb2_86a2_11eb_8226_0242ac1c0002row2_col4\" class=\"data row2 col4\" >60258</td>\n",
              "                        <td id=\"T_b3fb4bb2_86a2_11eb_8226_0242ac1c0002row2_col5\" class=\"data row2 col5\" >100</td>\n",
              "                        <td id=\"T_b3fb4bb2_86a2_11eb_8226_0242ac1c0002row2_col6\" class=\"data row2 col6\" >0.000000</td>\n",
              "                        <td id=\"T_b3fb4bb2_86a2_11eb_8226_0242ac1c0002row2_col7\" class=\"data row2 col7\" >33</td>\n",
              "                        <td id=\"T_b3fb4bb2_86a2_11eb_8226_0242ac1c0002row2_col8\" class=\"data row2 col8\" >Williams</td>\n",
              "                        <td id=\"T_b3fb4bb2_86a2_11eb_8226_0242ac1c0002row2_col9\" class=\"data row2 col9\" >0</td>\n",
              "            </tr>\n",
              "            <tr>\n",
              "                        <th id=\"T_b3fb4bb2_86a2_11eb_8226_0242ac1c0002level0_row3\" class=\"row_heading level0 row3\" >Aria</th>\n",
              "                        <td id=\"T_b3fb4bb2_86a2_11eb_8226_0242ac1c0002row3_col0\" class=\"data row3 col0\" >Female</td>\n",
              "                        <td id=\"T_b3fb4bb2_86a2_11eb_8226_0242ac1c0002row3_col1\" class=\"data row3 col1\" >USA</td>\n",
              "                        <td id=\"T_b3fb4bb2_86a2_11eb_8226_0242ac1c0002row3_col2\" class=\"data row3 col2\" >Engineering</td>\n",
              "                        <td id=\"T_b3fb4bb2_86a2_11eb_8226_0242ac1c0002row3_col3\" class=\"data row3 col3\" >8</td>\n",
              "                        <td id=\"T_b3fb4bb2_86a2_11eb_8226_0242ac1c0002row3_col4\" class=\"data row3 col4\" >43618</td>\n",
              "                        <td id=\"T_b3fb4bb2_86a2_11eb_8226_0242ac1c0002row3_col5\" class=\"data row3 col5\" >99</td>\n",
              "                        <td id=\"T_b3fb4bb2_86a2_11eb_8226_0242ac1c0002row3_col6\" class=\"data row3 col6\" >0.150000</td>\n",
              "                        <td id=\"T_b3fb4bb2_86a2_11eb_8226_0242ac1c0002row3_col7\" class=\"data row3 col7\" >33</td>\n",
              "                        <td id=\"T_b3fb4bb2_86a2_11eb_8226_0242ac1c0002row3_col8\" class=\"data row3 col8\" >Green</td>\n",
              "                        <td id=\"T_b3fb4bb2_86a2_11eb_8226_0242ac1c0002row3_col9\" class=\"data row3 col9\" >6542</td>\n",
              "            </tr>\n",
              "            <tr>\n",
              "                        <th id=\"T_b3fb4bb2_86a2_11eb_8226_0242ac1c0002level0_row4\" class=\"row_heading level0 row4\" >Sofia</th>\n",
              "                        <td id=\"T_b3fb4bb2_86a2_11eb_8226_0242ac1c0002row4_col0\" class=\"data row4 col0\" >Female</td>\n",
              "                        <td id=\"T_b3fb4bb2_86a2_11eb_8226_0242ac1c0002row4_col1\" class=\"data row4 col1\" >USA</td>\n",
              "                        <td id=\"T_b3fb4bb2_86a2_11eb_8226_0242ac1c0002row4_col2\" class=\"data row4 col2\" >Parks & Recreation</td>\n",
              "                        <td id=\"T_b3fb4bb2_86a2_11eb_8226_0242ac1c0002row4_col3\" class=\"data row4 col3\" >23</td>\n",
              "                        <td id=\"T_b3fb4bb2_86a2_11eb_8226_0242ac1c0002row4_col4\" class=\"data row4 col4\" >26125</td>\n",
              "                        <td id=\"T_b3fb4bb2_86a2_11eb_8226_0242ac1c0002row4_col5\" class=\"data row4 col5\" >99</td>\n",
              "                        <td id=\"T_b3fb4bb2_86a2_11eb_8226_0242ac1c0002row4_col6\" class=\"data row4 col6\" >0.120000</td>\n",
              "                        <td id=\"T_b3fb4bb2_86a2_11eb_8226_0242ac1c0002row4_col7\" class=\"data row4 col7\" >33</td>\n",
              "                        <td id=\"T_b3fb4bb2_86a2_11eb_8226_0242ac1c0002row4_col8\" class=\"data row4 col8\" >Brown</td>\n",
              "                        <td id=\"T_b3fb4bb2_86a2_11eb_8226_0242ac1c0002row4_col9\" class=\"data row4 col9\" >3135</td>\n",
              "            </tr>\n",
              "            <tr>\n",
              "                        <th id=\"T_b3fb4bb2_86a2_11eb_8226_0242ac1c0002level0_row5\" class=\"row_heading level0 row5\" >Dean</th>\n",
              "                        <td id=\"T_b3fb4bb2_86a2_11eb_8226_0242ac1c0002row5_col0\" class=\"data row5 col0\" >Male</td>\n",
              "                        <td id=\"T_b3fb4bb2_86a2_11eb_8226_0242ac1c0002row5_col1\" class=\"data row5 col1\" >USA</td>\n",
              "                        <td id=\"T_b3fb4bb2_86a2_11eb_8226_0242ac1c0002row5_col2\" class=\"data row5 col2\" >Parks & Recreation</td>\n",
              "                        <td id=\"T_b3fb4bb2_86a2_11eb_8226_0242ac1c0002row5_col3\" class=\"data row5 col3\" >3</td>\n",
              "                        <td id=\"T_b3fb4bb2_86a2_11eb_8226_0242ac1c0002row5_col4\" class=\"data row5 col4\" >33592</td>\n",
              "                        <td id=\"T_b3fb4bb2_86a2_11eb_8226_0242ac1c0002row5_col5\" class=\"data row5 col5\" >99</td>\n",
              "                        <td id=\"T_b3fb4bb2_86a2_11eb_8226_0242ac1c0002row5_col6\" class=\"data row5 col6\" >0.300000</td>\n",
              "                        <td id=\"T_b3fb4bb2_86a2_11eb_8226_0242ac1c0002row5_col7\" class=\"data row5 col7\" >33</td>\n",
              "                        <td id=\"T_b3fb4bb2_86a2_11eb_8226_0242ac1c0002row5_col8\" class=\"data row5 col8\" >Simpson</td>\n",
              "                        <td id=\"T_b3fb4bb2_86a2_11eb_8226_0242ac1c0002row5_col9\" class=\"data row5 col9\" >10077</td>\n",
              "            </tr>\n",
              "            <tr>\n",
              "                        <th id=\"T_b3fb4bb2_86a2_11eb_8226_0242ac1c0002level0_row6\" class=\"row_heading level0 row6\" >Zach</th>\n",
              "                        <td id=\"T_b3fb4bb2_86a2_11eb_8226_0242ac1c0002row6_col0\" class=\"data row6 col0\" >Male</td>\n",
              "                        <td id=\"T_b3fb4bb2_86a2_11eb_8226_0242ac1c0002row6_col1\" class=\"data row6 col1\" >Switzerland</td>\n",
              "                        <td id=\"T_b3fb4bb2_86a2_11eb_8226_0242ac1c0002row6_col2\" class=\"data row6 col2\" >Parks & Recreation</td>\n",
              "                        <td id=\"T_b3fb4bb2_86a2_11eb_8226_0242ac1c0002row6_col3\" class=\"data row6 col3\" >4</td>\n",
              "                        <td id=\"T_b3fb4bb2_86a2_11eb_8226_0242ac1c0002row6_col4\" class=\"data row6 col4\" >37565</td>\n",
              "                        <td id=\"T_b3fb4bb2_86a2_11eb_8226_0242ac1c0002row6_col5\" class=\"data row6 col5\" >100</td>\n",
              "                        <td id=\"T_b3fb4bb2_86a2_11eb_8226_0242ac1c0002row6_col6\" class=\"data row6 col6\" >0.050000</td>\n",
              "                        <td id=\"T_b3fb4bb2_86a2_11eb_8226_0242ac1c0002row6_col7\" class=\"data row6 col7\" >33</td>\n",
              "                        <td id=\"T_b3fb4bb2_86a2_11eb_8226_0242ac1c0002row6_col8\" class=\"data row6 col8\" >Peters</td>\n",
              "                        <td id=\"T_b3fb4bb2_86a2_11eb_8226_0242ac1c0002row6_col9\" class=\"data row6 col9\" >1878</td>\n",
              "            </tr>\n",
              "    </tbody></table>"
            ],
            "text/plain": [
              "<pandas.io.formats.style.Styler at 0x7f55429ca590>"
            ]
          },
          "metadata": {
            "tags": []
          },
          "execution_count": 24
        }
      ]
    },
    {
      "cell_type": "markdown",
      "metadata": {
        "id": "7cO8vCRdWYei"
      },
      "source": [
        "And with **`.iloc`**:"
      ]
    },
    {
      "cell_type": "code",
      "metadata": {
        "id": "MmyKKJmpWYei",
        "colab": {
          "base_uri": "https://localhost:8080/",
          "height": 178
        },
        "outputId": "4eaec78b-c291-4f0e-e007-af41b046d117"
      },
      "source": [
        "#@title\n",
        "df_orig = df.copy()\n",
        "df.iloc[:, 7] = 22\n",
        "style_diff(df, df_orig)"
      ],
      "execution_count": 25,
      "outputs": [
        {
          "output_type": "execute_result",
          "data": {
            "text/html": [
              "<style  type=\"text/css\" >\n",
              "#T_b4013676_86a2_11eb_8226_0242ac1c0002row0_col7,#T_b4013676_86a2_11eb_8226_0242ac1c0002row1_col7,#T_b4013676_86a2_11eb_8226_0242ac1c0002row2_col7,#T_b4013676_86a2_11eb_8226_0242ac1c0002row3_col7,#T_b4013676_86a2_11eb_8226_0242ac1c0002row4_col7,#T_b4013676_86a2_11eb_8226_0242ac1c0002row5_col7,#T_b4013676_86a2_11eb_8226_0242ac1c0002row6_col7{\n",
              "            color:  red;\n",
              "             background-color:  yellow;\n",
              "        }</style><table id=\"T_b4013676_86a2_11eb_8226_0242ac1c0002\" ><thead>    <tr>        <th class=\"blank level0\" ></th>        <th class=\"col_heading level0 col0\" >GENDER</th>        <th class=\"col_heading level0 col1\" >NATIONALITY</th>        <th class=\"col_heading level0 col2\" >DEPARTMENT</th>        <th class=\"col_heading level0 col3\" >YEARS EXPERIENCE</th>        <th class=\"col_heading level0 col4\" >SALARY</th>        <th class=\"col_heading level0 col5\" >SCORE</th>        <th class=\"col_heading level0 col6\" >BONUS RATE</th>        <th class=\"col_heading level0 col7\" >FLOOR</th>        <th class=\"col_heading level0 col8\" >LAST NAME</th>        <th class=\"col_heading level0 col9\" >BONUS</th>    </tr></thead><tbody>\n",
              "                <tr>\n",
              "                        <th id=\"T_b4013676_86a2_11eb_8226_0242ac1c0002level0_row0\" class=\"row_heading level0 row0\" >Tom</th>\n",
              "                        <td id=\"T_b4013676_86a2_11eb_8226_0242ac1c0002row0_col0\" class=\"data row0 col0\" >Male</td>\n",
              "                        <td id=\"T_b4013676_86a2_11eb_8226_0242ac1c0002row0_col1\" class=\"data row0 col1\" >Switzerland</td>\n",
              "                        <td id=\"T_b4013676_86a2_11eb_8226_0242ac1c0002row0_col2\" class=\"data row0 col2\" >Engineering</td>\n",
              "                        <td id=\"T_b4013676_86a2_11eb_8226_0242ac1c0002row0_col3\" class=\"data row0 col3\" >23</td>\n",
              "                        <td id=\"T_b4013676_86a2_11eb_8226_0242ac1c0002row0_col4\" class=\"data row0 col4\" >107962</td>\n",
              "                        <td id=\"T_b4013676_86a2_11eb_8226_0242ac1c0002row0_col5\" class=\"data row0 col5\" >100</td>\n",
              "                        <td id=\"T_b4013676_86a2_11eb_8226_0242ac1c0002row0_col6\" class=\"data row0 col6\" >0.200000</td>\n",
              "                        <td id=\"T_b4013676_86a2_11eb_8226_0242ac1c0002row0_col7\" class=\"data row0 col7\" >22</td>\n",
              "                        <td id=\"T_b4013676_86a2_11eb_8226_0242ac1c0002row0_col8\" class=\"data row0 col8\" >Smith</td>\n",
              "                        <td id=\"T_b4013676_86a2_11eb_8226_0242ac1c0002row0_col9\" class=\"data row0 col9\" >21592</td>\n",
              "            </tr>\n",
              "            <tr>\n",
              "                        <th id=\"T_b4013676_86a2_11eb_8226_0242ac1c0002level0_row1\" class=\"row_heading level0 row1\" >Niko</th>\n",
              "                        <td id=\"T_b4013676_86a2_11eb_8226_0242ac1c0002row1_col0\" class=\"data row1 col0\" >Male</td>\n",
              "                        <td id=\"T_b4013676_86a2_11eb_8226_0242ac1c0002row1_col1\" class=\"data row1 col1\" >USA</td>\n",
              "                        <td id=\"T_b4013676_86a2_11eb_8226_0242ac1c0002row1_col2\" class=\"data row1 col2\" >Engineering</td>\n",
              "                        <td id=\"T_b4013676_86a2_11eb_8226_0242ac1c0002row1_col3\" class=\"data row1 col3\" >1</td>\n",
              "                        <td id=\"T_b4013676_86a2_11eb_8226_0242ac1c0002row1_col4\" class=\"data row1 col4\" >30347</td>\n",
              "                        <td id=\"T_b4013676_86a2_11eb_8226_0242ac1c0002row1_col5\" class=\"data row1 col5\" >100</td>\n",
              "                        <td id=\"T_b4013676_86a2_11eb_8226_0242ac1c0002row1_col6\" class=\"data row1 col6\" >0.100000</td>\n",
              "                        <td id=\"T_b4013676_86a2_11eb_8226_0242ac1c0002row1_col7\" class=\"data row1 col7\" >22</td>\n",
              "                        <td id=\"T_b4013676_86a2_11eb_8226_0242ac1c0002row1_col8\" class=\"data row1 col8\" >Jones</td>\n",
              "                        <td id=\"T_b4013676_86a2_11eb_8226_0242ac1c0002row1_col9\" class=\"data row1 col9\" >3034</td>\n",
              "            </tr>\n",
              "            <tr>\n",
              "                        <th id=\"T_b4013676_86a2_11eb_8226_0242ac1c0002level0_row2\" class=\"row_heading level0 row2\" >Penelope</th>\n",
              "                        <td id=\"T_b4013676_86a2_11eb_8226_0242ac1c0002row2_col0\" class=\"data row2 col0\" >Female</td>\n",
              "                        <td id=\"T_b4013676_86a2_11eb_8226_0242ac1c0002row2_col1\" class=\"data row2 col1\" >Switzerland</td>\n",
              "                        <td id=\"T_b4013676_86a2_11eb_8226_0242ac1c0002row2_col2\" class=\"data row2 col2\" >Engineering</td>\n",
              "                        <td id=\"T_b4013676_86a2_11eb_8226_0242ac1c0002row2_col3\" class=\"data row2 col3\" >12</td>\n",
              "                        <td id=\"T_b4013676_86a2_11eb_8226_0242ac1c0002row2_col4\" class=\"data row2 col4\" >60258</td>\n",
              "                        <td id=\"T_b4013676_86a2_11eb_8226_0242ac1c0002row2_col5\" class=\"data row2 col5\" >100</td>\n",
              "                        <td id=\"T_b4013676_86a2_11eb_8226_0242ac1c0002row2_col6\" class=\"data row2 col6\" >0.000000</td>\n",
              "                        <td id=\"T_b4013676_86a2_11eb_8226_0242ac1c0002row2_col7\" class=\"data row2 col7\" >22</td>\n",
              "                        <td id=\"T_b4013676_86a2_11eb_8226_0242ac1c0002row2_col8\" class=\"data row2 col8\" >Williams</td>\n",
              "                        <td id=\"T_b4013676_86a2_11eb_8226_0242ac1c0002row2_col9\" class=\"data row2 col9\" >0</td>\n",
              "            </tr>\n",
              "            <tr>\n",
              "                        <th id=\"T_b4013676_86a2_11eb_8226_0242ac1c0002level0_row3\" class=\"row_heading level0 row3\" >Aria</th>\n",
              "                        <td id=\"T_b4013676_86a2_11eb_8226_0242ac1c0002row3_col0\" class=\"data row3 col0\" >Female</td>\n",
              "                        <td id=\"T_b4013676_86a2_11eb_8226_0242ac1c0002row3_col1\" class=\"data row3 col1\" >USA</td>\n",
              "                        <td id=\"T_b4013676_86a2_11eb_8226_0242ac1c0002row3_col2\" class=\"data row3 col2\" >Engineering</td>\n",
              "                        <td id=\"T_b4013676_86a2_11eb_8226_0242ac1c0002row3_col3\" class=\"data row3 col3\" >8</td>\n",
              "                        <td id=\"T_b4013676_86a2_11eb_8226_0242ac1c0002row3_col4\" class=\"data row3 col4\" >43618</td>\n",
              "                        <td id=\"T_b4013676_86a2_11eb_8226_0242ac1c0002row3_col5\" class=\"data row3 col5\" >99</td>\n",
              "                        <td id=\"T_b4013676_86a2_11eb_8226_0242ac1c0002row3_col6\" class=\"data row3 col6\" >0.150000</td>\n",
              "                        <td id=\"T_b4013676_86a2_11eb_8226_0242ac1c0002row3_col7\" class=\"data row3 col7\" >22</td>\n",
              "                        <td id=\"T_b4013676_86a2_11eb_8226_0242ac1c0002row3_col8\" class=\"data row3 col8\" >Green</td>\n",
              "                        <td id=\"T_b4013676_86a2_11eb_8226_0242ac1c0002row3_col9\" class=\"data row3 col9\" >6542</td>\n",
              "            </tr>\n",
              "            <tr>\n",
              "                        <th id=\"T_b4013676_86a2_11eb_8226_0242ac1c0002level0_row4\" class=\"row_heading level0 row4\" >Sofia</th>\n",
              "                        <td id=\"T_b4013676_86a2_11eb_8226_0242ac1c0002row4_col0\" class=\"data row4 col0\" >Female</td>\n",
              "                        <td id=\"T_b4013676_86a2_11eb_8226_0242ac1c0002row4_col1\" class=\"data row4 col1\" >USA</td>\n",
              "                        <td id=\"T_b4013676_86a2_11eb_8226_0242ac1c0002row4_col2\" class=\"data row4 col2\" >Parks & Recreation</td>\n",
              "                        <td id=\"T_b4013676_86a2_11eb_8226_0242ac1c0002row4_col3\" class=\"data row4 col3\" >23</td>\n",
              "                        <td id=\"T_b4013676_86a2_11eb_8226_0242ac1c0002row4_col4\" class=\"data row4 col4\" >26125</td>\n",
              "                        <td id=\"T_b4013676_86a2_11eb_8226_0242ac1c0002row4_col5\" class=\"data row4 col5\" >99</td>\n",
              "                        <td id=\"T_b4013676_86a2_11eb_8226_0242ac1c0002row4_col6\" class=\"data row4 col6\" >0.120000</td>\n",
              "                        <td id=\"T_b4013676_86a2_11eb_8226_0242ac1c0002row4_col7\" class=\"data row4 col7\" >22</td>\n",
              "                        <td id=\"T_b4013676_86a2_11eb_8226_0242ac1c0002row4_col8\" class=\"data row4 col8\" >Brown</td>\n",
              "                        <td id=\"T_b4013676_86a2_11eb_8226_0242ac1c0002row4_col9\" class=\"data row4 col9\" >3135</td>\n",
              "            </tr>\n",
              "            <tr>\n",
              "                        <th id=\"T_b4013676_86a2_11eb_8226_0242ac1c0002level0_row5\" class=\"row_heading level0 row5\" >Dean</th>\n",
              "                        <td id=\"T_b4013676_86a2_11eb_8226_0242ac1c0002row5_col0\" class=\"data row5 col0\" >Male</td>\n",
              "                        <td id=\"T_b4013676_86a2_11eb_8226_0242ac1c0002row5_col1\" class=\"data row5 col1\" >USA</td>\n",
              "                        <td id=\"T_b4013676_86a2_11eb_8226_0242ac1c0002row5_col2\" class=\"data row5 col2\" >Parks & Recreation</td>\n",
              "                        <td id=\"T_b4013676_86a2_11eb_8226_0242ac1c0002row5_col3\" class=\"data row5 col3\" >3</td>\n",
              "                        <td id=\"T_b4013676_86a2_11eb_8226_0242ac1c0002row5_col4\" class=\"data row5 col4\" >33592</td>\n",
              "                        <td id=\"T_b4013676_86a2_11eb_8226_0242ac1c0002row5_col5\" class=\"data row5 col5\" >99</td>\n",
              "                        <td id=\"T_b4013676_86a2_11eb_8226_0242ac1c0002row5_col6\" class=\"data row5 col6\" >0.300000</td>\n",
              "                        <td id=\"T_b4013676_86a2_11eb_8226_0242ac1c0002row5_col7\" class=\"data row5 col7\" >22</td>\n",
              "                        <td id=\"T_b4013676_86a2_11eb_8226_0242ac1c0002row5_col8\" class=\"data row5 col8\" >Simpson</td>\n",
              "                        <td id=\"T_b4013676_86a2_11eb_8226_0242ac1c0002row5_col9\" class=\"data row5 col9\" >10077</td>\n",
              "            </tr>\n",
              "            <tr>\n",
              "                        <th id=\"T_b4013676_86a2_11eb_8226_0242ac1c0002level0_row6\" class=\"row_heading level0 row6\" >Zach</th>\n",
              "                        <td id=\"T_b4013676_86a2_11eb_8226_0242ac1c0002row6_col0\" class=\"data row6 col0\" >Male</td>\n",
              "                        <td id=\"T_b4013676_86a2_11eb_8226_0242ac1c0002row6_col1\" class=\"data row6 col1\" >Switzerland</td>\n",
              "                        <td id=\"T_b4013676_86a2_11eb_8226_0242ac1c0002row6_col2\" class=\"data row6 col2\" >Parks & Recreation</td>\n",
              "                        <td id=\"T_b4013676_86a2_11eb_8226_0242ac1c0002row6_col3\" class=\"data row6 col3\" >4</td>\n",
              "                        <td id=\"T_b4013676_86a2_11eb_8226_0242ac1c0002row6_col4\" class=\"data row6 col4\" >37565</td>\n",
              "                        <td id=\"T_b4013676_86a2_11eb_8226_0242ac1c0002row6_col5\" class=\"data row6 col5\" >100</td>\n",
              "                        <td id=\"T_b4013676_86a2_11eb_8226_0242ac1c0002row6_col6\" class=\"data row6 col6\" >0.050000</td>\n",
              "                        <td id=\"T_b4013676_86a2_11eb_8226_0242ac1c0002row6_col7\" class=\"data row6 col7\" >22</td>\n",
              "                        <td id=\"T_b4013676_86a2_11eb_8226_0242ac1c0002row6_col8\" class=\"data row6 col8\" >Peters</td>\n",
              "                        <td id=\"T_b4013676_86a2_11eb_8226_0242ac1c0002row6_col9\" class=\"data row6 col9\" >1878</td>\n",
              "            </tr>\n",
              "    </tbody></table>"
            ],
            "text/plain": [
              "<pandas.io.formats.style.Styler at 0x7f55429bf110>"
            ]
          },
          "metadata": {
            "tags": []
          },
          "execution_count": 25
        }
      ]
    },
    {
      "cell_type": "markdown",
      "metadata": {
        "id": "1OIf4mejWYei"
      },
      "source": [
        "## Assigning with boolean selection\n",
        "It is more common to use boolean selection to make assignments to subsets than with directly selecting subsets by label or integer location.\n",
        "\n",
        "For instance, let's say we wanted to give everyone in the engineering department a $5,000 bonus on top of what they already have.\n",
        "\n",
        "Before making the assignment, let's properly select the data with boolean indexing."
      ]
    },
    {
      "cell_type": "code",
      "metadata": {
        "id": "qjq0m3DqWYej",
        "colab": {
          "base_uri": "https://localhost:8080/"
        },
        "outputId": "71f66333-fefb-4fbc-c00d-b5b167c185c4"
      },
      "source": [
        "#@title\n",
        "df.loc[df['DEPARTMENT'] == 'Engineering', 'BONUS']"
      ],
      "execution_count": 26,
      "outputs": [
        {
          "output_type": "execute_result",
          "data": {
            "text/plain": [
              "Tom         21592\n",
              "Niko         3034\n",
              "Penelope        0\n",
              "Aria         6542\n",
              "Name: BONUS, dtype: int64"
            ]
          },
          "metadata": {
            "tags": []
          },
          "execution_count": 26
        }
      ]
    },
    {
      "cell_type": "markdown",
      "metadata": {
        "id": "iMG64MYxWYej"
      },
      "source": [
        "Once we have confirmed that our selection works, we can make an assignment. We can use the **`+=`** operator to shorten the syntax considerably, which will assign the value back to itself."
      ]
    },
    {
      "cell_type": "code",
      "metadata": {
        "id": "Y7Lmr2aoWYej",
        "colab": {
          "base_uri": "https://localhost:8080/",
          "height": 178
        },
        "outputId": "689db4db-858c-40f5-d38f-73d8f6df81b1"
      },
      "source": [
        "#@title\n",
        "df_orig = df.copy()\n",
        "\n",
        "df.loc[df['DEPARTMENT'] == 'Engineering', 'BONUS'] += 5000\n",
        "style_diff(df, df_orig)"
      ],
      "execution_count": 27,
      "outputs": [
        {
          "output_type": "execute_result",
          "data": {
            "text/html": [
              "<style  type=\"text/css\" >\n",
              "#T_b40d7fc6_86a2_11eb_8226_0242ac1c0002row0_col9,#T_b40d7fc6_86a2_11eb_8226_0242ac1c0002row1_col9,#T_b40d7fc6_86a2_11eb_8226_0242ac1c0002row2_col9,#T_b40d7fc6_86a2_11eb_8226_0242ac1c0002row3_col9{\n",
              "            color:  red;\n",
              "             background-color:  yellow;\n",
              "        }</style><table id=\"T_b40d7fc6_86a2_11eb_8226_0242ac1c0002\" ><thead>    <tr>        <th class=\"blank level0\" ></th>        <th class=\"col_heading level0 col0\" >GENDER</th>        <th class=\"col_heading level0 col1\" >NATIONALITY</th>        <th class=\"col_heading level0 col2\" >DEPARTMENT</th>        <th class=\"col_heading level0 col3\" >YEARS EXPERIENCE</th>        <th class=\"col_heading level0 col4\" >SALARY</th>        <th class=\"col_heading level0 col5\" >SCORE</th>        <th class=\"col_heading level0 col6\" >BONUS RATE</th>        <th class=\"col_heading level0 col7\" >FLOOR</th>        <th class=\"col_heading level0 col8\" >LAST NAME</th>        <th class=\"col_heading level0 col9\" >BONUS</th>    </tr></thead><tbody>\n",
              "                <tr>\n",
              "                        <th id=\"T_b40d7fc6_86a2_11eb_8226_0242ac1c0002level0_row0\" class=\"row_heading level0 row0\" >Tom</th>\n",
              "                        <td id=\"T_b40d7fc6_86a2_11eb_8226_0242ac1c0002row0_col0\" class=\"data row0 col0\" >Male</td>\n",
              "                        <td id=\"T_b40d7fc6_86a2_11eb_8226_0242ac1c0002row0_col1\" class=\"data row0 col1\" >Switzerland</td>\n",
              "                        <td id=\"T_b40d7fc6_86a2_11eb_8226_0242ac1c0002row0_col2\" class=\"data row0 col2\" >Engineering</td>\n",
              "                        <td id=\"T_b40d7fc6_86a2_11eb_8226_0242ac1c0002row0_col3\" class=\"data row0 col3\" >23</td>\n",
              "                        <td id=\"T_b40d7fc6_86a2_11eb_8226_0242ac1c0002row0_col4\" class=\"data row0 col4\" >107962</td>\n",
              "                        <td id=\"T_b40d7fc6_86a2_11eb_8226_0242ac1c0002row0_col5\" class=\"data row0 col5\" >100</td>\n",
              "                        <td id=\"T_b40d7fc6_86a2_11eb_8226_0242ac1c0002row0_col6\" class=\"data row0 col6\" >0.200000</td>\n",
              "                        <td id=\"T_b40d7fc6_86a2_11eb_8226_0242ac1c0002row0_col7\" class=\"data row0 col7\" >22</td>\n",
              "                        <td id=\"T_b40d7fc6_86a2_11eb_8226_0242ac1c0002row0_col8\" class=\"data row0 col8\" >Smith</td>\n",
              "                        <td id=\"T_b40d7fc6_86a2_11eb_8226_0242ac1c0002row0_col9\" class=\"data row0 col9\" >26592</td>\n",
              "            </tr>\n",
              "            <tr>\n",
              "                        <th id=\"T_b40d7fc6_86a2_11eb_8226_0242ac1c0002level0_row1\" class=\"row_heading level0 row1\" >Niko</th>\n",
              "                        <td id=\"T_b40d7fc6_86a2_11eb_8226_0242ac1c0002row1_col0\" class=\"data row1 col0\" >Male</td>\n",
              "                        <td id=\"T_b40d7fc6_86a2_11eb_8226_0242ac1c0002row1_col1\" class=\"data row1 col1\" >USA</td>\n",
              "                        <td id=\"T_b40d7fc6_86a2_11eb_8226_0242ac1c0002row1_col2\" class=\"data row1 col2\" >Engineering</td>\n",
              "                        <td id=\"T_b40d7fc6_86a2_11eb_8226_0242ac1c0002row1_col3\" class=\"data row1 col3\" >1</td>\n",
              "                        <td id=\"T_b40d7fc6_86a2_11eb_8226_0242ac1c0002row1_col4\" class=\"data row1 col4\" >30347</td>\n",
              "                        <td id=\"T_b40d7fc6_86a2_11eb_8226_0242ac1c0002row1_col5\" class=\"data row1 col5\" >100</td>\n",
              "                        <td id=\"T_b40d7fc6_86a2_11eb_8226_0242ac1c0002row1_col6\" class=\"data row1 col6\" >0.100000</td>\n",
              "                        <td id=\"T_b40d7fc6_86a2_11eb_8226_0242ac1c0002row1_col7\" class=\"data row1 col7\" >22</td>\n",
              "                        <td id=\"T_b40d7fc6_86a2_11eb_8226_0242ac1c0002row1_col8\" class=\"data row1 col8\" >Jones</td>\n",
              "                        <td id=\"T_b40d7fc6_86a2_11eb_8226_0242ac1c0002row1_col9\" class=\"data row1 col9\" >8034</td>\n",
              "            </tr>\n",
              "            <tr>\n",
              "                        <th id=\"T_b40d7fc6_86a2_11eb_8226_0242ac1c0002level0_row2\" class=\"row_heading level0 row2\" >Penelope</th>\n",
              "                        <td id=\"T_b40d7fc6_86a2_11eb_8226_0242ac1c0002row2_col0\" class=\"data row2 col0\" >Female</td>\n",
              "                        <td id=\"T_b40d7fc6_86a2_11eb_8226_0242ac1c0002row2_col1\" class=\"data row2 col1\" >Switzerland</td>\n",
              "                        <td id=\"T_b40d7fc6_86a2_11eb_8226_0242ac1c0002row2_col2\" class=\"data row2 col2\" >Engineering</td>\n",
              "                        <td id=\"T_b40d7fc6_86a2_11eb_8226_0242ac1c0002row2_col3\" class=\"data row2 col3\" >12</td>\n",
              "                        <td id=\"T_b40d7fc6_86a2_11eb_8226_0242ac1c0002row2_col4\" class=\"data row2 col4\" >60258</td>\n",
              "                        <td id=\"T_b40d7fc6_86a2_11eb_8226_0242ac1c0002row2_col5\" class=\"data row2 col5\" >100</td>\n",
              "                        <td id=\"T_b40d7fc6_86a2_11eb_8226_0242ac1c0002row2_col6\" class=\"data row2 col6\" >0.000000</td>\n",
              "                        <td id=\"T_b40d7fc6_86a2_11eb_8226_0242ac1c0002row2_col7\" class=\"data row2 col7\" >22</td>\n",
              "                        <td id=\"T_b40d7fc6_86a2_11eb_8226_0242ac1c0002row2_col8\" class=\"data row2 col8\" >Williams</td>\n",
              "                        <td id=\"T_b40d7fc6_86a2_11eb_8226_0242ac1c0002row2_col9\" class=\"data row2 col9\" >5000</td>\n",
              "            </tr>\n",
              "            <tr>\n",
              "                        <th id=\"T_b40d7fc6_86a2_11eb_8226_0242ac1c0002level0_row3\" class=\"row_heading level0 row3\" >Aria</th>\n",
              "                        <td id=\"T_b40d7fc6_86a2_11eb_8226_0242ac1c0002row3_col0\" class=\"data row3 col0\" >Female</td>\n",
              "                        <td id=\"T_b40d7fc6_86a2_11eb_8226_0242ac1c0002row3_col1\" class=\"data row3 col1\" >USA</td>\n",
              "                        <td id=\"T_b40d7fc6_86a2_11eb_8226_0242ac1c0002row3_col2\" class=\"data row3 col2\" >Engineering</td>\n",
              "                        <td id=\"T_b40d7fc6_86a2_11eb_8226_0242ac1c0002row3_col3\" class=\"data row3 col3\" >8</td>\n",
              "                        <td id=\"T_b40d7fc6_86a2_11eb_8226_0242ac1c0002row3_col4\" class=\"data row3 col4\" >43618</td>\n",
              "                        <td id=\"T_b40d7fc6_86a2_11eb_8226_0242ac1c0002row3_col5\" class=\"data row3 col5\" >99</td>\n",
              "                        <td id=\"T_b40d7fc6_86a2_11eb_8226_0242ac1c0002row3_col6\" class=\"data row3 col6\" >0.150000</td>\n",
              "                        <td id=\"T_b40d7fc6_86a2_11eb_8226_0242ac1c0002row3_col7\" class=\"data row3 col7\" >22</td>\n",
              "                        <td id=\"T_b40d7fc6_86a2_11eb_8226_0242ac1c0002row3_col8\" class=\"data row3 col8\" >Green</td>\n",
              "                        <td id=\"T_b40d7fc6_86a2_11eb_8226_0242ac1c0002row3_col9\" class=\"data row3 col9\" >11542</td>\n",
              "            </tr>\n",
              "            <tr>\n",
              "                        <th id=\"T_b40d7fc6_86a2_11eb_8226_0242ac1c0002level0_row4\" class=\"row_heading level0 row4\" >Sofia</th>\n",
              "                        <td id=\"T_b40d7fc6_86a2_11eb_8226_0242ac1c0002row4_col0\" class=\"data row4 col0\" >Female</td>\n",
              "                        <td id=\"T_b40d7fc6_86a2_11eb_8226_0242ac1c0002row4_col1\" class=\"data row4 col1\" >USA</td>\n",
              "                        <td id=\"T_b40d7fc6_86a2_11eb_8226_0242ac1c0002row4_col2\" class=\"data row4 col2\" >Parks & Recreation</td>\n",
              "                        <td id=\"T_b40d7fc6_86a2_11eb_8226_0242ac1c0002row4_col3\" class=\"data row4 col3\" >23</td>\n",
              "                        <td id=\"T_b40d7fc6_86a2_11eb_8226_0242ac1c0002row4_col4\" class=\"data row4 col4\" >26125</td>\n",
              "                        <td id=\"T_b40d7fc6_86a2_11eb_8226_0242ac1c0002row4_col5\" class=\"data row4 col5\" >99</td>\n",
              "                        <td id=\"T_b40d7fc6_86a2_11eb_8226_0242ac1c0002row4_col6\" class=\"data row4 col6\" >0.120000</td>\n",
              "                        <td id=\"T_b40d7fc6_86a2_11eb_8226_0242ac1c0002row4_col7\" class=\"data row4 col7\" >22</td>\n",
              "                        <td id=\"T_b40d7fc6_86a2_11eb_8226_0242ac1c0002row4_col8\" class=\"data row4 col8\" >Brown</td>\n",
              "                        <td id=\"T_b40d7fc6_86a2_11eb_8226_0242ac1c0002row4_col9\" class=\"data row4 col9\" >3135</td>\n",
              "            </tr>\n",
              "            <tr>\n",
              "                        <th id=\"T_b40d7fc6_86a2_11eb_8226_0242ac1c0002level0_row5\" class=\"row_heading level0 row5\" >Dean</th>\n",
              "                        <td id=\"T_b40d7fc6_86a2_11eb_8226_0242ac1c0002row5_col0\" class=\"data row5 col0\" >Male</td>\n",
              "                        <td id=\"T_b40d7fc6_86a2_11eb_8226_0242ac1c0002row5_col1\" class=\"data row5 col1\" >USA</td>\n",
              "                        <td id=\"T_b40d7fc6_86a2_11eb_8226_0242ac1c0002row5_col2\" class=\"data row5 col2\" >Parks & Recreation</td>\n",
              "                        <td id=\"T_b40d7fc6_86a2_11eb_8226_0242ac1c0002row5_col3\" class=\"data row5 col3\" >3</td>\n",
              "                        <td id=\"T_b40d7fc6_86a2_11eb_8226_0242ac1c0002row5_col4\" class=\"data row5 col4\" >33592</td>\n",
              "                        <td id=\"T_b40d7fc6_86a2_11eb_8226_0242ac1c0002row5_col5\" class=\"data row5 col5\" >99</td>\n",
              "                        <td id=\"T_b40d7fc6_86a2_11eb_8226_0242ac1c0002row5_col6\" class=\"data row5 col6\" >0.300000</td>\n",
              "                        <td id=\"T_b40d7fc6_86a2_11eb_8226_0242ac1c0002row5_col7\" class=\"data row5 col7\" >22</td>\n",
              "                        <td id=\"T_b40d7fc6_86a2_11eb_8226_0242ac1c0002row5_col8\" class=\"data row5 col8\" >Simpson</td>\n",
              "                        <td id=\"T_b40d7fc6_86a2_11eb_8226_0242ac1c0002row5_col9\" class=\"data row5 col9\" >10077</td>\n",
              "            </tr>\n",
              "            <tr>\n",
              "                        <th id=\"T_b40d7fc6_86a2_11eb_8226_0242ac1c0002level0_row6\" class=\"row_heading level0 row6\" >Zach</th>\n",
              "                        <td id=\"T_b40d7fc6_86a2_11eb_8226_0242ac1c0002row6_col0\" class=\"data row6 col0\" >Male</td>\n",
              "                        <td id=\"T_b40d7fc6_86a2_11eb_8226_0242ac1c0002row6_col1\" class=\"data row6 col1\" >Switzerland</td>\n",
              "                        <td id=\"T_b40d7fc6_86a2_11eb_8226_0242ac1c0002row6_col2\" class=\"data row6 col2\" >Parks & Recreation</td>\n",
              "                        <td id=\"T_b40d7fc6_86a2_11eb_8226_0242ac1c0002row6_col3\" class=\"data row6 col3\" >4</td>\n",
              "                        <td id=\"T_b40d7fc6_86a2_11eb_8226_0242ac1c0002row6_col4\" class=\"data row6 col4\" >37565</td>\n",
              "                        <td id=\"T_b40d7fc6_86a2_11eb_8226_0242ac1c0002row6_col5\" class=\"data row6 col5\" >100</td>\n",
              "                        <td id=\"T_b40d7fc6_86a2_11eb_8226_0242ac1c0002row6_col6\" class=\"data row6 col6\" >0.050000</td>\n",
              "                        <td id=\"T_b40d7fc6_86a2_11eb_8226_0242ac1c0002row6_col7\" class=\"data row6 col7\" >22</td>\n",
              "                        <td id=\"T_b40d7fc6_86a2_11eb_8226_0242ac1c0002row6_col8\" class=\"data row6 col8\" >Peters</td>\n",
              "                        <td id=\"T_b40d7fc6_86a2_11eb_8226_0242ac1c0002row6_col9\" class=\"data row6 col9\" >1878</td>\n",
              "            </tr>\n",
              "    </tbody></table>"
            ],
            "text/plain": [
              "<pandas.io.formats.style.Styler at 0x7f55429cd210>"
            ]
          },
          "metadata": {
            "tags": []
          },
          "execution_count": 27
        }
      ]
    },
    {
      "cell_type": "markdown",
      "metadata": {
        "id": "YgcJ6KS8WYej"
      },
      "source": [
        "## Assigning with multiple condition boolean selection\n",
        "Let's do an example with multiple boolean conditions. Let's subtract 10 from the **`SCORE`** of all the American females and Swiss males."
      ]
    },
    {
      "cell_type": "code",
      "metadata": {
        "id": "-dNFIdG8WYej",
        "colab": {
          "base_uri": "https://localhost:8080/",
          "height": 166
        },
        "outputId": "cef825b6-5f6e-427b-b229-29b81fb2c70d"
      },
      "source": [
        "#@title\n",
        "# check our logic first\n",
        "swiss_male = (df['GENDER'] == 'Male') & (df['NATIONALITY'] == 'Switzerland')\n",
        "us_female = (df['GENDER'] == 'Female') & (df['NATIONALITY'] == 'USA')\n",
        "criteria = swiss_male | us_female\n",
        "df[criteria]"
      ],
      "execution_count": 28,
      "outputs": [
        {
          "output_type": "execute_result",
          "data": {
            "text/html": [
              "<div>\n",
              "<style scoped>\n",
              "    .dataframe tbody tr th:only-of-type {\n",
              "        vertical-align: middle;\n",
              "    }\n",
              "\n",
              "    .dataframe tbody tr th {\n",
              "        vertical-align: top;\n",
              "    }\n",
              "\n",
              "    .dataframe thead th {\n",
              "        text-align: right;\n",
              "    }\n",
              "</style>\n",
              "<table border=\"1\" class=\"dataframe\">\n",
              "  <thead>\n",
              "    <tr style=\"text-align: right;\">\n",
              "      <th></th>\n",
              "      <th>GENDER</th>\n",
              "      <th>NATIONALITY</th>\n",
              "      <th>DEPARTMENT</th>\n",
              "      <th>YEARS EXPERIENCE</th>\n",
              "      <th>SALARY</th>\n",
              "      <th>SCORE</th>\n",
              "      <th>BONUS RATE</th>\n",
              "      <th>FLOOR</th>\n",
              "      <th>LAST NAME</th>\n",
              "      <th>BONUS</th>\n",
              "    </tr>\n",
              "  </thead>\n",
              "  <tbody>\n",
              "    <tr>\n",
              "      <th>Tom</th>\n",
              "      <td>Male</td>\n",
              "      <td>Switzerland</td>\n",
              "      <td>Engineering</td>\n",
              "      <td>23</td>\n",
              "      <td>107962</td>\n",
              "      <td>100</td>\n",
              "      <td>0.20</td>\n",
              "      <td>22</td>\n",
              "      <td>Smith</td>\n",
              "      <td>26592</td>\n",
              "    </tr>\n",
              "    <tr>\n",
              "      <th>Aria</th>\n",
              "      <td>Female</td>\n",
              "      <td>USA</td>\n",
              "      <td>Engineering</td>\n",
              "      <td>8</td>\n",
              "      <td>43618</td>\n",
              "      <td>99</td>\n",
              "      <td>0.15</td>\n",
              "      <td>22</td>\n",
              "      <td>Green</td>\n",
              "      <td>11542</td>\n",
              "    </tr>\n",
              "    <tr>\n",
              "      <th>Sofia</th>\n",
              "      <td>Female</td>\n",
              "      <td>USA</td>\n",
              "      <td>Parks &amp; Recreation</td>\n",
              "      <td>23</td>\n",
              "      <td>26125</td>\n",
              "      <td>99</td>\n",
              "      <td>0.12</td>\n",
              "      <td>22</td>\n",
              "      <td>Brown</td>\n",
              "      <td>3135</td>\n",
              "    </tr>\n",
              "    <tr>\n",
              "      <th>Zach</th>\n",
              "      <td>Male</td>\n",
              "      <td>Switzerland</td>\n",
              "      <td>Parks &amp; Recreation</td>\n",
              "      <td>4</td>\n",
              "      <td>37565</td>\n",
              "      <td>100</td>\n",
              "      <td>0.05</td>\n",
              "      <td>22</td>\n",
              "      <td>Peters</td>\n",
              "      <td>1878</td>\n",
              "    </tr>\n",
              "  </tbody>\n",
              "</table>\n",
              "</div>"
            ],
            "text/plain": [
              "       GENDER  NATIONALITY          DEPARTMENT  ...  FLOOR  LAST NAME  BONUS\n",
              "Tom      Male  Switzerland         Engineering  ...     22      Smith  26592\n",
              "Aria   Female          USA         Engineering  ...     22      Green  11542\n",
              "Sofia  Female          USA  Parks & Recreation  ...     22      Brown   3135\n",
              "Zach     Male  Switzerland  Parks & Recreation  ...     22     Peters   1878\n",
              "\n",
              "[4 rows x 10 columns]"
            ]
          },
          "metadata": {
            "tags": []
          },
          "execution_count": 28
        }
      ]
    },
    {
      "cell_type": "code",
      "metadata": {
        "id": "-MDlfQkgWYek",
        "colab": {
          "base_uri": "https://localhost:8080/",
          "height": 178
        },
        "outputId": "9006372d-441e-4c3f-f6f4-636ed6222125"
      },
      "source": [
        "#@title\n",
        "df_orig = df.copy()\n",
        "df.loc[criteria, 'SCORE'] -= 10\n",
        "style_diff(df, df_orig)"
      ],
      "execution_count": 29,
      "outputs": [
        {
          "output_type": "execute_result",
          "data": {
            "text/html": [
              "<style  type=\"text/css\" >\n",
              "#T_b41b2f5e_86a2_11eb_8226_0242ac1c0002row0_col5,#T_b41b2f5e_86a2_11eb_8226_0242ac1c0002row3_col5,#T_b41b2f5e_86a2_11eb_8226_0242ac1c0002row4_col5,#T_b41b2f5e_86a2_11eb_8226_0242ac1c0002row6_col5{\n",
              "            color:  red;\n",
              "             background-color:  yellow;\n",
              "        }</style><table id=\"T_b41b2f5e_86a2_11eb_8226_0242ac1c0002\" ><thead>    <tr>        <th class=\"blank level0\" ></th>        <th class=\"col_heading level0 col0\" >GENDER</th>        <th class=\"col_heading level0 col1\" >NATIONALITY</th>        <th class=\"col_heading level0 col2\" >DEPARTMENT</th>        <th class=\"col_heading level0 col3\" >YEARS EXPERIENCE</th>        <th class=\"col_heading level0 col4\" >SALARY</th>        <th class=\"col_heading level0 col5\" >SCORE</th>        <th class=\"col_heading level0 col6\" >BONUS RATE</th>        <th class=\"col_heading level0 col7\" >FLOOR</th>        <th class=\"col_heading level0 col8\" >LAST NAME</th>        <th class=\"col_heading level0 col9\" >BONUS</th>    </tr></thead><tbody>\n",
              "                <tr>\n",
              "                        <th id=\"T_b41b2f5e_86a2_11eb_8226_0242ac1c0002level0_row0\" class=\"row_heading level0 row0\" >Tom</th>\n",
              "                        <td id=\"T_b41b2f5e_86a2_11eb_8226_0242ac1c0002row0_col0\" class=\"data row0 col0\" >Male</td>\n",
              "                        <td id=\"T_b41b2f5e_86a2_11eb_8226_0242ac1c0002row0_col1\" class=\"data row0 col1\" >Switzerland</td>\n",
              "                        <td id=\"T_b41b2f5e_86a2_11eb_8226_0242ac1c0002row0_col2\" class=\"data row0 col2\" >Engineering</td>\n",
              "                        <td id=\"T_b41b2f5e_86a2_11eb_8226_0242ac1c0002row0_col3\" class=\"data row0 col3\" >23</td>\n",
              "                        <td id=\"T_b41b2f5e_86a2_11eb_8226_0242ac1c0002row0_col4\" class=\"data row0 col4\" >107962</td>\n",
              "                        <td id=\"T_b41b2f5e_86a2_11eb_8226_0242ac1c0002row0_col5\" class=\"data row0 col5\" >90</td>\n",
              "                        <td id=\"T_b41b2f5e_86a2_11eb_8226_0242ac1c0002row0_col6\" class=\"data row0 col6\" >0.200000</td>\n",
              "                        <td id=\"T_b41b2f5e_86a2_11eb_8226_0242ac1c0002row0_col7\" class=\"data row0 col7\" >22</td>\n",
              "                        <td id=\"T_b41b2f5e_86a2_11eb_8226_0242ac1c0002row0_col8\" class=\"data row0 col8\" >Smith</td>\n",
              "                        <td id=\"T_b41b2f5e_86a2_11eb_8226_0242ac1c0002row0_col9\" class=\"data row0 col9\" >26592</td>\n",
              "            </tr>\n",
              "            <tr>\n",
              "                        <th id=\"T_b41b2f5e_86a2_11eb_8226_0242ac1c0002level0_row1\" class=\"row_heading level0 row1\" >Niko</th>\n",
              "                        <td id=\"T_b41b2f5e_86a2_11eb_8226_0242ac1c0002row1_col0\" class=\"data row1 col0\" >Male</td>\n",
              "                        <td id=\"T_b41b2f5e_86a2_11eb_8226_0242ac1c0002row1_col1\" class=\"data row1 col1\" >USA</td>\n",
              "                        <td id=\"T_b41b2f5e_86a2_11eb_8226_0242ac1c0002row1_col2\" class=\"data row1 col2\" >Engineering</td>\n",
              "                        <td id=\"T_b41b2f5e_86a2_11eb_8226_0242ac1c0002row1_col3\" class=\"data row1 col3\" >1</td>\n",
              "                        <td id=\"T_b41b2f5e_86a2_11eb_8226_0242ac1c0002row1_col4\" class=\"data row1 col4\" >30347</td>\n",
              "                        <td id=\"T_b41b2f5e_86a2_11eb_8226_0242ac1c0002row1_col5\" class=\"data row1 col5\" >100</td>\n",
              "                        <td id=\"T_b41b2f5e_86a2_11eb_8226_0242ac1c0002row1_col6\" class=\"data row1 col6\" >0.100000</td>\n",
              "                        <td id=\"T_b41b2f5e_86a2_11eb_8226_0242ac1c0002row1_col7\" class=\"data row1 col7\" >22</td>\n",
              "                        <td id=\"T_b41b2f5e_86a2_11eb_8226_0242ac1c0002row1_col8\" class=\"data row1 col8\" >Jones</td>\n",
              "                        <td id=\"T_b41b2f5e_86a2_11eb_8226_0242ac1c0002row1_col9\" class=\"data row1 col9\" >8034</td>\n",
              "            </tr>\n",
              "            <tr>\n",
              "                        <th id=\"T_b41b2f5e_86a2_11eb_8226_0242ac1c0002level0_row2\" class=\"row_heading level0 row2\" >Penelope</th>\n",
              "                        <td id=\"T_b41b2f5e_86a2_11eb_8226_0242ac1c0002row2_col0\" class=\"data row2 col0\" >Female</td>\n",
              "                        <td id=\"T_b41b2f5e_86a2_11eb_8226_0242ac1c0002row2_col1\" class=\"data row2 col1\" >Switzerland</td>\n",
              "                        <td id=\"T_b41b2f5e_86a2_11eb_8226_0242ac1c0002row2_col2\" class=\"data row2 col2\" >Engineering</td>\n",
              "                        <td id=\"T_b41b2f5e_86a2_11eb_8226_0242ac1c0002row2_col3\" class=\"data row2 col3\" >12</td>\n",
              "                        <td id=\"T_b41b2f5e_86a2_11eb_8226_0242ac1c0002row2_col4\" class=\"data row2 col4\" >60258</td>\n",
              "                        <td id=\"T_b41b2f5e_86a2_11eb_8226_0242ac1c0002row2_col5\" class=\"data row2 col5\" >100</td>\n",
              "                        <td id=\"T_b41b2f5e_86a2_11eb_8226_0242ac1c0002row2_col6\" class=\"data row2 col6\" >0.000000</td>\n",
              "                        <td id=\"T_b41b2f5e_86a2_11eb_8226_0242ac1c0002row2_col7\" class=\"data row2 col7\" >22</td>\n",
              "                        <td id=\"T_b41b2f5e_86a2_11eb_8226_0242ac1c0002row2_col8\" class=\"data row2 col8\" >Williams</td>\n",
              "                        <td id=\"T_b41b2f5e_86a2_11eb_8226_0242ac1c0002row2_col9\" class=\"data row2 col9\" >5000</td>\n",
              "            </tr>\n",
              "            <tr>\n",
              "                        <th id=\"T_b41b2f5e_86a2_11eb_8226_0242ac1c0002level0_row3\" class=\"row_heading level0 row3\" >Aria</th>\n",
              "                        <td id=\"T_b41b2f5e_86a2_11eb_8226_0242ac1c0002row3_col0\" class=\"data row3 col0\" >Female</td>\n",
              "                        <td id=\"T_b41b2f5e_86a2_11eb_8226_0242ac1c0002row3_col1\" class=\"data row3 col1\" >USA</td>\n",
              "                        <td id=\"T_b41b2f5e_86a2_11eb_8226_0242ac1c0002row3_col2\" class=\"data row3 col2\" >Engineering</td>\n",
              "                        <td id=\"T_b41b2f5e_86a2_11eb_8226_0242ac1c0002row3_col3\" class=\"data row3 col3\" >8</td>\n",
              "                        <td id=\"T_b41b2f5e_86a2_11eb_8226_0242ac1c0002row3_col4\" class=\"data row3 col4\" >43618</td>\n",
              "                        <td id=\"T_b41b2f5e_86a2_11eb_8226_0242ac1c0002row3_col5\" class=\"data row3 col5\" >89</td>\n",
              "                        <td id=\"T_b41b2f5e_86a2_11eb_8226_0242ac1c0002row3_col6\" class=\"data row3 col6\" >0.150000</td>\n",
              "                        <td id=\"T_b41b2f5e_86a2_11eb_8226_0242ac1c0002row3_col7\" class=\"data row3 col7\" >22</td>\n",
              "                        <td id=\"T_b41b2f5e_86a2_11eb_8226_0242ac1c0002row3_col8\" class=\"data row3 col8\" >Green</td>\n",
              "                        <td id=\"T_b41b2f5e_86a2_11eb_8226_0242ac1c0002row3_col9\" class=\"data row3 col9\" >11542</td>\n",
              "            </tr>\n",
              "            <tr>\n",
              "                        <th id=\"T_b41b2f5e_86a2_11eb_8226_0242ac1c0002level0_row4\" class=\"row_heading level0 row4\" >Sofia</th>\n",
              "                        <td id=\"T_b41b2f5e_86a2_11eb_8226_0242ac1c0002row4_col0\" class=\"data row4 col0\" >Female</td>\n",
              "                        <td id=\"T_b41b2f5e_86a2_11eb_8226_0242ac1c0002row4_col1\" class=\"data row4 col1\" >USA</td>\n",
              "                        <td id=\"T_b41b2f5e_86a2_11eb_8226_0242ac1c0002row4_col2\" class=\"data row4 col2\" >Parks & Recreation</td>\n",
              "                        <td id=\"T_b41b2f5e_86a2_11eb_8226_0242ac1c0002row4_col3\" class=\"data row4 col3\" >23</td>\n",
              "                        <td id=\"T_b41b2f5e_86a2_11eb_8226_0242ac1c0002row4_col4\" class=\"data row4 col4\" >26125</td>\n",
              "                        <td id=\"T_b41b2f5e_86a2_11eb_8226_0242ac1c0002row4_col5\" class=\"data row4 col5\" >89</td>\n",
              "                        <td id=\"T_b41b2f5e_86a2_11eb_8226_0242ac1c0002row4_col6\" class=\"data row4 col6\" >0.120000</td>\n",
              "                        <td id=\"T_b41b2f5e_86a2_11eb_8226_0242ac1c0002row4_col7\" class=\"data row4 col7\" >22</td>\n",
              "                        <td id=\"T_b41b2f5e_86a2_11eb_8226_0242ac1c0002row4_col8\" class=\"data row4 col8\" >Brown</td>\n",
              "                        <td id=\"T_b41b2f5e_86a2_11eb_8226_0242ac1c0002row4_col9\" class=\"data row4 col9\" >3135</td>\n",
              "            </tr>\n",
              "            <tr>\n",
              "                        <th id=\"T_b41b2f5e_86a2_11eb_8226_0242ac1c0002level0_row5\" class=\"row_heading level0 row5\" >Dean</th>\n",
              "                        <td id=\"T_b41b2f5e_86a2_11eb_8226_0242ac1c0002row5_col0\" class=\"data row5 col0\" >Male</td>\n",
              "                        <td id=\"T_b41b2f5e_86a2_11eb_8226_0242ac1c0002row5_col1\" class=\"data row5 col1\" >USA</td>\n",
              "                        <td id=\"T_b41b2f5e_86a2_11eb_8226_0242ac1c0002row5_col2\" class=\"data row5 col2\" >Parks & Recreation</td>\n",
              "                        <td id=\"T_b41b2f5e_86a2_11eb_8226_0242ac1c0002row5_col3\" class=\"data row5 col3\" >3</td>\n",
              "                        <td id=\"T_b41b2f5e_86a2_11eb_8226_0242ac1c0002row5_col4\" class=\"data row5 col4\" >33592</td>\n",
              "                        <td id=\"T_b41b2f5e_86a2_11eb_8226_0242ac1c0002row5_col5\" class=\"data row5 col5\" >99</td>\n",
              "                        <td id=\"T_b41b2f5e_86a2_11eb_8226_0242ac1c0002row5_col6\" class=\"data row5 col6\" >0.300000</td>\n",
              "                        <td id=\"T_b41b2f5e_86a2_11eb_8226_0242ac1c0002row5_col7\" class=\"data row5 col7\" >22</td>\n",
              "                        <td id=\"T_b41b2f5e_86a2_11eb_8226_0242ac1c0002row5_col8\" class=\"data row5 col8\" >Simpson</td>\n",
              "                        <td id=\"T_b41b2f5e_86a2_11eb_8226_0242ac1c0002row5_col9\" class=\"data row5 col9\" >10077</td>\n",
              "            </tr>\n",
              "            <tr>\n",
              "                        <th id=\"T_b41b2f5e_86a2_11eb_8226_0242ac1c0002level0_row6\" class=\"row_heading level0 row6\" >Zach</th>\n",
              "                        <td id=\"T_b41b2f5e_86a2_11eb_8226_0242ac1c0002row6_col0\" class=\"data row6 col0\" >Male</td>\n",
              "                        <td id=\"T_b41b2f5e_86a2_11eb_8226_0242ac1c0002row6_col1\" class=\"data row6 col1\" >Switzerland</td>\n",
              "                        <td id=\"T_b41b2f5e_86a2_11eb_8226_0242ac1c0002row6_col2\" class=\"data row6 col2\" >Parks & Recreation</td>\n",
              "                        <td id=\"T_b41b2f5e_86a2_11eb_8226_0242ac1c0002row6_col3\" class=\"data row6 col3\" >4</td>\n",
              "                        <td id=\"T_b41b2f5e_86a2_11eb_8226_0242ac1c0002row6_col4\" class=\"data row6 col4\" >37565</td>\n",
              "                        <td id=\"T_b41b2f5e_86a2_11eb_8226_0242ac1c0002row6_col5\" class=\"data row6 col5\" >90</td>\n",
              "                        <td id=\"T_b41b2f5e_86a2_11eb_8226_0242ac1c0002row6_col6\" class=\"data row6 col6\" >0.050000</td>\n",
              "                        <td id=\"T_b41b2f5e_86a2_11eb_8226_0242ac1c0002row6_col7\" class=\"data row6 col7\" >22</td>\n",
              "                        <td id=\"T_b41b2f5e_86a2_11eb_8226_0242ac1c0002row6_col8\" class=\"data row6 col8\" >Peters</td>\n",
              "                        <td id=\"T_b41b2f5e_86a2_11eb_8226_0242ac1c0002row6_col9\" class=\"data row6 col9\" >1878</td>\n",
              "            </tr>\n",
              "    </tbody></table>"
            ],
            "text/plain": [
              "<pandas.io.formats.style.Styler at 0x7f55429b0150>"
            ]
          },
          "metadata": {
            "tags": []
          },
          "execution_count": 29
        }
      ]
    },
    {
      "cell_type": "markdown",
      "metadata": {
        "id": "gGx30L_uWYek"
      },
      "source": [
        "## Assigning subsets of data in a Series\n",
        "Assigning subsets of pandas Series is a less common operation but happens analogously to a DataFrame.\n",
        "\n",
        "Let's first select a copy of the **`SALARY`** column from our above DataFrame:"
      ]
    },
    {
      "cell_type": "code",
      "metadata": {
        "id": "wzdjzywlWYek",
        "colab": {
          "base_uri": "https://localhost:8080/"
        },
        "outputId": "33d6e833-5e3c-4e3d-a745-65d48c4f75e8"
      },
      "source": [
        "#@title\n",
        "s = df['SALARY'].copy()\n",
        "s"
      ],
      "execution_count": 30,
      "outputs": [
        {
          "output_type": "execute_result",
          "data": {
            "text/plain": [
              "Tom         107962\n",
              "Niko         30347\n",
              "Penelope     60258\n",
              "Aria         43618\n",
              "Sofia        26125\n",
              "Dean         33592\n",
              "Zach         37565\n",
              "Name: SALARY, dtype: int64"
            ]
          },
          "metadata": {
            "tags": []
          },
          "execution_count": 30
        }
      ]
    },
    {
      "cell_type": "markdown",
      "metadata": {
        "id": "gjKxOcSsWYek"
      },
      "source": [
        "We didn't have to use the **`copy`** method, but we did so to avoid the **`SettingWithCopy`** warning. This is a common warning when making assignments during subset selection. We will cover what it means and how to avoid it in the next notebook."
      ]
    },
    {
      "cell_type": "markdown",
      "metadata": {
        "id": "TPb5ZnqIWYek"
      },
      "source": [
        "## Assigning with `.loc` and `.iloc`\n",
        "Since Series do not have columns, I don't use *just the indexing operator* with them (unless I am doing boolean selection). It can be used to select rows, but is ambiguous and confusing and therefore I avoid it. All the capability of explicitly selecting particular Series values is provided with **`.loc`** and **`.iloc`**.\n",
        "\n",
        "Let's change the salary of **`Tom`**, **`Sofia`**, and **`Zach`**."
      ]
    },
    {
      "cell_type": "code",
      "metadata": {
        "id": "6XIpd1QPWYel",
        "colab": {
          "base_uri": "https://localhost:8080/"
        },
        "outputId": "882e0aa3-f621-438a-f720-12df0e9efae2"
      },
      "source": [
        "#@title\n",
        "s.loc[['Tom', 'Sofia', 'Zach']] = [99999, 39999, 49999]\n",
        "s"
      ],
      "execution_count": 31,
      "outputs": [
        {
          "output_type": "execute_result",
          "data": {
            "text/plain": [
              "Tom         99999\n",
              "Niko        30347\n",
              "Penelope    60258\n",
              "Aria        43618\n",
              "Sofia       39999\n",
              "Dean        33592\n",
              "Zach        49999\n",
              "Name: SALARY, dtype: int64"
            ]
          },
          "metadata": {
            "tags": []
          },
          "execution_count": 31
        }
      ]
    },
    {
      "cell_type": "markdown",
      "metadata": {
        "id": "qeieEUB4WYel"
      },
      "source": [
        "## No styling with Series\n",
        "Pandas outputs Series as plain text, so we cannot style them like we do with DataFrames.\n",
        "\n",
        "However, we can create a function to modify the index by appending '-changed' to the ones that have changed."
      ]
    },
    {
      "cell_type": "code",
      "metadata": {
        "collapsed": true,
        "id": "cRT9uG8MWYel"
      },
      "source": [
        "#@title\n",
        "# advanced\n",
        "def style_diff_series(s, s_orig):\n",
        "    idx = s.index.where(s == s_orig, s.index + '-changed')\n",
        "    return s.set_axis(idx, inplace=False)"
      ],
      "execution_count": 32,
      "outputs": []
    },
    {
      "cell_type": "markdown",
      "metadata": {
        "id": "Mvd7nWkBWYel"
      },
      "source": [
        "Create a copy of our original like we did before:"
      ]
    },
    {
      "cell_type": "code",
      "metadata": {
        "collapsed": true,
        "id": "5D5R_Ye_WYel"
      },
      "source": [
        "#@title\n",
        "s = df['SALARY'].copy()\n",
        "s_orig = s.copy()"
      ],
      "execution_count": 33,
      "outputs": []
    },
    {
      "cell_type": "markdown",
      "metadata": {
        "id": "VXCbVR_1WYel"
      },
      "source": [
        "Apply the changes:"
      ]
    },
    {
      "cell_type": "code",
      "metadata": {
        "collapsed": true,
        "id": "o4Qt40_ZWYem"
      },
      "source": [
        "#@title\n",
        "s.loc[['Tom', 'Sofia', 'Zach']] = [99999, 39999, 49999]"
      ],
      "execution_count": 34,
      "outputs": []
    },
    {
      "cell_type": "markdown",
      "metadata": {
        "id": "_VlGKkFqWYem"
      },
      "source": [
        "Add 'changed' to the index:"
      ]
    },
    {
      "cell_type": "code",
      "metadata": {
        "id": "51drcLzaWYem",
        "colab": {
          "base_uri": "https://localhost:8080/"
        },
        "outputId": "e121d1da-02c8-4e7b-d5f9-ddc842e00e76"
      },
      "source": [
        "#@title\n",
        "style_diff_series(s, s_orig)"
      ],
      "execution_count": 35,
      "outputs": [
        {
          "output_type": "execute_result",
          "data": {
            "text/plain": [
              "Tom-changed      99999\n",
              "Niko             30347\n",
              "Penelope         60258\n",
              "Aria             43618\n",
              "Sofia-changed    39999\n",
              "Dean             33592\n",
              "Zach-changed     49999\n",
              "Name: SALARY, dtype: int64"
            ]
          },
          "metadata": {
            "tags": []
          },
          "execution_count": 35
        }
      ]
    },
    {
      "cell_type": "markdown",
      "metadata": {
        "id": "SMtMCbFcWYem"
      },
      "source": [
        "We can make similar changes using integer location with **`.iloc`**. Here we change every other value."
      ]
    },
    {
      "cell_type": "code",
      "metadata": {
        "id": "XEVeDx9KWYem",
        "colab": {
          "base_uri": "https://localhost:8080/"
        },
        "outputId": "950ef2d8-5fbc-41bd-8bd7-34c6bb7201bb"
      },
      "source": [
        "#@title\n",
        "s_orig = s.copy()\n",
        "s.iloc[::2]  = 55555\n",
        "style_diff_series(s, s_orig)"
      ],
      "execution_count": 36,
      "outputs": [
        {
          "output_type": "execute_result",
          "data": {
            "text/plain": [
              "Tom-changed         55555\n",
              "Niko                30347\n",
              "Penelope-changed    55555\n",
              "Aria                43618\n",
              "Sofia-changed       55555\n",
              "Dean                33592\n",
              "Zach-changed        55555\n",
              "Name: SALARY, dtype: int64"
            ]
          },
          "metadata": {
            "tags": []
          },
          "execution_count": 36
        }
      ]
    },
    {
      "cell_type": "markdown",
      "metadata": {
        "id": "M07JzZ-vWYem"
      },
      "source": [
        "## Assigning Series with boolean indexing\n",
        "We can use boolean indexing to make assignments as well. Using *just the indexing operator* is acceptable here. Let's double all the salaries below 40,000"
      ]
    },
    {
      "cell_type": "code",
      "metadata": {
        "id": "hUPnIgo-WYem",
        "colab": {
          "base_uri": "https://localhost:8080/"
        },
        "outputId": "44341faa-d960-4e17-b153-3b2d89981bf2"
      },
      "source": [
        "#@title\n",
        "s_orig = s.copy()\n",
        "s[s < 40000] *= 2\n",
        "style_diff_series(s, s_orig)"
      ],
      "execution_count": 37,
      "outputs": [
        {
          "output_type": "execute_result",
          "data": {
            "text/plain": [
              "Tom             55555\n",
              "Niko-changed    60694\n",
              "Penelope        55555\n",
              "Aria            43618\n",
              "Sofia           55555\n",
              "Dean-changed    67184\n",
              "Zach            55555\n",
              "Name: SALARY, dtype: int64"
            ]
          },
          "metadata": {
            "tags": []
          },
          "execution_count": 37
        }
      ]
    },
    {
      "cell_type": "markdown",
      "metadata": {
        "id": "P8snhhk9WYen"
      },
      "source": [
        "Both *just the indexing operator* and **`.loc`** work the same when doing boolean indexing on a Series. However, as mentioned in part 2, **`.iloc`** should almost never be used when doing boolean indexing as it's not implemented fully."
      ]
    },
    {
      "cell_type": "markdown",
      "metadata": {
        "id": "nOdWX6fqWYen"
      },
      "source": [
        "# Summary\n",
        "\n",
        "* Assignment means using the equal sign to assign a variable on the left-hand side to an expression on the right-hand side\n",
        "* New columns are created by passing a string to *just the indexing operator* and setting it equal to either a scalar, a list/array the same length as the DataFrame, or a Series with identical index as the DataFrame\n",
        "* There is no output when you make an assignment. You must use an extra line to display the DataFrame/Series\n",
        "* Select a specific subset of rows/columns with **`.loc`** or **`.iloc`** and manually assign them value with a list/array.\n",
        "* Use the **`style`** attribute to make particular values pop out for visual display\n",
        "* You can assign entire columns with **`.loc`** or **`.iloc`** by using the colon, **`:`** for rows\n",
        "* A more common operation is to use boolean indexing to select subsets of data before making an assignment\n",
        "* Assigning new values to a Series is similar to DataFrames except that we don't use **`.iloc`** for boolean indexing"
      ]
    },
    {
      "cell_type": "markdown",
      "metadata": {
        "id": "8h10NzemWYen"
      },
      "source": [
        "# Just the basics of assignment of subsets\n",
        "This tutorial covered the simplest and most frequently used assignment of subsets. The next notebook will cover some things NOT to do like **chained indexing** and triggering the **`SettingWithCopy`** warning.\n",
        "\n",
        "There are also many other ways to create new columns or even add multiple columns at the same time. This notebook again, is just drilling the basics.\n",
        "\n",
        "# Exercises\n",
        "We will continue to use the employee sample DataFrame for all the exercises in this tutorial. You can check your answers in the [solution notebook](https://github.com/michalis0/Business-Intelligence-and-Analytics/blob/master/week2%20-%20Pandas%20and%20Python/walkthroughs/01-02-03-04_Solutions.ipynb)."
      ]
    },
    {
      "cell_type": "code",
      "metadata": {
        "collapsed": true,
        "id": "TNBKvt_RWYen"
      },
      "source": [
        "#@title\n",
        "import pandas as pd\n",
        "import numpy as np"
      ],
      "execution_count": 38,
      "outputs": []
    },
    {
      "cell_type": "code",
      "metadata": {
        "id": "wCPc-eumWYen",
        "colab": {
          "base_uri": "https://localhost:8080/",
          "height": 254
        },
        "outputId": "8e4f6de9-ebf5-4cd0-d6b6-81b70b5873fe"
      },
      "source": [
        "#@title\n",
        "df = pd.read_csv('https://raw.githubusercontent.com/michalis0/Business-Intelligence-and-Analytics/master/week2%20-%20Pandas%20and%20Python/Pandas/data/employee_sample.csv', index_col=0)\n",
        "df"
      ],
      "execution_count": 39,
      "outputs": [
        {
          "output_type": "execute_result",
          "data": {
            "text/html": [
              "<div>\n",
              "<style scoped>\n",
              "    .dataframe tbody tr th:only-of-type {\n",
              "        vertical-align: middle;\n",
              "    }\n",
              "\n",
              "    .dataframe tbody tr th {\n",
              "        vertical-align: top;\n",
              "    }\n",
              "\n",
              "    .dataframe thead th {\n",
              "        text-align: right;\n",
              "    }\n",
              "</style>\n",
              "<table border=\"1\" class=\"dataframe\">\n",
              "  <thead>\n",
              "    <tr style=\"text-align: right;\">\n",
              "      <th></th>\n",
              "      <th>GENDER</th>\n",
              "      <th>NATIONALITY</th>\n",
              "      <th>DEPARTMENT</th>\n",
              "      <th>YEARS EXPERIENCE</th>\n",
              "      <th>SALARY</th>\n",
              "    </tr>\n",
              "  </thead>\n",
              "  <tbody>\n",
              "    <tr>\n",
              "      <th>Tom</th>\n",
              "      <td>Male</td>\n",
              "      <td>Switzerland</td>\n",
              "      <td>Engineering</td>\n",
              "      <td>23</td>\n",
              "      <td>107962</td>\n",
              "    </tr>\n",
              "    <tr>\n",
              "      <th>Niko</th>\n",
              "      <td>Male</td>\n",
              "      <td>USA</td>\n",
              "      <td>Engineering</td>\n",
              "      <td>1</td>\n",
              "      <td>30347</td>\n",
              "    </tr>\n",
              "    <tr>\n",
              "      <th>Penelope</th>\n",
              "      <td>Female</td>\n",
              "      <td>Switzerland</td>\n",
              "      <td>Engineering</td>\n",
              "      <td>12</td>\n",
              "      <td>60258</td>\n",
              "    </tr>\n",
              "    <tr>\n",
              "      <th>Aria</th>\n",
              "      <td>Female</td>\n",
              "      <td>USA</td>\n",
              "      <td>Engineering</td>\n",
              "      <td>8</td>\n",
              "      <td>43618</td>\n",
              "    </tr>\n",
              "    <tr>\n",
              "      <th>Sofia</th>\n",
              "      <td>Female</td>\n",
              "      <td>USA</td>\n",
              "      <td>Parks &amp; Recreation</td>\n",
              "      <td>23</td>\n",
              "      <td>26125</td>\n",
              "    </tr>\n",
              "    <tr>\n",
              "      <th>Dean</th>\n",
              "      <td>Male</td>\n",
              "      <td>USA</td>\n",
              "      <td>Parks &amp; Recreation</td>\n",
              "      <td>3</td>\n",
              "      <td>33592</td>\n",
              "    </tr>\n",
              "    <tr>\n",
              "      <th>Zach</th>\n",
              "      <td>Male</td>\n",
              "      <td>Switzerland</td>\n",
              "      <td>Parks &amp; Recreation</td>\n",
              "      <td>4</td>\n",
              "      <td>37565</td>\n",
              "    </tr>\n",
              "  </tbody>\n",
              "</table>\n",
              "</div>"
            ],
            "text/plain": [
              "          GENDER  NATIONALITY          DEPARTMENT  YEARS EXPERIENCE  SALARY\n",
              "Tom         Male  Switzerland         Engineering                23  107962\n",
              "Niko        Male          USA         Engineering                 1   30347\n",
              "Penelope  Female  Switzerland         Engineering                12   60258\n",
              "Aria      Female          USA         Engineering                 8   43618\n",
              "Sofia     Female          USA  Parks & Recreation                23   26125\n",
              "Dean        Male          USA  Parks & Recreation                 3   33592\n",
              "Zach        Male  Switzerland  Parks & Recreation                 4   37565"
            ]
          },
          "metadata": {
            "tags": []
          },
          "execution_count": 39
        }
      ]
    },
    {
      "cell_type": "code",
      "metadata": {
        "collapsed": true,
        "id": "NQm0qVVjWYen"
      },
      "source": [
        "#@title\n",
        "def style_diff(df, df_orig):\n",
        "    style = {True: '', \n",
        "             False: 'color: red; background-color: yellow'}\n",
        "    df_style = (df == df_orig).replace(style)\n",
        "    return df.style.apply(lambda x: df_style, axis=None)"
      ],
      "execution_count": 40,
      "outputs": []
    },
    {
      "cell_type": "markdown",
      "metadata": {
        "id": "DTYC1DMCWYeo"
      },
      "source": [
        "### Exercise 1\n",
        "<span  style=\"color:green; font-size:16px\"> Create a Series with the index equal to the same values in **`df`** but in a different order. Make the values of the Series integers representing the employee's age ranging somewhere from 20 to 65. Create a new column **`AGE`**. Does the order of the index matter?</span>"
      ]
    },
    {
      "cell_type": "code",
      "metadata": {
        "collapsed": true,
        "id": "ZNpCUGmWWYeo"
      },
      "source": [
        "#@title\n",
        "# your code here"
      ],
      "execution_count": 41,
      "outputs": []
    },
    {
      "cell_type": "markdown",
      "metadata": {
        "id": "XYnDcodCWYeo"
      },
      "source": [
        "### Exercise 2\n",
        "<span  style=\"color:green; font-size:16px\"> Create a new column **`BONUS`** equal to 0 for everyone</span>"
      ]
    },
    {
      "cell_type": "code",
      "metadata": {
        "collapsed": true,
        "id": "95ReTxNEWYeo"
      },
      "source": [
        "#@title\n",
        "# your code here"
      ],
      "execution_count": 42,
      "outputs": []
    },
    {
      "cell_type": "markdown",
      "metadata": {
        "id": "_tkQyzrvWYeo"
      },
      "source": [
        "### Exercise 3\n",
        "<span  style=\"color:green; font-size:16px\"> Change the **`BONUS`** column so that everyone with more than 10 years of experience get $10,000. Use the **`style_diff`** function to display the results.</span>"
      ]
    },
    {
      "cell_type": "code",
      "metadata": {
        "collapsed": true,
        "id": "GfZhZRvnWYeo"
      },
      "source": [
        "#@title\n",
        "# your code here"
      ],
      "execution_count": 43,
      "outputs": []
    },
    {
      "cell_type": "markdown",
      "metadata": {
        "id": "hAYUbB_kWYeo"
      },
      "source": [
        "### Exercise 4\n",
        "<span  style=\"color:green; font-size:16px\"> Create a new column **`TOTAL SALARY`** that is 10% higher than the current **`SALARY`** column and add the bonus on top of that as well. Use **`.loc`** on the left-hand side and NOT *just the indexing operator*. Make the data type **`TOTAL SALARY`** an integer.</span>"
      ]
    },
    {
      "cell_type": "code",
      "metadata": {
        "collapsed": true,
        "id": "GD-gupcCWYep"
      },
      "source": [
        "#@title\n",
        "# your code here"
      ],
      "execution_count": 44,
      "outputs": []
    },
    {
      "cell_type": "markdown",
      "metadata": {
        "id": "iAt7umf9WYep"
      },
      "source": [
        "### Exercise 5\n",
        "<span  style=\"color:green; font-size:16px\"> Set Aria's department to 'Police'. Highlight the change</span>"
      ]
    },
    {
      "cell_type": "code",
      "metadata": {
        "collapsed": true,
        "id": "dfpEAm6jWYep"
      },
      "source": [
        "#@title\n",
        "# your code here"
      ],
      "execution_count": 45,
      "outputs": []
    },
    {
      "cell_type": "markdown",
      "metadata": {
        "id": "D1K_nG9nWYep"
      },
      "source": [
        "### Exercise 6\n",
        "<span  style=\"color:green; font-size:16px\"> Use **`.iloc`** to change the age of the employees with integer location 3 and 5 to 60 and 65 respectively. Highlight the change.</span>"
      ]
    },
    {
      "cell_type": "code",
      "metadata": {
        "collapsed": true,
        "id": "SOPWD2UjWYeq"
      },
      "source": [
        "#@title\n",
        "# your code here"
      ],
      "execution_count": 46,
      "outputs": []
    }
  ]
}
