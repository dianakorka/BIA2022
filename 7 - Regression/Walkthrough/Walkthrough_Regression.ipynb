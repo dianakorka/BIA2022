{
  "nbformat": 4,
  "nbformat_minor": 0,
  "metadata": {
    "colab": {
      "name": "Walkthrough_Regression.ipynb",
      "provenance": [],
      "include_colab_link": true
    },
    "kernelspec": {
      "display_name": "Python 3",
      "language": "python",
      "name": "python3"
    },
    "language_info": {
      "codemirror_mode": {
        "name": "ipython",
        "version": 3
      },
      "file_extension": ".py",
      "mimetype": "text/x-python",
      "name": "python",
      "nbconvert_exporter": "python",
      "pygments_lexer": "ipython3",
      "version": "3.7.7"
    }
  },
  "cells": [
    {
      "cell_type": "markdown",
      "metadata": {
        "id": "view-in-github",
        "colab_type": "text"
      },
      "source": [
        "<a href=\"https://colab.research.google.com/github/michalis0/Business-Intelligence-and-Analytics/blob/master/7%20-%20Regression/Walkthrough/Walkthrough_Regression.ipynb\" target=\"_parent\"><img src=\"https://colab.research.google.com/assets/colab-badge.svg\" alt=\"Open In Colab\"/></a>"
      ]
    },
    {
      "cell_type": "markdown",
      "metadata": {
        "id": "u461z_Wk-K-P"
      },
      "source": [
        "# Walkthrough : Regression\n",
        "\n",
        "Regression is to relate input variables to the output variable, to either predict outputs for new inputs and/or to understand the effect of the input on the output. In prediction, we wish to predict the output for a new input vector. In interpretation, we wish to understand the effect of inputs on output.\n",
        "\n",
        "For both goals, we need to find a function that approximates the output “well enough” given some inputs:\n",
        "\n",
        "$$y_n =f(\\boldsymbol{x_{n}})$$\n",
        "\n",
        "In python, a useful library exists to apply regression and other Machine Learning and statisticals tools over the data. It is the so called **sklearn**.\n",
        "\n",
        "This walkthrough will teach you how to use this library in the context of regression."
      ]
    },
    {
      "cell_type": "code",
      "metadata": {
        "id": "Oi8vCkNF_B3P"
      },
      "source": [
        "import matplotlib.pylab as plt\n",
        "import pandas as pd\n",
        "import numpy as np\n",
        "%matplotlib inline\n",
        "from sklearn.linear_model import LinearRegression\n",
        "from sklearn.metrics import mean_absolute_error, r2_score, mean_squared_error\n",
        "from sklearn.preprocessing import MinMaxScaler"
      ],
      "execution_count": null,
      "outputs": []
    },
    {
      "cell_type": "markdown",
      "metadata": {
        "id": "32vbaIBt_5KF"
      },
      "source": [
        "## 1. Load the dataset\n",
        "\n",
        "\n",
        "From this library we import the `LinearRegression` module and the different datasets used for our examples. In this section, we will discuss the basics of using the linear model with the weather dataset as example. Then you will be given a task and perform your own linear regression."
      ]
    },
    {
      "cell_type": "code",
      "metadata": {
        "id": "FRP6bS5fABwY",
        "colab": {
          "base_uri": "https://localhost:8080/",
          "height": 853
        },
        "outputId": "36a5ec11-13f0-4ba0-fe15-6e48459c923d"
      },
      "source": [
        "#Load the dataset\n",
        "url = \"https://media.githubusercontent.com/media/michalis0/Business-Intelligence-and-Analytics/master/data/weather.csv\"\n",
        "weather = pd.read_csv(url).drop_duplicates().dropna()\n",
        "# Display a sample of the data\n",
        "display(weather.head())\n",
        "#Print the data types\n",
        "print(weather.dtypes)\n",
        "print(\"Data matrix shape: \", weather.shape)\n",
        "# display the columns names\n",
        "print(\"Columns names: \", weather.columns) "
      ],
      "execution_count": null,
      "outputs": [
        {
          "output_type": "display_data",
          "data": {
            "text/html": [
              "<div>\n",
              "<style scoped>\n",
              "    .dataframe tbody tr th:only-of-type {\n",
              "        vertical-align: middle;\n",
              "    }\n",
              "\n",
              "    .dataframe tbody tr th {\n",
              "        vertical-align: top;\n",
              "    }\n",
              "\n",
              "    .dataframe thead th {\n",
              "        text-align: right;\n",
              "    }\n",
              "</style>\n",
              "<table border=\"1\" class=\"dataframe\">\n",
              "  <thead>\n",
              "    <tr style=\"text-align: right;\">\n",
              "      <th></th>\n",
              "      <th>Date</th>\n",
              "      <th>Location</th>\n",
              "      <th>MinTemp</th>\n",
              "      <th>MaxTemp</th>\n",
              "      <th>Rainfall</th>\n",
              "      <th>Evaporation</th>\n",
              "      <th>Sunshine</th>\n",
              "      <th>WindGustDir</th>\n",
              "      <th>WindGustSpeed</th>\n",
              "      <th>WindDir9am</th>\n",
              "      <th>WindDir3pm</th>\n",
              "      <th>WindSpeed9am</th>\n",
              "      <th>WindSpeed3pm</th>\n",
              "      <th>Humidity9am</th>\n",
              "      <th>Humidity3pm</th>\n",
              "      <th>Pressure9am</th>\n",
              "      <th>Pressure3pm</th>\n",
              "      <th>Cloud9am</th>\n",
              "      <th>Cloud3pm</th>\n",
              "      <th>Temp9am</th>\n",
              "      <th>Temp3pm</th>\n",
              "      <th>RainToday</th>\n",
              "      <th>RISK_MM</th>\n",
              "      <th>RainTomorrow</th>\n",
              "    </tr>\n",
              "  </thead>\n",
              "  <tbody>\n",
              "    <tr>\n",
              "      <th>0</th>\n",
              "      <td>2007-11-01</td>\n",
              "      <td>Canberra</td>\n",
              "      <td>8.0</td>\n",
              "      <td>24.3</td>\n",
              "      <td>0.0</td>\n",
              "      <td>3.4</td>\n",
              "      <td>6.3</td>\n",
              "      <td>NW</td>\n",
              "      <td>30.0</td>\n",
              "      <td>SW</td>\n",
              "      <td>NW</td>\n",
              "      <td>6.0</td>\n",
              "      <td>20</td>\n",
              "      <td>68</td>\n",
              "      <td>29</td>\n",
              "      <td>1019.7</td>\n",
              "      <td>1015.0</td>\n",
              "      <td>7</td>\n",
              "      <td>7</td>\n",
              "      <td>14.4</td>\n",
              "      <td>23.6</td>\n",
              "      <td>No</td>\n",
              "      <td>3.6</td>\n",
              "      <td>Yes</td>\n",
              "    </tr>\n",
              "    <tr>\n",
              "      <th>1</th>\n",
              "      <td>2007-11-02</td>\n",
              "      <td>Canberra</td>\n",
              "      <td>14.0</td>\n",
              "      <td>26.9</td>\n",
              "      <td>3.6</td>\n",
              "      <td>4.4</td>\n",
              "      <td>9.7</td>\n",
              "      <td>ENE</td>\n",
              "      <td>39.0</td>\n",
              "      <td>E</td>\n",
              "      <td>W</td>\n",
              "      <td>4.0</td>\n",
              "      <td>17</td>\n",
              "      <td>80</td>\n",
              "      <td>36</td>\n",
              "      <td>1012.4</td>\n",
              "      <td>1008.4</td>\n",
              "      <td>5</td>\n",
              "      <td>3</td>\n",
              "      <td>17.5</td>\n",
              "      <td>25.7</td>\n",
              "      <td>Yes</td>\n",
              "      <td>3.6</td>\n",
              "      <td>Yes</td>\n",
              "    </tr>\n",
              "    <tr>\n",
              "      <th>2</th>\n",
              "      <td>2007-11-03</td>\n",
              "      <td>Canberra</td>\n",
              "      <td>13.7</td>\n",
              "      <td>23.4</td>\n",
              "      <td>3.6</td>\n",
              "      <td>5.8</td>\n",
              "      <td>3.3</td>\n",
              "      <td>NW</td>\n",
              "      <td>85.0</td>\n",
              "      <td>N</td>\n",
              "      <td>NNE</td>\n",
              "      <td>6.0</td>\n",
              "      <td>6</td>\n",
              "      <td>82</td>\n",
              "      <td>69</td>\n",
              "      <td>1009.5</td>\n",
              "      <td>1007.2</td>\n",
              "      <td>8</td>\n",
              "      <td>7</td>\n",
              "      <td>15.4</td>\n",
              "      <td>20.2</td>\n",
              "      <td>Yes</td>\n",
              "      <td>39.8</td>\n",
              "      <td>Yes</td>\n",
              "    </tr>\n",
              "    <tr>\n",
              "      <th>3</th>\n",
              "      <td>2007-11-04</td>\n",
              "      <td>Canberra</td>\n",
              "      <td>13.3</td>\n",
              "      <td>15.5</td>\n",
              "      <td>39.8</td>\n",
              "      <td>7.2</td>\n",
              "      <td>9.1</td>\n",
              "      <td>NW</td>\n",
              "      <td>54.0</td>\n",
              "      <td>WNW</td>\n",
              "      <td>W</td>\n",
              "      <td>30.0</td>\n",
              "      <td>24</td>\n",
              "      <td>62</td>\n",
              "      <td>56</td>\n",
              "      <td>1005.5</td>\n",
              "      <td>1007.0</td>\n",
              "      <td>2</td>\n",
              "      <td>7</td>\n",
              "      <td>13.5</td>\n",
              "      <td>14.1</td>\n",
              "      <td>Yes</td>\n",
              "      <td>2.8</td>\n",
              "      <td>Yes</td>\n",
              "    </tr>\n",
              "    <tr>\n",
              "      <th>4</th>\n",
              "      <td>2007-11-05</td>\n",
              "      <td>Canberra</td>\n",
              "      <td>7.6</td>\n",
              "      <td>16.1</td>\n",
              "      <td>2.8</td>\n",
              "      <td>5.6</td>\n",
              "      <td>10.6</td>\n",
              "      <td>SSE</td>\n",
              "      <td>50.0</td>\n",
              "      <td>SSE</td>\n",
              "      <td>ESE</td>\n",
              "      <td>20.0</td>\n",
              "      <td>28</td>\n",
              "      <td>68</td>\n",
              "      <td>49</td>\n",
              "      <td>1018.3</td>\n",
              "      <td>1018.5</td>\n",
              "      <td>7</td>\n",
              "      <td>7</td>\n",
              "      <td>11.1</td>\n",
              "      <td>15.4</td>\n",
              "      <td>Yes</td>\n",
              "      <td>0.0</td>\n",
              "      <td>No</td>\n",
              "    </tr>\n",
              "  </tbody>\n",
              "</table>\n",
              "</div>"
            ],
            "text/plain": [
              "         Date  Location  MinTemp  ...  RainToday  RISK_MM  RainTomorrow\n",
              "0  2007-11-01  Canberra      8.0  ...         No      3.6           Yes\n",
              "1  2007-11-02  Canberra     14.0  ...        Yes      3.6           Yes\n",
              "2  2007-11-03  Canberra     13.7  ...        Yes     39.8           Yes\n",
              "3  2007-11-04  Canberra     13.3  ...        Yes      2.8           Yes\n",
              "4  2007-11-05  Canberra      7.6  ...        Yes      0.0            No\n",
              "\n",
              "[5 rows x 24 columns]"
            ]
          },
          "metadata": {
            "tags": []
          }
        },
        {
          "output_type": "stream",
          "text": [
            "Date              object\n",
            "Location          object\n",
            "MinTemp          float64\n",
            "MaxTemp          float64\n",
            "Rainfall         float64\n",
            "Evaporation      float64\n",
            "Sunshine         float64\n",
            "WindGustDir       object\n",
            "WindGustSpeed    float64\n",
            "WindDir9am        object\n",
            "WindDir3pm        object\n",
            "WindSpeed9am     float64\n",
            "WindSpeed3pm       int64\n",
            "Humidity9am        int64\n",
            "Humidity3pm        int64\n",
            "Pressure9am      float64\n",
            "Pressure3pm      float64\n",
            "Cloud9am           int64\n",
            "Cloud3pm           int64\n",
            "Temp9am          float64\n",
            "Temp3pm          float64\n",
            "RainToday         object\n",
            "RISK_MM          float64\n",
            "RainTomorrow      object\n",
            "dtype: object\n",
            "Data matrix shape:  (328, 24)\n",
            "Columns names:  Index(['Date', 'Location', 'MinTemp', 'MaxTemp', 'Rainfall', 'Evaporation',\n",
            "       'Sunshine', 'WindGustDir', 'WindGustSpeed', 'WindDir9am', 'WindDir3pm',\n",
            "       'WindSpeed9am', 'WindSpeed3pm', 'Humidity9am', 'Humidity3pm',\n",
            "       'Pressure9am', 'Pressure3pm', 'Cloud9am', 'Cloud3pm', 'Temp9am',\n",
            "       'Temp3pm', 'RainToday', 'RISK_MM', 'RainTomorrow'],\n",
            "      dtype='object')\n"
          ],
          "name": "stdout"
        }
      ]
    },
    {
      "cell_type": "code",
      "metadata": {
        "id": "SCCEbriGAmSX",
        "colab": {
          "base_uri": "https://localhost:8080/",
          "height": 902
        },
        "outputId": "befcc89d-918c-4a17-ad94-69b9afc27b5a"
      },
      "source": [
        "display(weather.corr())\n",
        "display(weather.corrwith(weather['Temp3pm']))"
      ],
      "execution_count": null,
      "outputs": [
        {
          "output_type": "display_data",
          "data": {
            "text/html": [
              "<div>\n",
              "<style scoped>\n",
              "    .dataframe tbody tr th:only-of-type {\n",
              "        vertical-align: middle;\n",
              "    }\n",
              "\n",
              "    .dataframe tbody tr th {\n",
              "        vertical-align: top;\n",
              "    }\n",
              "\n",
              "    .dataframe thead th {\n",
              "        text-align: right;\n",
              "    }\n",
              "</style>\n",
              "<table border=\"1\" class=\"dataframe\">\n",
              "  <thead>\n",
              "    <tr style=\"text-align: right;\">\n",
              "      <th></th>\n",
              "      <th>MinTemp</th>\n",
              "      <th>MaxTemp</th>\n",
              "      <th>Rainfall</th>\n",
              "      <th>Evaporation</th>\n",
              "      <th>Sunshine</th>\n",
              "      <th>WindGustSpeed</th>\n",
              "      <th>WindSpeed9am</th>\n",
              "      <th>WindSpeed3pm</th>\n",
              "      <th>Humidity9am</th>\n",
              "      <th>Humidity3pm</th>\n",
              "      <th>Pressure9am</th>\n",
              "      <th>Pressure3pm</th>\n",
              "      <th>Cloud9am</th>\n",
              "      <th>Cloud3pm</th>\n",
              "      <th>Temp9am</th>\n",
              "      <th>Temp3pm</th>\n",
              "      <th>RISK_MM</th>\n",
              "    </tr>\n",
              "  </thead>\n",
              "  <tbody>\n",
              "    <tr>\n",
              "      <th>MinTemp</th>\n",
              "      <td>1.000000</td>\n",
              "      <td>0.745911</td>\n",
              "      <td>0.197339</td>\n",
              "      <td>0.634720</td>\n",
              "      <td>0.007730</td>\n",
              "      <td>0.190596</td>\n",
              "      <td>0.058319</td>\n",
              "      <td>-0.106321</td>\n",
              "      <td>-0.160781</td>\n",
              "      <td>-0.013897</td>\n",
              "      <td>-0.502352</td>\n",
              "      <td>-0.503255</td>\n",
              "      <td>0.211640</td>\n",
              "      <td>0.125914</td>\n",
              "      <td>0.910805</td>\n",
              "      <td>0.716051</td>\n",
              "      <td>0.251519</td>\n",
              "    </tr>\n",
              "    <tr>\n",
              "      <th>MaxTemp</th>\n",
              "      <td>0.745911</td>\n",
              "      <td>1.000000</td>\n",
              "      <td>-0.077263</td>\n",
              "      <td>0.673162</td>\n",
              "      <td>0.444863</td>\n",
              "      <td>0.070911</td>\n",
              "      <td>-0.296485</td>\n",
              "      <td>-0.219886</td>\n",
              "      <td>-0.325106</td>\n",
              "      <td>-0.520412</td>\n",
              "      <td>-0.268054</td>\n",
              "      <td>-0.367040</td>\n",
              "      <td>-0.187416</td>\n",
              "      <td>-0.144976</td>\n",
              "      <td>0.869609</td>\n",
              "      <td>0.988925</td>\n",
              "      <td>0.058638</td>\n",
              "    </tr>\n",
              "    <tr>\n",
              "      <th>Rainfall</th>\n",
              "      <td>0.197339</td>\n",
              "      <td>-0.077263</td>\n",
              "      <td>1.000000</td>\n",
              "      <td>-0.011767</td>\n",
              "      <td>-0.158062</td>\n",
              "      <td>0.099442</td>\n",
              "      <td>0.238705</td>\n",
              "      <td>0.058151</td>\n",
              "      <td>0.146321</td>\n",
              "      <td>0.287244</td>\n",
              "      <td>-0.348731</td>\n",
              "      <td>-0.263710</td>\n",
              "      <td>0.172610</td>\n",
              "      <td>0.134894</td>\n",
              "      <td>0.071893</td>\n",
              "      <td>-0.089740</td>\n",
              "      <td>0.101909</td>\n",
              "    </tr>\n",
              "    <tr>\n",
              "      <th>Evaporation</th>\n",
              "      <td>0.634720</td>\n",
              "      <td>0.673162</td>\n",
              "      <td>-0.011767</td>\n",
              "      <td>1.000000</td>\n",
              "      <td>0.310124</td>\n",
              "      <td>0.258050</td>\n",
              "      <td>0.006259</td>\n",
              "      <td>0.019594</td>\n",
              "      <td>-0.492218</td>\n",
              "      <td>-0.374532</td>\n",
              "      <td>-0.363936</td>\n",
              "      <td>-0.380702</td>\n",
              "      <td>-0.114261</td>\n",
              "      <td>-0.111387</td>\n",
              "      <td>0.688749</td>\n",
              "      <td>0.655896</td>\n",
              "      <td>0.099727</td>\n",
              "    </tr>\n",
              "    <tr>\n",
              "      <th>Sunshine</th>\n",
              "      <td>0.007730</td>\n",
              "      <td>0.444863</td>\n",
              "      <td>-0.158062</td>\n",
              "      <td>0.310124</td>\n",
              "      <td>1.000000</td>\n",
              "      <td>0.084768</td>\n",
              "      <td>-0.103841</td>\n",
              "      <td>0.046140</td>\n",
              "      <td>-0.501596</td>\n",
              "      <td>-0.760267</td>\n",
              "      <td>0.025630</td>\n",
              "      <td>-0.024120</td>\n",
              "      <td>-0.697603</td>\n",
              "      <td>-0.657198</td>\n",
              "      <td>0.199659</td>\n",
              "      <td>0.463721</td>\n",
              "      <td>-0.357231</td>\n",
              "    </tr>\n",
              "    <tr>\n",
              "      <th>WindGustSpeed</th>\n",
              "      <td>0.190596</td>\n",
              "      <td>0.070911</td>\n",
              "      <td>0.099442</td>\n",
              "      <td>0.258050</td>\n",
              "      <td>0.084768</td>\n",
              "      <td>1.000000</td>\n",
              "      <td>0.540717</td>\n",
              "      <td>0.687071</td>\n",
              "      <td>-0.338276</td>\n",
              "      <td>-0.043254</td>\n",
              "      <td>-0.524737</td>\n",
              "      <td>-0.510826</td>\n",
              "      <td>-0.018216</td>\n",
              "      <td>0.042849</td>\n",
              "      <td>0.229164</td>\n",
              "      <td>0.036039</td>\n",
              "      <td>0.269151</td>\n",
              "    </tr>\n",
              "    <tr>\n",
              "      <th>WindSpeed9am</th>\n",
              "      <td>0.058319</td>\n",
              "      <td>-0.296485</td>\n",
              "      <td>0.238705</td>\n",
              "      <td>0.006259</td>\n",
              "      <td>-0.103841</td>\n",
              "      <td>0.540717</td>\n",
              "      <td>1.000000</td>\n",
              "      <td>0.495946</td>\n",
              "      <td>-0.222337</td>\n",
              "      <td>0.202122</td>\n",
              "      <td>-0.344290</td>\n",
              "      <td>-0.233682</td>\n",
              "      <td>0.117625</td>\n",
              "      <td>-0.012990</td>\n",
              "      <td>-0.017843</td>\n",
              "      <td>-0.315906</td>\n",
              "      <td>0.053529</td>\n",
              "    </tr>\n",
              "    <tr>\n",
              "      <th>WindSpeed3pm</th>\n",
              "      <td>-0.106321</td>\n",
              "      <td>-0.219886</td>\n",
              "      <td>0.058151</td>\n",
              "      <td>0.019594</td>\n",
              "      <td>0.046140</td>\n",
              "      <td>0.687071</td>\n",
              "      <td>0.495946</td>\n",
              "      <td>1.000000</td>\n",
              "      <td>-0.260960</td>\n",
              "      <td>0.015860</td>\n",
              "      <td>-0.344889</td>\n",
              "      <td>-0.318008</td>\n",
              "      <td>-0.033882</td>\n",
              "      <td>0.011625</td>\n",
              "      <td>-0.057454</td>\n",
              "      <td>-0.239119</td>\n",
              "      <td>0.012931</td>\n",
              "    </tr>\n",
              "    <tr>\n",
              "      <th>Humidity9am</th>\n",
              "      <td>-0.160781</td>\n",
              "      <td>-0.325106</td>\n",
              "      <td>0.146321</td>\n",
              "      <td>-0.492218</td>\n",
              "      <td>-0.501596</td>\n",
              "      <td>-0.338276</td>\n",
              "      <td>-0.222337</td>\n",
              "      <td>-0.260960</td>\n",
              "      <td>1.000000</td>\n",
              "      <td>0.526695</td>\n",
              "      <td>0.102250</td>\n",
              "      <td>0.109549</td>\n",
              "      <td>0.417496</td>\n",
              "      <td>0.289618</td>\n",
              "      <td>-0.395647</td>\n",
              "      <td>-0.321299</td>\n",
              "      <td>0.157148</td>\n",
              "    </tr>\n",
              "    <tr>\n",
              "      <th>Humidity3pm</th>\n",
              "      <td>-0.013897</td>\n",
              "      <td>-0.520412</td>\n",
              "      <td>0.287244</td>\n",
              "      <td>-0.374532</td>\n",
              "      <td>-0.760267</td>\n",
              "      <td>-0.043254</td>\n",
              "      <td>0.202122</td>\n",
              "      <td>0.015860</td>\n",
              "      <td>0.526695</td>\n",
              "      <td>1.000000</td>\n",
              "      <td>-0.136289</td>\n",
              "      <td>-0.047607</td>\n",
              "      <td>0.565174</td>\n",
              "      <td>0.530715</td>\n",
              "      <td>-0.230820</td>\n",
              "      <td>-0.569348</td>\n",
              "      <td>0.323494</td>\n",
              "    </tr>\n",
              "    <tr>\n",
              "      <th>Pressure9am</th>\n",
              "      <td>-0.502352</td>\n",
              "      <td>-0.268054</td>\n",
              "      <td>-0.348731</td>\n",
              "      <td>-0.363936</td>\n",
              "      <td>0.025630</td>\n",
              "      <td>-0.524737</td>\n",
              "      <td>-0.344290</td>\n",
              "      <td>-0.344889</td>\n",
              "      <td>0.102250</td>\n",
              "      <td>-0.136289</td>\n",
              "      <td>1.000000</td>\n",
              "      <td>0.966744</td>\n",
              "      <td>-0.168316</td>\n",
              "      <td>-0.146196</td>\n",
              "      <td>-0.453669</td>\n",
              "      <td>-0.229817</td>\n",
              "      <td>-0.314815</td>\n",
              "    </tr>\n",
              "    <tr>\n",
              "      <th>Pressure3pm</th>\n",
              "      <td>-0.503255</td>\n",
              "      <td>-0.367040</td>\n",
              "      <td>-0.263710</td>\n",
              "      <td>-0.380702</td>\n",
              "      <td>-0.024120</td>\n",
              "      <td>-0.510826</td>\n",
              "      <td>-0.233682</td>\n",
              "      <td>-0.318008</td>\n",
              "      <td>0.109549</td>\n",
              "      <td>-0.047607</td>\n",
              "      <td>0.966744</td>\n",
              "      <td>1.000000</td>\n",
              "      <td>-0.132247</td>\n",
              "      <td>-0.146235</td>\n",
              "      <td>-0.496853</td>\n",
              "      <td>-0.332099</td>\n",
              "      <td>-0.336461</td>\n",
              "    </tr>\n",
              "    <tr>\n",
              "      <th>Cloud9am</th>\n",
              "      <td>0.211640</td>\n",
              "      <td>-0.187416</td>\n",
              "      <td>0.172610</td>\n",
              "      <td>-0.114261</td>\n",
              "      <td>-0.697603</td>\n",
              "      <td>-0.018216</td>\n",
              "      <td>0.117625</td>\n",
              "      <td>-0.033882</td>\n",
              "      <td>0.417496</td>\n",
              "      <td>0.565174</td>\n",
              "      <td>-0.168316</td>\n",
              "      <td>-0.132247</td>\n",
              "      <td>1.000000</td>\n",
              "      <td>0.528296</td>\n",
              "      <td>0.010012</td>\n",
              "      <td>-0.213509</td>\n",
              "      <td>0.268979</td>\n",
              "    </tr>\n",
              "    <tr>\n",
              "      <th>Cloud3pm</th>\n",
              "      <td>0.125914</td>\n",
              "      <td>-0.144976</td>\n",
              "      <td>0.134894</td>\n",
              "      <td>-0.111387</td>\n",
              "      <td>-0.657198</td>\n",
              "      <td>0.042849</td>\n",
              "      <td>-0.012990</td>\n",
              "      <td>0.011625</td>\n",
              "      <td>0.289618</td>\n",
              "      <td>0.530715</td>\n",
              "      <td>-0.146196</td>\n",
              "      <td>-0.146235</td>\n",
              "      <td>0.528296</td>\n",
              "      <td>1.000000</td>\n",
              "      <td>0.044542</td>\n",
              "      <td>-0.181667</td>\n",
              "      <td>0.311882</td>\n",
              "    </tr>\n",
              "    <tr>\n",
              "      <th>Temp9am</th>\n",
              "      <td>0.910805</td>\n",
              "      <td>0.869609</td>\n",
              "      <td>0.071893</td>\n",
              "      <td>0.688749</td>\n",
              "      <td>0.199659</td>\n",
              "      <td>0.229164</td>\n",
              "      <td>-0.017843</td>\n",
              "      <td>-0.057454</td>\n",
              "      <td>-0.395647</td>\n",
              "      <td>-0.230820</td>\n",
              "      <td>-0.453669</td>\n",
              "      <td>-0.496853</td>\n",
              "      <td>0.010012</td>\n",
              "      <td>0.044542</td>\n",
              "      <td>1.000000</td>\n",
              "      <td>0.843509</td>\n",
              "      <td>0.201508</td>\n",
              "    </tr>\n",
              "    <tr>\n",
              "      <th>Temp3pm</th>\n",
              "      <td>0.716051</td>\n",
              "      <td>0.988925</td>\n",
              "      <td>-0.089740</td>\n",
              "      <td>0.655896</td>\n",
              "      <td>0.463721</td>\n",
              "      <td>0.036039</td>\n",
              "      <td>-0.315906</td>\n",
              "      <td>-0.239119</td>\n",
              "      <td>-0.321299</td>\n",
              "      <td>-0.569348</td>\n",
              "      <td>-0.229817</td>\n",
              "      <td>-0.332099</td>\n",
              "      <td>-0.213509</td>\n",
              "      <td>-0.181667</td>\n",
              "      <td>0.843509</td>\n",
              "      <td>1.000000</td>\n",
              "      <td>0.028888</td>\n",
              "    </tr>\n",
              "    <tr>\n",
              "      <th>RISK_MM</th>\n",
              "      <td>0.251519</td>\n",
              "      <td>0.058638</td>\n",
              "      <td>0.101909</td>\n",
              "      <td>0.099727</td>\n",
              "      <td>-0.357231</td>\n",
              "      <td>0.269151</td>\n",
              "      <td>0.053529</td>\n",
              "      <td>0.012931</td>\n",
              "      <td>0.157148</td>\n",
              "      <td>0.323494</td>\n",
              "      <td>-0.314815</td>\n",
              "      <td>-0.336461</td>\n",
              "      <td>0.268979</td>\n",
              "      <td>0.311882</td>\n",
              "      <td>0.201508</td>\n",
              "      <td>0.028888</td>\n",
              "      <td>1.000000</td>\n",
              "    </tr>\n",
              "  </tbody>\n",
              "</table>\n",
              "</div>"
            ],
            "text/plain": [
              "                MinTemp   MaxTemp  Rainfall  ...   Temp9am   Temp3pm   RISK_MM\n",
              "MinTemp        1.000000  0.745911  0.197339  ...  0.910805  0.716051  0.251519\n",
              "MaxTemp        0.745911  1.000000 -0.077263  ...  0.869609  0.988925  0.058638\n",
              "Rainfall       0.197339 -0.077263  1.000000  ...  0.071893 -0.089740  0.101909\n",
              "Evaporation    0.634720  0.673162 -0.011767  ...  0.688749  0.655896  0.099727\n",
              "Sunshine       0.007730  0.444863 -0.158062  ...  0.199659  0.463721 -0.357231\n",
              "WindGustSpeed  0.190596  0.070911  0.099442  ...  0.229164  0.036039  0.269151\n",
              "WindSpeed9am   0.058319 -0.296485  0.238705  ... -0.017843 -0.315906  0.053529\n",
              "WindSpeed3pm  -0.106321 -0.219886  0.058151  ... -0.057454 -0.239119  0.012931\n",
              "Humidity9am   -0.160781 -0.325106  0.146321  ... -0.395647 -0.321299  0.157148\n",
              "Humidity3pm   -0.013897 -0.520412  0.287244  ... -0.230820 -0.569348  0.323494\n",
              "Pressure9am   -0.502352 -0.268054 -0.348731  ... -0.453669 -0.229817 -0.314815\n",
              "Pressure3pm   -0.503255 -0.367040 -0.263710  ... -0.496853 -0.332099 -0.336461\n",
              "Cloud9am       0.211640 -0.187416  0.172610  ...  0.010012 -0.213509  0.268979\n",
              "Cloud3pm       0.125914 -0.144976  0.134894  ...  0.044542 -0.181667  0.311882\n",
              "Temp9am        0.910805  0.869609  0.071893  ...  1.000000  0.843509  0.201508\n",
              "Temp3pm        0.716051  0.988925 -0.089740  ...  0.843509  1.000000  0.028888\n",
              "RISK_MM        0.251519  0.058638  0.101909  ...  0.201508  0.028888  1.000000\n",
              "\n",
              "[17 rows x 17 columns]"
            ]
          },
          "metadata": {
            "tags": []
          }
        },
        {
          "output_type": "display_data",
          "data": {
            "text/plain": [
              "MinTemp          0.716051\n",
              "MaxTemp          0.988925\n",
              "Rainfall        -0.089740\n",
              "Evaporation      0.655896\n",
              "Sunshine         0.463721\n",
              "WindGustSpeed    0.036039\n",
              "WindSpeed9am    -0.315906\n",
              "WindSpeed3pm    -0.239119\n",
              "Humidity9am     -0.321299\n",
              "Humidity3pm     -0.569348\n",
              "Pressure9am     -0.229817\n",
              "Pressure3pm     -0.332099\n",
              "Cloud9am        -0.213509\n",
              "Cloud3pm        -0.181667\n",
              "Temp9am          0.843509\n",
              "Temp3pm          1.000000\n",
              "RISK_MM          0.028888\n",
              "dtype: float64"
            ]
          },
          "metadata": {
            "tags": []
          }
        }
      ]
    },
    {
      "cell_type": "markdown",
      "metadata": {
        "id": "CdrFokUIEDci"
      },
      "source": [
        "**Note:** The purpose here is to predict the temperature from other features (like humidity or pression). It is called multivariate linear regression when we use several features as input, univariate otherwise. We will only work with values concerning **3pm** for simplicity.\n",
        "\n",
        "A LinearRegression has this form for one feature: $$ Y_i = w_0 + w_1 X_i + \\epsilon_i$$\n",
        "\n",
        "The betas correspond to the weights of the variables (coefficients). Combined with the features (X matrix) we want to predict the target variable (Y vector). The regression will compute the best value of $w_i$.\n",
        "\n",
        "For now we will focus on a simple linear regression with **one feature variable**. We would like to know if we can use the humity to predict the temperature. Let's separate the feature input from the target output."
      ]
    },
    {
      "cell_type": "code",
      "metadata": {
        "id": "DvHMm6n5Uhef"
      },
      "source": [
        "X = weather[['Humidity3pm']] \n",
        "y = weather[['Temp3pm']]"
      ],
      "execution_count": null,
      "outputs": []
    },
    {
      "cell_type": "markdown",
      "metadata": {
        "id": "KbFaMRiOF-Kr"
      },
      "source": [
        "## 2. Splitting the dataset\n",
        "\n",
        "Sklearn has a very useful module to seprate your dataset in a training and in a testing set. The training set will be used to retreive the best values of the weights according to a combination of input/output while the test set will be used to evaluate/predict our model. Since our model will be trained on particular values we want to test our data on a new set of data (the test set)\n",
        "\n",
        "The test size here is of 20% of the original data."
      ]
    },
    {
      "cell_type": "code",
      "metadata": {
        "id": "pa-wOqD6Cei3"
      },
      "source": [
        "from sklearn.model_selection import train_test_split\n",
        "X_train, X_test, y_train, y_test = train_test_split(X, y, test_size=0.2, random_state=0, shuffle=True)\n"
      ],
      "execution_count": null,
      "outputs": []
    },
    {
      "cell_type": "markdown",
      "metadata": {
        "id": "RUoAlVFvLK8a"
      },
      "source": [
        "**Note:** Generally you should normalize the data right after splitting the datset. The normalization is important here to reduce the variance of our model and get better results. We skip this step for now.\n",
        "\n",
        "The sklearn code uses `MinMaxScaler` module to normalize the data. This estimator scales and translates each feature individually such that it is in the given range on the training set, e.g. between zero and one.  \n",
        "\n",
        "This is an example of how to use it:\n",
        "```python\n",
        "from sklearn.preprocessing import MinMaxScaler\n",
        "#Define the scaler\n",
        "scaler = MinMaxScaler()\n",
        "#Fit the scaler\n",
        "scaler.fit(X_train)\n",
        "#Transform the train and the test set\n",
        "X_train = scaler.transform(X_train)\n",
        "X_test = scaler.transform(X_test)\n",
        "\n",
        "#These two steps can be merged into one (only for the train set)\n",
        "X_train = scaler.fit_transform(X_train)\n",
        "X_test = scaler.transform(X_test)\n",
        "```"
      ]
    },
    {
      "cell_type": "markdown",
      "metadata": {
        "id": "hFz94n5GIP_T"
      },
      "source": [
        "## 3. Create/Fit the model\n",
        "\n",
        "To predict the target variable we will use a simple linear regression. We can import the module following this path (already done at the beginning of the file):\n",
        "\n",
        "```python\n",
        "from sklearn.linear_model import LinearRegression\n",
        "```"
      ]
    },
    {
      "cell_type": "markdown",
      "metadata": {
        "id": "qygxTo56HkeH"
      },
      "source": [
        "**Note:** \n",
        "- We create a new LinearRegression model from sklearn\n",
        "- The `fit()` function will fill the linear model from the X_train (feature) and the y_train data (target)\n",
        "- The ``score()``function returns the coefficient of determination R^2 of the prediction. The best possible score is 1.0 and it can be negative (because the model can be arbitrarily worse). A constant model that always predicts the expected value of y, disregarding the input features, would get a R^2 score of 0.0.\n",
        "\n",
        "After fitting the model, we can easily retreive the values of the different beta coefficients (the intercept, and the weight of each feature)."
      ]
    },
    {
      "cell_type": "code",
      "metadata": {
        "id": "ebSpuUsrG-RF",
        "colab": {
          "base_uri": "https://localhost:8080/"
        },
        "outputId": "1e98127a-3142-4ec3-e5ff-2fa4129d8f64"
      },
      "source": [
        "# There are three steps to model something with sklearn\n",
        "# 1. Set up the model\n",
        "model = LinearRegression(fit_intercept= True)\n",
        "# 2. Use fit\n",
        "model.fit(X_train, y_train)\n",
        "# 3. Check the score/accuracy\n",
        "print(\"R^2 Score of the model: \", round(model.score(X_test, y_test), 3))\n"
      ],
      "execution_count": null,
      "outputs": [
        {
          "output_type": "stream",
          "text": [
            "R^2 Score of the model:  0.372\n"
          ],
          "name": "stdout"
        }
      ]
    },
    {
      "cell_type": "code",
      "metadata": {
        "id": "WAMS6qKIHC35",
        "colab": {
          "base_uri": "https://localhost:8080/"
        },
        "outputId": "15501046-d14d-408b-ee8d-36c86636f626"
      },
      "source": [
        "print(\"Intercept: \", model.intercept_[0]) \n",
        "print(\"Features coefficients (weigths): \", model.coef_.flatten()[0])# Get the coefficients, w"
      ],
      "execution_count": null,
      "outputs": [
        {
          "output_type": "stream",
          "text": [
            "Intercept:  29.543003059769497\n",
            "Features coefficients (weigths):  -0.22661055784458156\n"
          ],
          "name": "stdout"
        }
      ]
    },
    {
      "cell_type": "markdown",
      "metadata": {
        "id": "w3_SgE4nsCIp"
      },
      "source": [
        "**Note:** Considering this linear equation: $ Y_i = w_0 + w_1 X_i + \\epsilon_i$\n",
        "\n",
        "The intercept corresponds to the value of $w_0$. There is only one coefficient,  $w_1$ linked to the humidity feature. Since we have only one value for intercept and coefficients represented as arrays, we apply `flattent()` and `[0]`."
      ]
    },
    {
      "cell_type": "markdown",
      "metadata": {
        "id": "dkdOvMjoI6mQ"
      },
      "source": [
        "## 4. Prediction/Evaluation\n",
        "\n",
        "Once the model is trained, we can use the ``predict()`` function to predict the values of the test set using `X_test`. This prediction can be compared to the truth value i.e `y_test`.\n",
        "\n",
        "Here is an example for one value prediction. Our model takes a matrix as inputs (X matrix), so even if we want to predict a scalar value we should use `[[...]]`."
      ]
    },
    {
      "cell_type": "code",
      "metadata": {
        "id": "wJm-HPRYtGF6",
        "colab": {
          "base_uri": "https://localhost:8080/"
        },
        "outputId": "28dce2d5-0a04-4532-9fd8-fb9dbe2552aa"
      },
      "source": [
        "print(\"Particular value of humidity: \", X_test.iloc[0].values)\n",
        "#Compute the prediction for input 28 (humidity)\n",
        "prediction = model.predict([[28]])\n",
        "print(\"Prediction/Truth for humidity 28: \", prediction, y_test.iloc[0].values)"
      ],
      "execution_count": null,
      "outputs": [
        {
          "output_type": "stream",
          "text": [
            "Particular value of humidity:  [28]\n",
            "Prediction/Truth for humidity 28:  [[23.19790744]] [27.]\n"
          ],
          "name": "stdout"
        }
      ]
    },
    {
      "cell_type": "markdown",
      "metadata": {
        "id": "u3CbNbOeB6lE"
      },
      "source": [
        "**Note:** Try to use `flatten()` and `[0]` in order to display correctly the above values."
      ]
    },
    {
      "cell_type": "markdown",
      "metadata": {
        "id": "uLEovOE8tGyV"
      },
      "source": [
        "## 5. Evaluation and plotting\n",
        "\n",
        "To better understand why the prediction and actual value are different , we can plot the predictions (line) and the true values from the test set (dots). It is more interesting to predict from the test set because our model is not trained on these values unlike the train set."
      ]
    },
    {
      "cell_type": "code",
      "metadata": {
        "id": "D1bnZYPnHK8V"
      },
      "source": [
        "#Model prediction from X_test\n",
        "predictions = model.predict(X_test)"
      ],
      "execution_count": null,
      "outputs": []
    },
    {
      "cell_type": "code",
      "metadata": {
        "id": "3QWBgialsjhv",
        "colab": {
          "base_uri": "https://localhost:8080/",
          "height": 295
        },
        "outputId": "69b78b00-984b-4f53-c2c2-0167beec118b"
      },
      "source": [
        "# Plot the prediction (the line) over the true value (the dots)\n",
        "plt.scatter(X_test, y_test)\n",
        "plt.plot(X_test, predictions, 'r')\n",
        "plt.title(\"Humidity against temperature\")\n",
        "plt.xlabel('Humidity')\n",
        "plt.ylabel('Temperature')\n",
        "plt.show()"
      ],
      "execution_count": null,
      "outputs": [
        {
          "output_type": "display_data",
          "data": {
            "image/png": "[encoded data removed]",
            "text/plain": [
              "<Figure size 432x288 with 1 Axes>"
            ]
          },
          "metadata": {
            "tags": [],
            "needs_background": "light"
          }
        }
      ]
    },
    {
      "cell_type": "markdown",
      "metadata": {
        "id": "Asy8tfPuvrKd"
      },
      "source": [
        "We can compare the error of our model by using some metrics like the **MAE (mean absolute error)**, **MSE (mean squared error)** or **R^2** score. Sklearn offers some nice modules to compute these measures. These modules are imported at the begining of the file.\n",
        "\n",
        "These metrics takes the `y_test` values and the `predictions` as arguments. Basically it will analyse how far the prediction is from the true value. Using these metrics is very helpful when looking for the best model."
      ]
    },
    {
      "cell_type": "code",
      "metadata": {
        "id": "syKiA49gvpNQ",
        "colab": {
          "base_uri": "https://localhost:8080/"
        },
        "outputId": "35bab67e-436f-411f-9b26-21ec5850c07e"
      },
      "source": [
        "# Compare the MAE the MSE and the R^2\n",
        "mae = mean_absolute_error(y_test, predictions)\n",
        "mse = mean_squared_error(y_test, predictions)\n",
        "r2 = r2_score(y_test, predictions)\n",
        "\n",
        "print(\"MAE %.2f\" % mae)\n",
        "print(\"MSE %.2f\" % mse)\n",
        "print(\"R^2 %.2f\" % r2)"
      ],
      "execution_count": null,
      "outputs": [
        {
          "output_type": "stream",
          "text": [
            "MAE 4.27\n",
            "MSE 24.44\n",
            "R^2 0.37\n"
          ],
          "name": "stdout"
        }
      ]
    },
    {
      "cell_type": "markdown",
      "metadata": {
        "id": "OVSZVya0iNIy"
      },
      "source": [
        "It is also interesting to compare the result of these metrics between the data from the `test set` and those from the `train set` as it enables you to see whether your model gives a good prediction or not."
      ]
    },
    {
      "cell_type": "code",
      "metadata": {
        "id": "iQzowsWVh0ip",
        "colab": {
          "base_uri": "https://localhost:8080/"
        },
        "outputId": "89de4599-4c48-4341-ba35-b6ab9a2267c9"
      },
      "source": [
        "pred = model.predict(X_train)\n",
        "mae = mean_absolute_error(y_train, pred)\n",
        "mse = mean_squared_error(y_train, pred)\n",
        "r2 = r2_score(y_train, pred)\n",
        "\n",
        "\n",
        "print(\"MAE %.2f\" % mae)\n",
        "print(\"MSE %.2f\" % mse)\n",
        "print(\"R^2 %.2f\" % r2)"
      ],
      "execution_count": null,
      "outputs": [
        {
          "output_type": "stream",
          "text": [
            "MAE 4.77\n",
            "MSE 31.08\n",
            "R^2 0.31\n"
          ],
          "name": "stdout"
        }
      ]
    },
    {
      "cell_type": "markdown",
      "metadata": {
        "id": "g0iXKhoXkUyN"
      },
      "source": [
        "Remember, the higher the R² value, the better the fit. In this case, the testing data yields a higher coefficient. While it might seem a bit counterintuitive\n",
        " Furthermore, the R² calculated with test data is an unbiased measure of your model’s prediction performance."
      ]
    },
    {
      "cell_type": "markdown",
      "metadata": {
        "id": "p0P-xYawgLRH"
      },
      "source": [
        "## 6. Multivariate Regression\n",
        "\n",
        "\n",
        "Here, we will apply the same method to several features. For instance it should be interesting to use these variables: humidity, pressure, sunshine and cloud data to predict the temperature. We continue to work with values concerning 3pm for simplicity."
      ]
    },
    {
      "cell_type": "code",
      "metadata": {
        "id": "kTAqzfNAg4Bs"
      },
      "source": [
        "X = weather[['Humidity3pm', 'Cloud3pm', 'Pressure3pm', 'Sunshine']] \n",
        "y = weather[['Temp3pm']]"
      ],
      "execution_count": null,
      "outputs": []
    },
    {
      "cell_type": "markdown",
      "metadata": {
        "id": "xPtVWHZMg8sD"
      },
      "source": [
        "###Split the data into a training set and a test set"
      ]
    },
    {
      "cell_type": "code",
      "metadata": {
        "id": "vfvjzYBFg4qi"
      },
      "source": [
        "X_train, X_test, y_train, y_test = train_test_split(X, y, test_size=0.2, random_state=0, shuffle=True)"
      ],
      "execution_count": null,
      "outputs": []
    },
    {
      "cell_type": "markdown",
      "metadata": {
        "id": "j_B1LnPqhGz1"
      },
      "source": [
        "###Fit the model"
      ]
    },
    {
      "cell_type": "code",
      "metadata": {
        "id": "7-Dxbc6VhF_f",
        "colab": {
          "base_uri": "https://localhost:8080/"
        },
        "outputId": "96b2fd83-c767-4a84-afce-d007a28a3fbf"
      },
      "source": [
        "# 1. Set up the model\n",
        "model = LinearRegression()\n",
        "# 2. Use fit\n",
        "model.fit(X_train, y_train)\n",
        "# 3. Check the score/accuracy\n",
        "print(\"R^2 Score of the model: \", round(model.score(X_test, y_test), 3))\n",
        "# 4. Print the coefficients of the linear model\n",
        "print(\"Intercept: \", model.intercept_) \n",
        "print(\"Features coefficients (weigths): \", model.coef_)# Get the coefficients, w"
      ],
      "execution_count": null,
      "outputs": [
        {
          "output_type": "stream",
          "text": [
            "R^2 Score of the model:  0.438\n",
            "Intercept:  [361.96448369]\n",
            "Features coefficients (weigths):  [[-0.20850482  0.53595273 -0.33294024  0.39432442]]\n"
          ],
          "name": "stdout"
        }
      ]
    },
    {
      "cell_type": "markdown",
      "metadata": {
        "id": "VTTfQrJEhJGA"
      },
      "source": [
        "###Prediction\n",
        "We use the predict() function to predict the values of the test set using X_test.\n",
        "This prediction can be compared to the truth value i.e y_test.\n"
      ]
    },
    {
      "cell_type": "code",
      "metadata": {
        "id": "6HwEZhg8hQ-W",
        "colab": {
          "base_uri": "https://localhost:8080/"
        },
        "outputId": "a6764ca3-c677-4f31-df49-0368a93eeaaa"
      },
      "source": [
        "print(\"Particular value of ['Humidity3pm', 'Cloud3pm', 'Pressure3pm', 'Sunshine']: \", X_test.iloc[0].values)\n",
        "prediction = model.predict([[ 28.0, 7.0, 1018.2, 7.3]])\n",
        "print(\"Prediction/Truth for [ 28.0, 7.0, 1018.2, 7.3]: \", prediction, y_test.iloc[0].values)"
      ],
      "execution_count": null,
      "outputs": [
        {
          "output_type": "stream",
          "text": [
            "Particular value of ['Humidity3pm', 'Cloud3pm', 'Pressure3pm', 'Sunshine']:  [  28.     7.  1018.2    7.3]\n",
            "Prediction/Truth for [ 28.0, 7.0, 1018.2, 7.3]:  [[23.75683013]] [27.]\n"
          ],
          "name": "stdout"
        }
      ]
    },
    {
      "cell_type": "markdown",
      "metadata": {
        "id": "TuY3hTDahTKQ"
      },
      "source": [
        "###Evaluation\n",
        "Lastly, we use the MAE (mean absolute error), MSE (mean squared error) or R^2 score to analyse how far the prediction is from the true value.\n",
        "These  metrics takes the `y_test` values and the `predictions` as arguments. "
      ]
    },
    {
      "cell_type": "code",
      "metadata": {
        "id": "cjdFBojChWDT",
        "colab": {
          "base_uri": "https://localhost:8080/"
        },
        "outputId": "55656101-690b-4546-d0c6-1e8662b863a9"
      },
      "source": [
        "predictions = model.predict(X_test)\n",
        "\n",
        "print(\"MAE %.2f\" % mean_absolute_error(y_test, predictions))\n",
        "print(\"MSE %.2f\" % mean_squared_error(y_test, predictions))\n",
        "print(\"R^2 %.2f\" % r2_score(y_test, predictions))"
      ],
      "execution_count": null,
      "outputs": [
        {
          "output_type": "stream",
          "text": [
            "MAE 3.90\n",
            "MSE 21.85\n",
            "R^2 0.44\n"
          ],
          "name": "stdout"
        }
      ]
    },
    {
      "cell_type": "code",
      "metadata": {
        "id": "5hOMwpd2oSDh",
        "colab": {
          "base_uri": "https://localhost:8080/"
        },
        "outputId": "2e30dde7-daae-4c4b-831f-e69acd52f01d"
      },
      "source": [
        "predictions = model.predict(X_train)\n",
        "\n",
        "print(\"MAE %.2f\" % mean_absolute_error(y_train, predictions))\n",
        "print(\"MSE %.2f\" % mean_squared_error(y_train, predictions))\n",
        "print(\"R^2 %.2f\" % r2_score(y_train, predictions))"
      ],
      "execution_count": null,
      "outputs": [
        {
          "output_type": "stream",
          "text": [
            "MAE 4.13\n",
            "MSE 24.11\n",
            "R^2 0.47\n"
          ],
          "name": "stdout"
        }
      ]
    },
    {
      "cell_type": "code",
      "metadata": {
        "id": "MkwGK6Q5fslb",
        "colab": {
          "base_uri": "https://localhost:8080/",
          "height": 349
        },
        "outputId": "79721bae-a29a-44d4-bbcb-1e7d6602f327"
      },
      "source": [
        "# Arrays to save the different errors\n",
        "train_err = []\n",
        "test_err = []\n",
        "\n",
        "# Iterate over 1, 2, 3 and 4 features\n",
        "for nbr_col in range(1, 5):\n",
        "    # Select the good number of features for X\n",
        "    X_temp = X[X.columns[:nbr_col]]\n",
        "    # Split the dat set\n",
        "    X_train, X_test, y_train, y_test = train_test_split(X_temp, y, test_size=0.2, random_state=10)\n",
        "    # Normalize the data\n",
        "    # Create new scaler from MinMaxScaler()\n",
        "    scaler = MinMaxScaler()\n",
        "    # Fit and transform the original data\n",
        "    scaler.fit(X_train, y_train)\n",
        "    X_train = scaler.fit_transform(X_train)\n",
        "    X_test = scaler.transform(X_test)\n",
        "    # Create the linear model\n",
        "    LR = LinearRegression(fit_intercept=False)\n",
        "    # Fit the linear model\n",
        "    LR.fit(X_train, y_train)\n",
        "    \n",
        "    #Compute and save the mean absolute error fro training and testing set\n",
        "    train_err.append(mean_absolute_error(y_train, LR.predict(X_train)))\n",
        "    test_err.append(mean_absolute_error(y_test, LR.predict(X_test)))\n",
        "\n",
        "# Print the train and the test errors\n",
        "print(\"Train error: \", train_err)\n",
        "print(\"Test error : \", test_err)\n",
        "\n",
        "plt.title(\"Training and test error regarding the number of features\")\n",
        "plt.plot(range(1,5), train_err, label=\"train_error\")\n",
        "plt.plot(range(1,5), test_err, label=\"test_error\")\n",
        "plt.legend(fontsize=10)\n",
        "plt.xlabel(\"Number of features\")\n",
        "plt.ylabel(\"Error\")\n",
        "plt.show()\n"
      ],
      "execution_count": null,
      "outputs": [
        {
          "output_type": "stream",
          "text": [
            "Train error:  [11.02629934559219, 10.546349892010538, 7.945720705222089, 5.098494310131526]\n",
            "Test error :  [10.906664493008066, 10.664354128593098, 7.555059569256484, 4.18355832174993]\n"
          ],
          "name": "stdout"
        },
        {
          "output_type": "display_data",
          "data": {
            "image/png": "[encoded data removed]",
            "text/plain": [
              "<Figure size 432x288 with 1 Axes>"
            ]
          },
          "metadata": {
            "tags": [],
            "needs_background": "light"
          }
        }
      ]
    }
  ]
}
