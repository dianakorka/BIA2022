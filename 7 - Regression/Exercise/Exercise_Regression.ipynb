{
  "nbformat": 4,
  "nbformat_minor": 0,
  "metadata": {
    "colab": {
      "name": "Exercise1_draft.ipynb",
      "provenance": [],
      "include_colab_link": true
    },
    "kernel_info": {
      "name": "python3"
    },
    "kernelspec": {
      "display_name": "Python 3",
      "language": "python",
      "name": "python3"
    },
    "language_info": {
      "codemirror_mode": {
        "name": "ipython",
        "version": 3
      },
      "file_extension": ".py",
      "mimetype": "text/x-python",
      "name": "python",
      "nbconvert_exporter": "python",
      "pygments_lexer": "ipython3",
      "version": "3.7.6"
    },
    "nteract": {
      "version": "0.15.0"
    }
  },
  "cells": [
    {
      "cell_type": "markdown",
      "metadata": {
        "id": "view-in-github",
        "colab_type": "text"
      },
      "source": [
        "<a href=\"https://colab.research.google.com/github/michalis0/Business-Intelligence-and-Analytics/blob/master/7%20-%20Regression/Exercise/Exercise_Regression.ipynb\" target=\"_parent\"><img src=\"https://colab.research.google.com/assets/colab-badge.svg\" alt=\"Open In Colab\"/></a>"
      ]
    },
    {
      "cell_type": "markdown",
      "metadata": {
        "id": "icCrOh56Uji9"
      },
      "source": [
        "# Exercise: Supervised Learning, Linear Regression\n",
        "\n",
        "This exercise is an application of what you learned in the walkthrough. The following cell gather the different modules you need for this exercise (take a look at the sklearn library).\n",
        "\n",
        "Some exercises consist of filling a part of the code without writing the whole code. Replace the `\"YOUR CODE HERE\"` by your own code."
      ]
    },
    {
      "cell_type": "code",
      "metadata": {
        "id": "ZhVTlweGUji-"
      },
      "source": [
        "# Useful starting lines\n",
        "%matplotlib inline\n",
        "%load_ext autoreload\n",
        "%autoreload 2\n",
        "\n",
        "import numpy as np\n",
        "import matplotlib.pyplot as plt\n",
        "#from matplotlib import collections  as mc\n",
        "import pandas as pd \n",
        "import seaborn as sns\n",
        "sns.set_style(\"darkgrid\")\n",
        "\n",
        "import warnings\n",
        "warnings.filterwarnings('ignore')\n",
        "\n",
        "# Sklearn import\n",
        "from sklearn.preprocessing import MinMaxScaler # Normalization\n",
        "from sklearn.linear_model import LinearRegression # Regression linear model\n",
        "from sklearn.model_selection import train_test_split # Splitting the data set\n",
        "from sklearn.metrics import r2_score, mean_squared_error, mean_absolute_error # Metrics for errors\n",
        "from sklearn.model_selection import KFold # Cross validation\n",
        "\n"
      ],
      "execution_count": null,
      "outputs": []
    },
    {
      "cell_type": "markdown",
      "metadata": {
        "id": "-1tSmSs_UjjH"
      },
      "source": [
        "## 1. Load the data\n",
        "We are going to use an advertisement data. The task is to figure out how different means of advertisement influence the amount of sales of a product.\n",
        "     \n",
        "Load the pandas dataset from the given URL. Then display the first 5 rows. How many observations  and columns we have? Hint: use the `shape` attribute."
      ]
    },
    {
      "cell_type": "code",
      "metadata": {
        "id": "zyq6KkQvUjjL",
        "scrolled": true
      },
      "source": [
        "url = 'https://media.githubusercontent.com/media/michalis0/Business-Intelligence-and-Analytics/master/data/Advertising.csv'\n",
        "# Load the data\n",
        "ad_df = 'YOUR CODE HERE'\n",
        "display('YOUR CODE HERE')\n",
        "\n",
        "# Observations and columns (dimensions)\n",
        "print(\"Number of observations\", 'YOUR CODE HERE')\n",
        "print(\"Number of dimensions\", 'YOUR CODE HERE')\n"
      ],
      "execution_count": null,
      "outputs": []
    },
    {
      "cell_type": "markdown",
      "metadata": {
        "id": "PFqlnctxUjjQ"
      },
      "source": [
        "In what follows we will try a simple linear regression using only one feature (univariate regression), that is, we want to predict the `sales` using only the `TV` advertisments.\n",
        "\n",
        "To get a first sense of the relationship between the different variables, display the correlation table."
      ]
    },
    {
      "cell_type": "code",
      "metadata": {
        "id": "ZjUD2jHmf_xT"
      },
      "source": [
        "# Display the correlation table of ['Sales', 'TV', 'Radio', 'Newspaper']\n",
        "'YOUR CODE HERE'"
      ],
      "execution_count": null,
      "outputs": []
    },
    {
      "cell_type": "markdown",
      "metadata": {
        "id": "fvAy5m2vUjj-"
      },
      "source": [
        "## 2. Using Sklearn\n",
        "When using sklearn we don't need to add a column of ones to the data in order to have the constant parameter. Sklearn takes care of it, you should just pass the `fit_intercept` argument to be True (which is also the default value for this argument).\n",
        "\n",
        "1. From the advertising dataset, save the feature ``TV`` and the target `sales` in two different variables X and y respectively, in a dataframe pandas format and not as a series (`X[['sth']]` instead of `X['sth']`).\n",
        "2. Split the data into a train and a test set. The test set size should be 20% of the original data. Additionally, set the `random_state` to 0 and `shuffle` to `True`.\n",
        "3. Create a new Linear model from the `LinearRegression` module of sklearn. Make sure it includes an intercept. Fit the model with the corresponding data.  \n",
        "4. Print the values of the slope and the constant.  \n",
        "5. Predict the sales using the 12th TV value of X (hint: `iloc[[12]]`) with your model (i.e `.predict()`) and compare with the true value from y.\n",
        "6. Compute the r2, MAE, and MSE.\n",
        "7. Plot the regression."
      ]
    },
    {
      "cell_type": "code",
      "metadata": {
        "id": "fCfLe7lmUjj-"
      },
      "source": [
        "# 1) Use the original dataframe\n",
        "X = 'YOUR CODE HERE'\n",
        "y = 'YOUR CODE HERE'"
      ],
      "execution_count": null,
      "outputs": []
    },
    {
      "cell_type": "code",
      "metadata": {
        "id": "Jls-WhqNgrjg"
      },
      "source": [
        "# 2) Do the train test split\n",
        "X_train, X_test, y_train, y_test = 'YOUR CODE HERE'"
      ],
      "execution_count": null,
      "outputs": []
    },
    {
      "cell_type": "markdown",
      "metadata": {
        "id": "tjnW4gwRhdb4"
      },
      "source": [
        "We don't normalize the data here, but this is how it would be done:\n",
        "```\n",
        "scaler = MinMaxScaler()\n",
        "scaler.fit(X_train)\n",
        "X_train = pd.DataFrame(scaler.transform(X_train))\n",
        "X_test = pd.DataFrame(scaler.transform(X_test))\n",
        "```"
      ]
    },
    {
      "cell_type": "code",
      "metadata": {
        "id": "RfDnuxKxUjkB"
      },
      "source": [
        "# 3) Create the linear model\n",
        "LR = 'YOUR CODE HERE'\n",
        "\n",
        "# Fit the model using X and y\n",
        "'YOUR CODE HERE'"
      ],
      "execution_count": null,
      "outputs": []
    },
    {
      "cell_type": "code",
      "metadata": {
        "id": "gEUDRnowUjkF"
      },
      "source": [
        "# 4) Model output\n",
        "print(\"Slope: %.4f\" % 'YOUR CODE HERE')\n",
        "print(\"Constant (intercept): %.4f\" % 'YOUR CODE HERE')"
      ],
      "execution_count": null,
      "outputs": []
    },
    {
      "cell_type": "code",
      "metadata": {
        "id": "aa4vJkPTUjkI"
      },
      "source": [
        "# 5) Predict the Sales \n",
        "print(\"y_pred: %.4f\" % 'YOUR CODE HERE',  \"y_true: \", 'YOUR CODE HERE')"
      ],
      "execution_count": null,
      "outputs": []
    },
    {
      "cell_type": "code",
      "metadata": {
        "id": "pqWdMQFKorqw"
      },
      "source": [
        "# 6) First you have to make the predictions for the test set\n",
        "prediction = 'YOUR CODE HERE'\n",
        "\n",
        "# r2, MAE, and MSE \n",
        "print('R^2: %.2f' % 'YOUR CODE HERE')\n",
        "print('Mean absolute error: %.2f' % 'YOUR CODE HERE')\n",
        "print('Mean squared error: %.2f' % 'YOUR CODE HERE')"
      ],
      "execution_count": null,
      "outputs": []
    },
    {
      "cell_type": "code",
      "metadata": {
        "id": "yOkGh2GeQXQH"
      },
      "source": [
        "# 7) Plot of the regression\n",
        "plt.scatter('YOUR CODE HERE')\n",
        "plt.plot('YOUR CODE HERE')\n",
        "plt.title('Sales Predicted by TV Ads')\n",
        "plt.xlabel('TV')\n",
        "plt.ylabel('Sales')\n",
        "plt.show()"
      ],
      "execution_count": null,
      "outputs": []
    },
    {
      "cell_type": "markdown",
      "metadata": {
        "id": "jjHIZ5FlVWb7"
      },
      "source": [
        "When you use this single-variate model, you can simply switch the features (TV, Radio, Newspaper) to see which predicts the target variable (Sales) the best. Which feature predicts the sales best?\n",
        "\n",
        "**Hint:** Simply change the target variable and re-run the cells above. Then compare the evaluation metrics (r2, MAE and MSE)."
      ]
    },
    {
      "cell_type": "markdown",
      "metadata": {
        "id": "QzGkUwaNUjkL"
      },
      "source": [
        "## 3. Using more features for prediction\n",
        "Let's try to use more features to predict the sales. For example we can observe the effect of TV and Radio advertisment in the same time.\n",
        "\n",
        "1. From the advertising dataset, save the features ``TV`` and `Radio` in to X  and the target `sales` into y, in a dataframe pandas format (`X[['sth']]` instead of `X['sth']`).\n",
        "2. Split the data into a train and a test set. The test set size should be 20% of the original data. Additionally, set the `random_state` to 0 and `shuffle` to `True`.\n",
        "3. Create a new Linear model from the `LinearRegression` module of sklearn. Fit the model with the corresponding data.\n",
        "4. Print the parameters of the slope and the constant (intercept).\n",
        "5. Predict the sales using the 12th TV value of X (hint: iloc[[12]]) with your model (i.e .predict()) and compare with the true value from y.  \n",
        "6. Compute the r2 (`r2_score`), MAE (`mean_absolute_error`), and MSE (`mean_squared_error`).\n",
        "\n"
      ]
    },
    {
      "cell_type": "code",
      "metadata": {
        "id": "hdwQWaVGUjkL"
      },
      "source": [
        "# 1) Use the original dataframe\n",
        "X = 'YOUR CODE HERE'\n",
        "y = 'YOUR CODE HERE'"
      ],
      "execution_count": null,
      "outputs": []
    },
    {
      "cell_type": "code",
      "metadata": {
        "id": "_F2uRgQlq0na"
      },
      "source": [
        "# 2) Do the train test split\n",
        "X_train, X_test, y_train, y_test = 'YOUR CODE HERE'"
      ],
      "execution_count": null,
      "outputs": []
    },
    {
      "cell_type": "markdown",
      "metadata": {
        "id": "MHo8wFSxq54q"
      },
      "source": [
        "We don't normalize the data here, but this is how it would be done:\n",
        "```\n",
        "scaler = MinMaxScaler()\n",
        "scaler.fit(X_train)\n",
        "X_train = pd.DataFrame(scaler.transform(X_train))\n",
        "X_test = pd.DataFrame(scaler.transform(X_test))\n",
        "```"
      ]
    },
    {
      "cell_type": "code",
      "metadata": {
        "id": "a1ZYaDiGUjkO"
      },
      "source": [
        "# 3) Create the linear model\n",
        "LR = 'YOUR CODE HERE'\n",
        "\n",
        "# Fit the model using X and y\n",
        "'YOUR CODE HERE'"
      ],
      "execution_count": null,
      "outputs": []
    },
    {
      "cell_type": "code",
      "metadata": {
        "id": "1PHZ5oDyrIOg"
      },
      "source": [
        "# 4) Parameters and Intercept\n",
        "print(\"Parameters: \", 'YOUR CODE HERE')\n",
        "print(\"Intercept: \", 'YOUR CODE HERE')"
      ],
      "execution_count": null,
      "outputs": []
    },
    {
      "cell_type": "code",
      "metadata": {
        "id": "iUbB5RsCUjkR"
      },
      "source": [
        "# 5) Predict the sales\n",
        "print(\"y_pred: %.4f\" % 'YOUR CODE HERE',  \"y_true: \", 'YOUR CODE HERE')"
      ],
      "execution_count": null,
      "outputs": []
    },
    {
      "cell_type": "code",
      "metadata": {
        "id": "A2UnyUYCreKG"
      },
      "source": [
        "# 6) First you have to make the predictions for the test set\n",
        "prediction = 'YOUR CODE HERE'\n",
        "\n",
        "# r2, MAE, and MSE \n",
        "print('R^2: %.2f' % 'YOUR CODE HERE')\n",
        "print('Mean absolute error: %.2f' % 'YOUR CODE HERE')\n",
        "print('Mean squared error: %.2f' % 'YOUR CODE HERE')"
      ],
      "execution_count": null,
      "outputs": []
    },
    {
      "cell_type": "markdown",
      "metadata": {
        "id": "WSE94WtXVpsz"
      },
      "source": [
        "Did the model metrics (r2, MAE, MSE) improve significantly when `Radio` was added to the features to predict `Sales`? Did the model become \"better\"?"
      ]
    },
    {
      "cell_type": "code",
      "metadata": {
        "id": "n9kFVJJ6V98U"
      },
      "source": [
        "# Compute by how much each of the metrics changed in comparaison to the single-variate model\n",
        "'YOUR CODE HERE'"
      ],
      "execution_count": null,
      "outputs": []
    },
    {
      "cell_type": "markdown",
      "metadata": {
        "id": "29Zb1Xz5uHaa"
      },
      "source": [
        "## 4. Using all features\n",
        "Redo steps 1-6 with `TV`, `Radio`, and `Newspaper` as features predicting `Sales`."
      ]
    },
    {
      "cell_type": "code",
      "metadata": {
        "id": "-U-CLP3_updq"
      },
      "source": [
        "# Find the features and the target\n",
        "'YOUR CODE HERE'\n",
        "# Split the data\n",
        "'YOUR CODE HERE'\n",
        "# The scaling would take place here\n",
        "# Create and fit the linear regression model\n",
        "'YOUR CODE HERE'\n",
        "# Display the various parameters\n",
        "'YOUR CODE HERE'\n",
        "# Make a prediction for the 12th obsercation\n",
        "'YOUR CODE HERE'\n",
        "# Compute the model metrics \n",
        "'YOUR CODE HERE'"
      ],
      "execution_count": null,
      "outputs": []
    }
  ]
}
