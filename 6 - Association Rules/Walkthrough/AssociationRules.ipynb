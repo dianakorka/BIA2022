{
  "nbformat": 4,
  "nbformat_minor": 0,
  "metadata": {
    "author": "Thai Pangsakulyanont",
    "kernelspec": {
      "display_name": "Python 3",
      "language": "python",
      "name": "python3"
    },
    "language_info": {
      "codemirror_mode": {
        "name": "ipython",
        "version": 3
      },
      "file_extension": ".py",
      "mimetype": "text/x-python",
      "name": "python",
      "nbconvert_exporter": "python",
      "pygments_lexer": "ipython3",
      "version": "3.6.7"
    },
    "nteract": {
      "version": "0.22.4"
    },
    "colab": {
      "name": "AssociationRules.ipynb",
      "provenance": [],
      "include_colab_link": true
    }
  },
  "cells": [
    {
      "cell_type": "markdown",
      "metadata": {
        "id": "view-in-github",
        "colab_type": "text"
      },
      "source": [
        "<a href=\"https://colab.research.google.com/github/michalis0/Business-Intelligence-and-Analytics/blob/master/6%20-%20Association%20Rules/Walkthrough/AssociationRules.ipynb\" target=\"_parent\"><img src=\"https://colab.research.google.com/assets/colab-badge.svg\" alt=\"Open In Colab\"/></a>"
      ]
    },
    {
      "cell_type": "markdown",
      "metadata": {
        "id": "Cg_TyptX13wN"
      },
      "source": [
        "# Mining Association Rules\n",
        "In this week's lab, we are going to mine association rules using the Python library `mlxtend`. You can install the library using pip"
      ]
    },
    {
      "cell_type": "code",
      "metadata": {
        "id": "dgD9mwNu13wP"
      },
      "source": [
        "!pip install mlxtend  "
      ],
      "execution_count": null,
      "outputs": []
    },
    {
      "cell_type": "markdown",
      "metadata": {
        "id": "J_AQrWRv13wZ"
      },
      "source": [
        "## Hands-On\n",
        "Before starting to code let's practice with a toy example.\n",
        "Calculate support and confidence for the following association rules given the shopping receipts database below.\n",
        "<br><img src=\"https://github.com/michalis0/Business-Intelligence-and-Analytics/blob/master/6%20-%20Association%20Rules/img/association_rules.png?raw=1\" width=\"500\" style=\"float: left\"><br>\n"
      ]
    },
    {
      "cell_type": "markdown",
      "metadata": {
        "id": "Cm8Vp8V213wc"
      },
      "source": [
        "Answer:\n",
        "```\n",
        "{Water} => {Juice}\n",
        "    Support = \n",
        "    Confidence = \n",
        "    \n",
        "{Juice} => {Water}\n",
        "    Support = \n",
        "    Confidence = \n",
        "    \n",
        "{Milk} => {Bread}\n",
        "    Support = \n",
        "    Confidence = \n",
        "    \n",
        "{Juice, Beer} => {Water}\n",
        "    Support = \n",
        "    Confidence = \n",
        "```"
      ]
    },
    {
      "cell_type": "markdown",
      "metadata": {
        "id": "LxPhhXOv13we"
      },
      "source": [
        "Suppose that we have a support threshold of 40% and confidence threshold of 75%. Which rules are most interesting? Why?<br>"
      ]
    },
    {
      "cell_type": "markdown",
      "metadata": {
        "id": "PvDhXW7113wf"
      },
      "source": [
        "Do you think using only the support and confidence measures is enough to identify a rule as intersing?"
      ]
    },
    {
      "cell_type": "markdown",
      "metadata": {
        "id": "jOBhEI_T13wg"
      },
      "source": [
        "## Apriori algorithm\n",
        "\n",
        "We will use the apriori algorithm to mine the frequent itemsets. The `mlxtend` library has an implementation of this algorithm."
      ]
    },
    {
      "cell_type": "code",
      "metadata": {
        "id": "BCVAa4c713wh"
      },
      "source": [
        "%matplotlib inline\n",
        "import numpy as np\n",
        "import matplotlib.pyplot as plt\n",
        "import pandas as pd\n",
        "from mlxtend.preprocessing import TransactionEncoder\n",
        "from mlxtend.frequent_patterns import apriori, association_rules"
      ],
      "execution_count": null,
      "outputs": []
    },
    {
      "cell_type": "markdown",
      "metadata": {
        "id": "godcn8Ye13wn"
      },
      "source": [
        "## Load data\n",
        "The dataset we are going to use is a synthetic dataset. It contains the purchases of customers. You can find the source of the dataset [here](https://gist.github.com/Harsh-Git-Hub/2979ec48043928ad9033d8469928e751)"
      ]
    },
    {
      "cell_type": "code",
      "metadata": {
        "id": "jXeJ9YD913wo",
        "outputId": "2e5e7081-9b96-4dd4-cd7f-eb0c6e83b1eb",
        "colab": {
          "base_uri": "https://localhost:8080/",
          "height": 206
        }
      },
      "source": [
        "df = pd.read_csv('https://media.githubusercontent.com/media/michalis0/Business-Intelligence-and-Analytics/master/6%20-%20Association%20Rules/data/retail.csv', sep=',')\n",
        "df.head()"
      ],
      "execution_count": null,
      "outputs": [
        {
          "output_type": "execute_result",
          "data": {
            "text/plain": [
              "        0       1     2       3       4       5       6\n",
              "0   Bread    Wine  Eggs    Meat  Cheese  Pencil  Diaper\n",
              "1   Bread  Cheese  Meat  Diaper    Wine    Milk  Pencil\n",
              "2  Cheese    Meat  Eggs    Milk    Wine     NaN     NaN\n",
              "3  Cheese    Meat  Eggs    Milk    Wine     NaN     NaN\n",
              "4    Meat  Pencil  Wine     NaN     NaN     NaN     NaN"
            ],
            "text/html": [
              "\n",
              "  <div id=\"df-edc5108e-f9fc-4172-8a7f-95238d2f23cb\">\n",
              "    <div class=\"colab-df-container\">\n",
              "      <div>\n",
              "<style scoped>\n",
              "    .dataframe tbody tr th:only-of-type {\n",
              "        vertical-align: middle;\n",
              "    }\n",
              "\n",
              "    .dataframe tbody tr th {\n",
              "        vertical-align: top;\n",
              "    }\n",
              "\n",
              "    .dataframe thead th {\n",
              "        text-align: right;\n",
              "    }\n",
              "</style>\n",
              "<table border=\"1\" class=\"dataframe\">\n",
              "  <thead>\n",
              "    <tr style=\"text-align: right;\">\n",
              "      <th></th>\n",
              "      <th>0</th>\n",
              "      <th>1</th>\n",
              "      <th>2</th>\n",
              "      <th>3</th>\n",
              "      <th>4</th>\n",
              "      <th>5</th>\n",
              "      <th>6</th>\n",
              "    </tr>\n",
              "  </thead>\n",
              "  <tbody>\n",
              "    <tr>\n",
              "      <th>0</th>\n",
              "      <td>Bread</td>\n",
              "      <td>Wine</td>\n",
              "      <td>Eggs</td>\n",
              "      <td>Meat</td>\n",
              "      <td>Cheese</td>\n",
              "      <td>Pencil</td>\n",
              "      <td>Diaper</td>\n",
              "    </tr>\n",
              "    <tr>\n",
              "      <th>1</th>\n",
              "      <td>Bread</td>\n",
              "      <td>Cheese</td>\n",
              "      <td>Meat</td>\n",
              "      <td>Diaper</td>\n",
              "      <td>Wine</td>\n",
              "      <td>Milk</td>\n",
              "      <td>Pencil</td>\n",
              "    </tr>\n",
              "    <tr>\n",
              "      <th>2</th>\n",
              "      <td>Cheese</td>\n",
              "      <td>Meat</td>\n",
              "      <td>Eggs</td>\n",
              "      <td>Milk</td>\n",
              "      <td>Wine</td>\n",
              "      <td>NaN</td>\n",
              "      <td>NaN</td>\n",
              "    </tr>\n",
              "    <tr>\n",
              "      <th>3</th>\n",
              "      <td>Cheese</td>\n",
              "      <td>Meat</td>\n",
              "      <td>Eggs</td>\n",
              "      <td>Milk</td>\n",
              "      <td>Wine</td>\n",
              "      <td>NaN</td>\n",
              "      <td>NaN</td>\n",
              "    </tr>\n",
              "    <tr>\n",
              "      <th>4</th>\n",
              "      <td>Meat</td>\n",
              "      <td>Pencil</td>\n",
              "      <td>Wine</td>\n",
              "      <td>NaN</td>\n",
              "      <td>NaN</td>\n",
              "      <td>NaN</td>\n",
              "      <td>NaN</td>\n",
              "    </tr>\n",
              "  </tbody>\n",
              "</table>\n",
              "</div>\n",
              "      <button class=\"colab-df-convert\" onclick=\"convertToInteractive('df-edc5108e-f9fc-4172-8a7f-95238d2f23cb')\"\n",
              "              title=\"Convert this dataframe to an interactive table.\"\n",
              "              style=\"display:none;\">\n",
              "        \n",
              "  <svg xmlns=\"http://www.w3.org/2000/svg\" height=\"24px\"viewBox=\"0 0 24 24\"\n",
              "       width=\"24px\">\n",
              "    <path d=\"M0 0h24v24H0V0z\" fill=\"none\"/>\n",
              "    <path d=\"M18.56 5.44l.94 2.06.94-2.06 2.06-.94-2.06-.94-.94-2.06-.94 2.06-2.06.94zm-11 1L8.5 8.5l.94-2.06 2.06-.94-2.06-.94L8.5 2.5l-.94 2.06-2.06.94zm10 10l.94 2.06.94-2.06 2.06-.94-2.06-.94-.94-2.06-.94 2.06-2.06.94z\"/><path d=\"M17.41 7.96l-1.37-1.37c-.4-.4-.92-.59-1.43-.59-.52 0-1.04.2-1.43.59L10.3 9.45l-7.72 7.72c-.78.78-.78 2.05 0 2.83L4 21.41c.39.39.9.59 1.41.59.51 0 1.02-.2 1.41-.59l7.78-7.78 2.81-2.81c.8-.78.8-2.07 0-2.86zM5.41 20L4 18.59l7.72-7.72 1.47 1.35L5.41 20z\"/>\n",
              "  </svg>\n",
              "      </button>\n",
              "      \n",
              "  <style>\n",
              "    .colab-df-container {\n",
              "      display:flex;\n",
              "      flex-wrap:wrap;\n",
              "      gap: 12px;\n",
              "    }\n",
              "\n",
              "    .colab-df-convert {\n",
              "      background-color: #E8F0FE;\n",
              "      border: none;\n",
              "      border-radius: 50%;\n",
              "      cursor: pointer;\n",
              "      display: none;\n",
              "      fill: #1967D2;\n",
              "      height: 32px;\n",
              "      padding: 0 0 0 0;\n",
              "      width: 32px;\n",
              "    }\n",
              "\n",
              "    .colab-df-convert:hover {\n",
              "      background-color: #E2EBFA;\n",
              "      box-shadow: 0px 1px 2px rgba(60, 64, 67, 0.3), 0px 1px 3px 1px rgba(60, 64, 67, 0.15);\n",
              "      fill: #174EA6;\n",
              "    }\n",
              "\n",
              "    [theme=dark] .colab-df-convert {\n",
              "      background-color: #3B4455;\n",
              "      fill: #D2E3FC;\n",
              "    }\n",
              "\n",
              "    [theme=dark] .colab-df-convert:hover {\n",
              "      background-color: #434B5C;\n",
              "      box-shadow: 0px 1px 3px 1px rgba(0, 0, 0, 0.15);\n",
              "      filter: drop-shadow(0px 1px 2px rgba(0, 0, 0, 0.3));\n",
              "      fill: #FFFFFF;\n",
              "    }\n",
              "  </style>\n",
              "\n",
              "      <script>\n",
              "        const buttonEl =\n",
              "          document.querySelector('#df-edc5108e-f9fc-4172-8a7f-95238d2f23cb button.colab-df-convert');\n",
              "        buttonEl.style.display =\n",
              "          google.colab.kernel.accessAllowed ? 'block' : 'none';\n",
              "\n",
              "        async function convertToInteractive(key) {\n",
              "          const element = document.querySelector('#df-edc5108e-f9fc-4172-8a7f-95238d2f23cb');\n",
              "          const dataTable =\n",
              "            await google.colab.kernel.invokeFunction('convertToInteractive',\n",
              "                                                     [key], {});\n",
              "          if (!dataTable) return;\n",
              "\n",
              "          const docLinkHtml = 'Like what you see? Visit the ' +\n",
              "            '<a target=\"_blank\" href=https://colab.research.google.com/notebooks/data_table.ipynb>data table notebook</a>'\n",
              "            + ' to learn more about interactive tables.';\n",
              "          element.innerHTML = '';\n",
              "          dataTable['output_type'] = 'display_data';\n",
              "          await google.colab.output.renderOutput(dataTable, element);\n",
              "          const docLink = document.createElement('div');\n",
              "          docLink.innerHTML = docLinkHtml;\n",
              "          element.appendChild(docLink);\n",
              "        }\n",
              "      </script>\n",
              "    </div>\n",
              "  </div>\n",
              "  "
            ]
          },
          "metadata": {},
          "execution_count": 4
        }
      ]
    },
    {
      "cell_type": "code",
      "source": [
        "df.shape"
      ],
      "metadata": {
        "id": "QFxZsGIREij2",
        "outputId": "21305b99-952c-42fa-e2e4-f794f47264ec",
        "colab": {
          "base_uri": "https://localhost:8080/"
        }
      },
      "execution_count": null,
      "outputs": [
        {
          "output_type": "execute_result",
          "data": {
            "text/plain": [
              "(315, 7)"
            ]
          },
          "metadata": {},
          "execution_count": 8
        }
      ]
    },
    {
      "cell_type": "markdown",
      "metadata": {
        "id": "faU3cGvf13w0"
      },
      "source": [
        "Each row of the dataset represents items that were purchased together on the same day at the same store.The dataset is a sparse dataset as relatively high percentage of data is NA or NaN or equivalent.\n",
        "These NaNs make it hard to read the table. Let’s find out how many unique items are actually there in the table."
      ]
    },
    {
      "cell_type": "code",
      "metadata": {
        "id": "5xfKe60813w1",
        "outputId": "85c0ba75-69e6-48a1-a785-a62924385e76"
      },
      "source": [
        "items = (df['0'].unique())\n",
        "items"
      ],
      "execution_count": null,
      "outputs": [
        {
          "output_type": "execute_result",
          "data": {
            "text/plain": [
              "array(['Bread', 'Cheese', 'Meat', 'Eggs', 'Wine', 'Bagel', 'Pencil',\n",
              "       'Diaper', 'Milk'], dtype=object)"
            ]
          },
          "metadata": {
            "tags": []
          },
          "execution_count": 18
        }
      ]
    },
    {
      "cell_type": "markdown",
      "metadata": {
        "id": "-Q698poU13w6"
      },
      "source": [
        "## Data Preprocessing\n",
        "To make use of the apriori module given by `mlxtend` library, we need to convert the dataset according to it’s liking. apriori module requires a dataframe that has either 0 and 1 or True and False as data. The data we have is all string (name of items), we need to One Hot Encode the data."
      ]
    },
    {
      "cell_type": "code",
      "metadata": {
        "id": "18xj2hP913w7"
      },
      "source": [
        "dataset = []\n",
        "for ind, row in df.iterrows():\n",
        "    transaction = []\n",
        "    for item in row: \n",
        "        # check if item is NaN\n",
        "        if item == item:\n",
        "            transaction.append(item)\n",
        "    dataset.append(transaction)"
      ],
      "execution_count": null,
      "outputs": []
    },
    {
      "cell_type": "code",
      "source": [
        "type(dataset)"
      ],
      "metadata": {
        "id": "ghaWb7NuEZlq",
        "outputId": "351f8a57-7b05-42d7-e0e5-3242d64c9854",
        "colab": {
          "base_uri": "https://localhost:8080/"
        }
      },
      "execution_count": null,
      "outputs": [
        {
          "output_type": "execute_result",
          "data": {
            "text/plain": [
              "list"
            ]
          },
          "metadata": {},
          "execution_count": 6
        }
      ]
    },
    {
      "cell_type": "code",
      "source": [
        "len(dataset)"
      ],
      "metadata": {
        "id": "SimYUCG1Edds",
        "outputId": "353ed214-146c-4aa2-8617-57fa2e3e6551",
        "colab": {
          "base_uri": "https://localhost:8080/"
        }
      },
      "execution_count": null,
      "outputs": [
        {
          "output_type": "execute_result",
          "data": {
            "text/plain": [
              "315"
            ]
          },
          "metadata": {},
          "execution_count": 7
        }
      ]
    },
    {
      "cell_type": "markdown",
      "metadata": {
        "id": "vc62cKLx13w_"
      },
      "source": [
        "Next using the `TransactionEncoder` we can transform the transactions to True or False."
      ]
    },
    {
      "cell_type": "code",
      "metadata": {
        "id": "bAy_WipF13w_",
        "outputId": "8fc9cd94-8876-4538-da6d-05c135594f18",
        "colab": {
          "base_uri": "https://localhost:8080/",
          "height": 206
        }
      },
      "source": [
        "te = TransactionEncoder()\n",
        "te_ary = te.fit(dataset).transform(dataset)\n",
        "df = pd.DataFrame(te_ary, columns=te.columns_)\n",
        "df.head()"
      ],
      "execution_count": null,
      "outputs": [
        {
          "output_type": "execute_result",
          "data": {
            "text/plain": [
              "   Bagel  Bread  Cheese  Diaper   Eggs  Meat   Milk  Pencil  Wine\n",
              "0  False   True    True    True   True  True  False    True  True\n",
              "1  False   True    True    True  False  True   True    True  True\n",
              "2  False  False    True   False   True  True   True   False  True\n",
              "3  False  False    True   False   True  True   True   False  True\n",
              "4  False  False   False   False  False  True  False    True  True"
            ],
            "text/html": [
              "\n",
              "  <div id=\"df-2a73350e-92d9-4ce8-b736-701a1f50f3c1\">\n",
              "    <div class=\"colab-df-container\">\n",
              "      <div>\n",
              "<style scoped>\n",
              "    .dataframe tbody tr th:only-of-type {\n",
              "        vertical-align: middle;\n",
              "    }\n",
              "\n",
              "    .dataframe tbody tr th {\n",
              "        vertical-align: top;\n",
              "    }\n",
              "\n",
              "    .dataframe thead th {\n",
              "        text-align: right;\n",
              "    }\n",
              "</style>\n",
              "<table border=\"1\" class=\"dataframe\">\n",
              "  <thead>\n",
              "    <tr style=\"text-align: right;\">\n",
              "      <th></th>\n",
              "      <th>Bagel</th>\n",
              "      <th>Bread</th>\n",
              "      <th>Cheese</th>\n",
              "      <th>Diaper</th>\n",
              "      <th>Eggs</th>\n",
              "      <th>Meat</th>\n",
              "      <th>Milk</th>\n",
              "      <th>Pencil</th>\n",
              "      <th>Wine</th>\n",
              "    </tr>\n",
              "  </thead>\n",
              "  <tbody>\n",
              "    <tr>\n",
              "      <th>0</th>\n",
              "      <td>False</td>\n",
              "      <td>True</td>\n",
              "      <td>True</td>\n",
              "      <td>True</td>\n",
              "      <td>True</td>\n",
              "      <td>True</td>\n",
              "      <td>False</td>\n",
              "      <td>True</td>\n",
              "      <td>True</td>\n",
              "    </tr>\n",
              "    <tr>\n",
              "      <th>1</th>\n",
              "      <td>False</td>\n",
              "      <td>True</td>\n",
              "      <td>True</td>\n",
              "      <td>True</td>\n",
              "      <td>False</td>\n",
              "      <td>True</td>\n",
              "      <td>True</td>\n",
              "      <td>True</td>\n",
              "      <td>True</td>\n",
              "    </tr>\n",
              "    <tr>\n",
              "      <th>2</th>\n",
              "      <td>False</td>\n",
              "      <td>False</td>\n",
              "      <td>True</td>\n",
              "      <td>False</td>\n",
              "      <td>True</td>\n",
              "      <td>True</td>\n",
              "      <td>True</td>\n",
              "      <td>False</td>\n",
              "      <td>True</td>\n",
              "    </tr>\n",
              "    <tr>\n",
              "      <th>3</th>\n",
              "      <td>False</td>\n",
              "      <td>False</td>\n",
              "      <td>True</td>\n",
              "      <td>False</td>\n",
              "      <td>True</td>\n",
              "      <td>True</td>\n",
              "      <td>True</td>\n",
              "      <td>False</td>\n",
              "      <td>True</td>\n",
              "    </tr>\n",
              "    <tr>\n",
              "      <th>4</th>\n",
              "      <td>False</td>\n",
              "      <td>False</td>\n",
              "      <td>False</td>\n",
              "      <td>False</td>\n",
              "      <td>False</td>\n",
              "      <td>True</td>\n",
              "      <td>False</td>\n",
              "      <td>True</td>\n",
              "      <td>True</td>\n",
              "    </tr>\n",
              "  </tbody>\n",
              "</table>\n",
              "</div>\n",
              "      <button class=\"colab-df-convert\" onclick=\"convertToInteractive('df-2a73350e-92d9-4ce8-b736-701a1f50f3c1')\"\n",
              "              title=\"Convert this dataframe to an interactive table.\"\n",
              "              style=\"display:none;\">\n",
              "        \n",
              "  <svg xmlns=\"http://www.w3.org/2000/svg\" height=\"24px\"viewBox=\"0 0 24 24\"\n",
              "       width=\"24px\">\n",
              "    <path d=\"M0 0h24v24H0V0z\" fill=\"none\"/>\n",
              "    <path d=\"M18.56 5.44l.94 2.06.94-2.06 2.06-.94-2.06-.94-.94-2.06-.94 2.06-2.06.94zm-11 1L8.5 8.5l.94-2.06 2.06-.94-2.06-.94L8.5 2.5l-.94 2.06-2.06.94zm10 10l.94 2.06.94-2.06 2.06-.94-2.06-.94-.94-2.06-.94 2.06-2.06.94z\"/><path d=\"M17.41 7.96l-1.37-1.37c-.4-.4-.92-.59-1.43-.59-.52 0-1.04.2-1.43.59L10.3 9.45l-7.72 7.72c-.78.78-.78 2.05 0 2.83L4 21.41c.39.39.9.59 1.41.59.51 0 1.02-.2 1.41-.59l7.78-7.78 2.81-2.81c.8-.78.8-2.07 0-2.86zM5.41 20L4 18.59l7.72-7.72 1.47 1.35L5.41 20z\"/>\n",
              "  </svg>\n",
              "      </button>\n",
              "      \n",
              "  <style>\n",
              "    .colab-df-container {\n",
              "      display:flex;\n",
              "      flex-wrap:wrap;\n",
              "      gap: 12px;\n",
              "    }\n",
              "\n",
              "    .colab-df-convert {\n",
              "      background-color: #E8F0FE;\n",
              "      border: none;\n",
              "      border-radius: 50%;\n",
              "      cursor: pointer;\n",
              "      display: none;\n",
              "      fill: #1967D2;\n",
              "      height: 32px;\n",
              "      padding: 0 0 0 0;\n",
              "      width: 32px;\n",
              "    }\n",
              "\n",
              "    .colab-df-convert:hover {\n",
              "      background-color: #E2EBFA;\n",
              "      box-shadow: 0px 1px 2px rgba(60, 64, 67, 0.3), 0px 1px 3px 1px rgba(60, 64, 67, 0.15);\n",
              "      fill: #174EA6;\n",
              "    }\n",
              "\n",
              "    [theme=dark] .colab-df-convert {\n",
              "      background-color: #3B4455;\n",
              "      fill: #D2E3FC;\n",
              "    }\n",
              "\n",
              "    [theme=dark] .colab-df-convert:hover {\n",
              "      background-color: #434B5C;\n",
              "      box-shadow: 0px 1px 3px 1px rgba(0, 0, 0, 0.15);\n",
              "      filter: drop-shadow(0px 1px 2px rgba(0, 0, 0, 0.3));\n",
              "      fill: #FFFFFF;\n",
              "    }\n",
              "  </style>\n",
              "\n",
              "      <script>\n",
              "        const buttonEl =\n",
              "          document.querySelector('#df-2a73350e-92d9-4ce8-b736-701a1f50f3c1 button.colab-df-convert');\n",
              "        buttonEl.style.display =\n",
              "          google.colab.kernel.accessAllowed ? 'block' : 'none';\n",
              "\n",
              "        async function convertToInteractive(key) {\n",
              "          const element = document.querySelector('#df-2a73350e-92d9-4ce8-b736-701a1f50f3c1');\n",
              "          const dataTable =\n",
              "            await google.colab.kernel.invokeFunction('convertToInteractive',\n",
              "                                                     [key], {});\n",
              "          if (!dataTable) return;\n",
              "\n",
              "          const docLinkHtml = 'Like what you see? Visit the ' +\n",
              "            '<a target=\"_blank\" href=https://colab.research.google.com/notebooks/data_table.ipynb>data table notebook</a>'\n",
              "            + ' to learn more about interactive tables.';\n",
              "          element.innerHTML = '';\n",
              "          dataTable['output_type'] = 'display_data';\n",
              "          await google.colab.output.renderOutput(dataTable, element);\n",
              "          const docLink = document.createElement('div');\n",
              "          docLink.innerHTML = docLinkHtml;\n",
              "          element.appendChild(docLink);\n",
              "        }\n",
              "      </script>\n",
              "    </div>\n",
              "  </div>\n",
              "  "
            ]
          },
          "metadata": {},
          "execution_count": 9
        }
      ]
    },
    {
      "cell_type": "markdown",
      "metadata": {
        "id": "h3mdzNHh13xE"
      },
      "source": [
        "## Applying Apriori\n",
        "Now we use the apriori module from mlxtend library to find the frequent itemsets. Before that, let's look at some parameters of this module:\n",
        "\n",
        "- `df` : One-Hot-Encoded DataFrame or DataFrame that has 0 and 1 or True and False as values\n",
        "- `min_support` : Floating point value between 0 and 1 that indicates the minimum support required for an itemset to be selected.\n",
        "- `use_colnames` : This allows to preserve column names for itemset making it more readable.\n",
        "- `max_len` : Max length of itemset generated. If not set, all possible lengths are evaluated.\n",
        "\n"
      ]
    },
    {
      "cell_type": "code",
      "metadata": {
        "id": "2S2JrOuf13xE",
        "outputId": "e333ba49-db71-49fd-94f0-9d764cc15c62",
        "colab": {
          "base_uri": "https://localhost:8080/",
          "height": 363
        }
      },
      "source": [
        "freq_items = apriori(df, min_support=0.2, use_colnames=True)\n",
        "freq_items.head(10)"
      ],
      "execution_count": null,
      "outputs": [
        {
          "output_type": "execute_result",
          "data": {
            "text/plain": [
              "    support        itemsets\n",
              "0  0.425397         (Bagel)\n",
              "1  0.504762         (Bread)\n",
              "2  0.501587        (Cheese)\n",
              "3  0.406349        (Diaper)\n",
              "4  0.438095          (Eggs)\n",
              "5  0.476190          (Meat)\n",
              "6  0.501587          (Milk)\n",
              "7  0.361905        (Pencil)\n",
              "8  0.438095          (Wine)\n",
              "9  0.279365  (Bagel, Bread)"
            ],
            "text/html": [
              "\n",
              "  <div id=\"df-3a315ba4-e0fd-432f-ba75-950b776535e3\">\n",
              "    <div class=\"colab-df-container\">\n",
              "      <div>\n",
              "<style scoped>\n",
              "    .dataframe tbody tr th:only-of-type {\n",
              "        vertical-align: middle;\n",
              "    }\n",
              "\n",
              "    .dataframe tbody tr th {\n",
              "        vertical-align: top;\n",
              "    }\n",
              "\n",
              "    .dataframe thead th {\n",
              "        text-align: right;\n",
              "    }\n",
              "</style>\n",
              "<table border=\"1\" class=\"dataframe\">\n",
              "  <thead>\n",
              "    <tr style=\"text-align: right;\">\n",
              "      <th></th>\n",
              "      <th>support</th>\n",
              "      <th>itemsets</th>\n",
              "    </tr>\n",
              "  </thead>\n",
              "  <tbody>\n",
              "    <tr>\n",
              "      <th>0</th>\n",
              "      <td>0.425397</td>\n",
              "      <td>(Bagel)</td>\n",
              "    </tr>\n",
              "    <tr>\n",
              "      <th>1</th>\n",
              "      <td>0.504762</td>\n",
              "      <td>(Bread)</td>\n",
              "    </tr>\n",
              "    <tr>\n",
              "      <th>2</th>\n",
              "      <td>0.501587</td>\n",
              "      <td>(Cheese)</td>\n",
              "    </tr>\n",
              "    <tr>\n",
              "      <th>3</th>\n",
              "      <td>0.406349</td>\n",
              "      <td>(Diaper)</td>\n",
              "    </tr>\n",
              "    <tr>\n",
              "      <th>4</th>\n",
              "      <td>0.438095</td>\n",
              "      <td>(Eggs)</td>\n",
              "    </tr>\n",
              "    <tr>\n",
              "      <th>5</th>\n",
              "      <td>0.476190</td>\n",
              "      <td>(Meat)</td>\n",
              "    </tr>\n",
              "    <tr>\n",
              "      <th>6</th>\n",
              "      <td>0.501587</td>\n",
              "      <td>(Milk)</td>\n",
              "    </tr>\n",
              "    <tr>\n",
              "      <th>7</th>\n",
              "      <td>0.361905</td>\n",
              "      <td>(Pencil)</td>\n",
              "    </tr>\n",
              "    <tr>\n",
              "      <th>8</th>\n",
              "      <td>0.438095</td>\n",
              "      <td>(Wine)</td>\n",
              "    </tr>\n",
              "    <tr>\n",
              "      <th>9</th>\n",
              "      <td>0.279365</td>\n",
              "      <td>(Bagel, Bread)</td>\n",
              "    </tr>\n",
              "  </tbody>\n",
              "</table>\n",
              "</div>\n",
              "      <button class=\"colab-df-convert\" onclick=\"convertToInteractive('df-3a315ba4-e0fd-432f-ba75-950b776535e3')\"\n",
              "              title=\"Convert this dataframe to an interactive table.\"\n",
              "              style=\"display:none;\">\n",
              "        \n",
              "  <svg xmlns=\"http://www.w3.org/2000/svg\" height=\"24px\"viewBox=\"0 0 24 24\"\n",
              "       width=\"24px\">\n",
              "    <path d=\"M0 0h24v24H0V0z\" fill=\"none\"/>\n",
              "    <path d=\"M18.56 5.44l.94 2.06.94-2.06 2.06-.94-2.06-.94-.94-2.06-.94 2.06-2.06.94zm-11 1L8.5 8.5l.94-2.06 2.06-.94-2.06-.94L8.5 2.5l-.94 2.06-2.06.94zm10 10l.94 2.06.94-2.06 2.06-.94-2.06-.94-.94-2.06-.94 2.06-2.06.94z\"/><path d=\"M17.41 7.96l-1.37-1.37c-.4-.4-.92-.59-1.43-.59-.52 0-1.04.2-1.43.59L10.3 9.45l-7.72 7.72c-.78.78-.78 2.05 0 2.83L4 21.41c.39.39.9.59 1.41.59.51 0 1.02-.2 1.41-.59l7.78-7.78 2.81-2.81c.8-.78.8-2.07 0-2.86zM5.41 20L4 18.59l7.72-7.72 1.47 1.35L5.41 20z\"/>\n",
              "  </svg>\n",
              "      </button>\n",
              "      \n",
              "  <style>\n",
              "    .colab-df-container {\n",
              "      display:flex;\n",
              "      flex-wrap:wrap;\n",
              "      gap: 12px;\n",
              "    }\n",
              "\n",
              "    .colab-df-convert {\n",
              "      background-color: #E8F0FE;\n",
              "      border: none;\n",
              "      border-radius: 50%;\n",
              "      cursor: pointer;\n",
              "      display: none;\n",
              "      fill: #1967D2;\n",
              "      height: 32px;\n",
              "      padding: 0 0 0 0;\n",
              "      width: 32px;\n",
              "    }\n",
              "\n",
              "    .colab-df-convert:hover {\n",
              "      background-color: #E2EBFA;\n",
              "      box-shadow: 0px 1px 2px rgba(60, 64, 67, 0.3), 0px 1px 3px 1px rgba(60, 64, 67, 0.15);\n",
              "      fill: #174EA6;\n",
              "    }\n",
              "\n",
              "    [theme=dark] .colab-df-convert {\n",
              "      background-color: #3B4455;\n",
              "      fill: #D2E3FC;\n",
              "    }\n",
              "\n",
              "    [theme=dark] .colab-df-convert:hover {\n",
              "      background-color: #434B5C;\n",
              "      box-shadow: 0px 1px 3px 1px rgba(0, 0, 0, 0.15);\n",
              "      filter: drop-shadow(0px 1px 2px rgba(0, 0, 0, 0.3));\n",
              "      fill: #FFFFFF;\n",
              "    }\n",
              "  </style>\n",
              "\n",
              "      <script>\n",
              "        const buttonEl =\n",
              "          document.querySelector('#df-3a315ba4-e0fd-432f-ba75-950b776535e3 button.colab-df-convert');\n",
              "        buttonEl.style.display =\n",
              "          google.colab.kernel.accessAllowed ? 'block' : 'none';\n",
              "\n",
              "        async function convertToInteractive(key) {\n",
              "          const element = document.querySelector('#df-3a315ba4-e0fd-432f-ba75-950b776535e3');\n",
              "          const dataTable =\n",
              "            await google.colab.kernel.invokeFunction('convertToInteractive',\n",
              "                                                     [key], {});\n",
              "          if (!dataTable) return;\n",
              "\n",
              "          const docLinkHtml = 'Like what you see? Visit the ' +\n",
              "            '<a target=\"_blank\" href=https://colab.research.google.com/notebooks/data_table.ipynb>data table notebook</a>'\n",
              "            + ' to learn more about interactive tables.';\n",
              "          element.innerHTML = '';\n",
              "          dataTable['output_type'] = 'display_data';\n",
              "          await google.colab.output.renderOutput(dataTable, element);\n",
              "          const docLink = document.createElement('div');\n",
              "          docLink.innerHTML = docLinkHtml;\n",
              "          element.appendChild(docLink);\n",
              "        }\n",
              "      </script>\n",
              "    </div>\n",
              "  </div>\n",
              "  "
            ]
          },
          "metadata": {},
          "execution_count": 10
        }
      ]
    },
    {
      "cell_type": "markdown",
      "metadata": {
        "id": "Vk_SBVY913xL"
      },
      "source": [
        "## Mining Association Rules\n",
        "Frequent if-then associations called association rules which consists of an antecedent (if) and a consequent (then) in other words `{antecedent} => {consequent}`. The metric can be set to confidence, lift, support, leverage and conviction. In the example below we use the confidence metric with a threshold of __0.6__. This means that we are selecting the rules with a confidence more than __0.6__."
      ]
    },
    {
      "cell_type": "code",
      "metadata": {
        "id": "2pAnlteO13xL",
        "outputId": "fa048af6-0fd4-442e-a51d-0cc4a7bf2d72",
        "colab": {
          "base_uri": "https://localhost:8080/",
          "height": 488
        }
      },
      "source": [
        "rules = association_rules(freq_items, metric=\"confidence\", min_threshold=0.6)\n",
        "rules.sort_values(by='lift', ascending=False)"
      ],
      "execution_count": null,
      "outputs": [
        {
          "output_type": "execute_result",
          "data": {
            "text/plain": [
              "       antecedents consequents  antecedent support  consequent support  \\\n",
              "12    (Meat, Milk)    (Cheese)            0.244444            0.501587   \n",
              "9     (Eggs, Meat)    (Cheese)            0.266667            0.501587   \n",
              "10  (Meat, Cheese)      (Eggs)            0.323810            0.438095   \n",
              "8   (Eggs, Cheese)      (Meat)            0.298413            0.476190   \n",
              "13  (Cheese, Milk)      (Meat)            0.304762            0.476190   \n",
              "1           (Eggs)    (Cheese)            0.438095            0.501587   \n",
              "2           (Meat)    (Cheese)            0.476190            0.501587   \n",
              "3         (Cheese)      (Meat)            0.501587            0.476190   \n",
              "0          (Bagel)     (Bread)            0.425397            0.504762   \n",
              "7           (Eggs)      (Meat)            0.438095            0.476190   \n",
              "11  (Meat, Cheese)      (Milk)            0.323810            0.501587   \n",
              "6           (Wine)    (Cheese)            0.438095            0.501587   \n",
              "4         (Cheese)      (Milk)            0.501587            0.501587   \n",
              "5           (Milk)    (Cheese)            0.501587            0.501587   \n",
              "\n",
              "     support  confidence      lift  leverage  conviction  \n",
              "12  0.203175    0.831169  1.657077  0.080564    2.952137  \n",
              "9   0.215873    0.809524  1.613924  0.082116    2.616667  \n",
              "10  0.215873    0.666667  1.521739  0.074014    1.685714  \n",
              "8   0.215873    0.723404  1.519149  0.073772    1.893773  \n",
              "13  0.203175    0.666667  1.400000  0.058050    1.571429  \n",
              "1   0.298413    0.681159  1.358008  0.078670    1.563203  \n",
              "2   0.323810    0.680000  1.355696  0.084958    1.557540  \n",
              "3   0.323810    0.645570  1.355696  0.084958    1.477891  \n",
              "0   0.279365    0.656716  1.301042  0.064641    1.442650  \n",
              "7   0.266667    0.608696  1.278261  0.058050    1.338624  \n",
              "11  0.203175    0.627451  1.250931  0.040756    1.337845  \n",
              "6   0.269841    0.615942  1.227986  0.050098    1.297754  \n",
              "4   0.304762    0.607595  1.211344  0.053172    1.270148  \n",
              "5   0.304762    0.607595  1.211344  0.053172    1.270148  "
            ],
            "text/html": [
              "\n",
              "  <div id=\"df-92aa251e-d7df-4474-ad3c-bbdfff1b13e1\">\n",
              "    <div class=\"colab-df-container\">\n",
              "      <div>\n",
              "<style scoped>\n",
              "    .dataframe tbody tr th:only-of-type {\n",
              "        vertical-align: middle;\n",
              "    }\n",
              "\n",
              "    .dataframe tbody tr th {\n",
              "        vertical-align: top;\n",
              "    }\n",
              "\n",
              "    .dataframe thead th {\n",
              "        text-align: right;\n",
              "    }\n",
              "</style>\n",
              "<table border=\"1\" class=\"dataframe\">\n",
              "  <thead>\n",
              "    <tr style=\"text-align: right;\">\n",
              "      <th></th>\n",
              "      <th>antecedents</th>\n",
              "      <th>consequents</th>\n",
              "      <th>antecedent support</th>\n",
              "      <th>consequent support</th>\n",
              "      <th>support</th>\n",
              "      <th>confidence</th>\n",
              "      <th>lift</th>\n",
              "      <th>leverage</th>\n",
              "      <th>conviction</th>\n",
              "    </tr>\n",
              "  </thead>\n",
              "  <tbody>\n",
              "    <tr>\n",
              "      <th>12</th>\n",
              "      <td>(Meat, Milk)</td>\n",
              "      <td>(Cheese)</td>\n",
              "      <td>0.244444</td>\n",
              "      <td>0.501587</td>\n",
              "      <td>0.203175</td>\n",
              "      <td>0.831169</td>\n",
              "      <td>1.657077</td>\n",
              "      <td>0.080564</td>\n",
              "      <td>2.952137</td>\n",
              "    </tr>\n",
              "    <tr>\n",
              "      <th>9</th>\n",
              "      <td>(Eggs, Meat)</td>\n",
              "      <td>(Cheese)</td>\n",
              "      <td>0.266667</td>\n",
              "      <td>0.501587</td>\n",
              "      <td>0.215873</td>\n",
              "      <td>0.809524</td>\n",
              "      <td>1.613924</td>\n",
              "      <td>0.082116</td>\n",
              "      <td>2.616667</td>\n",
              "    </tr>\n",
              "    <tr>\n",
              "      <th>10</th>\n",
              "      <td>(Meat, Cheese)</td>\n",
              "      <td>(Eggs)</td>\n",
              "      <td>0.323810</td>\n",
              "      <td>0.438095</td>\n",
              "      <td>0.215873</td>\n",
              "      <td>0.666667</td>\n",
              "      <td>1.521739</td>\n",
              "      <td>0.074014</td>\n",
              "      <td>1.685714</td>\n",
              "    </tr>\n",
              "    <tr>\n",
              "      <th>8</th>\n",
              "      <td>(Eggs, Cheese)</td>\n",
              "      <td>(Meat)</td>\n",
              "      <td>0.298413</td>\n",
              "      <td>0.476190</td>\n",
              "      <td>0.215873</td>\n",
              "      <td>0.723404</td>\n",
              "      <td>1.519149</td>\n",
              "      <td>0.073772</td>\n",
              "      <td>1.893773</td>\n",
              "    </tr>\n",
              "    <tr>\n",
              "      <th>13</th>\n",
              "      <td>(Cheese, Milk)</td>\n",
              "      <td>(Meat)</td>\n",
              "      <td>0.304762</td>\n",
              "      <td>0.476190</td>\n",
              "      <td>0.203175</td>\n",
              "      <td>0.666667</td>\n",
              "      <td>1.400000</td>\n",
              "      <td>0.058050</td>\n",
              "      <td>1.571429</td>\n",
              "    </tr>\n",
              "    <tr>\n",
              "      <th>1</th>\n",
              "      <td>(Eggs)</td>\n",
              "      <td>(Cheese)</td>\n",
              "      <td>0.438095</td>\n",
              "      <td>0.501587</td>\n",
              "      <td>0.298413</td>\n",
              "      <td>0.681159</td>\n",
              "      <td>1.358008</td>\n",
              "      <td>0.078670</td>\n",
              "      <td>1.563203</td>\n",
              "    </tr>\n",
              "    <tr>\n",
              "      <th>2</th>\n",
              "      <td>(Meat)</td>\n",
              "      <td>(Cheese)</td>\n",
              "      <td>0.476190</td>\n",
              "      <td>0.501587</td>\n",
              "      <td>0.323810</td>\n",
              "      <td>0.680000</td>\n",
              "      <td>1.355696</td>\n",
              "      <td>0.084958</td>\n",
              "      <td>1.557540</td>\n",
              "    </tr>\n",
              "    <tr>\n",
              "      <th>3</th>\n",
              "      <td>(Cheese)</td>\n",
              "      <td>(Meat)</td>\n",
              "      <td>0.501587</td>\n",
              "      <td>0.476190</td>\n",
              "      <td>0.323810</td>\n",
              "      <td>0.645570</td>\n",
              "      <td>1.355696</td>\n",
              "      <td>0.084958</td>\n",
              "      <td>1.477891</td>\n",
              "    </tr>\n",
              "    <tr>\n",
              "      <th>0</th>\n",
              "      <td>(Bagel)</td>\n",
              "      <td>(Bread)</td>\n",
              "      <td>0.425397</td>\n",
              "      <td>0.504762</td>\n",
              "      <td>0.279365</td>\n",
              "      <td>0.656716</td>\n",
              "      <td>1.301042</td>\n",
              "      <td>0.064641</td>\n",
              "      <td>1.442650</td>\n",
              "    </tr>\n",
              "    <tr>\n",
              "      <th>7</th>\n",
              "      <td>(Eggs)</td>\n",
              "      <td>(Meat)</td>\n",
              "      <td>0.438095</td>\n",
              "      <td>0.476190</td>\n",
              "      <td>0.266667</td>\n",
              "      <td>0.608696</td>\n",
              "      <td>1.278261</td>\n",
              "      <td>0.058050</td>\n",
              "      <td>1.338624</td>\n",
              "    </tr>\n",
              "    <tr>\n",
              "      <th>11</th>\n",
              "      <td>(Meat, Cheese)</td>\n",
              "      <td>(Milk)</td>\n",
              "      <td>0.323810</td>\n",
              "      <td>0.501587</td>\n",
              "      <td>0.203175</td>\n",
              "      <td>0.627451</td>\n",
              "      <td>1.250931</td>\n",
              "      <td>0.040756</td>\n",
              "      <td>1.337845</td>\n",
              "    </tr>\n",
              "    <tr>\n",
              "      <th>6</th>\n",
              "      <td>(Wine)</td>\n",
              "      <td>(Cheese)</td>\n",
              "      <td>0.438095</td>\n",
              "      <td>0.501587</td>\n",
              "      <td>0.269841</td>\n",
              "      <td>0.615942</td>\n",
              "      <td>1.227986</td>\n",
              "      <td>0.050098</td>\n",
              "      <td>1.297754</td>\n",
              "    </tr>\n",
              "    <tr>\n",
              "      <th>4</th>\n",
              "      <td>(Cheese)</td>\n",
              "      <td>(Milk)</td>\n",
              "      <td>0.501587</td>\n",
              "      <td>0.501587</td>\n",
              "      <td>0.304762</td>\n",
              "      <td>0.607595</td>\n",
              "      <td>1.211344</td>\n",
              "      <td>0.053172</td>\n",
              "      <td>1.270148</td>\n",
              "    </tr>\n",
              "    <tr>\n",
              "      <th>5</th>\n",
              "      <td>(Milk)</td>\n",
              "      <td>(Cheese)</td>\n",
              "      <td>0.501587</td>\n",
              "      <td>0.501587</td>\n",
              "      <td>0.304762</td>\n",
              "      <td>0.607595</td>\n",
              "      <td>1.211344</td>\n",
              "      <td>0.053172</td>\n",
              "      <td>1.270148</td>\n",
              "    </tr>\n",
              "  </tbody>\n",
              "</table>\n",
              "</div>\n",
              "      <button class=\"colab-df-convert\" onclick=\"convertToInteractive('df-92aa251e-d7df-4474-ad3c-bbdfff1b13e1')\"\n",
              "              title=\"Convert this dataframe to an interactive table.\"\n",
              "              style=\"display:none;\">\n",
              "        \n",
              "  <svg xmlns=\"http://www.w3.org/2000/svg\" height=\"24px\"viewBox=\"0 0 24 24\"\n",
              "       width=\"24px\">\n",
              "    <path d=\"M0 0h24v24H0V0z\" fill=\"none\"/>\n",
              "    <path d=\"M18.56 5.44l.94 2.06.94-2.06 2.06-.94-2.06-.94-.94-2.06-.94 2.06-2.06.94zm-11 1L8.5 8.5l.94-2.06 2.06-.94-2.06-.94L8.5 2.5l-.94 2.06-2.06.94zm10 10l.94 2.06.94-2.06 2.06-.94-2.06-.94-.94-2.06-.94 2.06-2.06.94z\"/><path d=\"M17.41 7.96l-1.37-1.37c-.4-.4-.92-.59-1.43-.59-.52 0-1.04.2-1.43.59L10.3 9.45l-7.72 7.72c-.78.78-.78 2.05 0 2.83L4 21.41c.39.39.9.59 1.41.59.51 0 1.02-.2 1.41-.59l7.78-7.78 2.81-2.81c.8-.78.8-2.07 0-2.86zM5.41 20L4 18.59l7.72-7.72 1.47 1.35L5.41 20z\"/>\n",
              "  </svg>\n",
              "      </button>\n",
              "      \n",
              "  <style>\n",
              "    .colab-df-container {\n",
              "      display:flex;\n",
              "      flex-wrap:wrap;\n",
              "      gap: 12px;\n",
              "    }\n",
              "\n",
              "    .colab-df-convert {\n",
              "      background-color: #E8F0FE;\n",
              "      border: none;\n",
              "      border-radius: 50%;\n",
              "      cursor: pointer;\n",
              "      display: none;\n",
              "      fill: #1967D2;\n",
              "      height: 32px;\n",
              "      padding: 0 0 0 0;\n",
              "      width: 32px;\n",
              "    }\n",
              "\n",
              "    .colab-df-convert:hover {\n",
              "      background-color: #E2EBFA;\n",
              "      box-shadow: 0px 1px 2px rgba(60, 64, 67, 0.3), 0px 1px 3px 1px rgba(60, 64, 67, 0.15);\n",
              "      fill: #174EA6;\n",
              "    }\n",
              "\n",
              "    [theme=dark] .colab-df-convert {\n",
              "      background-color: #3B4455;\n",
              "      fill: #D2E3FC;\n",
              "    }\n",
              "\n",
              "    [theme=dark] .colab-df-convert:hover {\n",
              "      background-color: #434B5C;\n",
              "      box-shadow: 0px 1px 3px 1px rgba(0, 0, 0, 0.15);\n",
              "      filter: drop-shadow(0px 1px 2px rgba(0, 0, 0, 0.3));\n",
              "      fill: #FFFFFF;\n",
              "    }\n",
              "  </style>\n",
              "\n",
              "      <script>\n",
              "        const buttonEl =\n",
              "          document.querySelector('#df-92aa251e-d7df-4474-ad3c-bbdfff1b13e1 button.colab-df-convert');\n",
              "        buttonEl.style.display =\n",
              "          google.colab.kernel.accessAllowed ? 'block' : 'none';\n",
              "\n",
              "        async function convertToInteractive(key) {\n",
              "          const element = document.querySelector('#df-92aa251e-d7df-4474-ad3c-bbdfff1b13e1');\n",
              "          const dataTable =\n",
              "            await google.colab.kernel.invokeFunction('convertToInteractive',\n",
              "                                                     [key], {});\n",
              "          if (!dataTable) return;\n",
              "\n",
              "          const docLinkHtml = 'Like what you see? Visit the ' +\n",
              "            '<a target=\"_blank\" href=https://colab.research.google.com/notebooks/data_table.ipynb>data table notebook</a>'\n",
              "            + ' to learn more about interactive tables.';\n",
              "          element.innerHTML = '';\n",
              "          dataTable['output_type'] = 'display_data';\n",
              "          await google.colab.output.renderOutput(dataTable, element);\n",
              "          const docLink = document.createElement('div');\n",
              "          docLink.innerHTML = docLinkHtml;\n",
              "          element.appendChild(docLink);\n",
              "        }\n",
              "      </script>\n",
              "    </div>\n",
              "  </div>\n",
              "  "
            ]
          },
          "metadata": {},
          "execution_count": 11
        }
      ]
    },
    {
      "cell_type": "markdown",
      "metadata": {
        "id": "bm5wI0J-13xQ"
      },
      "source": [
        "The `rules` dataframe contains all the association rules that we determined as interesting. What do you think? Are they really interesting? What does the __lift__ metric tells you?\n",
        "\n",
        "Try to generate the above rules again but now with a smaller threshold for confidence, say $0.4$. What do you think about the rules now?"
      ]
    },
    {
      "cell_type": "code",
      "metadata": {
        "id": "uOgj7xo713xR",
        "outputId": "e8a1d839-329b-4570-e1bc-40af700b5af2"
      },
      "source": [
        "rules = association_rules(freq_items, metric=\"confidence\", min_threshold=0.4)\n",
        "rules[rules[\"lift\"] < 1]"
      ],
      "execution_count": null,
      "outputs": [
        {
          "output_type": "execute_result",
          "data": {
            "text/html": [
              "<div>\n",
              "<style scoped>\n",
              "    .dataframe tbody tr th:only-of-type {\n",
              "        vertical-align: middle;\n",
              "    }\n",
              "\n",
              "    .dataframe tbody tr th {\n",
              "        vertical-align: top;\n",
              "    }\n",
              "\n",
              "    .dataframe thead th {\n",
              "        text-align: right;\n",
              "    }\n",
              "</style>\n",
              "<table border=\"1\" class=\"dataframe\">\n",
              "  <thead>\n",
              "    <tr style=\"text-align: right;\">\n",
              "      <th></th>\n",
              "      <th>antecedants</th>\n",
              "      <th>consequents</th>\n",
              "      <th>antecedent support</th>\n",
              "      <th>consequent support</th>\n",
              "      <th>support</th>\n",
              "      <th>confidence</th>\n",
              "      <th>lift</th>\n",
              "      <th>leverage</th>\n",
              "      <th>conviction</th>\n",
              "    </tr>\n",
              "  </thead>\n",
              "  <tbody>\n",
              "    <tr>\n",
              "      <th>4</th>\n",
              "      <td>(Cheese)</td>\n",
              "      <td>(Bread)</td>\n",
              "      <td>0.501587</td>\n",
              "      <td>0.504762</td>\n",
              "      <td>0.238095</td>\n",
              "      <td>0.474684</td>\n",
              "      <td>0.940411</td>\n",
              "      <td>-0.015087</td>\n",
              "      <td>0.942742</td>\n",
              "    </tr>\n",
              "    <tr>\n",
              "      <th>5</th>\n",
              "      <td>(Bread)</td>\n",
              "      <td>(Cheese)</td>\n",
              "      <td>0.504762</td>\n",
              "      <td>0.501587</td>\n",
              "      <td>0.238095</td>\n",
              "      <td>0.471698</td>\n",
              "      <td>0.940411</td>\n",
              "      <td>-0.015087</td>\n",
              "      <td>0.943424</td>\n",
              "    </tr>\n",
              "    <tr>\n",
              "      <th>8</th>\n",
              "      <td>(Meat)</td>\n",
              "      <td>(Bread)</td>\n",
              "      <td>0.476190</td>\n",
              "      <td>0.504762</td>\n",
              "      <td>0.206349</td>\n",
              "      <td>0.433333</td>\n",
              "      <td>0.858491</td>\n",
              "      <td>-0.034014</td>\n",
              "      <td>0.873950</td>\n",
              "    </tr>\n",
              "    <tr>\n",
              "      <th>9</th>\n",
              "      <td>(Bread)</td>\n",
              "      <td>(Meat)</td>\n",
              "      <td>0.504762</td>\n",
              "      <td>0.476190</td>\n",
              "      <td>0.206349</td>\n",
              "      <td>0.408805</td>\n",
              "      <td>0.858491</td>\n",
              "      <td>-0.034014</td>\n",
              "      <td>0.886018</td>\n",
              "    </tr>\n",
              "    <tr>\n",
              "      <th>15</th>\n",
              "      <td>(Diaper)</td>\n",
              "      <td>(Cheese)</td>\n",
              "      <td>0.406349</td>\n",
              "      <td>0.501587</td>\n",
              "      <td>0.200000</td>\n",
              "      <td>0.492188</td>\n",
              "      <td>0.981260</td>\n",
              "      <td>-0.003820</td>\n",
              "      <td>0.981490</td>\n",
              "    </tr>\n",
              "    <tr>\n",
              "      <th>37</th>\n",
              "      <td>(Milk)</td>\n",
              "      <td>(Wine)</td>\n",
              "      <td>0.501587</td>\n",
              "      <td>0.438095</td>\n",
              "      <td>0.219048</td>\n",
              "      <td>0.436709</td>\n",
              "      <td>0.996835</td>\n",
              "      <td>-0.000695</td>\n",
              "      <td>0.997539</td>\n",
              "    </tr>\n",
              "    <tr>\n",
              "      <th>38</th>\n",
              "      <td>(Wine)</td>\n",
              "      <td>(Milk)</td>\n",
              "      <td>0.438095</td>\n",
              "      <td>0.501587</td>\n",
              "      <td>0.219048</td>\n",
              "      <td>0.500000</td>\n",
              "      <td>0.996835</td>\n",
              "      <td>-0.000695</td>\n",
              "      <td>0.996825</td>\n",
              "    </tr>\n",
              "  </tbody>\n",
              "</table>\n",
              "</div>"
            ],
            "text/plain": [
              "   antecedants consequents  antecedent support  consequent support   support  \\\n",
              "4     (Cheese)     (Bread)            0.501587            0.504762  0.238095   \n",
              "5      (Bread)    (Cheese)            0.504762            0.501587  0.238095   \n",
              "8       (Meat)     (Bread)            0.476190            0.504762  0.206349   \n",
              "9      (Bread)      (Meat)            0.504762            0.476190  0.206349   \n",
              "15    (Diaper)    (Cheese)            0.406349            0.501587  0.200000   \n",
              "37      (Milk)      (Wine)            0.501587            0.438095  0.219048   \n",
              "38      (Wine)      (Milk)            0.438095            0.501587  0.219048   \n",
              "\n",
              "    confidence      lift  leverage  conviction  \n",
              "4     0.474684  0.940411 -0.015087    0.942742  \n",
              "5     0.471698  0.940411 -0.015087    0.943424  \n",
              "8     0.433333  0.858491 -0.034014    0.873950  \n",
              "9     0.408805  0.858491 -0.034014    0.886018  \n",
              "15    0.492188  0.981260 -0.003820    0.981490  \n",
              "37    0.436709  0.996835 -0.000695    0.997539  \n",
              "38    0.500000  0.996835 -0.000695    0.996825  "
            ]
          },
          "metadata": {
            "tags": []
          },
          "execution_count": 50
        }
      ]
    },
    {
      "cell_type": "markdown",
      "metadata": {
        "id": "2D6z28oB13xU"
      },
      "source": [
        "## Exercise: your turn!\n",
        "Let's try with a more real and bigger dataset. Load the `Groceries.csv` file and try to find association rules Using the __confidence__ metric and a support threshold of __0.001__ and confidence threshold of __0.05__. \n",
        "\n",
        "Check out ther rules you have found that have \"bottled beer\" as antecedant. Are all of these rules interesting?"
      ]
    },
    {
      "cell_type": "markdown",
      "metadata": {
        "id": "dJ9vNCeY13xW"
      },
      "source": [
        "### Load the data\n",
        "Notice that this is not a proper csv file and there are different number of values in each row. So you have to read the file manually."
      ]
    },
    {
      "cell_type": "code",
      "metadata": {
        "id": "z6YCbW3h13xW"
      },
      "source": [
        "with open('Groceries.csv', 'r') as f:\n",
        "    dataset = []\n",
        "    for line in f:\n",
        "        transaction = []\n",
        "        row = line.rstrip('\\n').split(',')\n",
        "        for item in row:\n",
        "            transaction.append(item)\n",
        "        dataset.append(transaction)"
      ],
      "execution_count": null,
      "outputs": []
    },
    {
      "cell_type": "code",
      "metadata": {
        "id": "9LN_ImnA13xc"
      },
      "source": [
        "# create the one_hot encoded dataframe with TransactionEncoder()\n"
      ],
      "execution_count": null,
      "outputs": []
    },
    {
      "cell_type": "code",
      "metadata": {
        "id": "Oo62rpm013xf"
      },
      "source": [
        "# find the frequent itemsets with  min_support=0.001, max_len=2\n",
        "\n",
        "\n",
        "# find the association rules with metric='confidence' and min_threshold=0.05\n",
        "\n",
        "\n",
        "# extract rules with 'bottled beer' as antecedents \n",
        "\n",
        "\n"
      ],
      "execution_count": null,
      "outputs": []
    },
    {
      "cell_type": "code",
      "metadata": {
        "id": "MX0tZB-W13xj"
      },
      "source": [
        ""
      ],
      "execution_count": null,
      "outputs": []
    }
  ]
}