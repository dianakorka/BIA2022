{
  "nbformat": 4,
  "nbformat_minor": 0,
  "metadata": {
    "colab": {
      "name": "Clustering_exercise_2022.ipynb",
      "provenance": [],
      "include_colab_link": true
    },
    "kernelspec": {
      "name": "python3",
      "display_name": "Python 3"
    },
    "language_info": {
      "name": "python"
    }
  },
  "cells": [
    {
      "cell_type": "markdown",
      "metadata": {
        "id": "view-in-github",
        "colab_type": "text"
      },
      "source": [
        "<a href=\"https://colab.research.google.com/github/michalis0/Business-Intelligence-and-Analytics/blob/master/5%20-%20Clustering/Exercises/Clustering_exercise_2022.ipynb\" target=\"_parent\"><img src=\"https://colab.research.google.com/assets/colab-badge.svg\" alt=\"Open In Colab\"/></a>"
      ]
    },
    {
      "cell_type": "markdown",
      "source": [
        "# Exercise 1: Clustering\n",
        "\n",
        "In this exercise we will look at student grades. We will cluster these grades into a number of groups that fit the data.\n",
        "\n",
        "First let's read in the data into a Pandas data frame:"
      ],
      "metadata": {
        "id": "BLllj0avCdxg"
      }
    },
    {
      "cell_type": "code",
      "execution_count": 1,
      "metadata": {
        "colab": {
          "base_uri": "https://localhost:8080/",
          "height": 206
        },
        "id": "SsP1gBXlCatI",
        "outputId": "f5b9d6e5-bafb-4d2d-8a8f-eed00f22439e"
      },
      "outputs": [
        {
          "output_type": "execute_result",
          "data": {
            "text/plain": [
              "   Grades\n",
              "0    1.00\n",
              "1   20.83\n",
              "2   47.50\n",
              "3   50.00\n",
              "4   50.00"
            ],
            "text/html": [
              "\n",
              "  <div id=\"df-bd48fe35-f702-45d8-8a82-aa9b248a76d3\">\n",
              "    <div class=\"colab-df-container\">\n",
              "      <div>\n",
              "<style scoped>\n",
              "    .dataframe tbody tr th:only-of-type {\n",
              "        vertical-align: middle;\n",
              "    }\n",
              "\n",
              "    .dataframe tbody tr th {\n",
              "        vertical-align: top;\n",
              "    }\n",
              "\n",
              "    .dataframe thead th {\n",
              "        text-align: right;\n",
              "    }\n",
              "</style>\n",
              "<table border=\"1\" class=\"dataframe\">\n",
              "  <thead>\n",
              "    <tr style=\"text-align: right;\">\n",
              "      <th></th>\n",
              "      <th>Grades</th>\n",
              "    </tr>\n",
              "  </thead>\n",
              "  <tbody>\n",
              "    <tr>\n",
              "      <th>0</th>\n",
              "      <td>1.00</td>\n",
              "    </tr>\n",
              "    <tr>\n",
              "      <th>1</th>\n",
              "      <td>20.83</td>\n",
              "    </tr>\n",
              "    <tr>\n",
              "      <th>2</th>\n",
              "      <td>47.50</td>\n",
              "    </tr>\n",
              "    <tr>\n",
              "      <th>3</th>\n",
              "      <td>50.00</td>\n",
              "    </tr>\n",
              "    <tr>\n",
              "      <th>4</th>\n",
              "      <td>50.00</td>\n",
              "    </tr>\n",
              "  </tbody>\n",
              "</table>\n",
              "</div>\n",
              "      <button class=\"colab-df-convert\" onclick=\"convertToInteractive('df-bd48fe35-f702-45d8-8a82-aa9b248a76d3')\"\n",
              "              title=\"Convert this dataframe to an interactive table.\"\n",
              "              style=\"display:none;\">\n",
              "        \n",
              "  <svg xmlns=\"http://www.w3.org/2000/svg\" height=\"24px\"viewBox=\"0 0 24 24\"\n",
              "       width=\"24px\">\n",
              "    <path d=\"M0 0h24v24H0V0z\" fill=\"none\"/>\n",
              "    <path d=\"M18.56 5.44l.94 2.06.94-2.06 2.06-.94-2.06-.94-.94-2.06-.94 2.06-2.06.94zm-11 1L8.5 8.5l.94-2.06 2.06-.94-2.06-.94L8.5 2.5l-.94 2.06-2.06.94zm10 10l.94 2.06.94-2.06 2.06-.94-2.06-.94-.94-2.06-.94 2.06-2.06.94z\"/><path d=\"M17.41 7.96l-1.37-1.37c-.4-.4-.92-.59-1.43-.59-.52 0-1.04.2-1.43.59L10.3 9.45l-7.72 7.72c-.78.78-.78 2.05 0 2.83L4 21.41c.39.39.9.59 1.41.59.51 0 1.02-.2 1.41-.59l7.78-7.78 2.81-2.81c.8-.78.8-2.07 0-2.86zM5.41 20L4 18.59l7.72-7.72 1.47 1.35L5.41 20z\"/>\n",
              "  </svg>\n",
              "      </button>\n",
              "      \n",
              "  <style>\n",
              "    .colab-df-container {\n",
              "      display:flex;\n",
              "      flex-wrap:wrap;\n",
              "      gap: 12px;\n",
              "    }\n",
              "\n",
              "    .colab-df-convert {\n",
              "      background-color: #E8F0FE;\n",
              "      border: none;\n",
              "      border-radius: 50%;\n",
              "      cursor: pointer;\n",
              "      display: none;\n",
              "      fill: #1967D2;\n",
              "      height: 32px;\n",
              "      padding: 0 0 0 0;\n",
              "      width: 32px;\n",
              "    }\n",
              "\n",
              "    .colab-df-convert:hover {\n",
              "      background-color: #E2EBFA;\n",
              "      box-shadow: 0px 1px 2px rgba(60, 64, 67, 0.3), 0px 1px 3px 1px rgba(60, 64, 67, 0.15);\n",
              "      fill: #174EA6;\n",
              "    }\n",
              "\n",
              "    [theme=dark] .colab-df-convert {\n",
              "      background-color: #3B4455;\n",
              "      fill: #D2E3FC;\n",
              "    }\n",
              "\n",
              "    [theme=dark] .colab-df-convert:hover {\n",
              "      background-color: #434B5C;\n",
              "      box-shadow: 0px 1px 3px 1px rgba(0, 0, 0, 0.15);\n",
              "      filter: drop-shadow(0px 1px 2px rgba(0, 0, 0, 0.3));\n",
              "      fill: #FFFFFF;\n",
              "    }\n",
              "  </style>\n",
              "\n",
              "      <script>\n",
              "        const buttonEl =\n",
              "          document.querySelector('#df-bd48fe35-f702-45d8-8a82-aa9b248a76d3 button.colab-df-convert');\n",
              "        buttonEl.style.display =\n",
              "          google.colab.kernel.accessAllowed ? 'block' : 'none';\n",
              "\n",
              "        async function convertToInteractive(key) {\n",
              "          const element = document.querySelector('#df-bd48fe35-f702-45d8-8a82-aa9b248a76d3');\n",
              "          const dataTable =\n",
              "            await google.colab.kernel.invokeFunction('convertToInteractive',\n",
              "                                                     [key], {});\n",
              "          if (!dataTable) return;\n",
              "\n",
              "          const docLinkHtml = 'Like what you see? Visit the ' +\n",
              "            '<a target=\"_blank\" href=https://colab.research.google.com/notebooks/data_table.ipynb>data table notebook</a>'\n",
              "            + ' to learn more about interactive tables.';\n",
              "          element.innerHTML = '';\n",
              "          dataTable['output_type'] = 'display_data';\n",
              "          await google.colab.output.renderOutput(dataTable, element);\n",
              "          const docLink = document.createElement('div');\n",
              "          docLink.innerHTML = docLinkHtml;\n",
              "          element.appendChild(docLink);\n",
              "        }\n",
              "      </script>\n",
              "    </div>\n",
              "  </div>\n",
              "  "
            ]
          },
          "metadata": {},
          "execution_count": 1
        }
      ],
      "source": [
        "import pandas as pd\n",
        "import numpy as np\n",
        "import matplotlib.pyplot as plt\n",
        "import seaborn as sns\n",
        "\n",
        "from sklearn.cluster import KMeans\n",
        "%matplotlib inline\n",
        "\n",
        "url = \"https://raw.githubusercontent.com/michalis0/Business-Intelligence-and-Analytics/master/data/grades.csv\"\n",
        "\n",
        "grades = pd.read_csv(url, names=['Grades', 'Other']).iloc[:, 0].to_frame()\n",
        "\n",
        "grades.head()"
      ]
    },
    {
      "cell_type": "markdown",
      "source": [
        "### Question 1. How many observations are in the grades dataframe?"
      ],
      "metadata": {
        "id": "4HzVdn_MFHTS"
      }
    },
    {
      "cell_type": "code",
      "source": [
        "# YOUR CODE HERE"
      ],
      "metadata": {
        "id": "hfc9Vj1YFcxn"
      },
      "execution_count": null,
      "outputs": []
    },
    {
      "cell_type": "markdown",
      "source": [
        "### Question 2. Plot a histogram of the Grades series"
      ],
      "metadata": {
        "id": "ZiPWilL7Fu2N"
      }
    },
    {
      "cell_type": "code",
      "source": [
        "# YOUR CODE HERE"
      ],
      "metadata": {
        "id": "6oBapUv5F9st"
      },
      "execution_count": null,
      "outputs": []
    },
    {
      "cell_type": "markdown",
      "source": [
        "### Question 3. Plot the grades as a one-dimension scatterplot:"
      ],
      "metadata": {
        "id": "ajjYGZjWGrTD"
      }
    },
    {
      "cell_type": "code",
      "source": [
        "# Plot the grades\n",
        "plt.figure(figsize=(20,2))\n",
        "plt.scatter(grades, np.zeros_like(grades), marker='x')"
      ],
      "metadata": {
        "colab": {
          "base_uri": "https://localhost:8080/",
          "height": 173
        },
        "id": "ML7qMFpHGziR",
        "outputId": "a0dd9a66-1b58-42d0-9649-22716bff2c6d"
      },
      "execution_count": null,
      "outputs": [
        {
          "output_type": "execute_result",
          "data": {
            "text/plain": [
              "<matplotlib.collections.PathCollection at 0x7f4c8fcfbd50>"
            ]
          },
          "metadata": {},
          "execution_count": 12
        },
        {
          "output_type": "display_data",
          "data": {
            "text/plain": [
              "<Figure size 1440x144 with 1 Axes>"
            ],
            "image/png": "[encoded data removed]"
          },
          "metadata": {
            "needs_background": "light"
          }
        }
      ]
    },
    {
      "cell_type": "markdown",
      "source": [
        "Using this graphical representation, how many groups / clusters do you think there are?"
      ],
      "metadata": {
        "id": "z98I35SvHCVG"
      }
    },
    {
      "cell_type": "markdown",
      "source": [
        "### Question 4. Fit a KMeans algorithm for k=2, random_state=0, as shown in the walkthrough"
      ],
      "metadata": {
        "id": "sYnppcVcIC4b"
      }
    },
    {
      "cell_type": "code",
      "source": [
        "# YOUR CODE HERE"
      ],
      "metadata": {
        "id": "zm30NEFRIsXl"
      },
      "execution_count": null,
      "outputs": []
    },
    {
      "cell_type": "markdown",
      "source": [
        "### Question 5. Print the resulting model labels, the cluster centers and make a one-dimension scatterplot with the grades colored by the cluster they belong to."
      ],
      "metadata": {
        "id": "UyDFDY-OJaSN"
      }
    },
    {
      "cell_type": "code",
      "source": [
        "# YOUR CODE HERE MODEL LABELS"
      ],
      "metadata": {
        "id": "KeLQjcONKX8F"
      },
      "execution_count": null,
      "outputs": []
    },
    {
      "cell_type": "code",
      "source": [
        "# YOUR CODE HERE CLUSTER CENTERS"
      ],
      "metadata": {
        "id": "2BqMSnJ5Q28L"
      },
      "execution_count": null,
      "outputs": []
    },
    {
      "cell_type": "code",
      "source": [
        "# YOUR CODE HERE ONE DIMENSION SCATTERPLOT"
      ],
      "metadata": {
        "id": "5AtWvJ6UQ8sN"
      },
      "execution_count": null,
      "outputs": []
    },
    {
      "cell_type": "markdown",
      "source": [
        "Add the cluster centers to your scatterplot above"
      ],
      "metadata": {
        "id": "NQ1v8EgGL-pp"
      }
    },
    {
      "cell_type": "code",
      "source": [
        "# YUR CODE HERE"
      ],
      "metadata": {
        "id": "lzohRkKnQwwz"
      },
      "execution_count": null,
      "outputs": []
    },
    {
      "cell_type": "markdown",
      "source": [
        "Below you can see the same code iterated for several values of k.   \n",
        "Using this graphical representation, which seems to be the optimal value of k?"
      ],
      "metadata": {
        "id": "lvIE4EPfMw4d"
      }
    },
    {
      "cell_type": "code",
      "source": [
        "# Fit k-means algorithm for different k\n",
        "fig, ax = plt.subplots(4, 1, figsize=(20, 8), facecolor=\"grey\")\n",
        "for k in [2, 3, 4, 5]:\n",
        "  # Create instance of class\n",
        "  model = KMeans(n_clusters=k)\n",
        "  # Fit model\n",
        "  model.fit(grades)\n",
        "  # Get centers of clusters\n",
        "  centers = model.cluster_centers_\n",
        "  # Get labels\n",
        "  labels = model.labels_\n",
        "  # Plot the points, colored by associated cluster\n",
        "  ax[k-2].scatter(grades, np.zeros_like(grades), marker='x', c=labels, cmap='viridis')\n",
        "  # Plot the center of each cluster\n",
        "  ax[k-2].scatter(centers, np.zeros_like(centers), color='red')\n",
        "  ax[k-2].set_title('k-means algorithm with k = ' + str(k))\n",
        "plt.subplots_adjust(hspace=1)"
      ],
      "metadata": {
        "colab": {
          "base_uri": "https://localhost:8080/",
          "height": 493
        },
        "id": "W266VVsqHeyT",
        "outputId": "775c465d-72dd-4ea1-a1fe-cda6b068f61d"
      },
      "execution_count": null,
      "outputs": [
        {
          "output_type": "display_data",
          "data": {
            "text/plain": [
              "<Figure size 1440x576 with 4 Axes>"
            ],
            "image/png": "[encoded data removed]"
          },
          "metadata": {}
        }
      ]
    },
    {
      "cell_type": "markdown",
      "source": [
        "### Question 6. Use the elbow method to find the optimal value of k."
      ],
      "metadata": {
        "id": "Gw6JOvXjOO1q"
      }
    },
    {
      "cell_type": "code",
      "source": [
        "# YOUR CODE HERE"
      ],
      "metadata": {
        "id": "wIJr6YJTOloD"
      },
      "execution_count": null,
      "outputs": []
    },
    {
      "cell_type": "markdown",
      "source": [
        "The inertia is defined as the sum of squared distances of each sample to their closest cluster center. This is the cost function that the KMeans algorithm minimizes. From k=4 we see that the reduction in the cost function is much lower than for example for k=1."
      ],
      "metadata": {
        "id": "Hj1M7W2eQDm_"
      }
    },
    {
      "cell_type": "markdown",
      "source": [
        "### Question 7. Use an AgglomerativeClustering model, with 5 clusters, euclidean distance and average linkage to partition the grades"
      ],
      "metadata": {
        "id": "miXNzkfPxvit"
      }
    },
    {
      "cell_type": "code",
      "source": [
        "# YOUR CODE HERE\n",
        "from sklearn.cluster import AgglomerativeClustering"
      ],
      "metadata": {
        "id": "bVQmf7YHxz_w"
      },
      "execution_count": null,
      "outputs": []
    },
    {
      "cell_type": "markdown",
      "source": [
        "### Question 8. Use the one-dimensional scatter plot to show how the clusters were formed with the hierachical clustering model trained above (color grades by predicted model label)"
      ],
      "metadata": {
        "id": "CGK_uYNix1-x"
      }
    },
    {
      "cell_type": "code",
      "source": [
        "# YOUR CODE HERE"
      ],
      "metadata": {
        "id": "upfBlX3Ix65a"
      },
      "execution_count": null,
      "outputs": []
    },
    {
      "cell_type": "markdown",
      "source": [
        "### Question 9. Plot the dendrogram for the hierarchical clustering model trained above"
      ],
      "metadata": {
        "id": "riUcNZpAx84x"
      }
    },
    {
      "cell_type": "code",
      "source": [
        "# YOUR CODE HERE"
      ],
      "metadata": {
        "id": "DpmADyLjyBYL"
      },
      "execution_count": null,
      "outputs": []
    }
  ]
}