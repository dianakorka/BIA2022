{
  "nbformat": 4,
  "nbformat_minor": 0,
  "metadata": {
    "colab": {
      "name": "Exercise1_week3.ipynb",
      "provenance": [],
      "collapsed_sections": [],
      "include_colab_link": true
    },
    "kernelspec": {
      "name": "python3",
      "display_name": "Python 3"
    }
  },
  "cells": [
    {
      "cell_type": "markdown",
      "metadata": {
        "id": "view-in-github",
        "colab_type": "text"
      },
      "source": [
        "<a href=\"https://colab.research.google.com/github/michalis0/Business-Intelligence-and-Analytics/blob/master/3%20-%20Pandas%20-%20Data%20Cleaning/Exercises/solutions_w3/Exercise1_week3_sol.ipynb\" target=\"_parent\"><img src=\"https://colab.research.google.com/assets/colab-badge.svg\" alt=\"Open In Colab\"/></a>"
      ]
    },
    {
      "cell_type": "markdown",
      "metadata": {
        "id": "AtYsn1mvhp4K"
      },
      "source": [
        "\n",
        "# EDA and data visualization\n",
        "\n",
        "## Exercises\n",
        "\n",
        "In this exercise you're going to put in practice what you just learned and implement the same types of charts.<br>\n",
        "Thoses chart will help you to answer questions.\n",
        "\n",
        "For this, we're going to use the same data-set we used in the walkthroughs.<br>\n",
        "\n",
        "***Beware ! You need to clean the data-set to be able to answer the questions ;)***"
      ]
    },
    {
      "cell_type": "markdown",
      "metadata": {
        "id": "JYocJ-4liOLV"
      },
      "source": [
        "## 1. Imports, data set and cleaning"
      ]
    },
    {
      "cell_type": "markdown",
      "metadata": {
        "id": "RijUQ0qCjW8t"
      },
      "source": [
        "###1.1 Imports"
      ]
    },
    {
      "cell_type": "markdown",
      "metadata": {
        "id": "cnpLDT6B1ZBa"
      },
      "source": [
        "First, you have to import the libraries you wil need. "
      ]
    },
    {
      "cell_type": "code",
      "metadata": {
        "id": "cGLLr160hapX"
      },
      "source": [
        "#do the imports here\n",
        "#Don't forget to import seaborn and scatter_matrix\n",
        "import pandas as pd\n",
        "import seaborn as sns\n",
        "from pandas.plotting import scatter_matrix\n",
        "import matplotlib.pyplot as plt\n"
      ],
      "execution_count": 1,
      "outputs": []
    },
    {
      "cell_type": "markdown",
      "metadata": {
        "id": "XXOsSdIejaFv"
      },
      "source": [
        "###1.2 Load the data-set"
      ]
    },
    {
      "cell_type": "markdown",
      "metadata": {
        "id": "on331IB127tE"
      },
      "source": [
        "Here is the url to retreive the data set : https://media.githubusercontent.com/media/michalis0/Business-Intelligence-and-Analytics/master/data/Telco-Customer-Churn.csv\n",
        "\n",
        "\n"
      ]
    },
    {
      "cell_type": "code",
      "metadata": {
        "id": "xFyebb9sitQQ",
        "colab": {
          "base_uri": "https://localhost:8080/",
          "height": 386
        },
        "outputId": "203e9bb2-d67a-4041-bd3d-468ea538ad20"
      },
      "source": [
        "# import data set \n",
        "data = pd.read_csv(\"https://media.githubusercontent.com/media/michalis0/Business-Intelligence-and-Analytics/master/data/Telco-Customer-Churn.csv\")\n",
        "data.head()"
      ],
      "execution_count": 5,
      "outputs": [
        {
          "output_type": "execute_result",
          "data": {
            "text/html": [
              "\n",
              "  <div id=\"df-b4a76089-5f68-413d-9129-58f3785a7f58\">\n",
              "    <div class=\"colab-df-container\">\n",
              "      <div>\n",
              "<style scoped>\n",
              "    .dataframe tbody tr th:only-of-type {\n",
              "        vertical-align: middle;\n",
              "    }\n",
              "\n",
              "    .dataframe tbody tr th {\n",
              "        vertical-align: top;\n",
              "    }\n",
              "\n",
              "    .dataframe thead th {\n",
              "        text-align: right;\n",
              "    }\n",
              "</style>\n",
              "<table border=\"1\" class=\"dataframe\">\n",
              "  <thead>\n",
              "    <tr style=\"text-align: right;\">\n",
              "      <th></th>\n",
              "      <th>customerID</th>\n",
              "      <th>gender</th>\n",
              "      <th>SeniorCitizen</th>\n",
              "      <th>Partner</th>\n",
              "      <th>Dependents</th>\n",
              "      <th>tenure</th>\n",
              "      <th>PhoneService</th>\n",
              "      <th>MultipleLines</th>\n",
              "      <th>InternetService</th>\n",
              "      <th>OnlineSecurity</th>\n",
              "      <th>...</th>\n",
              "      <th>DeviceProtection</th>\n",
              "      <th>TechSupport</th>\n",
              "      <th>StreamingTV</th>\n",
              "      <th>StreamingMovies</th>\n",
              "      <th>Contract</th>\n",
              "      <th>PaperlessBilling</th>\n",
              "      <th>PaymentMethod</th>\n",
              "      <th>MonthlyCharges</th>\n",
              "      <th>TotalCharges</th>\n",
              "      <th>Churn</th>\n",
              "    </tr>\n",
              "  </thead>\n",
              "  <tbody>\n",
              "    <tr>\n",
              "      <th>0</th>\n",
              "      <td>7590-VHVEG</td>\n",
              "      <td>Female</td>\n",
              "      <td>0</td>\n",
              "      <td>Yes</td>\n",
              "      <td>No</td>\n",
              "      <td>1</td>\n",
              "      <td>No</td>\n",
              "      <td>No phone service</td>\n",
              "      <td>DSL</td>\n",
              "      <td>No</td>\n",
              "      <td>...</td>\n",
              "      <td>No</td>\n",
              "      <td>No</td>\n",
              "      <td>No</td>\n",
              "      <td>No</td>\n",
              "      <td>Month-to-month</td>\n",
              "      <td>Yes</td>\n",
              "      <td>Electronic check</td>\n",
              "      <td>29.85</td>\n",
              "      <td>29.85</td>\n",
              "      <td>No</td>\n",
              "    </tr>\n",
              "    <tr>\n",
              "      <th>1</th>\n",
              "      <td>5575-GNVDE</td>\n",
              "      <td>Male</td>\n",
              "      <td>0</td>\n",
              "      <td>No</td>\n",
              "      <td>No</td>\n",
              "      <td>34</td>\n",
              "      <td>Yes</td>\n",
              "      <td>No</td>\n",
              "      <td>DSL</td>\n",
              "      <td>Yes</td>\n",
              "      <td>...</td>\n",
              "      <td>Yes</td>\n",
              "      <td>No</td>\n",
              "      <td>No</td>\n",
              "      <td>No</td>\n",
              "      <td>One year</td>\n",
              "      <td>No</td>\n",
              "      <td>Mailed check</td>\n",
              "      <td>56.95</td>\n",
              "      <td>1889.5</td>\n",
              "      <td>No</td>\n",
              "    </tr>\n",
              "    <tr>\n",
              "      <th>2</th>\n",
              "      <td>3668-QPYBK</td>\n",
              "      <td>Male</td>\n",
              "      <td>0</td>\n",
              "      <td>No</td>\n",
              "      <td>No</td>\n",
              "      <td>2</td>\n",
              "      <td>Yes</td>\n",
              "      <td>No</td>\n",
              "      <td>DSL</td>\n",
              "      <td>Yes</td>\n",
              "      <td>...</td>\n",
              "      <td>No</td>\n",
              "      <td>No</td>\n",
              "      <td>No</td>\n",
              "      <td>No</td>\n",
              "      <td>Month-to-month</td>\n",
              "      <td>Yes</td>\n",
              "      <td>Mailed check</td>\n",
              "      <td>53.85</td>\n",
              "      <td>108.15</td>\n",
              "      <td>Yes</td>\n",
              "    </tr>\n",
              "    <tr>\n",
              "      <th>3</th>\n",
              "      <td>7795-CFOCW</td>\n",
              "      <td>Male</td>\n",
              "      <td>0</td>\n",
              "      <td>No</td>\n",
              "      <td>No</td>\n",
              "      <td>45</td>\n",
              "      <td>No</td>\n",
              "      <td>No phone service</td>\n",
              "      <td>DSL</td>\n",
              "      <td>Yes</td>\n",
              "      <td>...</td>\n",
              "      <td>Yes</td>\n",
              "      <td>Yes</td>\n",
              "      <td>No</td>\n",
              "      <td>No</td>\n",
              "      <td>One year</td>\n",
              "      <td>No</td>\n",
              "      <td>Bank transfer (automatic)</td>\n",
              "      <td>42.30</td>\n",
              "      <td>1840.75</td>\n",
              "      <td>No</td>\n",
              "    </tr>\n",
              "    <tr>\n",
              "      <th>4</th>\n",
              "      <td>9237-HQITU</td>\n",
              "      <td>Female</td>\n",
              "      <td>0</td>\n",
              "      <td>No</td>\n",
              "      <td>No</td>\n",
              "      <td>2</td>\n",
              "      <td>Yes</td>\n",
              "      <td>No</td>\n",
              "      <td>Fiber optic</td>\n",
              "      <td>No</td>\n",
              "      <td>...</td>\n",
              "      <td>No</td>\n",
              "      <td>No</td>\n",
              "      <td>No</td>\n",
              "      <td>No</td>\n",
              "      <td>Month-to-month</td>\n",
              "      <td>Yes</td>\n",
              "      <td>Electronic check</td>\n",
              "      <td>70.70</td>\n",
              "      <td>151.65</td>\n",
              "      <td>Yes</td>\n",
              "    </tr>\n",
              "  </tbody>\n",
              "</table>\n",
              "<p>5 rows × 21 columns</p>\n",
              "</div>\n",
              "      <button class=\"colab-df-convert\" onclick=\"convertToInteractive('df-b4a76089-5f68-413d-9129-58f3785a7f58')\"\n",
              "              title=\"Convert this dataframe to an interactive table.\"\n",
              "              style=\"display:none;\">\n",
              "        \n",
              "  <svg xmlns=\"http://www.w3.org/2000/svg\" height=\"24px\"viewBox=\"0 0 24 24\"\n",
              "       width=\"24px\">\n",
              "    <path d=\"M0 0h24v24H0V0z\" fill=\"none\"/>\n",
              "    <path d=\"M18.56 5.44l.94 2.06.94-2.06 2.06-.94-2.06-.94-.94-2.06-.94 2.06-2.06.94zm-11 1L8.5 8.5l.94-2.06 2.06-.94-2.06-.94L8.5 2.5l-.94 2.06-2.06.94zm10 10l.94 2.06.94-2.06 2.06-.94-2.06-.94-.94-2.06-.94 2.06-2.06.94z\"/><path d=\"M17.41 7.96l-1.37-1.37c-.4-.4-.92-.59-1.43-.59-.52 0-1.04.2-1.43.59L10.3 9.45l-7.72 7.72c-.78.78-.78 2.05 0 2.83L4 21.41c.39.39.9.59 1.41.59.51 0 1.02-.2 1.41-.59l7.78-7.78 2.81-2.81c.8-.78.8-2.07 0-2.86zM5.41 20L4 18.59l7.72-7.72 1.47 1.35L5.41 20z\"/>\n",
              "  </svg>\n",
              "      </button>\n",
              "      \n",
              "  <style>\n",
              "    .colab-df-container {\n",
              "      display:flex;\n",
              "      flex-wrap:wrap;\n",
              "      gap: 12px;\n",
              "    }\n",
              "\n",
              "    .colab-df-convert {\n",
              "      background-color: #E8F0FE;\n",
              "      border: none;\n",
              "      border-radius: 50%;\n",
              "      cursor: pointer;\n",
              "      display: none;\n",
              "      fill: #1967D2;\n",
              "      height: 32px;\n",
              "      padding: 0 0 0 0;\n",
              "      width: 32px;\n",
              "    }\n",
              "\n",
              "    .colab-df-convert:hover {\n",
              "      background-color: #E2EBFA;\n",
              "      box-shadow: 0px 1px 2px rgba(60, 64, 67, 0.3), 0px 1px 3px 1px rgba(60, 64, 67, 0.15);\n",
              "      fill: #174EA6;\n",
              "    }\n",
              "\n",
              "    [theme=dark] .colab-df-convert {\n",
              "      background-color: #3B4455;\n",
              "      fill: #D2E3FC;\n",
              "    }\n",
              "\n",
              "    [theme=dark] .colab-df-convert:hover {\n",
              "      background-color: #434B5C;\n",
              "      box-shadow: 0px 1px 3px 1px rgba(0, 0, 0, 0.15);\n",
              "      filter: drop-shadow(0px 1px 2px rgba(0, 0, 0, 0.3));\n",
              "      fill: #FFFFFF;\n",
              "    }\n",
              "  </style>\n",
              "\n",
              "      <script>\n",
              "        const buttonEl =\n",
              "          document.querySelector('#df-b4a76089-5f68-413d-9129-58f3785a7f58 button.colab-df-convert');\n",
              "        buttonEl.style.display =\n",
              "          google.colab.kernel.accessAllowed ? 'block' : 'none';\n",
              "\n",
              "        async function convertToInteractive(key) {\n",
              "          const element = document.querySelector('#df-b4a76089-5f68-413d-9129-58f3785a7f58');\n",
              "          const dataTable =\n",
              "            await google.colab.kernel.invokeFunction('convertToInteractive',\n",
              "                                                     [key], {});\n",
              "          if (!dataTable) return;\n",
              "\n",
              "          const docLinkHtml = 'Like what you see? Visit the ' +\n",
              "            '<a target=\"_blank\" href=https://colab.research.google.com/notebooks/data_table.ipynb>data table notebook</a>'\n",
              "            + ' to learn more about interactive tables.';\n",
              "          element.innerHTML = '';\n",
              "          dataTable['output_type'] = 'display_data';\n",
              "          await google.colab.output.renderOutput(dataTable, element);\n",
              "          const docLink = document.createElement('div');\n",
              "          docLink.innerHTML = docLinkHtml;\n",
              "          element.appendChild(docLink);\n",
              "        }\n",
              "      </script>\n",
              "    </div>\n",
              "  </div>\n",
              "  "
            ],
            "text/plain": [
              "   customerID  gender  SeniorCitizen Partner Dependents  tenure PhoneService  \\\n",
              "0  7590-VHVEG  Female              0     Yes         No       1           No   \n",
              "1  5575-GNVDE    Male              0      No         No      34          Yes   \n",
              "2  3668-QPYBK    Male              0      No         No       2          Yes   \n",
              "3  7795-CFOCW    Male              0      No         No      45           No   \n",
              "4  9237-HQITU  Female              0      No         No       2          Yes   \n",
              "\n",
              "      MultipleLines InternetService OnlineSecurity  ... DeviceProtection  \\\n",
              "0  No phone service             DSL             No  ...               No   \n",
              "1                No             DSL            Yes  ...              Yes   \n",
              "2                No             DSL            Yes  ...               No   \n",
              "3  No phone service             DSL            Yes  ...              Yes   \n",
              "4                No     Fiber optic             No  ...               No   \n",
              "\n",
              "  TechSupport StreamingTV StreamingMovies        Contract PaperlessBilling  \\\n",
              "0          No          No              No  Month-to-month              Yes   \n",
              "1          No          No              No        One year               No   \n",
              "2          No          No              No  Month-to-month              Yes   \n",
              "3         Yes          No              No        One year               No   \n",
              "4          No          No              No  Month-to-month              Yes   \n",
              "\n",
              "               PaymentMethod MonthlyCharges  TotalCharges Churn  \n",
              "0           Electronic check          29.85         29.85    No  \n",
              "1               Mailed check          56.95        1889.5    No  \n",
              "2               Mailed check          53.85        108.15   Yes  \n",
              "3  Bank transfer (automatic)          42.30       1840.75    No  \n",
              "4           Electronic check          70.70        151.65   Yes  \n",
              "\n",
              "[5 rows x 21 columns]"
            ]
          },
          "metadata": {},
          "execution_count": 5
        }
      ]
    },
    {
      "cell_type": "markdown",
      "metadata": {
        "id": "4wzFhxvh8Mrb"
      },
      "source": [
        "### 1.3 Converting column types\n"
      ]
    },
    {
      "cell_type": "code",
      "metadata": {
        "id": "699nhd2x8SZq",
        "colab": {
          "base_uri": "https://localhost:8080/"
        },
        "outputId": "07a634f6-b6e0-4873-9e41-f797f41eb9e0"
      },
      "source": [
        "#Take a look at the column types\n",
        "data.dtypes"
      ],
      "execution_count": 6,
      "outputs": [
        {
          "output_type": "execute_result",
          "data": {
            "text/plain": [
              "customerID           object\n",
              "gender               object\n",
              "SeniorCitizen         int64\n",
              "Partner              object\n",
              "Dependents           object\n",
              "tenure                int64\n",
              "PhoneService         object\n",
              "MultipleLines        object\n",
              "InternetService      object\n",
              "OnlineSecurity       object\n",
              "OnlineBackup         object\n",
              "DeviceProtection     object\n",
              "TechSupport          object\n",
              "StreamingTV          object\n",
              "StreamingMovies      object\n",
              "Contract             object\n",
              "PaperlessBilling     object\n",
              "PaymentMethod        object\n",
              "MonthlyCharges      float64\n",
              "TotalCharges         object\n",
              "Churn                object\n",
              "dtype: object"
            ]
          },
          "metadata": {},
          "execution_count": 6
        }
      ]
    },
    {
      "cell_type": "code",
      "metadata": {
        "id": "KmNZ-IeY8ZmV"
      },
      "source": [
        "#Convert Total Charges to numeric, use error = 'coerce'\n",
        "data[\"TotalCharges\"] = pd.to_numeric(data[\"TotalCharges\"], errors = 'coerce')"
      ],
      "execution_count": 7,
      "outputs": []
    },
    {
      "cell_type": "code",
      "metadata": {
        "id": "T7tOPB4F8wh_"
      },
      "source": [
        "data.dtypes"
      ],
      "execution_count": null,
      "outputs": []
    },
    {
      "cell_type": "code",
      "metadata": {
        "id": "D4qLmpwT8-K_"
      },
      "source": [
        "# What columns can be converted to the categorical type?\n",
        "# Convert 3 of themthem here\n",
        "\n",
        "data[\"gender\"] = data[\"gender\"].astype(\"category\")\n",
        "data[\"InternetService\"] = data[\"InternetService\"].astype(\"category\")\n",
        "data[\"PaymentMethod\"] = data[\"PaymentMethod\"].astype(\"category\")\n"
      ],
      "execution_count": null,
      "outputs": []
    },
    {
      "cell_type": "markdown",
      "metadata": {
        "id": "L7HXDweH9mQT"
      },
      "source": [
        "### 1.4 Boolean values\n",
        "\n",
        "Remeber that boolean values are either True or False. Use the `value_counts()` function to see what values compose the `seniorCitizen` column."
      ]
    },
    {
      "cell_type": "code",
      "metadata": {
        "id": "HrHH1V5w-HfH"
      },
      "source": [
        "data[\"SeniorCitizen\"].value_counts()"
      ],
      "execution_count": null,
      "outputs": []
    },
    {
      "cell_type": "markdown",
      "metadata": {
        "id": "oPPs11sN-HvW"
      },
      "source": [
        "If you did it right, you should see that the column is composed only of 0's and 1's. We could change the 1's for `True` and the 0's for `False`.\n",
        "\n",
        "You can use the `astype` function for this, just pass 'bool' as an argument instead of 'category'.\n",
        "\n",
        "What other columns can be converted to this type? Convert at least 3 of them."
      ]
    },
    {
      "cell_type": "code",
      "metadata": {
        "id": "M5298v19-cLx"
      },
      "source": [
        "data[\"SeniorCitizen\"] = data[\"SeniorCitizen\"].astype(\"bool\")\n",
        "data[\"Partner\"] = data[\"Partner\"].astype(\"bool\")\n",
        "data[\"Dependents\"] = data[\"Dependents\"].astype(\"bool\")"
      ],
      "execution_count": null,
      "outputs": []
    },
    {
      "cell_type": "markdown",
      "metadata": {
        "id": "kFaAuHmujjsG"
      },
      "source": [
        "###1.5 Cleaning the NaN value"
      ]
    },
    {
      "cell_type": "markdown",
      "metadata": {
        "id": "7fPhklq63ghP"
      },
      "source": [
        "Now since the data set contains NaN values, you will need to clean first before the Analysis. "
      ]
    },
    {
      "cell_type": "code",
      "metadata": {
        "id": "Z3tQFRjAi4gZ"
      },
      "source": [
        "data.isnull().sum()"
      ],
      "execution_count": null,
      "outputs": []
    },
    {
      "cell_type": "code",
      "metadata": {
        "id": "fNA0mpRwqZIj"
      },
      "source": [
        "data.shape"
      ],
      "execution_count": null,
      "outputs": []
    },
    {
      "cell_type": "code",
      "metadata": {
        "id": "Gk6fbuU8EiIL"
      },
      "source": [
        "data = data.dropna()"
      ],
      "execution_count": null,
      "outputs": []
    },
    {
      "cell_type": "markdown",
      "metadata": {
        "id": "hBAgHL0jjB-A"
      },
      "source": [
        "##2. First analysis\n",
        "**question:**\n",
        "What is the proportion of women in our Data?"
      ]
    },
    {
      "cell_type": "code",
      "metadata": {
        "id": "4JJPX8QqkFY9"
      },
      "source": [
        "values = data[\"gender\"].value_counts()\n",
        "proportion = values[\"Female\"]/(values[\"Female\"] + values[\"Male\"])\n",
        "\n",
        "print(\"Women account for {}% of our customers.\".format(round(proportion*100,2 )))"
      ],
      "execution_count": null,
      "outputs": []
    },
    {
      "cell_type": "markdown",
      "metadata": {
        "id": "oQsmwPedkdiN"
      },
      "source": [
        "##3. Histogram\n",
        "\n",
        "Now, plot an histogram of the `TotalCharges` column, use 20 bins.\n"
      ]
    },
    {
      "cell_type": "code",
      "metadata": {
        "id": "IR6u5OuflDfX"
      },
      "source": [
        "data[\"TotalCharges\"].hist(bins = 20)"
      ],
      "execution_count": null,
      "outputs": []
    },
    {
      "cell_type": "markdown",
      "metadata": {
        "id": "-F86Xg0erSRC"
      },
      "source": [
        "##4. Boxplot\n",
        "\n",
        "**question:** What are the mean, median, min and the value of the third quartile of the `MonthlyCharges` and `TotalCharges` ?<br>\n",
        "\n",
        "Plot both in one figure\n"
      ]
    },
    {
      "cell_type": "code",
      "metadata": {
        "id": "251-kJdnrzxf"
      },
      "source": [
        "#here for the visualization\n",
        "data.boxplot(column = [\"MonthlyCharges\", \"TotalCharges\"], figsize = (20,10))"
      ],
      "execution_count": null,
      "outputs": []
    },
    {
      "cell_type": "code",
      "metadata": {
        "id": "gs2HcETer6S6"
      },
      "source": [
        "#here for the numerical\n",
        "data[[\"MonthlyCharges\", \"TotalCharges\"]].describe()"
      ],
      "execution_count": null,
      "outputs": []
    },
    {
      "cell_type": "markdown",
      "metadata": {
        "id": "GkBnjB1jsLyl"
      },
      "source": [
        "## 5. Scatter Plot and lines\n"
      ]
    },
    {
      "cell_type": "markdown",
      "metadata": {
        "id": "vqIPh6zzsXqU"
      },
      "source": [
        "### 5.1 Scatter plot\n",
        "**question:** Is there a correlation between the `MonthlyCharges` and the `TotalCharges` ?"
      ]
    },
    {
      "cell_type": "code",
      "metadata": {
        "id": "ZbgTbWEltB0c"
      },
      "source": [
        "scat = data.plot.scatter(x = \"MonthlyCharges\", y = \"TotalCharges\")"
      ],
      "execution_count": null,
      "outputs": []
    },
    {
      "cell_type": "markdown",
      "metadata": {
        "id": "9AFfnMivupSb"
      },
      "source": [
        "### 5.2 Pair Grid\n",
        "**question:** could you find any correlation between one of those values: `tenure`, `MonthlyCharges`, `TotalCharges` ?\n",
        " (Use scatterplot)"
      ]
    },
    {
      "cell_type": "code",
      "metadata": {
        "id": "xePuV_YNwTeJ"
      },
      "source": [
        "scat2 = scatter_matrix(data[[\"tenure\", \"MonthlyCharges\", \"TotalCharges\"]], figsize=(10, 10), grid=True, s = 20)\n",
        "plt.suptitle('Scatter-matrix', size = 30, y = 0.93, x =0.55)\n",
        "plt.show()\n",
        "\n"
      ],
      "execution_count": null,
      "outputs": []
    },
    {
      "cell_type": "markdown",
      "metadata": {
        "id": "pmOC7u59Foyi"
      },
      "source": [
        "## 6. Heatmap and correlations\n",
        "Calculate the correlation DataFrame, and plot its heatmap."
      ]
    },
    {
      "cell_type": "code",
      "metadata": {
        "id": "9Qr8aL3ZF5-J"
      },
      "source": [
        "correlations = data.corr()\n",
        "heatmap = sns.heatmap(correlations)"
      ],
      "execution_count": null,
      "outputs": []
    }
  ]
}