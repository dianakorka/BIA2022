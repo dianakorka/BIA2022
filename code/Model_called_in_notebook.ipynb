{
  "nbformat": 4,
  "nbformat_minor": 0,
  "metadata": {
    "colab": {
      "name": "Model_called_in_notebook.ipynb",
      "provenance": [],
      "collapsed_sections": [],
      "include_colab_link": true
    },
    "kernelspec": {
      "name": "python3",
      "display_name": "Python 3"
    },
    "language_info": {
      "name": "python"
    }
  },
  "cells": [
    {
      "cell_type": "markdown",
      "metadata": {
        "id": "view-in-github",
        "colab_type": "text"
      },
      "source": [
        "<a href=\"https://colab.research.google.com/github/dianakorka/DMML/blob/main/code/Model_called_in_notebook.ipynb\" target=\"_parent\"><img src=\"https://colab.research.google.com/assets/colab-badge.svg\" alt=\"Open In Colab\"/></a>"
      ]
    },
    {
      "cell_type": "markdown",
      "source": [
        "## This notebook is to connect an auto-ml model from your notebook  \n",
        "It requires service account credentials in the form f a json file to be saved in the temp runtime of Colab (the file folder)."
      ],
      "metadata": {
        "id": "mBYCcd1RaHt9"
      }
    },
    {
      "cell_type": "code",
      "execution_count": null,
      "metadata": {
        "colab": {
          "base_uri": "https://localhost:8080/"
        },
        "id": "sXq1KMr2zkAz",
        "outputId": "c7be75ab-93ec-4030-bc4b-0572278e2252"
      },
      "outputs": [
        {
          "output_type": "stream",
          "name": "stdout",
          "text": [
            "Authenticated\n"
          ]
        }
      ],
      "source": [
        "from google.colab import auth\n",
        "\n",
        "auth.authenticate_user()\n",
        "print(\"Authenticated\")"
      ]
    },
    {
      "cell_type": "code",
      "source": [
        "!pip install google.cloud.automl"
      ],
      "metadata": {
        "id": "1c2MaFWs1NAF"
      },
      "execution_count": null,
      "outputs": []
    },
    {
      "cell_type": "code",
      "source": [
        "!pip install protobuf==3.19.0"
      ],
      "metadata": {
        "id": "wkxCvyv-102y",
        "colab": {
          "base_uri": "https://localhost:8080/"
        },
        "outputId": "576bd18c-9dfd-4db0-a8ad-0974c81a7648"
      },
      "execution_count": null,
      "outputs": [
        {
          "output_type": "stream",
          "name": "stdout",
          "text": [
            "Requirement already satisfied: protobuf==3.19.0 in /usr/local/lib/python3.7/dist-packages (3.19.0)\n"
          ]
        }
      ]
    },
    {
      "cell_type": "code",
      "source": [
        "import sys\n",
        "from google.api_core.client_options import ClientOptions\n",
        "from google.cloud import automl"
      ],
      "metadata": {
        "id": "sNaL0nd-_w4_"
      },
      "execution_count": null,
      "outputs": []
    },
    {
      "cell_type": "code",
      "source": [
        "def predict(content):\n",
        "    \"\"\"Predict.\"\"\"\n",
        "    # [START automl_language_text_classification_predict]\n",
        "    from google.cloud import automl\n",
        "\n",
        "    # TODO(developer): Uncomment and set the following variables\n",
        "    project_id = \"bsa-sandbox-101\"\n",
        "    model_id = \"TCN3237522983102709760\"\n",
        "    \n",
        "    #prediction_client = automl.PredictionServiceClient()\n",
        "\n",
        "    options = ClientOptions(api_endpoint='automl.googleapis.com')\n",
        "    #options = ClientOptions(api_endpoint='eu-automl.googleapis.com') # variant for models saved in EU zone on GCP\n",
        "\n",
        "    prediction_client = automl.PredictionServiceClient.from_service_account_json(\"bsa-sandbox-101-568a2b3c979b.json\", client_options=options)\n",
        "\n",
        "    # Get the full path of the model.\n",
        "    model_full_id = automl.AutoMlClient.model_path(project_id, \"us-central1\", model_id)\n",
        "    #model_full_id = automl.AutoMlClient.model_path(project_id, \"eu\", model_id) # variant for models saved in EU zone on GCP\n",
        "\n",
        "    # Supported mime_types: 'text/plain', 'text/html'\n",
        "    # https://cloud.google.com/automl/docs/reference/rpc/google.cloud.automl.v1#textsnippet\n",
        "    text_snippet = automl.TextSnippet(content=content, mime_type=\"text/plain\")\n",
        "    payload = automl.ExamplePayload(text_snippet=text_snippet)\n",
        "\n",
        "    response = prediction_client.predict(name= model_full_id, payload=payload)\n",
        "\n",
        "    #return response.payload\n",
        "    for annotation_payload in response.payload:\n",
        "        print(u\"Predicted class name: {}\".format(annotation_payload.display_name))\n",
        "        print(\n",
        "            u\"Predicted class score: {}\".format(annotation_payload.classification.score)\n",
        "        )"
      ],
      "metadata": {
        "id": "3VMD9y_Q_sxd"
      },
      "execution_count": null,
      "outputs": []
    },
    {
      "cell_type": "code",
      "source": [
        "#import os\n",
        "\n",
        "#os.environ[\"GOOGLE_APPLICATION_CREDENTIALS\"] = \"/content/bsa-sandbox-101-568a2b3c979b.json\""
      ],
      "metadata": {
        "id": "CH4Evh3yAucz"
      },
      "execution_count": null,
      "outputs": []
    },
    {
      "cell_type": "code",
      "source": [
        "predict(\"Je suis à la maison\")"
      ],
      "metadata": {
        "colab": {
          "base_uri": "https://localhost:8080/"
        },
        "id": "oGUGeqamAB57",
        "outputId": "875db199-e629-44bd-b125-7a77ccb4fa07"
      },
      "execution_count": null,
      "outputs": [
        {
          "output_type": "stream",
          "name": "stdout",
          "text": [
            "Predicted class name: A1\n",
            "Predicted class score: 0.9124296307563782\n",
            "Predicted class name: A2\n",
            "Predicted class score: 0.0847877487540245\n",
            "Predicted class name: B1\n",
            "Predicted class score: 0.0027825459837913513\n",
            "Predicted class name: C2\n",
            "Predicted class score: 3.3396341247993178e-09\n",
            "Predicted class name: B2\n",
            "Predicted class score: 2.559209288932607e-09\n",
            "Predicted class name: C1\n",
            "Predicted class score: 8.722343680656053e-11\n"
          ]
        }
      ]
    }
  ]
}