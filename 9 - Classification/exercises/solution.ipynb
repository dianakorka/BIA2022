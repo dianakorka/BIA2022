{
  "nbformat": 4,
  "nbformat_minor": 0,
  "metadata": {
    "colab": {
      "name": "Exercises_Classification_1_Correction.ipynb",
      "provenance": [],
      "include_colab_link": true
    },
    "kernelspec": {
      "display_name": "Python 3",
      "language": "python",
      "name": "python3"
    },
    "language_info": {
      "codemirror_mode": {
        "name": "ipython",
        "version": 3
      },
      "file_extension": ".py",
      "mimetype": "text/x-python",
      "name": "python",
      "nbconvert_exporter": "python",
      "pygments_lexer": "ipython3",
      "version": "3.6.9"
    }
  },
  "cells": [
    {
      "cell_type": "markdown",
      "metadata": {
        "id": "view-in-github",
        "colab_type": "text"
      },
      "source": [
        "<a href=\"https://colab.research.google.com/github/michalis0/Business-Intelligence-and-Analytics-Private/blob/main/9%20-%20Classification/exercises/solution.ipynb\" target=\"_parent\"><img src=\"https://colab.research.google.com/assets/colab-badge.svg\" alt=\"Open In Colab\"/></a>"
      ]
    },
    {
      "cell_type": "markdown",
      "metadata": {
        "id": "R1BSf8GX2sQd"
      },
      "source": [
        "# Classification\n",
        "\n",
        "## Logistic Regression \n",
        "\n",
        "In this lab we will explore logistic regression which is a well known method for classification problems. We will work with a hearth disease data-set, and we will try to predict whether the patient has a heart disease or not.\n",
        "\n",
        "\n",
        "\n",
        "![Heart](https://img.webmd.com/dtmcms/live/webmd/consumer_assets/site_images/articles/health_tools/how_heart_disease_affects_your_body_slideshow/493ss_thinkstock_rf_heart_anatomy_illustration.jpg)\n"
      ]
    },
    {
      "cell_type": "code",
      "metadata": {
        "id": "2D9mQhcj2sQe",
        "outputId": "5c39887a-f2f4-47d8-eacd-5c00f38709f0",
        "colab": {
          "base_uri": "https://localhost:8080/"
        }
      },
      "source": [
        "#Load the necessary libraries\n",
        "%matplotlib inline\n",
        "import numpy as np\n",
        "import matplotlib.pyplot as plt\n",
        "from matplotlib import collections  as mc\n",
        "%load_ext autoreload\n",
        "%autoreload 2\n",
        "import pandas as pd \n",
        "import seaborn as sns\n",
        "from sklearn.preprocessing import LabelEncoder, OneHotEncoder\n",
        "sns.set_style(\"white\")"
      ],
      "execution_count": 57,
      "outputs": [
        {
          "output_type": "stream",
          "name": "stdout",
          "text": [
            "The autoreload extension is already loaded. To reload it, use:\n",
            "  %reload_ext autoreload\n"
          ]
        }
      ]
    },
    {
      "cell_type": "code",
      "metadata": {
        "id": "Q1CKWYwc2sQh"
      },
      "source": [
        "np.random.seed = 72"
      ],
      "execution_count": 58,
      "outputs": []
    },
    {
      "cell_type": "markdown",
      "metadata": {
        "id": "bTVsCvCv2sQl"
      },
      "source": [
        "### Load data\n",
        "\n",
        "We will start with the hear disease data-set. Here's a description of the attributes in the data-set:\n",
        "\n",
        "1. `age`\n",
        "2. `sex`\n",
        "3. `cp`: chest pain type (4 values)\n",
        "4. `trestbps`: resting blood pressure\n",
        "5. `chol`: serum cholestoral in mg/dl\n",
        "6. `fbs`: fasting blood sugar > 120 mg/dl\n",
        "7. `restecg`: resting electrocardiographic results (values 0,1,2)\n",
        "8. `thalach`: maximum heart rate achieved\n",
        "9. `exang`: exercise induced angina\n",
        "10. `target`: presence of heart disease (1), absence of heart disease(0)\n",
        "\n",
        "![ECG](https://media.eurekalert.org/multimedia_prod/pub/web/230705_web.jpg)\n"
      ]
    },
    {
      "cell_type": "code",
      "metadata": {
        "id": "5trH0DXt2sQl",
        "colab": {
          "base_uri": "https://localhost:8080/",
          "height": 206
        },
        "outputId": "fdb85d71-995b-4aae-8cf1-b3d65ed9a8a3"
      },
      "source": [
        "# data-set: heart.csv\n",
        "df = pd.read_csv(\"https://media.githubusercontent.com/media/michalis0/Business-Intelligence-and-Analytics/master/data/heart.csv\")\n",
        "df.head()"
      ],
      "execution_count": 59,
      "outputs": [
        {
          "output_type": "execute_result",
          "data": {
            "text/plain": [
              "   age sex cp  trestbps  chol  fbs restecg  thalach exang  target\n",
              "0   63   M  D       145   233  yes       A      150    no       1\n",
              "1   37   M  C       130   250   no       B      187    no       1\n",
              "2   41   F  B       130   204   no       A      172    no       1\n",
              "3   56   M  B       120   236   no       B      178    no       1\n",
              "4   57   F  A       120   354   no       B      163   yes       1"
            ],
            "text/html": [
              "\n",
              "  <div id=\"df-57a66df7-0e1b-4f70-9516-b7f447f8bb20\">\n",
              "    <div class=\"colab-df-container\">\n",
              "      <div>\n",
              "<style scoped>\n",
              "    .dataframe tbody tr th:only-of-type {\n",
              "        vertical-align: middle;\n",
              "    }\n",
              "\n",
              "    .dataframe tbody tr th {\n",
              "        vertical-align: top;\n",
              "    }\n",
              "\n",
              "    .dataframe thead th {\n",
              "        text-align: right;\n",
              "    }\n",
              "</style>\n",
              "<table border=\"1\" class=\"dataframe\">\n",
              "  <thead>\n",
              "    <tr style=\"text-align: right;\">\n",
              "      <th></th>\n",
              "      <th>age</th>\n",
              "      <th>sex</th>\n",
              "      <th>cp</th>\n",
              "      <th>trestbps</th>\n",
              "      <th>chol</th>\n",
              "      <th>fbs</th>\n",
              "      <th>restecg</th>\n",
              "      <th>thalach</th>\n",
              "      <th>exang</th>\n",
              "      <th>target</th>\n",
              "    </tr>\n",
              "  </thead>\n",
              "  <tbody>\n",
              "    <tr>\n",
              "      <th>0</th>\n",
              "      <td>63</td>\n",
              "      <td>M</td>\n",
              "      <td>D</td>\n",
              "      <td>145</td>\n",
              "      <td>233</td>\n",
              "      <td>yes</td>\n",
              "      <td>A</td>\n",
              "      <td>150</td>\n",
              "      <td>no</td>\n",
              "      <td>1</td>\n",
              "    </tr>\n",
              "    <tr>\n",
              "      <th>1</th>\n",
              "      <td>37</td>\n",
              "      <td>M</td>\n",
              "      <td>C</td>\n",
              "      <td>130</td>\n",
              "      <td>250</td>\n",
              "      <td>no</td>\n",
              "      <td>B</td>\n",
              "      <td>187</td>\n",
              "      <td>no</td>\n",
              "      <td>1</td>\n",
              "    </tr>\n",
              "    <tr>\n",
              "      <th>2</th>\n",
              "      <td>41</td>\n",
              "      <td>F</td>\n",
              "      <td>B</td>\n",
              "      <td>130</td>\n",
              "      <td>204</td>\n",
              "      <td>no</td>\n",
              "      <td>A</td>\n",
              "      <td>172</td>\n",
              "      <td>no</td>\n",
              "      <td>1</td>\n",
              "    </tr>\n",
              "    <tr>\n",
              "      <th>3</th>\n",
              "      <td>56</td>\n",
              "      <td>M</td>\n",
              "      <td>B</td>\n",
              "      <td>120</td>\n",
              "      <td>236</td>\n",
              "      <td>no</td>\n",
              "      <td>B</td>\n",
              "      <td>178</td>\n",
              "      <td>no</td>\n",
              "      <td>1</td>\n",
              "    </tr>\n",
              "    <tr>\n",
              "      <th>4</th>\n",
              "      <td>57</td>\n",
              "      <td>F</td>\n",
              "      <td>A</td>\n",
              "      <td>120</td>\n",
              "      <td>354</td>\n",
              "      <td>no</td>\n",
              "      <td>B</td>\n",
              "      <td>163</td>\n",
              "      <td>yes</td>\n",
              "      <td>1</td>\n",
              "    </tr>\n",
              "  </tbody>\n",
              "</table>\n",
              "</div>\n",
              "      <button class=\"colab-df-convert\" onclick=\"convertToInteractive('df-57a66df7-0e1b-4f70-9516-b7f447f8bb20')\"\n",
              "              title=\"Convert this dataframe to an interactive table.\"\n",
              "              style=\"display:none;\">\n",
              "        \n",
              "  <svg xmlns=\"http://www.w3.org/2000/svg\" height=\"24px\"viewBox=\"0 0 24 24\"\n",
              "       width=\"24px\">\n",
              "    <path d=\"M0 0h24v24H0V0z\" fill=\"none\"/>\n",
              "    <path d=\"M18.56 5.44l.94 2.06.94-2.06 2.06-.94-2.06-.94-.94-2.06-.94 2.06-2.06.94zm-11 1L8.5 8.5l.94-2.06 2.06-.94-2.06-.94L8.5 2.5l-.94 2.06-2.06.94zm10 10l.94 2.06.94-2.06 2.06-.94-2.06-.94-.94-2.06-.94 2.06-2.06.94z\"/><path d=\"M17.41 7.96l-1.37-1.37c-.4-.4-.92-.59-1.43-.59-.52 0-1.04.2-1.43.59L10.3 9.45l-7.72 7.72c-.78.78-.78 2.05 0 2.83L4 21.41c.39.39.9.59 1.41.59.51 0 1.02-.2 1.41-.59l7.78-7.78 2.81-2.81c.8-.78.8-2.07 0-2.86zM5.41 20L4 18.59l7.72-7.72 1.47 1.35L5.41 20z\"/>\n",
              "  </svg>\n",
              "      </button>\n",
              "      \n",
              "  <style>\n",
              "    .colab-df-container {\n",
              "      display:flex;\n",
              "      flex-wrap:wrap;\n",
              "      gap: 12px;\n",
              "    }\n",
              "\n",
              "    .colab-df-convert {\n",
              "      background-color: #E8F0FE;\n",
              "      border: none;\n",
              "      border-radius: 50%;\n",
              "      cursor: pointer;\n",
              "      display: none;\n",
              "      fill: #1967D2;\n",
              "      height: 32px;\n",
              "      padding: 0 0 0 0;\n",
              "      width: 32px;\n",
              "    }\n",
              "\n",
              "    .colab-df-convert:hover {\n",
              "      background-color: #E2EBFA;\n",
              "      box-shadow: 0px 1px 2px rgba(60, 64, 67, 0.3), 0px 1px 3px 1px rgba(60, 64, 67, 0.15);\n",
              "      fill: #174EA6;\n",
              "    }\n",
              "\n",
              "    [theme=dark] .colab-df-convert {\n",
              "      background-color: #3B4455;\n",
              "      fill: #D2E3FC;\n",
              "    }\n",
              "\n",
              "    [theme=dark] .colab-df-convert:hover {\n",
              "      background-color: #434B5C;\n",
              "      box-shadow: 0px 1px 3px 1px rgba(0, 0, 0, 0.15);\n",
              "      filter: drop-shadow(0px 1px 2px rgba(0, 0, 0, 0.3));\n",
              "      fill: #FFFFFF;\n",
              "    }\n",
              "  </style>\n",
              "\n",
              "      <script>\n",
              "        const buttonEl =\n",
              "          document.querySelector('#df-57a66df7-0e1b-4f70-9516-b7f447f8bb20 button.colab-df-convert');\n",
              "        buttonEl.style.display =\n",
              "          google.colab.kernel.accessAllowed ? 'block' : 'none';\n",
              "\n",
              "        async function convertToInteractive(key) {\n",
              "          const element = document.querySelector('#df-57a66df7-0e1b-4f70-9516-b7f447f8bb20');\n",
              "          const dataTable =\n",
              "            await google.colab.kernel.invokeFunction('convertToInteractive',\n",
              "                                                     [key], {});\n",
              "          if (!dataTable) return;\n",
              "\n",
              "          const docLinkHtml = 'Like what you see? Visit the ' +\n",
              "            '<a target=\"_blank\" href=https://colab.research.google.com/notebooks/data_table.ipynb>data table notebook</a>'\n",
              "            + ' to learn more about interactive tables.';\n",
              "          element.innerHTML = '';\n",
              "          dataTable['output_type'] = 'display_data';\n",
              "          await google.colab.output.renderOutput(dataTable, element);\n",
              "          const docLink = document.createElement('div');\n",
              "          docLink.innerHTML = docLinkHtml;\n",
              "          element.appendChild(docLink);\n",
              "        }\n",
              "      </script>\n",
              "    </div>\n",
              "  </div>\n",
              "  "
            ]
          },
          "metadata": {},
          "execution_count": 59
        }
      ]
    },
    {
      "cell_type": "code",
      "metadata": {
        "id": "yFUEig7y2sQp"
      },
      "source": [
        "from sklearn.linear_model import LogisticRegressionCV\n",
        "from sklearn.linear_model import LogisticRegression\n",
        "from sklearn.preprocessing import StandardScaler\n",
        "from sklearn import datasets"
      ],
      "execution_count": 60,
      "outputs": []
    },
    {
      "cell_type": "markdown",
      "metadata": {
        "id": "7BLOy4W32sQt"
      },
      "source": [
        "### Simple Logistic Regression\n",
        "\n",
        "Let's start with only 2 features: age and maximum heart rate achieved (`talach`). Define your features and target variable. "
      ]
    },
    {
      "cell_type": "code",
      "metadata": {
        "id": "ki6QRs6t2sQu"
      },
      "source": [
        "X = df[[\"age\", \"thalach\"]]\n",
        "y = df[\"target\"]"
      ],
      "execution_count": 61,
      "outputs": []
    },
    {
      "cell_type": "markdown",
      "metadata": {
        "id": "IjPq4TjY4I-C"
      },
      "source": [
        "Split your data set into train and test subsets. "
      ]
    },
    {
      "cell_type": "code",
      "metadata": {
        "id": "iNvVsTIp2sQx"
      },
      "source": [
        "from sklearn.model_selection import train_test_split\n",
        "X_train, X_test, y_train, y_test = train_test_split(X, y, test_size=0.3, random_state=72)"
      ],
      "execution_count": 62,
      "outputs": []
    },
    {
      "cell_type": "markdown",
      "metadata": {
        "id": "UNpdZRMv2sQ0"
      },
      "source": [
        "#### Standardizing\n",
        "\n",
        "When you do standardization (or any other modification) to the training data, you have to apply the same modifications to the test data as well. Otherwise your test accuracy would be non-sense.\n",
        "\n",
        "Here we apply the same standardisation to test data, which means that we normalize the test data with mean and standard deviation from the train data.\n",
        "\n",
        "Use *StandardScaler()* for normalization. "
      ]
    },
    {
      "cell_type": "code",
      "metadata": {
        "id": "3h50T5Lh2sQ1",
        "colab": {
          "base_uri": "https://localhost:8080/"
        },
        "outputId": "fba533fa-8c03-4e20-b626-3f543d8f7454"
      },
      "source": [
        "scaler = StandardScaler()\n",
        "scaler.fit(X_train)"
      ],
      "execution_count": 63,
      "outputs": [
        {
          "output_type": "execute_result",
          "data": {
            "text/plain": [
              "StandardScaler()"
            ]
          },
          "metadata": {},
          "execution_count": 63
        }
      ]
    },
    {
      "cell_type": "markdown",
      "metadata": {
        "id": "g7a6TZVV3ZZi"
      },
      "source": [
        "Apply the standardization to your train and test set. "
      ]
    },
    {
      "cell_type": "code",
      "metadata": {
        "id": "xGjKow5Y2sQ4"
      },
      "source": [
        "#Apply normalization\n",
        "X_train = scaler.transform(X_train)\n",
        "X_test = scaler.transform(X_test)"
      ],
      "execution_count": 64,
      "outputs": []
    },
    {
      "cell_type": "markdown",
      "metadata": {
        "id": "Vw5rbTEV3hnH"
      },
      "source": [
        "Define your model. Try to use a logistic regression with cross validation (cv = 10). "
      ]
    },
    {
      "cell_type": "code",
      "metadata": {
        "id": "nExvGYiR2sQ7"
      },
      "source": [
        "# logistic regression with 5 fold cross validation\n",
        "LR_cv = LogisticRegressionCV(solver='lbfgs', cv=10, max_iter=100)"
      ],
      "execution_count": 65,
      "outputs": []
    },
    {
      "cell_type": "markdown",
      "metadata": {
        "id": "MyxTAXGs3nez"
      },
      "source": [
        "Fit your model now using the train set. "
      ]
    },
    {
      "cell_type": "code",
      "metadata": {
        "id": "F9WckoiSD8kv",
        "colab": {
          "base_uri": "https://localhost:8080/"
        },
        "outputId": "01fbb201-731b-4437-fa92-42d63778eff3"
      },
      "source": [
        "LR_cv.fit(X_train,y_train)"
      ],
      "execution_count": 66,
      "outputs": [
        {
          "output_type": "execute_result",
          "data": {
            "text/plain": [
              "LogisticRegressionCV(cv=10)"
            ]
          },
          "metadata": {},
          "execution_count": 66
        }
      ]
    },
    {
      "cell_type": "markdown",
      "metadata": {
        "id": "WCu8nkWe3sXG"
      },
      "source": [
        "Compare your train and test accuracy for your model."
      ]
    },
    {
      "cell_type": "code",
      "metadata": {
        "id": "-YK9xRp6CIyP",
        "colab": {
          "base_uri": "https://localhost:8080/"
        },
        "outputId": "a89a47ca-05c5-4d44-e4d5-8d915ea3e59c"
      },
      "source": [
        "# train accuracy with CV\n",
        "LR_cv.score(X_train,y_train)"
      ],
      "execution_count": 67,
      "outputs": [
        {
          "output_type": "execute_result",
          "data": {
            "text/plain": [
              "0.6886792452830188"
            ]
          },
          "metadata": {},
          "execution_count": 67
        }
      ]
    },
    {
      "cell_type": "code",
      "metadata": {
        "id": "4V2KZ7XTCNNK",
        "colab": {
          "base_uri": "https://localhost:8080/"
        },
        "outputId": "fa9918f6-cc28-4863-db63-2d5bdac17d6f"
      },
      "source": [
        "# test accuracy with CV\n",
        "LR_cv.score(X_test, y_test)"
      ],
      "execution_count": 68,
      "outputs": [
        {
          "output_type": "execute_result",
          "data": {
            "text/plain": [
              "0.7142857142857143"
            ]
          },
          "metadata": {},
          "execution_count": 68
        }
      ]
    },
    {
      "cell_type": "markdown",
      "metadata": {
        "id": "oAQUUePbnBz1"
      },
      "source": [
        "Have a look at the class distribution."
      ]
    },
    {
      "cell_type": "code",
      "metadata": {
        "id": "ugiJVKSqnErM",
        "colab": {
          "base_uri": "https://localhost:8080/",
          "height": 263
        },
        "outputId": "deb216f1-f9c5-405f-9019-09705dfb2e02"
      },
      "source": [
        "y.value_counts().plot.bar(color=['lightblue', 'orange'])\n",
        "plt.ylabel('Number of times the class occurs in dataset');"
      ],
      "execution_count": 69,
      "outputs": [
        {
          "output_type": "display_data",
          "data": {
            "text/plain": [
              "<Figure size 432x288 with 1 Axes>"
            ],
            "image/png": "[encoded data removed]"
          },
          "metadata": {}
        }
      ]
    },
    {
      "cell_type": "markdown",
      "metadata": {
        "id": "WYS-bFxJrZNw"
      },
      "source": [
        "Compute the baserate.\n",
        "\n",
        "$$Base rate = \\frac{Most\\_frequent\\_class}{Total\\_observations}$$"
      ]
    },
    {
      "cell_type": "code",
      "metadata": {
        "id": "EFsMa1m2r7pj",
        "colab": {
          "base_uri": "https://localhost:8080/"
        },
        "outputId": "119300eb-7e52-424e-cee7-3e41dfebd3ab"
      },
      "source": [
        "#Compute the base rate\n",
        "\n",
        "nbr_heart_disease = df[df[\"target\"] == 1].shape[0]\n",
        "print(\"Heart disease = \", nbr_heart_disease)\n",
        "\n",
        "nbr_no_heart_disease = df[df[\"target\"] == 0].shape[0]\n",
        "print(\"No heart disease = \", nbr_no_heart_disease)\n",
        "\n",
        "print(\"Baserate = \", max(nbr_heart_disease, nbr_no_heart_disease)/(nbr_heart_disease+ nbr_no_heart_disease))"
      ],
      "execution_count": 70,
      "outputs": [
        {
          "output_type": "stream",
          "name": "stdout",
          "text": [
            "Heart disease =  165\n",
            "No heart disease =  138\n",
            "Baserate =  0.5445544554455446\n"
          ]
        }
      ]
    },
    {
      "cell_type": "markdown",
      "metadata": {
        "id": "cjgp2sfVrb8B"
      },
      "source": [
        "Use the confusion_matrix module to show the confusion matrix."
      ]
    },
    {
      "cell_type": "code",
      "metadata": {
        "id": "2DsK5wpLrfSt",
        "colab": {
          "base_uri": "https://localhost:8080/"
        },
        "outputId": "4671650d-8bd5-4c6d-922d-e57ac3e98711"
      },
      "source": [
        "#Confusion matrix\n",
        "from sklearn.metrics import confusion_matrix\n",
        "cf = confusion_matrix(y_test, LR_cv.predict(X_test))\n",
        "print(cf)"
      ],
      "execution_count": 71,
      "outputs": [
        {
          "output_type": "stream",
          "name": "stdout",
          "text": [
            "[[25 13]\n",
            " [13 40]]\n"
          ]
        }
      ]
    },
    {
      "cell_type": "markdown",
      "metadata": {
        "id": "7okv5X22mr71"
      },
      "source": [
        "Plot the confusion matrix."
      ]
    },
    {
      "cell_type": "code",
      "metadata": {
        "id": "habDtqZpnO4r",
        "colab": {
          "base_uri": "https://localhost:8080/",
          "height": 295
        },
        "outputId": "461c8353-c304-45e5-ba89-c43125a20801"
      },
      "source": [
        "sns.heatmap(pd.DataFrame(confusion_matrix(y_test, LR_cv.predict(X_test))), annot=True, cmap='Blues', fmt='.4g')\n",
        "plt.xlabel('Predicted label')\n",
        "plt.ylabel('True labels')\n",
        "plt.title('Confusion Matrix');"
      ],
      "execution_count": 72,
      "outputs": [
        {
          "output_type": "display_data",
          "data": {
            "text/plain": [
              "<Figure size 432x288 with 2 Axes>"
            ],
            "image/png": "[encoded data removed]"
          },
          "metadata": {}
        }
      ]
    },
    {
      "cell_type": "markdown",
      "metadata": {
        "id": "K1CT6zVb2sRM"
      },
      "source": [
        "### Decision boundary\n",
        "\n",
        "As we used only two features for classification, we can observe the linear decision boundary made by the logistic regression in a 2D plot. You can also observe the mis-classified training points in this plot. Let's plot the decision boundary for the model with cross validation. "
      ]
    },
    {
      "cell_type": "code",
      "metadata": {
        "id": "QpsAOlN22sRM",
        "scrolled": false,
        "colab": {
          "base_uri": "https://localhost:8080/",
          "height": 279
        },
        "outputId": "931ebffb-32bb-4ef2-adad-376ae47fc86d"
      },
      "source": [
        "#Decision boundaries\n",
        "\n",
        "model = LogisticRegression()\n",
        "model.fit(X, y)\n",
        "\n",
        "\n",
        "plt.scatter(X['age'], X['thalach'], c=y, edgecolors='k', cmap=plt.cm.Paired)\n",
        "ax = plt.gca()\n",
        "x_vals = np.array(ax.get_xlim())\n",
        "y_vals = (-x_vals * model.coef_[0][0] - model.intercept_[0])/model.coef_[0][1]\n",
        "plt.plot(x_vals, y_vals, '--', c=\"red\")\n",
        "\n",
        "plt.xlabel('Age')\n",
        "plt.ylabel('Thalach')\n",
        "\n",
        "\n",
        "plt.xticks()\n",
        "plt.yticks()\n",
        "\n",
        "plt.show()"
      ],
      "execution_count": 73,
      "outputs": [
        {
          "output_type": "display_data",
          "data": {
            "text/plain": [
              "<Figure size 432x288 with 1 Axes>"
            ],
            "image/png": "[encoded data removed]"
          },
          "metadata": {}
        }
      ]
    },
    {
      "cell_type": "markdown",
      "metadata": {
        "id": "iwF1RHqA75K6"
      },
      "source": [
        "Try to predict the class and probability of correct classification for Age = 50, Thalach = 130 and Age = 70, Thalach = 160"
      ]
    },
    {
      "cell_type": "code",
      "metadata": {
        "id": "jxYtT2fU75K7",
        "colab": {
          "base_uri": "https://localhost:8080/"
        },
        "outputId": "da974652-6bfb-4feb-fe1c-e2af711632c7"
      },
      "source": [
        "print(model.predict([[50,130],[70,160]]))\n",
        "print(model.predict_proba([[50,130],[70,160]]))"
      ],
      "execution_count": 74,
      "outputs": [
        {
          "output_type": "stream",
          "name": "stdout",
          "text": [
            "[0 1]\n",
            "[[0.62982786 0.37017214]\n",
            " [0.42091442 0.57908558]]\n"
          ]
        },
        {
          "output_type": "stream",
          "name": "stderr",
          "text": [
            "/usr/local/lib/python3.7/dist-packages/sklearn/base.py:451: UserWarning: X does not have valid feature names, but LogisticRegression was fitted with feature names\n",
            "  \"X does not have valid feature names, but\"\n",
            "/usr/local/lib/python3.7/dist-packages/sklearn/base.py:451: UserWarning: X does not have valid feature names, but LogisticRegression was fitted with feature names\n",
            "  \"X does not have valid feature names, but\"\n"
          ]
        }
      ]
    },
    {
      "cell_type": "markdown",
      "metadata": {
        "id": "QRpOrur22sRV"
      },
      "source": [
        "Now let's try more numerical features and see if the accuracy improves.\n",
        "We will use now \"age\", \"thalach\", \"trestbps\" and \"chol\". \n",
        "Define your features and your target variable. "
      ]
    },
    {
      "cell_type": "code",
      "metadata": {
        "id": "uDnaUYF92sRV"
      },
      "source": [
        "X = df[[\"age\", \"thalach\", \"trestbps\", \"chol\"]]\n",
        "y = df[\"target\"]"
      ],
      "execution_count": 75,
      "outputs": []
    },
    {
      "cell_type": "markdown",
      "metadata": {
        "id": "0q09jUP34hme"
      },
      "source": [
        "Split your data set into train and test subsets."
      ]
    },
    {
      "cell_type": "code",
      "metadata": {
        "id": "1g55iCbL2sRY"
      },
      "source": [
        "X_train, X_test, y_train, y_test = train_test_split(X, y, test_size=0.3, random_state=72)"
      ],
      "execution_count": 76,
      "outputs": []
    },
    {
      "cell_type": "markdown",
      "metadata": {
        "id": "CsuD0tPc4ugm"
      },
      "source": [
        "Standardize your data. "
      ]
    },
    {
      "cell_type": "code",
      "metadata": {
        "id": "R9ScYZRs2sRd",
        "colab": {
          "base_uri": "https://localhost:8080/"
        },
        "outputId": "7c24d298-757e-4f72-f96a-7006136fdcad"
      },
      "source": [
        "scaler = StandardScaler()\n",
        "scaler.fit(X_train)"
      ],
      "execution_count": 77,
      "outputs": [
        {
          "output_type": "execute_result",
          "data": {
            "text/plain": [
              "StandardScaler()"
            ]
          },
          "metadata": {},
          "execution_count": 77
        }
      ]
    },
    {
      "cell_type": "code",
      "metadata": {
        "id": "I9Y0TMkp2sRg"
      },
      "source": [
        "#Apply normalization\n",
        "X_train = scaler.transform(X_train)\n",
        "X_test = scaler.transform(X_test)"
      ],
      "execution_count": 78,
      "outputs": []
    },
    {
      "cell_type": "markdown",
      "metadata": {
        "id": "QQOpg_A04zNw"
      },
      "source": [
        "Fit your model using the train data. Let's use the logistic regression with cross validation here. "
      ]
    },
    {
      "cell_type": "code",
      "metadata": {
        "id": "8MMBMLJZ2sRk",
        "colab": {
          "base_uri": "https://localhost:8080/"
        },
        "outputId": "58d4a419-b7a7-4666-d8ec-2f94eb555d8d"
      },
      "source": [
        "LR_cv.fit(X_train, y_train)"
      ],
      "execution_count": 79,
      "outputs": [
        {
          "output_type": "execute_result",
          "data": {
            "text/plain": [
              "LogisticRegressionCV(cv=10)"
            ]
          },
          "metadata": {},
          "execution_count": 79
        }
      ]
    },
    {
      "cell_type": "markdown",
      "metadata": {
        "id": "pEOw7KN8421R"
      },
      "source": [
        "Compare your train and test accurary. "
      ]
    },
    {
      "cell_type": "code",
      "metadata": {
        "id": "nwPGNVyx2sRp",
        "colab": {
          "base_uri": "https://localhost:8080/"
        },
        "outputId": "d321bb26-5385-4c04-8132-a868d1a550ad"
      },
      "source": [
        "# train accuracy\n",
        "LR_cv.score(X_train,y_train)"
      ],
      "execution_count": 80,
      "outputs": [
        {
          "output_type": "execute_result",
          "data": {
            "text/plain": [
              "0.7169811320754716"
            ]
          },
          "metadata": {},
          "execution_count": 80
        }
      ]
    },
    {
      "cell_type": "code",
      "metadata": {
        "id": "w2cIMQD-2sRs",
        "colab": {
          "base_uri": "https://localhost:8080/"
        },
        "outputId": "58ca2d02-303b-4786-a7ab-5081a48cd946"
      },
      "source": [
        "# test accuracy\n",
        "LR_cv.score(X_test, y_test)"
      ],
      "execution_count": 81,
      "outputs": [
        {
          "output_type": "execute_result",
          "data": {
            "text/plain": [
              "0.7032967032967034"
            ]
          },
          "metadata": {},
          "execution_count": 81
        }
      ]
    },
    {
      "cell_type": "markdown",
      "metadata": {
        "id": "3x26in-_pF3N"
      },
      "source": [
        "Finally, show the confusion matrix."
      ]
    },
    {
      "cell_type": "code",
      "metadata": {
        "id": "wn-EZaVmD0of",
        "colab": {
          "base_uri": "https://localhost:8080/"
        },
        "outputId": "071118e2-02f6-42a1-c43c-10d48d0eb6a9"
      },
      "source": [
        "#Confusion matrix\n",
        "from sklearn.metrics import confusion_matrix\n",
        "confusion_matrix(y_test, LR_cv.predict(X_test))"
      ],
      "execution_count": 82,
      "outputs": [
        {
          "output_type": "execute_result",
          "data": {
            "text/plain": [
              "array([[26, 12],\n",
              "       [15, 38]])"
            ]
          },
          "metadata": {},
          "execution_count": 82
        }
      ]
    },
    {
      "cell_type": "code",
      "source": [
        "sns.heatmap(pd.DataFrame(confusion_matrix(y_test, LR_cv.predict(X_test))), annot=True, cmap='Blues', fmt='.4g')\n",
        "plt.xlabel('Predicted label')\n",
        "plt.ylabel('True labels')\n",
        "plt.title('Confusion Matrix');"
      ],
      "metadata": {
        "id": "lb2GiWDp3xW8",
        "outputId": "9240eb11-d18f-4248-894e-0e7686b69212",
        "colab": {
          "base_uri": "https://localhost:8080/",
          "height": 295
        }
      },
      "execution_count": 83,
      "outputs": [
        {
          "output_type": "display_data",
          "data": {
            "text/plain": [
              "<Figure size 432x288 with 2 Axes>"
            ],
            "image/png": "[encoded data removed]"
          },
          "metadata": {}
        }
      ]
    }
  ]
}