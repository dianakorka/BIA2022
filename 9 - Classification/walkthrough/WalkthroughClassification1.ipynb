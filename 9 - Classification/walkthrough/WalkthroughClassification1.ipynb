{
  "nbformat": 4,
  "nbformat_minor": 0,
  "metadata": {
    "colab": {
      "name": "WalkthroughClassification1.ipynb",
      "provenance": [],
      "include_colab_link": true
    },
    "kernelspec": {
      "display_name": "Python 3",
      "language": "python",
      "name": "python3"
    },
    "language_info": {
      "codemirror_mode": {
        "name": "ipython",
        "version": 3
      },
      "file_extension": ".py",
      "mimetype": "text/x-python",
      "name": "python",
      "nbconvert_exporter": "python",
      "pygments_lexer": "ipython3",
      "version": "3.6.9"
    }
  },
  "cells": [
    {
      "cell_type": "markdown",
      "metadata": {
        "id": "view-in-github",
        "colab_type": "text"
      },
      "source": [
        "<a href=\"https://colab.research.google.com/github/michalis0/Business-Intelligence-and-Analytics/blob/master/9%20-%20Classification/walkthrough/WalkthroughClassification1.ipynb\" target=\"_parent\"><img src=\"https://colab.research.google.com/assets/colab-badge.svg\" alt=\"Open In Colab\"/></a>"
      ]
    },
    {
      "cell_type": "markdown",
      "metadata": {
        "id": "yqS3Z6AtqrmH"
      },
      "source": [
        "# Classification\n",
        "\n",
        "Classification is part of **supervised learning**. <br>\n",
        "### Here is a quick reminder: <br>\n",
        "\n",
        "#### Types of Machine Learning models: \n",
        "- Supervised Learning:\n",
        "  - **Classification**\n",
        "  - Regression\n",
        "- Unsupervised Learning:\n",
        "  - Association Rules \n",
        "  - Clustering\n",
        "- others\n",
        "\n",
        "The idea is to classify items of a dataset into **predefined classes** for which labelled data is already available.\n",
        "\n",
        "#### Examples of classification: <br>\n",
        "- Image classification (Is this a cat or not?)\n",
        "- Risky or safe loan application (Should a bank provide a loan to applicant or not?)\n",
        "- Prediction of customer behaviour (will a customer buy this new product or not?)\n",
        "- etc.\n",
        "\n",
        "\n",
        "\n",
        "\n"
      ]
    },
    {
      "cell_type": "markdown",
      "metadata": {
        "id": "kPrU-9xrG0vz"
      },
      "source": [
        "For the Walkthough we will use a **dataset on wine quality**. As usual, you can find it in the /data folder.\n",
        "\n",
        "<img src='https://assets.pbimgs.com/pbimgs/rk/images/dp/wcm/202145/0002/schott-zwiesel-classico-wine-glasses-c.jpg' width=\"300\">\n",
        "\n",
        "The wine data set consists of 11 different parameters of wine such as alcohol and ash content which was measured for several wine samples. These wines were derived from different cultivars; therefore there are different classes of wine saved under `quality`. The goal here is to find a model that can predict the class of wine given the 13 measured parameters and find out the major differences among the three different classes."
      ]
    },
    {
      "cell_type": "code",
      "metadata": {
        "id": "rjbMSebFfy3F",
        "colab": {
          "base_uri": "https://localhost:8080/",
          "height": 307
        },
        "outputId": "7177a689-3324-437d-bc27-58d29e21cec0"
      },
      "source": [
        "#Load dataset\n",
        "%matplotlib inline\n",
        "import pandas as pd\n",
        "import matplotlib.pyplot as plt\n",
        "import seaborn as sns\n",
        "url = 'https://media.githubusercontent.com/media/michalis0/Business-Intelligence-and-Analytics/master/data/winequality-red.csv'\n",
        "wines = pd.read_csv(url)\n",
        "wines.head()\n"
      ],
      "execution_count": null,
      "outputs": [
        {
          "output_type": "execute_result",
          "data": {
            "text/plain": [
              "   fixed acidity  volatile acidity  citric acid  residual sugar  chlorides  \\\n",
              "0            7.4              0.70         0.00             1.9      0.076   \n",
              "1            7.8              0.88         0.00             2.6      0.098   \n",
              "2            7.8              0.76         0.04             2.3      0.092   \n",
              "3           11.2              0.28         0.56             1.9      0.075   \n",
              "4            7.4              0.70         0.00             1.9      0.076   \n",
              "\n",
              "   free sulfur dioxide  total sulfur dioxide  density    pH  sulphates  \\\n",
              "0                 11.0                  34.0   0.9978  3.51       0.56   \n",
              "1                 25.0                  67.0   0.9968  3.20       0.68   \n",
              "2                 15.0                  54.0   0.9970  3.26       0.65   \n",
              "3                 17.0                  60.0   0.9980  3.16       0.58   \n",
              "4                 11.0                  34.0   0.9978  3.51       0.56   \n",
              "\n",
              "   alcohol  quality  \n",
              "0      9.4        0  \n",
              "1      9.8        0  \n",
              "2      9.8        0  \n",
              "3      9.8        1  \n",
              "4      9.4        0  "
            ],
            "text/html": [
              "\n",
              "  <div id=\"df-87eb85e1-97ef-45ee-a099-83028464ce49\">\n",
              "    <div class=\"colab-df-container\">\n",
              "      <div>\n",
              "<style scoped>\n",
              "    .dataframe tbody tr th:only-of-type {\n",
              "        vertical-align: middle;\n",
              "    }\n",
              "\n",
              "    .dataframe tbody tr th {\n",
              "        vertical-align: top;\n",
              "    }\n",
              "\n",
              "    .dataframe thead th {\n",
              "        text-align: right;\n",
              "    }\n",
              "</style>\n",
              "<table border=\"1\" class=\"dataframe\">\n",
              "  <thead>\n",
              "    <tr style=\"text-align: right;\">\n",
              "      <th></th>\n",
              "      <th>fixed acidity</th>\n",
              "      <th>volatile acidity</th>\n",
              "      <th>citric acid</th>\n",
              "      <th>residual sugar</th>\n",
              "      <th>chlorides</th>\n",
              "      <th>free sulfur dioxide</th>\n",
              "      <th>total sulfur dioxide</th>\n",
              "      <th>density</th>\n",
              "      <th>pH</th>\n",
              "      <th>sulphates</th>\n",
              "      <th>alcohol</th>\n",
              "      <th>quality</th>\n",
              "    </tr>\n",
              "  </thead>\n",
              "  <tbody>\n",
              "    <tr>\n",
              "      <th>0</th>\n",
              "      <td>7.4</td>\n",
              "      <td>0.70</td>\n",
              "      <td>0.00</td>\n",
              "      <td>1.9</td>\n",
              "      <td>0.076</td>\n",
              "      <td>11.0</td>\n",
              "      <td>34.0</td>\n",
              "      <td>0.9978</td>\n",
              "      <td>3.51</td>\n",
              "      <td>0.56</td>\n",
              "      <td>9.4</td>\n",
              "      <td>0</td>\n",
              "    </tr>\n",
              "    <tr>\n",
              "      <th>1</th>\n",
              "      <td>7.8</td>\n",
              "      <td>0.88</td>\n",
              "      <td>0.00</td>\n",
              "      <td>2.6</td>\n",
              "      <td>0.098</td>\n",
              "      <td>25.0</td>\n",
              "      <td>67.0</td>\n",
              "      <td>0.9968</td>\n",
              "      <td>3.20</td>\n",
              "      <td>0.68</td>\n",
              "      <td>9.8</td>\n",
              "      <td>0</td>\n",
              "    </tr>\n",
              "    <tr>\n",
              "      <th>2</th>\n",
              "      <td>7.8</td>\n",
              "      <td>0.76</td>\n",
              "      <td>0.04</td>\n",
              "      <td>2.3</td>\n",
              "      <td>0.092</td>\n",
              "      <td>15.0</td>\n",
              "      <td>54.0</td>\n",
              "      <td>0.9970</td>\n",
              "      <td>3.26</td>\n",
              "      <td>0.65</td>\n",
              "      <td>9.8</td>\n",
              "      <td>0</td>\n",
              "    </tr>\n",
              "    <tr>\n",
              "      <th>3</th>\n",
              "      <td>11.2</td>\n",
              "      <td>0.28</td>\n",
              "      <td>0.56</td>\n",
              "      <td>1.9</td>\n",
              "      <td>0.075</td>\n",
              "      <td>17.0</td>\n",
              "      <td>60.0</td>\n",
              "      <td>0.9980</td>\n",
              "      <td>3.16</td>\n",
              "      <td>0.58</td>\n",
              "      <td>9.8</td>\n",
              "      <td>1</td>\n",
              "    </tr>\n",
              "    <tr>\n",
              "      <th>4</th>\n",
              "      <td>7.4</td>\n",
              "      <td>0.70</td>\n",
              "      <td>0.00</td>\n",
              "      <td>1.9</td>\n",
              "      <td>0.076</td>\n",
              "      <td>11.0</td>\n",
              "      <td>34.0</td>\n",
              "      <td>0.9978</td>\n",
              "      <td>3.51</td>\n",
              "      <td>0.56</td>\n",
              "      <td>9.4</td>\n",
              "      <td>0</td>\n",
              "    </tr>\n",
              "  </tbody>\n",
              "</table>\n",
              "</div>\n",
              "      <button class=\"colab-df-convert\" onclick=\"convertToInteractive('df-87eb85e1-97ef-45ee-a099-83028464ce49')\"\n",
              "              title=\"Convert this dataframe to an interactive table.\"\n",
              "              style=\"display:none;\">\n",
              "        \n",
              "  <svg xmlns=\"http://www.w3.org/2000/svg\" height=\"24px\"viewBox=\"0 0 24 24\"\n",
              "       width=\"24px\">\n",
              "    <path d=\"M0 0h24v24H0V0z\" fill=\"none\"/>\n",
              "    <path d=\"M18.56 5.44l.94 2.06.94-2.06 2.06-.94-2.06-.94-.94-2.06-.94 2.06-2.06.94zm-11 1L8.5 8.5l.94-2.06 2.06-.94-2.06-.94L8.5 2.5l-.94 2.06-2.06.94zm10 10l.94 2.06.94-2.06 2.06-.94-2.06-.94-.94-2.06-.94 2.06-2.06.94z\"/><path d=\"M17.41 7.96l-1.37-1.37c-.4-.4-.92-.59-1.43-.59-.52 0-1.04.2-1.43.59L10.3 9.45l-7.72 7.72c-.78.78-.78 2.05 0 2.83L4 21.41c.39.39.9.59 1.41.59.51 0 1.02-.2 1.41-.59l7.78-7.78 2.81-2.81c.8-.78.8-2.07 0-2.86zM5.41 20L4 18.59l7.72-7.72 1.47 1.35L5.41 20z\"/>\n",
              "  </svg>\n",
              "      </button>\n",
              "      \n",
              "  <style>\n",
              "    .colab-df-container {\n",
              "      display:flex;\n",
              "      flex-wrap:wrap;\n",
              "      gap: 12px;\n",
              "    }\n",
              "\n",
              "    .colab-df-convert {\n",
              "      background-color: #E8F0FE;\n",
              "      border: none;\n",
              "      border-radius: 50%;\n",
              "      cursor: pointer;\n",
              "      display: none;\n",
              "      fill: #1967D2;\n",
              "      height: 32px;\n",
              "      padding: 0 0 0 0;\n",
              "      width: 32px;\n",
              "    }\n",
              "\n",
              "    .colab-df-convert:hover {\n",
              "      background-color: #E2EBFA;\n",
              "      box-shadow: 0px 1px 2px rgba(60, 64, 67, 0.3), 0px 1px 3px 1px rgba(60, 64, 67, 0.15);\n",
              "      fill: #174EA6;\n",
              "    }\n",
              "\n",
              "    [theme=dark] .colab-df-convert {\n",
              "      background-color: #3B4455;\n",
              "      fill: #D2E3FC;\n",
              "    }\n",
              "\n",
              "    [theme=dark] .colab-df-convert:hover {\n",
              "      background-color: #434B5C;\n",
              "      box-shadow: 0px 1px 3px 1px rgba(0, 0, 0, 0.15);\n",
              "      filter: drop-shadow(0px 1px 2px rgba(0, 0, 0, 0.3));\n",
              "      fill: #FFFFFF;\n",
              "    }\n",
              "  </style>\n",
              "\n",
              "      <script>\n",
              "        const buttonEl =\n",
              "          document.querySelector('#df-87eb85e1-97ef-45ee-a099-83028464ce49 button.colab-df-convert');\n",
              "        buttonEl.style.display =\n",
              "          google.colab.kernel.accessAllowed ? 'block' : 'none';\n",
              "\n",
              "        async function convertToInteractive(key) {\n",
              "          const element = document.querySelector('#df-87eb85e1-97ef-45ee-a099-83028464ce49');\n",
              "          const dataTable =\n",
              "            await google.colab.kernel.invokeFunction('convertToInteractive',\n",
              "                                                     [key], {});\n",
              "          if (!dataTable) return;\n",
              "\n",
              "          const docLinkHtml = 'Like what you see? Visit the ' +\n",
              "            '<a target=\"_blank\" href=https://colab.research.google.com/notebooks/data_table.ipynb>data table notebook</a>'\n",
              "            + ' to learn more about interactive tables.';\n",
              "          element.innerHTML = '';\n",
              "          dataTable['output_type'] = 'display_data';\n",
              "          await google.colab.output.renderOutput(dataTable, element);\n",
              "          const docLink = document.createElement('div');\n",
              "          docLink.innerHTML = docLinkHtml;\n",
              "          element.appendChild(docLink);\n",
              "        }\n",
              "      </script>\n",
              "    </div>\n",
              "  </div>\n",
              "  "
            ]
          },
          "metadata": {},
          "execution_count": 1
        }
      ]
    },
    {
      "cell_type": "code",
      "source": [
        "wines.columns"
      ],
      "metadata": {
        "colab": {
          "base_uri": "https://localhost:8080/"
        },
        "id": "Hto_rR7DIceg",
        "outputId": "2c566dd5-5978-4732-84b2-2be149a3924e"
      },
      "execution_count": null,
      "outputs": [
        {
          "output_type": "execute_result",
          "data": {
            "text/plain": [
              "Index(['fixed acidity', 'volatile acidity', 'citric acid', 'residual sugar',\n",
              "       'chlorides', 'free sulfur dioxide', 'total sulfur dioxide', 'density',\n",
              "       'pH', 'sulphates', 'alcohol', 'quality'],\n",
              "      dtype='object')"
            ]
          },
          "metadata": {},
          "execution_count": 2
        }
      ]
    },
    {
      "cell_type": "code",
      "metadata": {
        "id": "TO_08h8zl3Wm"
      },
      "source": [
        "#Define features and target variable\n",
        "X = wines.drop(columns='quality')\n",
        "y = wines['quality']"
      ],
      "execution_count": null,
      "outputs": []
    },
    {
      "cell_type": "markdown",
      "metadata": {
        "id": "dK_lptPte5pu"
      },
      "source": [
        "Let's see the different classes of wine quality."
      ]
    },
    {
      "cell_type": "code",
      "metadata": {
        "colab": {
          "base_uri": "https://localhost:8080/"
        },
        "id": "nwO7sXM1DQlt",
        "outputId": "bd19fdc8-cc1b-427b-b18b-0effc4b8c59f"
      },
      "source": [
        "wines['quality'].value_counts()"
      ],
      "execution_count": null,
      "outputs": [
        {
          "output_type": "execute_result",
          "data": {
            "text/plain": [
              "0    681\n",
              "1    638\n",
              "Name: quality, dtype: int64"
            ]
          },
          "metadata": {},
          "execution_count": 4
        }
      ]
    },
    {
      "cell_type": "markdown",
      "metadata": {
        "id": "tlUPoK3Ie5pz"
      },
      "source": [
        "In this exercise, we are going to classify wine based on its content characteristics to find the quality category to which it corresponds to.  "
      ]
    },
    {
      "cell_type": "markdown",
      "metadata": {
        "id": "AkF9wmujkOmZ"
      },
      "source": [
        "#### 1) Split into train and test set\n",
        " \n",
        "The data is split into random train and test subsets. The training set contains a known output and the model learns its parameters from this data. We use the test dataset in order to test our prediction against the labels available for the test subset.\n"
      ]
    },
    {
      "cell_type": "code",
      "metadata": {
        "id": "0KxeLYcbf0wx"
      },
      "source": [
        "#Split data set into a train and a test data sets\n",
        "from sklearn.model_selection import train_test_split\n",
        "X_train, X_test, y_train, y_test = train_test_split(X, y, random_state=50, test_size=0.3)"
      ],
      "execution_count": null,
      "outputs": []
    },
    {
      "cell_type": "code",
      "source": [
        "print(f\"X_train has {X_train.shape[0]} rows, X_test has {X_test.shape[0]} rows\")"
      ],
      "metadata": {
        "colab": {
          "base_uri": "https://localhost:8080/"
        },
        "id": "08wjju4xKCLX",
        "outputId": "b111c557-5096-47c9-b750-b62c6502ac65"
      },
      "execution_count": null,
      "outputs": [
        {
          "output_type": "stream",
          "name": "stdout",
          "text": [
            "X_train has 923 rows, X_test has 396 rows\n"
          ]
        }
      ]
    },
    {
      "cell_type": "markdown",
      "metadata": {
        "id": "oWsiJT07Gt7c"
      },
      "source": [
        "#### 2) Normalization\n",
        "\n",
        "When we have a dataset with features that have very distinct ranges (for example one feature where age is between 0 and 99 years and another feature being the income ranging from 1'000CHF to 200'000CHF) we might get biaised results. We want the features to be in the same or similar range. Therefore, we **normalize** the data. It involves transforming all values for a specific attribute so that they fall within a small specified range.\n",
        "We can use *StandardScaler()*, *MinMaxScaler* () or others for normalization.\n",
        "\n",
        "<br>\n",
        "\n",
        "In our example we will normalize both our **train AND test data** using MinMaxScaler.\n",
        "\n",
        "The MinMax Scaler applies this transformation to every attribute separately:  \n",
        "$$x_{scaled}=\\frac{x_{i} -min(x)}{max(x)-min(x)}$$\n",
        "\n",
        "/!\\ **IMPORTANT**: When you normalize the train data, you need to do the same modification (here normalization) to the test data. "
      ]
    },
    {
      "cell_type": "code",
      "metadata": {
        "id": "xVOubyMJ7-HX",
        "colab": {
          "base_uri": "https://localhost:8080/"
        },
        "outputId": "b9a67c09-fc4a-41c7-fab3-ba295dc349f5"
      },
      "source": [
        "#import the scaler\n",
        "from sklearn.preprocessing import MinMaxScaler\n",
        "\n",
        "#create an instance of the scaler\n",
        "scaler = MinMaxScaler()\n",
        "\n",
        "# fit the scaler to the training set of features\n",
        "scaler.fit(X_train) # here the scaler learns the min and max of each attribute from the training set"
      ],
      "execution_count": null,
      "outputs": [
        {
          "output_type": "execute_result",
          "data": {
            "text/plain": [
              "MinMaxScaler()"
            ]
          },
          "metadata": {},
          "execution_count": 7
        }
      ]
    },
    {
      "cell_type": "code",
      "metadata": {
        "id": "1xFGLVl2lSD6"
      },
      "source": [
        "#Apply normalization\n",
        "X_train = scaler.transform(X_train)\n",
        "X_test = scaler.transform(X_test)"
      ],
      "execution_count": null,
      "outputs": []
    },
    {
      "cell_type": "markdown",
      "metadata": {
        "id": "y3Sd10_7HXd8"
      },
      "source": [
        "\n",
        "#### 3) Building the Classifier or Model <br>\n",
        "\n",
        "First we will need to create our model which can be for example a *Linear Regression* (simple linear classifier, simple quadratic classifier) or a *Logistic Regression*. We will build the model from the **training set** and evaluate it on the **test set**. "
      ]
    },
    {
      "cell_type": "code",
      "metadata": {
        "id": "F73BSCQVlVx7"
      },
      "source": [
        "#Create model\n",
        "from sklearn.linear_model import LogisticRegression\n",
        "model = LogisticRegression(max_iter=1000)"
      ],
      "execution_count": null,
      "outputs": []
    },
    {
      "cell_type": "code",
      "metadata": {
        "id": "EAKdFLlPmcUF",
        "colab": {
          "base_uri": "https://localhost:8080/"
        },
        "outputId": "9edd359d-57c4-4d70-d7c5-d824ed5056a6"
      },
      "source": [
        "#Fit model\n",
        "model.fit(X_train, y_train)"
      ],
      "execution_count": null,
      "outputs": [
        {
          "output_type": "execute_result",
          "data": {
            "text/plain": [
              "LogisticRegression(max_iter=1000)"
            ]
          },
          "metadata": {},
          "execution_count": 10
        }
      ]
    },
    {
      "cell_type": "markdown",
      "metadata": {
        "id": "QHty9lwXmiKB"
      },
      "source": [
        "#### 4) Using the Classifier to make predictions\n",
        "\n",
        "Once our model has been built we can use the **test set** to predict the model. Basically, the test data is used to estimate the accuracy of the classification model. If the accuracy is considered acceptable we can use our model for new data. <br>\n",
        "*/!\\ When using new data with our model we will also need to normalize this data.*"
      ]
    },
    {
      "cell_type": "code",
      "source": [
        "y_pred= model.predict(X_test)\n",
        "y_pred"
      ],
      "metadata": {
        "colab": {
          "base_uri": "https://localhost:8080/"
        },
        "id": "UOhPOecsQn_N",
        "outputId": "723a1f0a-0b11-43c0-c530-f869735474e0"
      },
      "execution_count": null,
      "outputs": [
        {
          "output_type": "execute_result",
          "data": {
            "text/plain": [
              "array([1, 1, 0, 0, 0, 0, 1, 0, 1, 1, 0, 1, 1, 1, 0, 1, 0, 1, 0, 0, 0, 1,\n",
              "       1, 0, 0, 0, 0, 0, 1, 1, 0, 1, 1, 1, 1, 0, 0, 1, 1, 0, 1, 1, 1, 1,\n",
              "       0, 0, 0, 1, 0, 0, 1, 0, 1, 1, 0, 0, 1, 0, 0, 1, 1, 1, 0, 1, 0, 1,\n",
              "       1, 1, 1, 0, 0, 0, 0, 0, 1, 0, 0, 0, 1, 0, 0, 0, 0, 1, 1, 0, 0, 0,\n",
              "       0, 1, 0, 0, 1, 1, 0, 0, 1, 0, 0, 1, 1, 0, 0, 1, 0, 0, 0, 0, 0, 1,\n",
              "       1, 1, 0, 1, 0, 1, 1, 0, 1, 0, 1, 1, 0, 0, 1, 1, 0, 1, 0, 0, 1, 1,\n",
              "       1, 0, 1, 1, 0, 0, 1, 1, 1, 0, 0, 0, 1, 0, 1, 1, 0, 1, 0, 0, 0, 0,\n",
              "       0, 0, 1, 0, 1, 1, 1, 1, 1, 0, 1, 1, 0, 1, 0, 0, 0, 0, 1, 1, 1, 0,\n",
              "       1, 0, 0, 0, 1, 1, 1, 0, 1, 0, 0, 1, 0, 0, 1, 0, 0, 1, 0, 1, 1, 0,\n",
              "       1, 1, 0, 1, 0, 0, 0, 0, 0, 0, 0, 0, 0, 1, 0, 1, 0, 1, 0, 0, 0, 1,\n",
              "       1, 1, 0, 0, 0, 0, 1, 1, 0, 1, 0, 1, 0, 1, 1, 1, 0, 0, 0, 1, 0, 1,\n",
              "       0, 0, 0, 1, 0, 1, 1, 1, 0, 1, 0, 1, 0, 0, 0, 1, 0, 1, 1, 1, 0, 1,\n",
              "       1, 0, 1, 1, 0, 0, 1, 1, 0, 1, 1, 0, 1, 1, 0, 0, 0, 1, 1, 0, 1, 0,\n",
              "       1, 1, 0, 1, 0, 1, 1, 0, 1, 0, 1, 0, 1, 1, 1, 0, 1, 0, 0, 0, 1, 0,\n",
              "       1, 0, 1, 1, 1, 1, 0, 1, 0, 0, 0, 1, 1, 0, 1, 1, 0, 1, 1, 0, 1, 0,\n",
              "       0, 1, 1, 0, 0, 1, 0, 1, 0, 0, 0, 0, 0, 1, 1, 0, 1, 0, 1, 1, 0, 0,\n",
              "       0, 1, 0, 0, 0, 1, 1, 0, 0, 1, 0, 1, 0, 0, 1, 0, 0, 1, 1, 0, 0, 0,\n",
              "       1, 0, 1, 0, 1, 0, 0, 0, 0, 1, 0, 0, 0, 1, 0, 0, 0, 1, 0, 0, 0, 0])"
            ]
          },
          "metadata": {},
          "execution_count": 11
        }
      ]
    },
    {
      "cell_type": "code",
      "source": [
        "# but with what probability does our model predict each label?\n",
        "model.predict_proba(X_test)[0:5]"
      ],
      "metadata": {
        "colab": {
          "base_uri": "https://localhost:8080/"
        },
        "id": "gqn2t5IscV51",
        "outputId": "2f2bc2dc-796d-4ccb-bc91-569d67e2f531"
      },
      "execution_count": null,
      "outputs": [
        {
          "output_type": "execute_result",
          "data": {
            "text/plain": [
              "array([[0.23691554, 0.76308446],\n",
              "       [0.21213663, 0.78786337],\n",
              "       [0.93071408, 0.06928592],\n",
              "       [0.85868188, 0.14131812],\n",
              "       [0.63529699, 0.36470301]])"
            ]
          },
          "metadata": {},
          "execution_count": 12
        }
      ]
    },
    {
      "cell_type": "markdown",
      "metadata": {
        "id": "ToSIOpO5HfI6"
      },
      "source": [
        "#### 5) Evaluation of our Classification Model\n",
        "\n",
        "We want to check the accuracy of our model using train and test data. "
      ]
    },
    {
      "cell_type": "code",
      "metadata": {
        "id": "c9yJCqcll9lo",
        "colab": {
          "base_uri": "https://localhost:8080/"
        },
        "outputId": "2208c363-f7c8-4178-c02c-78f23aa144ea"
      },
      "source": [
        "#Use model on test and check accuracy\n",
        "print('Accuracy of Logistic regression classifier on test set: {:.2f}'\n",
        "     .format(model.score(X_test, y_test)))\n",
        "\n",
        "# Also possible to calculate accuracy on the training set\n",
        "print('Accuracy of Logistic regression classifier on training set: {:.2f}'\n",
        "     .format(model.score(X_train, y_train)))"
      ],
      "execution_count": null,
      "outputs": [
        {
          "output_type": "stream",
          "name": "stdout",
          "text": [
            "Accuracy of Logistic regression classifier on test set: 0.71\n",
            "Accuracy of Logistic regression classifier on training set: 0.72\n"
          ]
        }
      ]
    },
    {
      "cell_type": "markdown",
      "source": [
        "Another function for obtaining the same test accuracy score below. This uses as the 2nd parameter the predicted labels we obtained above."
      ],
      "metadata": {
        "id": "nTrnyD5aToT6"
      }
    },
    {
      "cell_type": "code",
      "source": [
        "from sklearn.metrics import accuracy_score\n",
        "print(f\"ACCURACY SCORE (TEST SET): {accuracy_score(y_test, y_pred) :.2f}\")"
      ],
      "metadata": {
        "colab": {
          "base_uri": "https://localhost:8080/"
        },
        "id": "MJMcwan2T0Zn",
        "outputId": "b99e4d40-9c1a-4ca1-eac1-fc3647e3a863"
      },
      "execution_count": null,
      "outputs": [
        {
          "output_type": "stream",
          "name": "stdout",
          "text": [
            "ACCURACY SCORE (TEST SET): 0.71\n"
          ]
        }
      ]
    },
    {
      "cell_type": "markdown",
      "metadata": {
        "id": "jRDYL9TMDT__"
      },
      "source": [
        "####Baserate for evaluation\n",
        "\n",
        "Our model has an accuracy of approximately 70%? Is it good or bad? \n",
        "\n",
        "Let's investigate the distribution of the predicted class in the original data: \n"
      ]
    },
    {
      "cell_type": "code",
      "source": [
        "y.value_counts().plot.bar(color=['purple', 'orange'], grid=True)\n",
        "plt.ylabel('Number of times the class occurs in datset');"
      ],
      "metadata": {
        "colab": {
          "base_uri": "https://localhost:8080/",
          "height": 282
        },
        "id": "_f2ws8jiWi5E",
        "outputId": "6e02c9fa-2ccd-4688-ae11-1b032d1ba472"
      },
      "execution_count": null,
      "outputs": [
        {
          "output_type": "display_data",
          "data": {
            "text/plain": [
              "<Figure size 432x288 with 1 Axes>"
            ],
            "image/png": "[encoded data removed]"
          },
          "metadata": {
            "needs_background": "light"
          }
        }
      ]
    },
    {
      "cell_type": "markdown",
      "metadata": {
        "id": "UIFK1SpVjD9T"
      },
      "source": [
        "\n",
        "It all depends on the baserate. Baserate = $\\frac{\\text{most frequent class}}{\\text{total observations}}$\n",
        "\n",
        "If the base rate is too high then the classification can be biaised, meaning that the data set has too many observations of one class compared to the other classes and has hence more impact on the classification results. \n",
        "\n",
        "Let's calculate the base rate!"
      ]
    },
    {
      "cell_type": "code",
      "metadata": {
        "id": "zlidCzmpez92",
        "colab": {
          "base_uri": "https://localhost:8080/"
        },
        "outputId": "0808a34d-10b8-4573-ac0c-b5606cfbcb6e"
      },
      "source": [
        "#Compute the base rate\n",
        "#Baserate = (# occurance most frequent class)/(# total observations)\n",
        "\n",
        "quality_0 = wines.loc[wines[\"quality\"] == 0].shape[0]\n",
        "print(\"# occurance of class 0 \", quality_0)\n",
        "quality_1 = wines.loc[wines[\"quality\"] == 1].shape[0]\n",
        "print(\"# occurance of class 1 \", quality_1)\n",
        "print(\"Baserate = \", max(quality_0, quality_1)/(wines[\"quality\"].shape[0]))"
      ],
      "execution_count": null,
      "outputs": [
        {
          "output_type": "stream",
          "name": "stdout",
          "text": [
            "# occurance of class 0  681\n",
            "# occurance of class 1  638\n",
            "Baserate =  0.5163002274450341\n"
          ]
        }
      ]
    },
    {
      "cell_type": "markdown",
      "metadata": {
        "id": "41xpKWLMihMq"
      },
      "source": [
        "####Confusion matrix\n",
        "The confusion matrix allows us to get more detail on the performance of our model. It will allow us to see what our classification model is getting right and what types of errors it is making.\n",
        "\n",
        "You will get this: \n",
        "\n",
        "|   | Class 0 predicted  | Class 1 predicted  |    \n",
        "|---|---|---|\n",
        "| **Class 0 actual**  |  TN |FP   |    \n",
        "| **Class 1 actual**  | FN  | TP  |   \n",
        "\n",
        "<br>\n",
        "\n",
        "where TP = true positive, FN = false negative, FP = false positive and TN = true negative. Here class 1 is considered the \"True\" class.\n",
        "          "
      ]
    },
    {
      "cell_type": "code",
      "source": [
        "pd.Series(y_pred).value_counts()"
      ],
      "metadata": {
        "colab": {
          "base_uri": "https://localhost:8080/"
        },
        "id": "kd0idP-UbyTX",
        "outputId": "5ceb745f-70b9-4cb2-c03e-e354aff3e1de"
      },
      "execution_count": null,
      "outputs": [
        {
          "output_type": "execute_result",
          "data": {
            "text/plain": [
              "0    213\n",
              "1    183\n",
              "dtype: int64"
            ]
          },
          "metadata": {},
          "execution_count": 17
        }
      ]
    },
    {
      "cell_type": "markdown",
      "source": [
        "Our model predicts 213 class 0 and 183 class 1 wine samples on the test set."
      ],
      "metadata": {
        "id": "DhrGFs1IjRxW"
      }
    },
    {
      "cell_type": "code",
      "source": [
        "y_test.value_counts()"
      ],
      "metadata": {
        "colab": {
          "base_uri": "https://localhost:8080/"
        },
        "id": "2n6qqgb6jfww",
        "outputId": "98d263d2-aae3-4ed7-ff45-86c7af5d056c"
      },
      "execution_count": null,
      "outputs": [
        {
          "output_type": "execute_result",
          "data": {
            "text/plain": [
              "0    211\n",
              "1    185\n",
              "Name: quality, dtype: int64"
            ]
          },
          "metadata": {},
          "execution_count": 18
        }
      ]
    },
    {
      "cell_type": "markdown",
      "source": [
        "In reality the test set contains 211 class 0 and 185 class 1 wine samples.   \n",
        "But how many of our class 0 predictions are actual class 0 samples?"
      ],
      "metadata": {
        "id": "VXO1fQMEjkFb"
      }
    },
    {
      "cell_type": "code",
      "metadata": {
        "id": "SgiVb0dwo8_n",
        "colab": {
          "base_uri": "https://localhost:8080/"
        },
        "outputId": "e2c1aca3-6e3d-47fb-c5c1-7efdd3252666"
      },
      "source": [
        "#Confusion matrix\n",
        "from sklearn.metrics import confusion_matrix\n",
        "confusion_matrix(y_test, y_pred)\n"
      ],
      "execution_count": null,
      "outputs": [
        {
          "output_type": "execute_result",
          "data": {
            "text/plain": [
              "array([[154,  57],\n",
              "       [ 59, 126]])"
            ]
          },
          "metadata": {},
          "execution_count": 19
        }
      ]
    },
    {
      "cell_type": "markdown",
      "source": [
        "Another way to visualise our confustion matrix with some help from seaborn."
      ],
      "metadata": {
        "id": "vYQ1j66PeMrK"
      }
    },
    {
      "cell_type": "code",
      "source": [
        "sns.heatmap(pd.DataFrame(confusion_matrix(y_test, y_pred)), annot=True, cmap='Blues', fmt='.4g')\n",
        "plt.xlabel('Predicted label')\n",
        "plt.ylabel('True labels')\n",
        "plt.title('Confusion Matrix');"
      ],
      "metadata": {
        "colab": {
          "base_uri": "https://localhost:8080/",
          "height": 316
        },
        "id": "SSRqc-uvddFv",
        "outputId": "74cadd10-84c8-419a-ee1b-3125acccdd43"
      },
      "execution_count": null,
      "outputs": [
        {
          "output_type": "display_data",
          "data": {
            "text/plain": [
              "<Figure size 432x288 with 2 Axes>"
            ],
            "image/png": "[encoded data removed]"
          },
          "metadata": {
            "needs_background": "light"
          }
        }
      ]
    },
    {
      "cell_type": "markdown",
      "source": [
        "**Accuracy**: fraction of correct predictions over total predictions.\n",
        "\n",
        "So let's check again accuracy for this model. We can calculate it both by hand and with functions from `sklearn`."
      ],
      "metadata": {
        "id": "Pjyqxt-lX1ip"
      }
    },
    {
      "cell_type": "code",
      "source": [
        "model.score(X_test, y_test)"
      ],
      "metadata": {
        "id": "t0eHM8NuY91U",
        "outputId": "e4013f5b-7e38-4932-ca02-a10d6c6fbd29",
        "colab": {
          "base_uri": "https://localhost:8080/"
        }
      },
      "execution_count": null,
      "outputs": [
        {
          "output_type": "execute_result",
          "data": {
            "text/plain": [
              "0.7070707070707071"
            ]
          },
          "metadata": {},
          "execution_count": 21
        }
      ]
    },
    {
      "cell_type": "code",
      "source": [
        "# or with the accuracy_score function imported previously from sklearn metrics\n",
        "accuracy_score(y_test, y_pred)"
      ],
      "metadata": {
        "id": "ps3PdAp-ZPQo",
        "outputId": "35c6e0d0-cf7c-48b2-a980-4e26060a790b",
        "colab": {
          "base_uri": "https://localhost:8080/"
        }
      },
      "execution_count": null,
      "outputs": [
        {
          "output_type": "execute_result",
          "data": {
            "text/plain": [
              "0.7070707070707071"
            ]
          },
          "metadata": {},
          "execution_count": 22
        }
      ]
    },
    {
      "cell_type": "code",
      "source": [
        "# or also by hand\n",
        "(154+126)/(154+126+59+57)"
      ],
      "metadata": {
        "id": "yxCe3r8XZfOe",
        "outputId": "b9272825-a821-4834-a3a4-12e6d3eb18ce",
        "colab": {
          "base_uri": "https://localhost:8080/"
        }
      },
      "execution_count": null,
      "outputs": [
        {
          "output_type": "execute_result",
          "data": {
            "text/plain": [
              "0.7070707070707071"
            ]
          },
          "metadata": {},
          "execution_count": 23
        }
      ]
    },
    {
      "cell_type": "markdown",
      "metadata": {
        "id": "lB-9LrkMu0wt"
      },
      "source": [
        "#### OPTIONAL INTRO TO PRECISION (you can skip this)\n",
        "\n",
        "Another score which is interesting to compute in order to have a robust idea of the model performance is precision.   \n",
        "**Precision:** how many times our model is correct when predicting the positive class (1). TP/(TP+FP) = 126/(126+57)=0.688\n",
        " "
      ]
    },
    {
      "cell_type": "code",
      "metadata": {
        "colab": {
          "base_uri": "https://localhost:8080/"
        },
        "id": "59E41K-ulclu",
        "outputId": "5443cf11-b82b-4412-c95c-2eac3fa78eeb"
      },
      "source": [
        "from sklearn.metrics import precision_score\n",
        "precision_score(y_test, y_pred)"
      ],
      "execution_count": null,
      "outputs": [
        {
          "output_type": "execute_result",
          "data": {
            "text/plain": [
              "0.6885245901639344"
            ]
          },
          "metadata": {},
          "execution_count": 55
        }
      ]
    },
    {
      "cell_type": "code",
      "source": [
        "# this is precision score for class 1 calculated by hand\n",
        "126/(126+57)"
      ],
      "metadata": {
        "colab": {
          "base_uri": "https://localhost:8080/"
        },
        "id": "3vt9gHzNel8E",
        "outputId": "1a8a1f59-e2f6-4c39-ca99-93fe565f94c5"
      },
      "execution_count": null,
      "outputs": [
        {
          "output_type": "execute_result",
          "data": {
            "text/plain": [
              "0.6885245901639344"
            ]
          },
          "metadata": {},
          "execution_count": 56
        }
      ]
    },
    {
      "cell_type": "code",
      "source": [
        "# precision score for both classes 0 and 1\n",
        "precision_score(y_test, y_pred, average=None)"
      ],
      "metadata": {
        "colab": {
          "base_uri": "https://localhost:8080/"
        },
        "id": "tskHo_1ziHgH",
        "outputId": "c6d84ffd-14b7-45c1-c4db-9b865d604a82"
      },
      "execution_count": null,
      "outputs": [
        {
          "output_type": "execute_result",
          "data": {
            "text/plain": [
              "array([0.72300469, 0.68852459])"
            ]
          },
          "metadata": {},
          "execution_count": 57
        }
      ]
    },
    {
      "cell_type": "markdown",
      "metadata": {
        "id": "yC_mMp8ruhf2"
      },
      "source": [
        "#### 6) Visualization of our Model / Decision boundary \n",
        "\n",
        "Now, for visualization purposes, let's build a 2d model to predict quality from alcohol and sulphite content and plot the decision boundary. In fact, depending on how many classes we have we will see different zones on the graph. Each zone corresponds to a class. Decision boundaries indicate the lines above / below which a data point belongs to one or another class.\n",
        "\n",
        "However here we visualize 2 dimensional data for a binary classification model (2 classes). \n",
        "\n",
        "\n",
        "\n",
        "\n",
        "\n"
      ]
    },
    {
      "cell_type": "code",
      "metadata": {
        "id": "2pYKIkOmIswc",
        "colab": {
          "base_uri": "https://localhost:8080/",
          "height": 295
        },
        "outputId": "4e78eed2-4080-44fb-8dbc-00e932537915"
      },
      "source": [
        "#Decision boundaries\n",
        "import numpy as np\n",
        "import matplotlib.pyplot as plt\n",
        "\n",
        "\n",
        "X = X [['sulphates', 'alcohol']]\n",
        "model = LogisticRegression()\n",
        "model.fit(X, y)\n",
        "\n",
        "\n",
        "plt.scatter(X['sulphates'].values, X['alcohol'].values, c=y, edgecolors='k', cmap=plt.cm.Paired)\n",
        "ax = plt.gca()\n",
        "x_vals = np.array(ax.get_xlim())\n",
        "y_vals = (-x_vals * model.coef_[0][0] - model.intercept_[0])/model.coef_[0][1]\n",
        "plt.plot(x_vals, y_vals, '--', c=\"red\")\n",
        "\n",
        "plt.xlabel('Wine sulphates content ')\n",
        "plt.ylabel('Wine alcohol content')\n",
        "plt.title('Decision boundary for classification model using two features')\n",
        "\n",
        "plt.show()"
      ],
      "execution_count": null,
      "outputs": [
        {
          "output_type": "display_data",
          "data": {
            "text/plain": [
              "<Figure size 432x288 with 1 Axes>"
            ],
            "image/png": "[encoded data removed]"
          },
          "metadata": {
            "needs_background": "light"
          }
        }
      ]
    },
    {
      "cell_type": "code",
      "source": [
        "model.intercept_"
      ],
      "metadata": {
        "colab": {
          "base_uri": "https://localhost:8080/"
        },
        "id": "oCC53DtXmnYK",
        "outputId": "c5f97071-2755-480f-99b2-4be14199b6a2"
      },
      "execution_count": null,
      "outputs": [
        {
          "output_type": "execute_result",
          "data": {
            "text/plain": [
              "array([-10.59538764])"
            ]
          },
          "metadata": {},
          "execution_count": 59
        }
      ]
    },
    {
      "cell_type": "code",
      "source": [
        "model.coef_"
      ],
      "metadata": {
        "colab": {
          "base_uri": "https://localhost:8080/"
        },
        "id": "TfLGt2NJmvWE",
        "outputId": "278d296e-05e8-43eb-d8c1-3f68fd650a5e"
      },
      "execution_count": null,
      "outputs": [
        {
          "output_type": "execute_result",
          "data": {
            "text/plain": [
              "array([[1.82737619, 0.91461387]])"
            ]
          },
          "metadata": {},
          "execution_count": 60
        }
      ]
    },
    {
      "cell_type": "markdown",
      "metadata": {
        "id": "M9V4G8hs72nu"
      },
      "source": [
        "Let's interpret this graph. The red doted line shows the boundary between the two regions. Everything on one side of this line will be in one class while everything on the other side will be on the other class. \n",
        "Furthermore, the closer a point is to the decision region boundary the more uncertain we are about the accuracy of the classification. This doted line is found using the coefficient of our model."
      ]
    },
    {
      "cell_type": "markdown",
      "metadata": {
        "id": "iqZM40W272nv"
      },
      "source": [
        "####7) Let's see how our model would classify new data points"
      ]
    },
    {
      "cell_type": "code",
      "source": [
        "X = X [['sulphates', 'alcohol']]\n",
        "model = LogisticRegression()\n",
        "model.fit(X, y)\n",
        "\n",
        "\n",
        "plt.scatter(X['sulphates'].values, X['alcohol'].values, c=y, edgecolors='k', cmap=plt.cm.Paired)\n",
        "ax = plt.gca()\n",
        "x_vals = np.array(ax.get_xlim())\n",
        "y_vals = (-x_vals * model.coef_[0][0] - model.intercept_[0])/model.coef_[0][1]\n",
        "plt.plot(x_vals, y_vals, '--', c=\"red\")\n",
        "\n",
        "plt.xlabel('Wine sulphates content ')\n",
        "plt.ylabel('Wine alcohol content')\n",
        "plt.title('Decision boundary for classification model using two features')\n",
        "\n",
        "#two new unseen points\n",
        "plt.scatter(0.56, 10.8, c='red') # p0\n",
        "plt.scatter(0.56, 8.8, c='red') #p1\n",
        "plt.text(0.3, 11.2, 'p0') # the label of p0\n",
        "plt.text(0.41, 8.5, 'p1') # the label of p1\n",
        "\n",
        "plt.show()"
      ],
      "metadata": {
        "id": "WVHXlnn6x4tG",
        "outputId": "7e3293fb-9631-434b-c2c2-f4d2935255fb",
        "colab": {
          "base_uri": "https://localhost:8080/",
          "height": 295
        }
      },
      "execution_count": null,
      "outputs": [
        {
          "output_type": "display_data",
          "data": {
            "text/plain": [
              "<Figure size 432x288 with 1 Axes>"
            ],
            "image/png": "[encoded data removed]"
          },
          "metadata": {
            "needs_background": "light"
          }
        }
      ]
    },
    {
      "cell_type": "code",
      "source": [
        "x_new=pd.DataFrame([[0.56,10.8], [0.56,8.8]], columns=['sulphates', 'alcohol'])\n",
        "x_new"
      ],
      "metadata": {
        "id": "HulP_mZDw7je",
        "outputId": "f72bea34-4a95-4dca-acc4-eee6c62e5334",
        "colab": {
          "base_uri": "https://localhost:8080/",
          "height": 112
        }
      },
      "execution_count": null,
      "outputs": [
        {
          "output_type": "execute_result",
          "data": {
            "text/plain": [
              "   sulphates  alcohol\n",
              "0       0.56     10.8\n",
              "1       0.56      8.8"
            ],
            "text/html": [
              "\n",
              "  <div id=\"df-ff8239bd-270c-401c-865d-079fb03dc841\">\n",
              "    <div class=\"colab-df-container\">\n",
              "      <div>\n",
              "<style scoped>\n",
              "    .dataframe tbody tr th:only-of-type {\n",
              "        vertical-align: middle;\n",
              "    }\n",
              "\n",
              "    .dataframe tbody tr th {\n",
              "        vertical-align: top;\n",
              "    }\n",
              "\n",
              "    .dataframe thead th {\n",
              "        text-align: right;\n",
              "    }\n",
              "</style>\n",
              "<table border=\"1\" class=\"dataframe\">\n",
              "  <thead>\n",
              "    <tr style=\"text-align: right;\">\n",
              "      <th></th>\n",
              "      <th>sulphates</th>\n",
              "      <th>alcohol</th>\n",
              "    </tr>\n",
              "  </thead>\n",
              "  <tbody>\n",
              "    <tr>\n",
              "      <th>0</th>\n",
              "      <td>0.56</td>\n",
              "      <td>10.8</td>\n",
              "    </tr>\n",
              "    <tr>\n",
              "      <th>1</th>\n",
              "      <td>0.56</td>\n",
              "      <td>8.8</td>\n",
              "    </tr>\n",
              "  </tbody>\n",
              "</table>\n",
              "</div>\n",
              "      <button class=\"colab-df-convert\" onclick=\"convertToInteractive('df-ff8239bd-270c-401c-865d-079fb03dc841')\"\n",
              "              title=\"Convert this dataframe to an interactive table.\"\n",
              "              style=\"display:none;\">\n",
              "        \n",
              "  <svg xmlns=\"http://www.w3.org/2000/svg\" height=\"24px\"viewBox=\"0 0 24 24\"\n",
              "       width=\"24px\">\n",
              "    <path d=\"M0 0h24v24H0V0z\" fill=\"none\"/>\n",
              "    <path d=\"M18.56 5.44l.94 2.06.94-2.06 2.06-.94-2.06-.94-.94-2.06-.94 2.06-2.06.94zm-11 1L8.5 8.5l.94-2.06 2.06-.94-2.06-.94L8.5 2.5l-.94 2.06-2.06.94zm10 10l.94 2.06.94-2.06 2.06-.94-2.06-.94-.94-2.06-.94 2.06-2.06.94z\"/><path d=\"M17.41 7.96l-1.37-1.37c-.4-.4-.92-.59-1.43-.59-.52 0-1.04.2-1.43.59L10.3 9.45l-7.72 7.72c-.78.78-.78 2.05 0 2.83L4 21.41c.39.39.9.59 1.41.59.51 0 1.02-.2 1.41-.59l7.78-7.78 2.81-2.81c.8-.78.8-2.07 0-2.86zM5.41 20L4 18.59l7.72-7.72 1.47 1.35L5.41 20z\"/>\n",
              "  </svg>\n",
              "      </button>\n",
              "      \n",
              "  <style>\n",
              "    .colab-df-container {\n",
              "      display:flex;\n",
              "      flex-wrap:wrap;\n",
              "      gap: 12px;\n",
              "    }\n",
              "\n",
              "    .colab-df-convert {\n",
              "      background-color: #E8F0FE;\n",
              "      border: none;\n",
              "      border-radius: 50%;\n",
              "      cursor: pointer;\n",
              "      display: none;\n",
              "      fill: #1967D2;\n",
              "      height: 32px;\n",
              "      padding: 0 0 0 0;\n",
              "      width: 32px;\n",
              "    }\n",
              "\n",
              "    .colab-df-convert:hover {\n",
              "      background-color: #E2EBFA;\n",
              "      box-shadow: 0px 1px 2px rgba(60, 64, 67, 0.3), 0px 1px 3px 1px rgba(60, 64, 67, 0.15);\n",
              "      fill: #174EA6;\n",
              "    }\n",
              "\n",
              "    [theme=dark] .colab-df-convert {\n",
              "      background-color: #3B4455;\n",
              "      fill: #D2E3FC;\n",
              "    }\n",
              "\n",
              "    [theme=dark] .colab-df-convert:hover {\n",
              "      background-color: #434B5C;\n",
              "      box-shadow: 0px 1px 3px 1px rgba(0, 0, 0, 0.15);\n",
              "      filter: drop-shadow(0px 1px 2px rgba(0, 0, 0, 0.3));\n",
              "      fill: #FFFFFF;\n",
              "    }\n",
              "  </style>\n",
              "\n",
              "      <script>\n",
              "        const buttonEl =\n",
              "          document.querySelector('#df-ff8239bd-270c-401c-865d-079fb03dc841 button.colab-df-convert');\n",
              "        buttonEl.style.display =\n",
              "          google.colab.kernel.accessAllowed ? 'block' : 'none';\n",
              "\n",
              "        async function convertToInteractive(key) {\n",
              "          const element = document.querySelector('#df-ff8239bd-270c-401c-865d-079fb03dc841');\n",
              "          const dataTable =\n",
              "            await google.colab.kernel.invokeFunction('convertToInteractive',\n",
              "                                                     [key], {});\n",
              "          if (!dataTable) return;\n",
              "\n",
              "          const docLinkHtml = 'Like what you see? Visit the ' +\n",
              "            '<a target=\"_blank\" href=https://colab.research.google.com/notebooks/data_table.ipynb>data table notebook</a>'\n",
              "            + ' to learn more about interactive tables.';\n",
              "          element.innerHTML = '';\n",
              "          dataTable['output_type'] = 'display_data';\n",
              "          await google.colab.output.renderOutput(dataTable, element);\n",
              "          const docLink = document.createElement('div');\n",
              "          docLink.innerHTML = docLinkHtml;\n",
              "          element.appendChild(docLink);\n",
              "        }\n",
              "      </script>\n",
              "    </div>\n",
              "  </div>\n",
              "  "
            ]
          },
          "metadata": {},
          "execution_count": 61
        }
      ]
    },
    {
      "cell_type": "code",
      "metadata": {
        "id": "eovmM3UN72nw",
        "colab": {
          "base_uri": "https://localhost:8080/"
        },
        "outputId": "950fdfb1-f47c-42f1-e691-5f14a0162f75"
      },
      "source": [
        "model.predict(x_new)"
      ],
      "execution_count": null,
      "outputs": [
        {
          "output_type": "execute_result",
          "data": {
            "text/plain": [
              "array([1, 0])"
            ]
          },
          "metadata": {},
          "execution_count": 62
        }
      ]
    },
    {
      "cell_type": "markdown",
      "metadata": {
        "id": "KrjtfI8v72n1"
      },
      "source": [
        "As expected a wine with sulphite at 0.56 and an alcohol percentage of 8.8 is in one class while for the same sulphite content but for an alcohol percentage of 10.8 the wine belongs to the other class."
      ]
    },
    {
      "cell_type": "markdown",
      "metadata": {
        "id": "VGKkgupM72n2"
      },
      "source": [
        "We can also compute the probability of making the correct prediction. Obviously any point on the boundary has equal probability for both classes"
      ]
    },
    {
      "cell_type": "code",
      "metadata": {
        "id": "YaidYOpb72n3",
        "colab": {
          "base_uri": "https://localhost:8080/"
        },
        "outputId": "285686e8-68ba-4c57-8196-9e3575765486"
      },
      "source": [
        "model.predict_proba(x_new)"
      ],
      "execution_count": null,
      "outputs": [
        {
          "output_type": "execute_result",
          "data": {
            "text/plain": [
              "array([[0.42414687, 0.57585313],\n",
              "       [0.82104667, 0.17895333]])"
            ]
          },
          "metadata": {},
          "execution_count": 64
        }
      ]
    },
    {
      "cell_type": "markdown",
      "metadata": {
        "id": "NDEvAve_72n-"
      },
      "source": [
        "We see that the second data point is correclty classified with almost certainty. It makes sense since it is located far from the boundary. However, for the first one, it is way more uncertain"
      ]
    },
    {
      "cell_type": "markdown",
      "metadata": {
        "id": "8325gFVRrlD4"
      },
      "source": [
        "#### 8) Adding Cross Validation\n",
        "We will use logisitic regression with CROSS VALIDATION. So, instead of LogisticRegresion() we will use LogisticRegresionCV(CV= K)\n",
        "\n",
        "To prevent overfitting we can use cross-validation. We will as before split the data set into train and test data, \n",
        "fit the model using training data and evaluate the model using testing data. **The difference** is that we will now repeat the process K times then take average of the testing errors as a final performance measure.\n",
        "\n"
      ]
    },
    {
      "cell_type": "code",
      "metadata": {
        "id": "2p10i_pVxKAJ"
      },
      "source": [
        "#Create model\n",
        "from sklearn.linear_model import LogisticRegressionCV\n",
        "model_cv = LogisticRegressionCV(solver='lbfgs', cv=5, max_iter=1000)"
      ],
      "execution_count": null,
      "outputs": []
    },
    {
      "cell_type": "code",
      "metadata": {
        "id": "9x60_hmqxSEV",
        "colab": {
          "base_uri": "https://localhost:8080/"
        },
        "outputId": "7a0139bd-b68b-44c9-d0f5-da49c814cee5"
      },
      "source": [
        "#Fit the model using the training data\n",
        "model_cv.fit(X_train, y_train)"
      ],
      "execution_count": null,
      "outputs": [
        {
          "output_type": "execute_result",
          "data": {
            "text/plain": [
              "LogisticRegressionCV(cv=5, max_iter=1000)"
            ]
          },
          "metadata": {},
          "execution_count": 30
        }
      ]
    },
    {
      "cell_type": "code",
      "metadata": {
        "id": "skNLbFaux1tN",
        "colab": {
          "base_uri": "https://localhost:8080/"
        },
        "outputId": "0d666535-8cc8-4d9a-8c09-761e106a4492"
      },
      "source": [
        "#Use model on test and check accuracy\n",
        "print('Accuracy of Logistic regression classifier on test set: {:.2f}'\n",
        "     .format(model_cv.score(X_test, y_test)))\n",
        "\n",
        "# also possible to calculate on the test set\n",
        "print('Accuracy of Logistic regression classifier on training set: {:.2f}'\n",
        "     .format(model_cv.score(X_train, y_train)))"
      ],
      "execution_count": null,
      "outputs": [
        {
          "output_type": "stream",
          "name": "stdout",
          "text": [
            "Accuracy of Logistic regression classifier on test set: 0.70\n",
            "Accuracy of Logistic regression classifier on training set: 0.72\n"
          ]
        }
      ]
    },
    {
      "cell_type": "code",
      "metadata": {
        "id": "6-Q_WdnGpibs",
        "colab": {
          "base_uri": "https://localhost:8080/"
        },
        "outputId": "e1d25eab-2c34-4210-bb29-1e1c847d1aa5"
      },
      "source": [
        "#Confusion matrix\n",
        "from sklearn.metrics import confusion_matrix\n",
        "cf = confusion_matrix(y_test, model_cv.predict(X_test))\n",
        "print(cf)"
      ],
      "execution_count": null,
      "outputs": [
        {
          "output_type": "stream",
          "name": "stdout",
          "text": [
            "[[148  63]\n",
            " [ 55 130]]\n"
          ]
        }
      ]
    },
    {
      "cell_type": "markdown",
      "metadata": {
        "id": "_3HFKJi8udOq"
      },
      "source": [
        "Let's make the confusion matrix a little bit nicer."
      ]
    },
    {
      "cell_type": "code",
      "source": [
        "sns.heatmap(pd.DataFrame(confusion_matrix(y_test, model_cv.predict(X_test))), annot=True, cmap='Blues', fmt='.4g')\n",
        "plt.xlabel('Predicted label')\n",
        "plt.ylabel('True labels')\n",
        "plt.title('Confusion Matrix with Cross Validation');"
      ],
      "metadata": {
        "colab": {
          "base_uri": "https://localhost:8080/",
          "height": 295
        },
        "id": "9sE-LFtNpsu2",
        "outputId": "9af9e528-d870-405b-82d6-3eb1505f7191"
      },
      "execution_count": null,
      "outputs": [
        {
          "output_type": "display_data",
          "data": {
            "text/plain": [
              "<Figure size 432x288 with 2 Axes>"
            ],
            "image/png": "[encoded data removed]"
          },
          "metadata": {
            "needs_background": "light"
          }
        }
      ]
    },
    {
      "cell_type": "code",
      "metadata": {
        "id": "1Lmg-IsOx-VP",
        "colab": {
          "base_uri": "https://localhost:8080/",
          "height": 295
        },
        "outputId": "cda4ea46-b434-46c3-989b-4be296ee7d94"
      },
      "source": [
        "#Decision boundary\n",
        "import numpy as np\n",
        "import matplotlib.pyplot as plt\n",
        "\n",
        "\n",
        "X = X [['sulphates', 'alcohol']]\n",
        "model = LogisticRegressionCV(solver='lbfgs', cv=5, max_iter=1000)\n",
        "model.fit(X, y)\n",
        "\n",
        "\n",
        "plt.scatter(X['sulphates'].values, X['alcohol'].values, c=y, edgecolors='k', cmap=plt.cm.Paired)\n",
        "ax = plt.gca()\n",
        "x_vals = np.array(ax.get_xlim())\n",
        "y_vals = (-x_vals * model.coef_[0][0] - model.intercept_[0])/model.coef_[0][1]\n",
        "plt.plot(x_vals, y_vals, '--', c=\"red\")\n",
        "\n",
        "plt.xlabel('Wine sulphates content')\n",
        "plt.ylabel('Wine alcohol content')\n",
        "\n",
        "\n",
        "plt.title('Decision boundary for classification model with cross-validation using two features')\n",
        "\n",
        "plt.show()"
      ],
      "execution_count": null,
      "outputs": [
        {
          "output_type": "display_data",
          "data": {
            "text/plain": [
              "<Figure size 432x288 with 1 Axes>"
            ],
            "image/png": "[encoded data removed]"
          },
          "metadata": {
            "needs_background": "light"
          }
        }
      ]
    }
  ]
}